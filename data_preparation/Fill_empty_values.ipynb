{
 "cells": [
  {
   "cell_type": "code",
   "execution_count": 15,
   "metadata": {
    "collapsed": true
   },
   "outputs": [],
   "source": [
    "import pandas as pd"
   ]
  },
  {
   "cell_type": "code",
   "execution_count": 16,
   "outputs": [],
   "source": [
    "df = pd.read_csv('C:/projects/laboratory/Nanoparticle_cytotoxicity/databases/Tox_DB_v2.csv')"
   ],
   "metadata": {
    "collapsed": false,
    "pycharm": {
     "name": "#%%\n"
    }
   }
  },
  {
   "cell_type": "code",
   "execution_count": 17,
   "outputs": [
    {
     "data": {
      "text/plain": "        Unnamed: 0  size in medium (nm)  zeta in medium (mV)  \\\ncount  6601.000000          1719.000000          1322.000000   \nmean   3300.000000           197.970221           -12.503079   \nstd    1905.688896           191.625450            15.415578   \nmin       0.000000             7.600000           -63.310000   \n25%    1650.000000            77.000000           -20.670000   \n50%    3300.000000           142.110000           -11.600000   \n75%    4950.000000           230.000000            -8.200000   \nmax    6600.000000          1262.330000            48.600000   \n\n       no of cells (cells/well)    time (hr)  concentration (ug/ml)  \\\ncount               3044.000000  6107.000000            4220.000000   \nmean               51530.814717    33.346815              80.487058   \nstd               123987.106055    23.844510             157.617455   \nmin                  300.000000     1.000000               0.000000   \n25%                10000.000000    24.000000               5.000000   \n50%                10000.000000    24.000000              25.000000   \n75%                50000.000000    48.000000             100.000000   \nmax              1000000.000000   336.000000            1600.000000   \n\n       viability (%)  core size (nm)  surface area  \\\ncount    6601.000000     1066.000000   1066.000000   \nmean       75.458086       40.193809     86.555910   \nstd        31.430453       35.656944    133.219293   \nmin         0.000000        5.900000      7.000000   \n25%        57.930000       18.300000     21.800000   \n50%        85.858590       28.400000     42.500000   \n75%        96.701000       50.000000     93.100000   \nmax       404.811700      369.000000    640.000000   \n\n       Hydrodynamic diameter (nm)  ...  hydro/core norm  \\\ncount                 6454.000000  ...       572.000000   \nmean                   134.832028  ...              inf   \nstd                    210.231128  ...              NaN   \nmin                      1.150000  ...         0.000051   \n25%                     20.000000  ...         0.011111   \n50%                     42.500000  ...         0.046303   \n75%                    187.600000  ...         0.676356   \nmax                   1843.000000  ...              inf   \n\n       hydro/core norm (log)  ch per particle norm  \\\ncount             572.000000            572.000000   \nmean                     inf                   NaN   \nstd                      NaN                   NaN   \nmin                -4.289226                  -inf   \n25%                -1.954243             -0.026135   \n50%                -1.334427             -0.002088   \n75%                -0.169859              0.000371   \nmax                      inf                   inf   \n\n       ch per particle norm (log)  surf per particle norm  \\\ncount                  156.000000              572.000000   \nmean                          inf                     inf   \nstd                           NaN                     NaN   \nmin                     -4.490240                0.000158   \n25%                     -2.591557                0.004545   \n50%                     -1.828722                0.019167   \n75%                     -0.671421                0.261561   \nmax                           inf                     inf   \n\n       surf per particle norm (log)  ch per surf per particle norm  \\\ncount                    572.000000                     572.000000   \nmean                            inf                            NaN   \nstd                             NaN                            NaN   \nmin                       -3.800684                           -inf   \n25%                       -2.342443                      -0.000961   \n50%                       -1.717453                      -0.000041   \n75%                       -0.582472                       0.000004   \nmax                             inf                            inf   \n\n       ch per surf per particle norm (log)  ch per moles norm  \\\ncount                           156.000000        2348.000000   \nmean                                   inf           1.412488   \nstd                                    NaN          21.552177   \nmin                              -6.658738          -4.591034   \n25%                              -4.157900          -0.000458   \n50%                              -3.182077          -0.000067   \n75%                              -2.059996           0.000007   \nmax                                    inf         497.471430   \n\n       ch per moles norm (log)  \ncount               601.000000  \nmean                 -2.829117  \nstd                   1.433922  \nmin                  -5.952207  \n25%                  -3.703906  \n50%                  -3.015637  \n75%                  -2.231087  \nmax                   2.696768  \n\n[8 rows x 42 columns]",
      "text/html": "<div>\n<style scoped>\n    .dataframe tbody tr th:only-of-type {\n        vertical-align: middle;\n    }\n\n    .dataframe tbody tr th {\n        vertical-align: top;\n    }\n\n    .dataframe thead th {\n        text-align: right;\n    }\n</style>\n<table border=\"1\" class=\"dataframe\">\n  <thead>\n    <tr style=\"text-align: right;\">\n      <th></th>\n      <th>Unnamed: 0</th>\n      <th>size in medium (nm)</th>\n      <th>zeta in medium (mV)</th>\n      <th>no of cells (cells/well)</th>\n      <th>time (hr)</th>\n      <th>concentration (ug/ml)</th>\n      <th>viability (%)</th>\n      <th>core size (nm)</th>\n      <th>surface area</th>\n      <th>Hydrodynamic diameter (nm)</th>\n      <th>...</th>\n      <th>hydro/core norm</th>\n      <th>hydro/core norm (log)</th>\n      <th>ch per particle norm</th>\n      <th>ch per particle norm (log)</th>\n      <th>surf per particle norm</th>\n      <th>surf per particle norm (log)</th>\n      <th>ch per surf per particle norm</th>\n      <th>ch per surf per particle norm (log)</th>\n      <th>ch per moles norm</th>\n      <th>ch per moles norm (log)</th>\n    </tr>\n  </thead>\n  <tbody>\n    <tr>\n      <th>count</th>\n      <td>6601.000000</td>\n      <td>1719.000000</td>\n      <td>1322.000000</td>\n      <td>3044.000000</td>\n      <td>6107.000000</td>\n      <td>4220.000000</td>\n      <td>6601.000000</td>\n      <td>1066.000000</td>\n      <td>1066.000000</td>\n      <td>6454.000000</td>\n      <td>...</td>\n      <td>572.000000</td>\n      <td>572.000000</td>\n      <td>572.000000</td>\n      <td>156.000000</td>\n      <td>572.000000</td>\n      <td>572.000000</td>\n      <td>572.000000</td>\n      <td>156.000000</td>\n      <td>2348.000000</td>\n      <td>601.000000</td>\n    </tr>\n    <tr>\n      <th>mean</th>\n      <td>3300.000000</td>\n      <td>197.970221</td>\n      <td>-12.503079</td>\n      <td>51530.814717</td>\n      <td>33.346815</td>\n      <td>80.487058</td>\n      <td>75.458086</td>\n      <td>40.193809</td>\n      <td>86.555910</td>\n      <td>134.832028</td>\n      <td>...</td>\n      <td>inf</td>\n      <td>inf</td>\n      <td>NaN</td>\n      <td>inf</td>\n      <td>inf</td>\n      <td>inf</td>\n      <td>NaN</td>\n      <td>inf</td>\n      <td>1.412488</td>\n      <td>-2.829117</td>\n    </tr>\n    <tr>\n      <th>std</th>\n      <td>1905.688896</td>\n      <td>191.625450</td>\n      <td>15.415578</td>\n      <td>123987.106055</td>\n      <td>23.844510</td>\n      <td>157.617455</td>\n      <td>31.430453</td>\n      <td>35.656944</td>\n      <td>133.219293</td>\n      <td>210.231128</td>\n      <td>...</td>\n      <td>NaN</td>\n      <td>NaN</td>\n      <td>NaN</td>\n      <td>NaN</td>\n      <td>NaN</td>\n      <td>NaN</td>\n      <td>NaN</td>\n      <td>NaN</td>\n      <td>21.552177</td>\n      <td>1.433922</td>\n    </tr>\n    <tr>\n      <th>min</th>\n      <td>0.000000</td>\n      <td>7.600000</td>\n      <td>-63.310000</td>\n      <td>300.000000</td>\n      <td>1.000000</td>\n      <td>0.000000</td>\n      <td>0.000000</td>\n      <td>5.900000</td>\n      <td>7.000000</td>\n      <td>1.150000</td>\n      <td>...</td>\n      <td>0.000051</td>\n      <td>-4.289226</td>\n      <td>-inf</td>\n      <td>-4.490240</td>\n      <td>0.000158</td>\n      <td>-3.800684</td>\n      <td>-inf</td>\n      <td>-6.658738</td>\n      <td>-4.591034</td>\n      <td>-5.952207</td>\n    </tr>\n    <tr>\n      <th>25%</th>\n      <td>1650.000000</td>\n      <td>77.000000</td>\n      <td>-20.670000</td>\n      <td>10000.000000</td>\n      <td>24.000000</td>\n      <td>5.000000</td>\n      <td>57.930000</td>\n      <td>18.300000</td>\n      <td>21.800000</td>\n      <td>20.000000</td>\n      <td>...</td>\n      <td>0.011111</td>\n      <td>-1.954243</td>\n      <td>-0.026135</td>\n      <td>-2.591557</td>\n      <td>0.004545</td>\n      <td>-2.342443</td>\n      <td>-0.000961</td>\n      <td>-4.157900</td>\n      <td>-0.000458</td>\n      <td>-3.703906</td>\n    </tr>\n    <tr>\n      <th>50%</th>\n      <td>3300.000000</td>\n      <td>142.110000</td>\n      <td>-11.600000</td>\n      <td>10000.000000</td>\n      <td>24.000000</td>\n      <td>25.000000</td>\n      <td>85.858590</td>\n      <td>28.400000</td>\n      <td>42.500000</td>\n      <td>42.500000</td>\n      <td>...</td>\n      <td>0.046303</td>\n      <td>-1.334427</td>\n      <td>-0.002088</td>\n      <td>-1.828722</td>\n      <td>0.019167</td>\n      <td>-1.717453</td>\n      <td>-0.000041</td>\n      <td>-3.182077</td>\n      <td>-0.000067</td>\n      <td>-3.015637</td>\n    </tr>\n    <tr>\n      <th>75%</th>\n      <td>4950.000000</td>\n      <td>230.000000</td>\n      <td>-8.200000</td>\n      <td>50000.000000</td>\n      <td>48.000000</td>\n      <td>100.000000</td>\n      <td>96.701000</td>\n      <td>50.000000</td>\n      <td>93.100000</td>\n      <td>187.600000</td>\n      <td>...</td>\n      <td>0.676356</td>\n      <td>-0.169859</td>\n      <td>0.000371</td>\n      <td>-0.671421</td>\n      <td>0.261561</td>\n      <td>-0.582472</td>\n      <td>0.000004</td>\n      <td>-2.059996</td>\n      <td>0.000007</td>\n      <td>-2.231087</td>\n    </tr>\n    <tr>\n      <th>max</th>\n      <td>6600.000000</td>\n      <td>1262.330000</td>\n      <td>48.600000</td>\n      <td>1000000.000000</td>\n      <td>336.000000</td>\n      <td>1600.000000</td>\n      <td>404.811700</td>\n      <td>369.000000</td>\n      <td>640.000000</td>\n      <td>1843.000000</td>\n      <td>...</td>\n      <td>inf</td>\n      <td>inf</td>\n      <td>inf</td>\n      <td>inf</td>\n      <td>inf</td>\n      <td>inf</td>\n      <td>inf</td>\n      <td>inf</td>\n      <td>497.471430</td>\n      <td>2.696768</td>\n    </tr>\n  </tbody>\n</table>\n<p>8 rows × 42 columns</p>\n</div>"
     },
     "execution_count": 17,
     "metadata": {},
     "output_type": "execute_result"
    }
   ],
   "source": [
    "df.describe()"
   ],
   "metadata": {
    "collapsed": false,
    "pycharm": {
     "name": "#%%\n"
    }
   }
  },
  {
   "cell_type": "code",
   "execution_count": 18,
   "outputs": [
    {
     "data": {
      "text/plain": "   Unnamed: 0 material   shape coat/functional group synthesismethod  \\\n0           0     SiO2  Sphere                  CTAB   Precipitation   \n1           1     SiO2  Sphere                  CTAB   Precipitation   \n2           2     SiO2  Sphere                  CTAB   Precipitation   \n3           3     SiO2  Sphere                  CTAB   Precipitation   \n4           4     SiO2  Sphere                  CTAB   Precipitation   \n\n  surface charge  size in medium (nm)  zeta in medium (mV)  \\\n0       Negative                90.09                  NaN   \n1       Negative                90.09                  NaN   \n2       Negative                90.09                  NaN   \n3       Negative                90.09                  NaN   \n4       Negative                90.09                  NaN   \n\n   no of cells (cells/well) human/animal  ... hydro/core norm  \\\n0                    5000.0            A  ...             NaN   \n1                    5000.0            A  ...             NaN   \n2                    5000.0            A  ...             NaN   \n3                    5000.0            A  ...             NaN   \n4                    5000.0            A  ...             NaN   \n\n  hydro/core norm (log) ch per particle norm ch per particle norm (log)  \\\n0                   NaN                  NaN                        NaN   \n1                   NaN                  NaN                        NaN   \n2                   NaN                  NaN                        NaN   \n3                   NaN                  NaN                        NaN   \n4                   NaN                  NaN                        NaN   \n\n   surf per particle norm  surf per particle norm (log)  \\\n0                     NaN                           NaN   \n1                     NaN                           NaN   \n2                     NaN                           NaN   \n3                     NaN                           NaN   \n4                     NaN                           NaN   \n\n  ch per surf per particle norm ch per surf per particle norm (log)  \\\n0                           NaN                                 NaN   \n1                           NaN                                 NaN   \n2                           NaN                                 NaN   \n3                           NaN                                 NaN   \n4                           NaN                                 NaN   \n\n   ch per moles norm ch per moles norm (log)  \n0          -0.025534                     NaN  \n1          -0.012767                     NaN  \n2          -0.006383                     NaN  \n3          -0.003192                     NaN  \n4          -0.001596                     NaN  \n\n[5 rows x 56 columns]",
      "text/html": "<div>\n<style scoped>\n    .dataframe tbody tr th:only-of-type {\n        vertical-align: middle;\n    }\n\n    .dataframe tbody tr th {\n        vertical-align: top;\n    }\n\n    .dataframe thead th {\n        text-align: right;\n    }\n</style>\n<table border=\"1\" class=\"dataframe\">\n  <thead>\n    <tr style=\"text-align: right;\">\n      <th></th>\n      <th>Unnamed: 0</th>\n      <th>material</th>\n      <th>shape</th>\n      <th>coat/functional group</th>\n      <th>synthesismethod</th>\n      <th>surface charge</th>\n      <th>size in medium (nm)</th>\n      <th>zeta in medium (mV)</th>\n      <th>no of cells (cells/well)</th>\n      <th>human/animal</th>\n      <th>...</th>\n      <th>hydro/core norm</th>\n      <th>hydro/core norm (log)</th>\n      <th>ch per particle norm</th>\n      <th>ch per particle norm (log)</th>\n      <th>surf per particle norm</th>\n      <th>surf per particle norm (log)</th>\n      <th>ch per surf per particle norm</th>\n      <th>ch per surf per particle norm (log)</th>\n      <th>ch per moles norm</th>\n      <th>ch per moles norm (log)</th>\n    </tr>\n  </thead>\n  <tbody>\n    <tr>\n      <th>0</th>\n      <td>0</td>\n      <td>SiO2</td>\n      <td>Sphere</td>\n      <td>CTAB</td>\n      <td>Precipitation</td>\n      <td>Negative</td>\n      <td>90.09</td>\n      <td>NaN</td>\n      <td>5000.0</td>\n      <td>A</td>\n      <td>...</td>\n      <td>NaN</td>\n      <td>NaN</td>\n      <td>NaN</td>\n      <td>NaN</td>\n      <td>NaN</td>\n      <td>NaN</td>\n      <td>NaN</td>\n      <td>NaN</td>\n      <td>-0.025534</td>\n      <td>NaN</td>\n    </tr>\n    <tr>\n      <th>1</th>\n      <td>1</td>\n      <td>SiO2</td>\n      <td>Sphere</td>\n      <td>CTAB</td>\n      <td>Precipitation</td>\n      <td>Negative</td>\n      <td>90.09</td>\n      <td>NaN</td>\n      <td>5000.0</td>\n      <td>A</td>\n      <td>...</td>\n      <td>NaN</td>\n      <td>NaN</td>\n      <td>NaN</td>\n      <td>NaN</td>\n      <td>NaN</td>\n      <td>NaN</td>\n      <td>NaN</td>\n      <td>NaN</td>\n      <td>-0.012767</td>\n      <td>NaN</td>\n    </tr>\n    <tr>\n      <th>2</th>\n      <td>2</td>\n      <td>SiO2</td>\n      <td>Sphere</td>\n      <td>CTAB</td>\n      <td>Precipitation</td>\n      <td>Negative</td>\n      <td>90.09</td>\n      <td>NaN</td>\n      <td>5000.0</td>\n      <td>A</td>\n      <td>...</td>\n      <td>NaN</td>\n      <td>NaN</td>\n      <td>NaN</td>\n      <td>NaN</td>\n      <td>NaN</td>\n      <td>NaN</td>\n      <td>NaN</td>\n      <td>NaN</td>\n      <td>-0.006383</td>\n      <td>NaN</td>\n    </tr>\n    <tr>\n      <th>3</th>\n      <td>3</td>\n      <td>SiO2</td>\n      <td>Sphere</td>\n      <td>CTAB</td>\n      <td>Precipitation</td>\n      <td>Negative</td>\n      <td>90.09</td>\n      <td>NaN</td>\n      <td>5000.0</td>\n      <td>A</td>\n      <td>...</td>\n      <td>NaN</td>\n      <td>NaN</td>\n      <td>NaN</td>\n      <td>NaN</td>\n      <td>NaN</td>\n      <td>NaN</td>\n      <td>NaN</td>\n      <td>NaN</td>\n      <td>-0.003192</td>\n      <td>NaN</td>\n    </tr>\n    <tr>\n      <th>4</th>\n      <td>4</td>\n      <td>SiO2</td>\n      <td>Sphere</td>\n      <td>CTAB</td>\n      <td>Precipitation</td>\n      <td>Negative</td>\n      <td>90.09</td>\n      <td>NaN</td>\n      <td>5000.0</td>\n      <td>A</td>\n      <td>...</td>\n      <td>NaN</td>\n      <td>NaN</td>\n      <td>NaN</td>\n      <td>NaN</td>\n      <td>NaN</td>\n      <td>NaN</td>\n      <td>NaN</td>\n      <td>NaN</td>\n      <td>-0.001596</td>\n      <td>NaN</td>\n    </tr>\n  </tbody>\n</table>\n<p>5 rows × 56 columns</p>\n</div>"
     },
     "execution_count": 18,
     "metadata": {},
     "output_type": "execute_result"
    }
   ],
   "source": [
    "df.head()"
   ],
   "metadata": {
    "collapsed": false,
    "pycharm": {
     "name": "#%%\n"
    }
   }
  },
  {
   "cell_type": "code",
   "execution_count": 19,
   "outputs": [],
   "source": [
    "del df['Zeta norm']\n",
    "del df['Zeta norm (log)']\n",
    "del df['Hydro norm']\n",
    "del df['Hydro norm (log)']\n",
    "del df['size med norm']\n",
    "del df['size med norm (log)']\n",
    "del df['zeta med norm']\n",
    "del df['zeta med norm (log)']\n",
    "del df['surf norm']\n",
    "del df['surf norm (log)']\n",
    "del df['mol wt norm']\n",
    "del df['mol wt norm (log)']\n",
    "del df['Zeta/Diam norm']\n",
    "del df['Zeta/Diam norm (log)']\n",
    "del df['zeta/surf norm']\n",
    "del df['zeta/surf norm (log)']\n",
    "del df['zeta/(hydro*surf) norm']\n",
    "del df['zeta/(hydro*surf) norm (log)']\n",
    "del df['hydro/core']\n",
    "del df['hydro/core norm']\n",
    "del df['hydro/core norm (log)']\n",
    "del df['ch per particle norm']\n",
    "del df['ch per particle norm (log)']\n",
    "del df['surf per particle norm']\n",
    "del df['surf per particle norm (log)']\n",
    "del df['ch per surf per particle norm']\n",
    "del df['ch per surf per particle norm (log)']\n",
    "del df['ch per moles norm']\n",
    "del df['ch per moles norm (log)']"
   ],
   "metadata": {
    "collapsed": false,
    "pycharm": {
     "name": "#%%\n"
    }
   }
  },
  {
   "cell_type": "code",
   "execution_count": 20,
   "outputs": [
    {
     "data": {
      "text/plain": "        Unnamed: 0  size in medium (nm)  zeta in medium (mV)  \\\ncount  6601.000000          1719.000000          1322.000000   \nmean   3300.000000           197.970221           -12.503079   \nstd    1905.688896           191.625450            15.415578   \nmin       0.000000             7.600000           -63.310000   \n25%    1650.000000            77.000000           -20.670000   \n50%    3300.000000           142.110000           -11.600000   \n75%    4950.000000           230.000000            -8.200000   \nmax    6600.000000          1262.330000            48.600000   \n\n       no of cells (cells/well)    time (hr)  concentration (ug/ml)  \\\ncount               3044.000000  6107.000000            4220.000000   \nmean               51530.814717    33.346815              80.487058   \nstd               123987.106055    23.844510             157.617455   \nmin                  300.000000     1.000000               0.000000   \n25%                10000.000000    24.000000               5.000000   \n50%                10000.000000    24.000000              25.000000   \n75%                50000.000000    48.000000             100.000000   \nmax              1000000.000000   336.000000            1600.000000   \n\n       viability (%)  core size (nm)  surface area  \\\ncount    6601.000000     1066.000000   1066.000000   \nmean       75.458086       40.193809     86.555910   \nstd        31.430453       35.656944    133.219293   \nmin         0.000000        5.900000      7.000000   \n25%        57.930000       18.300000     21.800000   \n50%        85.858590       28.400000     42.500000   \n75%        96.701000       50.000000     93.100000   \nmax       404.811700      369.000000    640.000000   \n\n       Hydrodynamic diameter (nm)  Zeta potential (mV)  \\\ncount                 6454.000000          4375.000000   \nmean                   134.832028            -3.861394   \nstd                    210.231128            34.283992   \nmin                      1.150000          -158.000000   \n25%                     20.000000           -31.700000   \n50%                     42.500000           -10.700000   \n75%                    187.600000            17.700000   \nmax                   1843.000000            88.000000   \n\n       Molecular weight (g/mol)  norm by time+conc  \ncount               5535.000000        3726.000000  \nmean                 132.978046        2972.181462  \nstd                   77.360104        7448.561566  \nmin                   12.010740           0.000000  \n25%                   79.865810         120.000000  \n50%                  107.868200         600.000000  \n75%                  196.966569        2400.000000  \nmax                  465.959015       72000.000000  ",
      "text/html": "<div>\n<style scoped>\n    .dataframe tbody tr th:only-of-type {\n        vertical-align: middle;\n    }\n\n    .dataframe tbody tr th {\n        vertical-align: top;\n    }\n\n    .dataframe thead th {\n        text-align: right;\n    }\n</style>\n<table border=\"1\" class=\"dataframe\">\n  <thead>\n    <tr style=\"text-align: right;\">\n      <th></th>\n      <th>Unnamed: 0</th>\n      <th>size in medium (nm)</th>\n      <th>zeta in medium (mV)</th>\n      <th>no of cells (cells/well)</th>\n      <th>time (hr)</th>\n      <th>concentration (ug/ml)</th>\n      <th>viability (%)</th>\n      <th>core size (nm)</th>\n      <th>surface area</th>\n      <th>Hydrodynamic diameter (nm)</th>\n      <th>Zeta potential (mV)</th>\n      <th>Molecular weight (g/mol)</th>\n      <th>norm by time+conc</th>\n    </tr>\n  </thead>\n  <tbody>\n    <tr>\n      <th>count</th>\n      <td>6601.000000</td>\n      <td>1719.000000</td>\n      <td>1322.000000</td>\n      <td>3044.000000</td>\n      <td>6107.000000</td>\n      <td>4220.000000</td>\n      <td>6601.000000</td>\n      <td>1066.000000</td>\n      <td>1066.000000</td>\n      <td>6454.000000</td>\n      <td>4375.000000</td>\n      <td>5535.000000</td>\n      <td>3726.000000</td>\n    </tr>\n    <tr>\n      <th>mean</th>\n      <td>3300.000000</td>\n      <td>197.970221</td>\n      <td>-12.503079</td>\n      <td>51530.814717</td>\n      <td>33.346815</td>\n      <td>80.487058</td>\n      <td>75.458086</td>\n      <td>40.193809</td>\n      <td>86.555910</td>\n      <td>134.832028</td>\n      <td>-3.861394</td>\n      <td>132.978046</td>\n      <td>2972.181462</td>\n    </tr>\n    <tr>\n      <th>std</th>\n      <td>1905.688896</td>\n      <td>191.625450</td>\n      <td>15.415578</td>\n      <td>123987.106055</td>\n      <td>23.844510</td>\n      <td>157.617455</td>\n      <td>31.430453</td>\n      <td>35.656944</td>\n      <td>133.219293</td>\n      <td>210.231128</td>\n      <td>34.283992</td>\n      <td>77.360104</td>\n      <td>7448.561566</td>\n    </tr>\n    <tr>\n      <th>min</th>\n      <td>0.000000</td>\n      <td>7.600000</td>\n      <td>-63.310000</td>\n      <td>300.000000</td>\n      <td>1.000000</td>\n      <td>0.000000</td>\n      <td>0.000000</td>\n      <td>5.900000</td>\n      <td>7.000000</td>\n      <td>1.150000</td>\n      <td>-158.000000</td>\n      <td>12.010740</td>\n      <td>0.000000</td>\n    </tr>\n    <tr>\n      <th>25%</th>\n      <td>1650.000000</td>\n      <td>77.000000</td>\n      <td>-20.670000</td>\n      <td>10000.000000</td>\n      <td>24.000000</td>\n      <td>5.000000</td>\n      <td>57.930000</td>\n      <td>18.300000</td>\n      <td>21.800000</td>\n      <td>20.000000</td>\n      <td>-31.700000</td>\n      <td>79.865810</td>\n      <td>120.000000</td>\n    </tr>\n    <tr>\n      <th>50%</th>\n      <td>3300.000000</td>\n      <td>142.110000</td>\n      <td>-11.600000</td>\n      <td>10000.000000</td>\n      <td>24.000000</td>\n      <td>25.000000</td>\n      <td>85.858590</td>\n      <td>28.400000</td>\n      <td>42.500000</td>\n      <td>42.500000</td>\n      <td>-10.700000</td>\n      <td>107.868200</td>\n      <td>600.000000</td>\n    </tr>\n    <tr>\n      <th>75%</th>\n      <td>4950.000000</td>\n      <td>230.000000</td>\n      <td>-8.200000</td>\n      <td>50000.000000</td>\n      <td>48.000000</td>\n      <td>100.000000</td>\n      <td>96.701000</td>\n      <td>50.000000</td>\n      <td>93.100000</td>\n      <td>187.600000</td>\n      <td>17.700000</td>\n      <td>196.966569</td>\n      <td>2400.000000</td>\n    </tr>\n    <tr>\n      <th>max</th>\n      <td>6600.000000</td>\n      <td>1262.330000</td>\n      <td>48.600000</td>\n      <td>1000000.000000</td>\n      <td>336.000000</td>\n      <td>1600.000000</td>\n      <td>404.811700</td>\n      <td>369.000000</td>\n      <td>640.000000</td>\n      <td>1843.000000</td>\n      <td>88.000000</td>\n      <td>465.959015</td>\n      <td>72000.000000</td>\n    </tr>\n  </tbody>\n</table>\n</div>"
     },
     "execution_count": 20,
     "metadata": {},
     "output_type": "execute_result"
    }
   ],
   "source": [
    "df.describe()"
   ],
   "metadata": {
    "collapsed": false,
    "pycharm": {
     "name": "#%%\n"
    }
   }
  },
  {
   "cell_type": "code",
   "execution_count": 21,
   "outputs": [
    {
     "data": {
      "text/plain": "   Unnamed: 0 material   shape coat/functional group synthesismethod  \\\n0           0     SiO2  Sphere                  CTAB   Precipitation   \n1           1     SiO2  Sphere                  CTAB   Precipitation   \n2           2     SiO2  Sphere                  CTAB   Precipitation   \n3           3     SiO2  Sphere                  CTAB   Precipitation   \n4           4     SiO2  Sphere                  CTAB   Precipitation   \n\n  surface charge  size in medium (nm)  zeta in medium (mV)  \\\n0       Negative                90.09                  NaN   \n1       Negative                90.09                  NaN   \n2       Negative                90.09                  NaN   \n3       Negative                90.09                  NaN   \n4       Negative                90.09                  NaN   \n\n   no of cells (cells/well) human/animal  ...   test indicator viability (%)  \\\n0                    5000.0            A  ...  TetrazoliumSalt       113.670   \n1                    5000.0            A  ...  TetrazoliumSalt        97.265   \n2                    5000.0            A  ...  TetrazoliumSalt       108.730   \n3                    5000.0            A  ...  TetrazoliumSalt        98.451   \n4                    5000.0            A  ...  TetrazoliumSalt        98.056   \n\n                             DOI core size (nm)  surface area  \\\n0  10.3109/15376516.2015.1070229            NaN           NaN   \n1  10.3109/15376516.2015.1070229            NaN           NaN   \n2  10.3109/15376516.2015.1070229            NaN           NaN   \n3  10.3109/15376516.2015.1070229            NaN           NaN   \n4  10.3109/15376516.2015.1070229            NaN           NaN   \n\n   Hydrodynamic diameter (nm) Zeta potential (mV) Cell type  \\\n0                       386.9               -35.9      PC12   \n1                       386.9               -35.9      PC12   \n2                       386.9               -35.9      PC12   \n3                       386.9               -35.9      PC12   \n4                       386.9               -35.9      PC12   \n\n   Molecular weight (g/mol) norm by time+conc  \n0                  60.08431              23.4  \n1                  60.08431              46.8  \n2                  60.08431              93.6  \n3                  60.08431             187.2  \n4                  60.08431             374.4  \n\n[5 rows x 27 columns]",
      "text/html": "<div>\n<style scoped>\n    .dataframe tbody tr th:only-of-type {\n        vertical-align: middle;\n    }\n\n    .dataframe tbody tr th {\n        vertical-align: top;\n    }\n\n    .dataframe thead th {\n        text-align: right;\n    }\n</style>\n<table border=\"1\" class=\"dataframe\">\n  <thead>\n    <tr style=\"text-align: right;\">\n      <th></th>\n      <th>Unnamed: 0</th>\n      <th>material</th>\n      <th>shape</th>\n      <th>coat/functional group</th>\n      <th>synthesismethod</th>\n      <th>surface charge</th>\n      <th>size in medium (nm)</th>\n      <th>zeta in medium (mV)</th>\n      <th>no of cells (cells/well)</th>\n      <th>human/animal</th>\n      <th>...</th>\n      <th>test indicator</th>\n      <th>viability (%)</th>\n      <th>DOI</th>\n      <th>core size (nm)</th>\n      <th>surface area</th>\n      <th>Hydrodynamic diameter (nm)</th>\n      <th>Zeta potential (mV)</th>\n      <th>Cell type</th>\n      <th>Molecular weight (g/mol)</th>\n      <th>norm by time+conc</th>\n    </tr>\n  </thead>\n  <tbody>\n    <tr>\n      <th>0</th>\n      <td>0</td>\n      <td>SiO2</td>\n      <td>Sphere</td>\n      <td>CTAB</td>\n      <td>Precipitation</td>\n      <td>Negative</td>\n      <td>90.09</td>\n      <td>NaN</td>\n      <td>5000.0</td>\n      <td>A</td>\n      <td>...</td>\n      <td>TetrazoliumSalt</td>\n      <td>113.670</td>\n      <td>10.3109/15376516.2015.1070229</td>\n      <td>NaN</td>\n      <td>NaN</td>\n      <td>386.9</td>\n      <td>-35.9</td>\n      <td>PC12</td>\n      <td>60.08431</td>\n      <td>23.4</td>\n    </tr>\n    <tr>\n      <th>1</th>\n      <td>1</td>\n      <td>SiO2</td>\n      <td>Sphere</td>\n      <td>CTAB</td>\n      <td>Precipitation</td>\n      <td>Negative</td>\n      <td>90.09</td>\n      <td>NaN</td>\n      <td>5000.0</td>\n      <td>A</td>\n      <td>...</td>\n      <td>TetrazoliumSalt</td>\n      <td>97.265</td>\n      <td>10.3109/15376516.2015.1070229</td>\n      <td>NaN</td>\n      <td>NaN</td>\n      <td>386.9</td>\n      <td>-35.9</td>\n      <td>PC12</td>\n      <td>60.08431</td>\n      <td>46.8</td>\n    </tr>\n    <tr>\n      <th>2</th>\n      <td>2</td>\n      <td>SiO2</td>\n      <td>Sphere</td>\n      <td>CTAB</td>\n      <td>Precipitation</td>\n      <td>Negative</td>\n      <td>90.09</td>\n      <td>NaN</td>\n      <td>5000.0</td>\n      <td>A</td>\n      <td>...</td>\n      <td>TetrazoliumSalt</td>\n      <td>108.730</td>\n      <td>10.3109/15376516.2015.1070229</td>\n      <td>NaN</td>\n      <td>NaN</td>\n      <td>386.9</td>\n      <td>-35.9</td>\n      <td>PC12</td>\n      <td>60.08431</td>\n      <td>93.6</td>\n    </tr>\n    <tr>\n      <th>3</th>\n      <td>3</td>\n      <td>SiO2</td>\n      <td>Sphere</td>\n      <td>CTAB</td>\n      <td>Precipitation</td>\n      <td>Negative</td>\n      <td>90.09</td>\n      <td>NaN</td>\n      <td>5000.0</td>\n      <td>A</td>\n      <td>...</td>\n      <td>TetrazoliumSalt</td>\n      <td>98.451</td>\n      <td>10.3109/15376516.2015.1070229</td>\n      <td>NaN</td>\n      <td>NaN</td>\n      <td>386.9</td>\n      <td>-35.9</td>\n      <td>PC12</td>\n      <td>60.08431</td>\n      <td>187.2</td>\n    </tr>\n    <tr>\n      <th>4</th>\n      <td>4</td>\n      <td>SiO2</td>\n      <td>Sphere</td>\n      <td>CTAB</td>\n      <td>Precipitation</td>\n      <td>Negative</td>\n      <td>90.09</td>\n      <td>NaN</td>\n      <td>5000.0</td>\n      <td>A</td>\n      <td>...</td>\n      <td>TetrazoliumSalt</td>\n      <td>98.056</td>\n      <td>10.3109/15376516.2015.1070229</td>\n      <td>NaN</td>\n      <td>NaN</td>\n      <td>386.9</td>\n      <td>-35.9</td>\n      <td>PC12</td>\n      <td>60.08431</td>\n      <td>374.4</td>\n    </tr>\n  </tbody>\n</table>\n<p>5 rows × 27 columns</p>\n</div>"
     },
     "execution_count": 21,
     "metadata": {},
     "output_type": "execute_result"
    }
   ],
   "source": [
    "df.head()"
   ],
   "metadata": {
    "collapsed": false,
    "pycharm": {
     "name": "#%%\n"
    }
   }
  },
  {
   "cell_type": "code",
   "execution_count": 22,
   "outputs": [],
   "source": [
    "del df['Unnamed: 0']"
   ],
   "metadata": {
    "collapsed": false,
    "pycharm": {
     "name": "#%%\n"
    }
   }
  },
  {
   "cell_type": "code",
   "execution_count": 23,
   "outputs": [
    {
     "data": {
      "text/plain": "Text(0.5, 1.0, 'Correlation Matrix')"
     },
     "execution_count": 23,
     "metadata": {},
     "output_type": "execute_result"
    },
    {
     "data": {
      "text/plain": "<Figure size 1368x1080 with 2 Axes>",
      "image/png": "[encoded data removed]"
     },
     "metadata": {
      "needs_background": "light"
     },
     "output_type": "display_data"
    }
   ],
   "source": [
    "import matplotlib.pyplot as plt\n",
    "\n",
    "f = plt.figure(figsize=(19, 15))\n",
    "plt.matshow(df.corr(), fignum=f.number)\n",
    "plt.yticks(range(df.select_dtypes(['number']).shape[1]), df.select_dtypes(['number']).columns, fontsize=14)\n",
    "cb = plt.colorbar()\n",
    "cb.ax.tick_params(labelsize=14)\n",
    "plt.title('Correlation Matrix', fontsize=16)"
   ],
   "metadata": {
    "collapsed": false,
    "pycharm": {
     "name": "#%%\n"
    }
   }
  },
  {
   "cell_type": "code",
   "execution_count": 24,
   "outputs": [],
   "source": [
    "del df['size in medium (nm)']\n",
    "del df['zeta in medium (mV)']\n",
    "del df['norm by time+conc']"
   ],
   "metadata": {
    "collapsed": false,
    "pycharm": {
     "name": "#%%\n"
    }
   }
  },
  {
   "cell_type": "code",
   "execution_count": 25,
   "outputs": [
    {
     "ename": "KeyError",
     "evalue": "'Unnamed: 0'",
     "output_type": "error",
     "traceback": [
      "\u001B[1;31m---------------------------------------------------------------------------\u001B[0m",
      "\u001B[1;31mKeyError\u001B[0m                                  Traceback (most recent call last)",
      "File \u001B[1;32mc:\\projects\\laboratory\\interpreter\\lib\\site-packages\\pandas\\core\\indexes\\base.py:3621\u001B[0m, in \u001B[0;36mIndex.get_loc\u001B[1;34m(self, key, method, tolerance)\u001B[0m\n\u001B[0;32m   3620\u001B[0m \u001B[38;5;28;01mtry\u001B[39;00m:\n\u001B[1;32m-> 3621\u001B[0m     \u001B[38;5;28;01mreturn\u001B[39;00m \u001B[38;5;28;43mself\u001B[39;49m\u001B[38;5;241;43m.\u001B[39;49m\u001B[43m_engine\u001B[49m\u001B[38;5;241;43m.\u001B[39;49m\u001B[43mget_loc\u001B[49m\u001B[43m(\u001B[49m\u001B[43mcasted_key\u001B[49m\u001B[43m)\u001B[49m\n\u001B[0;32m   3622\u001B[0m \u001B[38;5;28;01mexcept\u001B[39;00m \u001B[38;5;167;01mKeyError\u001B[39;00m \u001B[38;5;28;01mas\u001B[39;00m err:\n",
      "File \u001B[1;32mc:\\projects\\laboratory\\interpreter\\lib\\site-packages\\pandas\\_libs\\index.pyx:136\u001B[0m, in \u001B[0;36mpandas._libs.index.IndexEngine.get_loc\u001B[1;34m()\u001B[0m\n",
      "File \u001B[1;32mc:\\projects\\laboratory\\interpreter\\lib\\site-packages\\pandas\\_libs\\index.pyx:163\u001B[0m, in \u001B[0;36mpandas._libs.index.IndexEngine.get_loc\u001B[1;34m()\u001B[0m\n",
      "File \u001B[1;32mpandas\\_libs\\hashtable_class_helper.pxi:5198\u001B[0m, in \u001B[0;36mpandas._libs.hashtable.PyObjectHashTable.get_item\u001B[1;34m()\u001B[0m\n",
      "File \u001B[1;32mpandas\\_libs\\hashtable_class_helper.pxi:5206\u001B[0m, in \u001B[0;36mpandas._libs.hashtable.PyObjectHashTable.get_item\u001B[1;34m()\u001B[0m\n",
      "\u001B[1;31mKeyError\u001B[0m: 'Unnamed: 0'",
      "\nThe above exception was the direct cause of the following exception:\n",
      "\u001B[1;31mKeyError\u001B[0m                                  Traceback (most recent call last)",
      "Input \u001B[1;32mIn [25]\u001B[0m, in \u001B[0;36m<module>\u001B[1;34m\u001B[0m\n\u001B[1;32m----> 1\u001B[0m \u001B[38;5;28;01mdel\u001B[39;00m df[\u001B[38;5;124m'\u001B[39m\u001B[38;5;124mUnnamed: 0\u001B[39m\u001B[38;5;124m'\u001B[39m]\n",
      "File \u001B[1;32mc:\\projects\\laboratory\\interpreter\\lib\\site-packages\\pandas\\core\\generic.py:4060\u001B[0m, in \u001B[0;36mNDFrame.__delitem__\u001B[1;34m(self, key)\u001B[0m\n\u001B[0;32m   4055\u001B[0m             deleted \u001B[38;5;241m=\u001B[39m \u001B[38;5;28;01mTrue\u001B[39;00m\n\u001B[0;32m   4056\u001B[0m \u001B[38;5;28;01mif\u001B[39;00m \u001B[38;5;129;01mnot\u001B[39;00m deleted:\n\u001B[0;32m   4057\u001B[0m     \u001B[38;5;66;03m# If the above loop ran and didn't delete anything because\u001B[39;00m\n\u001B[0;32m   4058\u001B[0m     \u001B[38;5;66;03m# there was no match, this call should raise the appropriate\u001B[39;00m\n\u001B[0;32m   4059\u001B[0m     \u001B[38;5;66;03m# exception:\u001B[39;00m\n\u001B[1;32m-> 4060\u001B[0m     loc \u001B[38;5;241m=\u001B[39m \u001B[38;5;28;43mself\u001B[39;49m\u001B[38;5;241;43m.\u001B[39;49m\u001B[43maxes\u001B[49m\u001B[43m[\u001B[49m\u001B[38;5;241;43m-\u001B[39;49m\u001B[38;5;241;43m1\u001B[39;49m\u001B[43m]\u001B[49m\u001B[38;5;241;43m.\u001B[39;49m\u001B[43mget_loc\u001B[49m\u001B[43m(\u001B[49m\u001B[43mkey\u001B[49m\u001B[43m)\u001B[49m\n\u001B[0;32m   4061\u001B[0m     \u001B[38;5;28mself\u001B[39m\u001B[38;5;241m.\u001B[39m_mgr \u001B[38;5;241m=\u001B[39m \u001B[38;5;28mself\u001B[39m\u001B[38;5;241m.\u001B[39m_mgr\u001B[38;5;241m.\u001B[39midelete(loc)\n\u001B[0;32m   4063\u001B[0m \u001B[38;5;66;03m# delete from the caches\u001B[39;00m\n",
      "File \u001B[1;32mc:\\projects\\laboratory\\interpreter\\lib\\site-packages\\pandas\\core\\indexes\\base.py:3623\u001B[0m, in \u001B[0;36mIndex.get_loc\u001B[1;34m(self, key, method, tolerance)\u001B[0m\n\u001B[0;32m   3621\u001B[0m     \u001B[38;5;28;01mreturn\u001B[39;00m \u001B[38;5;28mself\u001B[39m\u001B[38;5;241m.\u001B[39m_engine\u001B[38;5;241m.\u001B[39mget_loc(casted_key)\n\u001B[0;32m   3622\u001B[0m \u001B[38;5;28;01mexcept\u001B[39;00m \u001B[38;5;167;01mKeyError\u001B[39;00m \u001B[38;5;28;01mas\u001B[39;00m err:\n\u001B[1;32m-> 3623\u001B[0m     \u001B[38;5;28;01mraise\u001B[39;00m \u001B[38;5;167;01mKeyError\u001B[39;00m(key) \u001B[38;5;28;01mfrom\u001B[39;00m \u001B[38;5;21;01merr\u001B[39;00m\n\u001B[0;32m   3624\u001B[0m \u001B[38;5;28;01mexcept\u001B[39;00m \u001B[38;5;167;01mTypeError\u001B[39;00m:\n\u001B[0;32m   3625\u001B[0m     \u001B[38;5;66;03m# If we have a listlike key, _check_indexing_error will raise\u001B[39;00m\n\u001B[0;32m   3626\u001B[0m     \u001B[38;5;66;03m#  InvalidIndexError. Otherwise we fall through and re-raise\u001B[39;00m\n\u001B[0;32m   3627\u001B[0m     \u001B[38;5;66;03m#  the TypeError.\u001B[39;00m\n\u001B[0;32m   3628\u001B[0m     \u001B[38;5;28mself\u001B[39m\u001B[38;5;241m.\u001B[39m_check_indexing_error(key)\n",
      "\u001B[1;31mKeyError\u001B[0m: 'Unnamed: 0'"
     ]
    }
   ],
   "source": [
    "del df['Unnamed: 0']"
   ],
   "metadata": {
    "collapsed": false,
    "pycharm": {
     "name": "#%%\n"
    }
   }
  },
  {
   "cell_type": "code",
   "execution_count": 26,
   "outputs": [
    {
     "data": {
      "text/plain": "Text(0.5, 1.0, 'Correlation Matrix')"
     },
     "execution_count": 26,
     "metadata": {},
     "output_type": "execute_result"
    },
    {
     "data": {
      "text/plain": "<Figure size 1368x1080 with 2 Axes>",
      "image/png": "[encoded data removed]"
     },
     "metadata": {
      "needs_background": "light"
     },
     "output_type": "display_data"
    }
   ],
   "source": [
    "import matplotlib.pyplot as plt\n",
    "\n",
    "f = plt.figure(figsize=(19, 15))\n",
    "plt.matshow(df.corr(), fignum=f.number)\n",
    "plt.yticks(range(df.select_dtypes(['number']).shape[1]), df.select_dtypes(['number']).columns, fontsize=14)\n",
    "cb = plt.colorbar()\n",
    "cb.ax.tick_params(labelsize=14)\n",
    "plt.title('Correlation Matrix', fontsize=16)"
   ],
   "metadata": {
    "collapsed": false,
    "pycharm": {
     "name": "#%%\n"
    }
   }
  },
  {
   "cell_type": "code",
   "execution_count": 27,
   "outputs": [
    {
     "data": {
      "text/plain": "  material   shape coat/functional group synthesismethod surface charge  \\\n0     SiO2  Sphere                  CTAB   Precipitation       Negative   \n1     SiO2  Sphere                  CTAB   Precipitation       Negative   \n2     SiO2  Sphere                  CTAB   Precipitation       Negative   \n3     SiO2  Sphere                  CTAB   Precipitation       Negative   \n4     SiO2  Sphere                  CTAB   Precipitation       Negative   \n\n   no of cells (cells/well) human/animal cell source    cell tissue  \\\n0                    5000.0            A         Rat  Adrenal Gland   \n1                    5000.0            A         Rat  Adrenal Gland   \n2                    5000.0            A         Rat  Adrenal Gland   \n3                    5000.0            A         Rat  Adrenal Gland   \n4                    5000.0            A         Rat  Adrenal Gland   \n\n  cell morphology  ... test   test indicator  viability (%)  \\\n0       Irregular  ...  MTT  TetrazoliumSalt        113.670   \n1       Irregular  ...  MTT  TetrazoliumSalt         97.265   \n2       Irregular  ...  MTT  TetrazoliumSalt        108.730   \n3       Irregular  ...  MTT  TetrazoliumSalt         98.451   \n4       Irregular  ...  MTT  TetrazoliumSalt         98.056   \n\n                             DOI core size (nm)  surface area  \\\n0  10.3109/15376516.2015.1070229            NaN           NaN   \n1  10.3109/15376516.2015.1070229            NaN           NaN   \n2  10.3109/15376516.2015.1070229            NaN           NaN   \n3  10.3109/15376516.2015.1070229            NaN           NaN   \n4  10.3109/15376516.2015.1070229            NaN           NaN   \n\n  Hydrodynamic diameter (nm)  Zeta potential (mV)  Cell type  \\\n0                      386.9                -35.9       PC12   \n1                      386.9                -35.9       PC12   \n2                      386.9                -35.9       PC12   \n3                      386.9                -35.9       PC12   \n4                      386.9                -35.9       PC12   \n\n   Molecular weight (g/mol)  \n0                  60.08431  \n1                  60.08431  \n2                  60.08431  \n3                  60.08431  \n4                  60.08431  \n\n[5 rows x 23 columns]",
      "text/html": "<div>\n<style scoped>\n    .dataframe tbody tr th:only-of-type {\n        vertical-align: middle;\n    }\n\n    .dataframe tbody tr th {\n        vertical-align: top;\n    }\n\n    .dataframe thead th {\n        text-align: right;\n    }\n</style>\n<table border=\"1\" class=\"dataframe\">\n  <thead>\n    <tr style=\"text-align: right;\">\n      <th></th>\n      <th>material</th>\n      <th>shape</th>\n      <th>coat/functional group</th>\n      <th>synthesismethod</th>\n      <th>surface charge</th>\n      <th>no of cells (cells/well)</th>\n      <th>human/animal</th>\n      <th>cell source</th>\n      <th>cell tissue</th>\n      <th>cell morphology</th>\n      <th>...</th>\n      <th>test</th>\n      <th>test indicator</th>\n      <th>viability (%)</th>\n      <th>DOI</th>\n      <th>core size (nm)</th>\n      <th>surface area</th>\n      <th>Hydrodynamic diameter (nm)</th>\n      <th>Zeta potential (mV)</th>\n      <th>Cell type</th>\n      <th>Molecular weight (g/mol)</th>\n    </tr>\n  </thead>\n  <tbody>\n    <tr>\n      <th>0</th>\n      <td>SiO2</td>\n      <td>Sphere</td>\n      <td>CTAB</td>\n      <td>Precipitation</td>\n      <td>Negative</td>\n      <td>5000.0</td>\n      <td>A</td>\n      <td>Rat</td>\n      <td>Adrenal Gland</td>\n      <td>Irregular</td>\n      <td>...</td>\n      <td>MTT</td>\n      <td>TetrazoliumSalt</td>\n      <td>113.670</td>\n      <td>10.3109/15376516.2015.1070229</td>\n      <td>NaN</td>\n      <td>NaN</td>\n      <td>386.9</td>\n      <td>-35.9</td>\n      <td>PC12</td>\n      <td>60.08431</td>\n    </tr>\n    <tr>\n      <th>1</th>\n      <td>SiO2</td>\n      <td>Sphere</td>\n      <td>CTAB</td>\n      <td>Precipitation</td>\n      <td>Negative</td>\n      <td>5000.0</td>\n      <td>A</td>\n      <td>Rat</td>\n      <td>Adrenal Gland</td>\n      <td>Irregular</td>\n      <td>...</td>\n      <td>MTT</td>\n      <td>TetrazoliumSalt</td>\n      <td>97.265</td>\n      <td>10.3109/15376516.2015.1070229</td>\n      <td>NaN</td>\n      <td>NaN</td>\n      <td>386.9</td>\n      <td>-35.9</td>\n      <td>PC12</td>\n      <td>60.08431</td>\n    </tr>\n    <tr>\n      <th>2</th>\n      <td>SiO2</td>\n      <td>Sphere</td>\n      <td>CTAB</td>\n      <td>Precipitation</td>\n      <td>Negative</td>\n      <td>5000.0</td>\n      <td>A</td>\n      <td>Rat</td>\n      <td>Adrenal Gland</td>\n      <td>Irregular</td>\n      <td>...</td>\n      <td>MTT</td>\n      <td>TetrazoliumSalt</td>\n      <td>108.730</td>\n      <td>10.3109/15376516.2015.1070229</td>\n      <td>NaN</td>\n      <td>NaN</td>\n      <td>386.9</td>\n      <td>-35.9</td>\n      <td>PC12</td>\n      <td>60.08431</td>\n    </tr>\n    <tr>\n      <th>3</th>\n      <td>SiO2</td>\n      <td>Sphere</td>\n      <td>CTAB</td>\n      <td>Precipitation</td>\n      <td>Negative</td>\n      <td>5000.0</td>\n      <td>A</td>\n      <td>Rat</td>\n      <td>Adrenal Gland</td>\n      <td>Irregular</td>\n      <td>...</td>\n      <td>MTT</td>\n      <td>TetrazoliumSalt</td>\n      <td>98.451</td>\n      <td>10.3109/15376516.2015.1070229</td>\n      <td>NaN</td>\n      <td>NaN</td>\n      <td>386.9</td>\n      <td>-35.9</td>\n      <td>PC12</td>\n      <td>60.08431</td>\n    </tr>\n    <tr>\n      <th>4</th>\n      <td>SiO2</td>\n      <td>Sphere</td>\n      <td>CTAB</td>\n      <td>Precipitation</td>\n      <td>Negative</td>\n      <td>5000.0</td>\n      <td>A</td>\n      <td>Rat</td>\n      <td>Adrenal Gland</td>\n      <td>Irregular</td>\n      <td>...</td>\n      <td>MTT</td>\n      <td>TetrazoliumSalt</td>\n      <td>98.056</td>\n      <td>10.3109/15376516.2015.1070229</td>\n      <td>NaN</td>\n      <td>NaN</td>\n      <td>386.9</td>\n      <td>-35.9</td>\n      <td>PC12</td>\n      <td>60.08431</td>\n    </tr>\n  </tbody>\n</table>\n<p>5 rows × 23 columns</p>\n</div>"
     },
     "execution_count": 27,
     "metadata": {},
     "output_type": "execute_result"
    }
   ],
   "source": [
    "df.head()"
   ],
   "metadata": {
    "collapsed": false,
    "pycharm": {
     "name": "#%%\n"
    }
   }
  },
  {
   "cell_type": "code",
   "execution_count": 28,
   "outputs": [
    {
     "data": {
      "text/plain": "array(['SiO2', 'Fe3O4', 'Bi', 'Au', 'Ag', 'TiO2', 'ZnO', 'Pt', 'CuO',\n       'CeO2', 'Co3O4', 'C', 'CaHCO3', 'MgO', 'Ni', 'Al2O3', 'ZrO2',\n       'NiO', 'Cu', 'Bi2O3', 'Se', 'CuS', 'Ti', 'Cr', 'Co', 'CdO', 'MnO',\n       'Mo', 'Cu2O', 'Fe2O3', 'Mn2O3', 'CoO', 'Gd2O3', 'HfO2', 'In2O3',\n       'La2O3', 'Sb2O3'], dtype=object)"
     },
     "execution_count": 28,
     "metadata": {},
     "output_type": "execute_result"
    }
   ],
   "source": [
    "df['material'].unique()"
   ],
   "metadata": {
    "collapsed": false,
    "pycharm": {
     "name": "#%%\n"
    }
   }
  },
  {
   "cell_type": "code",
   "execution_count": null,
   "outputs": [],
   "source": [
    "'''\n",
    "Materials:\n",
    "1) oxides\n",
    "2) mixed oxides\n",
    "3) metals\n",
    "4) carbon\n",
    "5) salts (hydro carbonates, sulfides)\n",
    "'''"
   ],
   "metadata": {
    "collapsed": false,
    "pycharm": {
     "name": "#%%\n"
    }
   }
  },
  {
   "cell_type": "code",
   "execution_count": 29,
   "outputs": [
    {
     "data": {
      "text/plain": "       no of cells (cells/well)    time (hr)  concentration (ug/ml)  \\\ncount               3044.000000  6107.000000            4220.000000   \nmean               51530.814717    33.346815              80.487058   \nstd               123987.106055    23.844510             157.617455   \nmin                  300.000000     1.000000               0.000000   \n25%                10000.000000    24.000000               5.000000   \n50%                10000.000000    24.000000              25.000000   \n75%                50000.000000    48.000000             100.000000   \nmax              1000000.000000   336.000000            1600.000000   \n\n       viability (%)  core size (nm)  surface area  \\\ncount    6601.000000     1066.000000   1066.000000   \nmean       75.458086       40.193809     86.555910   \nstd        31.430453       35.656944    133.219293   \nmin         0.000000        5.900000      7.000000   \n25%        57.930000       18.300000     21.800000   \n50%        85.858590       28.400000     42.500000   \n75%        96.701000       50.000000     93.100000   \nmax       404.811700      369.000000    640.000000   \n\n       Hydrodynamic diameter (nm)  Zeta potential (mV)  \\\ncount                 6454.000000          4375.000000   \nmean                   134.832028            -3.861394   \nstd                    210.231128            34.283992   \nmin                      1.150000          -158.000000   \n25%                     20.000000           -31.700000   \n50%                     42.500000           -10.700000   \n75%                    187.600000            17.700000   \nmax                   1843.000000            88.000000   \n\n       Molecular weight (g/mol)  \ncount               5535.000000  \nmean                 132.978046  \nstd                   77.360104  \nmin                   12.010740  \n25%                   79.865810  \n50%                  107.868200  \n75%                  196.966569  \nmax                  465.959015  ",
      "text/html": "<div>\n<style scoped>\n    .dataframe tbody tr th:only-of-type {\n        vertical-align: middle;\n    }\n\n    .dataframe tbody tr th {\n        vertical-align: top;\n    }\n\n    .dataframe thead th {\n        text-align: right;\n    }\n</style>\n<table border=\"1\" class=\"dataframe\">\n  <thead>\n    <tr style=\"text-align: right;\">\n      <th></th>\n      <th>no of cells (cells/well)</th>\n      <th>time (hr)</th>\n      <th>concentration (ug/ml)</th>\n      <th>viability (%)</th>\n      <th>core size (nm)</th>\n      <th>surface area</th>\n      <th>Hydrodynamic diameter (nm)</th>\n      <th>Zeta potential (mV)</th>\n      <th>Molecular weight (g/mol)</th>\n    </tr>\n  </thead>\n  <tbody>\n    <tr>\n      <th>count</th>\n      <td>3044.000000</td>\n      <td>6107.000000</td>\n      <td>4220.000000</td>\n      <td>6601.000000</td>\n      <td>1066.000000</td>\n      <td>1066.000000</td>\n      <td>6454.000000</td>\n      <td>4375.000000</td>\n      <td>5535.000000</td>\n    </tr>\n    <tr>\n      <th>mean</th>\n      <td>51530.814717</td>\n      <td>33.346815</td>\n      <td>80.487058</td>\n      <td>75.458086</td>\n      <td>40.193809</td>\n      <td>86.555910</td>\n      <td>134.832028</td>\n      <td>-3.861394</td>\n      <td>132.978046</td>\n    </tr>\n    <tr>\n      <th>std</th>\n      <td>123987.106055</td>\n      <td>23.844510</td>\n      <td>157.617455</td>\n      <td>31.430453</td>\n      <td>35.656944</td>\n      <td>133.219293</td>\n      <td>210.231128</td>\n      <td>34.283992</td>\n      <td>77.360104</td>\n    </tr>\n    <tr>\n      <th>min</th>\n      <td>300.000000</td>\n      <td>1.000000</td>\n      <td>0.000000</td>\n      <td>0.000000</td>\n      <td>5.900000</td>\n      <td>7.000000</td>\n      <td>1.150000</td>\n      <td>-158.000000</td>\n      <td>12.010740</td>\n    </tr>\n    <tr>\n      <th>25%</th>\n      <td>10000.000000</td>\n      <td>24.000000</td>\n      <td>5.000000</td>\n      <td>57.930000</td>\n      <td>18.300000</td>\n      <td>21.800000</td>\n      <td>20.000000</td>\n      <td>-31.700000</td>\n      <td>79.865810</td>\n    </tr>\n    <tr>\n      <th>50%</th>\n      <td>10000.000000</td>\n      <td>24.000000</td>\n      <td>25.000000</td>\n      <td>85.858590</td>\n      <td>28.400000</td>\n      <td>42.500000</td>\n      <td>42.500000</td>\n      <td>-10.700000</td>\n      <td>107.868200</td>\n    </tr>\n    <tr>\n      <th>75%</th>\n      <td>50000.000000</td>\n      <td>48.000000</td>\n      <td>100.000000</td>\n      <td>96.701000</td>\n      <td>50.000000</td>\n      <td>93.100000</td>\n      <td>187.600000</td>\n      <td>17.700000</td>\n      <td>196.966569</td>\n    </tr>\n    <tr>\n      <th>max</th>\n      <td>1000000.000000</td>\n      <td>336.000000</td>\n      <td>1600.000000</td>\n      <td>404.811700</td>\n      <td>369.000000</td>\n      <td>640.000000</td>\n      <td>1843.000000</td>\n      <td>88.000000</td>\n      <td>465.959015</td>\n    </tr>\n  </tbody>\n</table>\n</div>"
     },
     "execution_count": 29,
     "metadata": {},
     "output_type": "execute_result"
    }
   ],
   "source": [
    "df.describe()"
   ],
   "metadata": {
    "collapsed": false,
    "pycharm": {
     "name": "#%%\n"
    }
   }
  },
  {
   "cell_type": "code",
   "execution_count": 30,
   "outputs": [
    {
     "data": {
      "text/plain": "material                         0\nshape                         3247\ncoat/functional group         2375\nsynthesismethod               3247\nsurface charge                3142\nno of cells (cells/well)      3557\nhuman/animal                  1066\ncell source                    494\ncell tissue                    494\ncell morphology               1066\ncell age                      1066\ntime (hr)                      494\nconcentration (ug/ml)         2381\ntest                           494\ntest indicator                1066\nviability (%)                    0\nDOI                           1066\ncore size (nm)                5535\nsurface area                  5535\nHydrodynamic diameter (nm)     147\nZeta potential (mV)           2226\nCell type                      494\nMolecular weight (g/mol)      1066\ndtype: int64"
     },
     "execution_count": 30,
     "metadata": {},
     "output_type": "execute_result"
    }
   ],
   "source": [
    "df.isnull().sum()"
   ],
   "metadata": {
    "collapsed": false,
    "pycharm": {
     "name": "#%%\n"
    }
   }
  },
  {
   "cell_type": "code",
   "execution_count": null,
   "outputs": [],
   "source": [
    "'''\n",
    "To fill with kNN:\n",
    "1) Hydrodynamic diameter (nm)\n",
    "2) cell source\n",
    "3) cell tissue\n",
    "4) time (hr)\n",
    "5) test\n",
    "6) Cell type\n",
    "'''"
   ],
   "metadata": {
    "collapsed": false,
    "pycharm": {
     "name": "#%%\n"
    }
   }
  },
  {
   "cell_type": "code",
   "execution_count": 33,
   "outputs": [
    {
     "data": {
      "text/plain": "material                         0\nshape                         1066\ncoat/functional group         1066\nsynthesismethod               1066\nsurface charge                 873\nno of cells (cells/well)      1376\nhuman/animal                  1066\ncell source                    494\ncell tissue                    494\ncell morphology               1066\ncell age                      1066\ntime (hr)                      494\nconcentration (ug/ml)            0\ntest                           494\ntest indicator                1066\nviability (%)                    0\nDOI                           1066\ncore size (nm)                3154\nsurface area                  3154\nHydrodynamic diameter (nm)     122\nZeta potential (mV)            806\nCell type                      494\nMolecular weight (g/mol)      1066\ndtype: int64"
     },
     "execution_count": 33,
     "metadata": {},
     "output_type": "execute_result"
    }
   ],
   "source": [
    "df1 = df[df['concentration (ug/ml)'].notna()]\n",
    "df1.isnull().sum()"
   ],
   "metadata": {
    "collapsed": false,
    "pycharm": {
     "name": "#%%\n"
    }
   }
  },
  {
   "cell_type": "code",
   "execution_count": 43,
   "outputs": [],
   "source": [
    "df_final = df[['material',\n",
    "               'cell source',\n",
    "               'cell tissue',\n",
    "               'time (hr)',\n",
    "               'concentration (ug/ml)',\n",
    "               'test',\n",
    "               'viability (%)',\n",
    "               'Hydrodynamic diameter (nm)',\n",
    "               'Zeta potential (mV)',\n",
    "               'Cell type']]"
   ],
   "metadata": {
    "collapsed": false,
    "pycharm": {
     "name": "#%%\n"
    }
   }
  },
  {
   "cell_type": "code",
   "execution_count": 44,
   "outputs": [
    {
     "data": {
      "text/plain": "material                         0\ncell source                    494\ncell tissue                    494\ntime (hr)                      494\nconcentration (ug/ml)         2381\ntest                           494\nviability (%)                    0\nHydrodynamic diameter (nm)     147\nZeta potential (mV)           2226\nCell type                      494\ndtype: int64"
     },
     "execution_count": 44,
     "metadata": {},
     "output_type": "execute_result"
    }
   ],
   "source": [
    "df_final.isnull().sum()"
   ],
   "metadata": {
    "collapsed": false,
    "pycharm": {
     "name": "#%%\n"
    }
   }
  },
  {
   "cell_type": "code",
   "execution_count": 45,
   "outputs": [],
   "source": [
    "df_final_conc = df_final[df_final['concentration (ug/ml)'].notna()]"
   ],
   "metadata": {
    "collapsed": false,
    "pycharm": {
     "name": "#%%\n"
    }
   }
  },
  {
   "cell_type": "code",
   "execution_count": 46,
   "outputs": [
    {
     "data": {
      "text/plain": "material                        0\ncell source                   494\ncell tissue                   494\ntime (hr)                     494\nconcentration (ug/ml)           0\ntest                          494\nviability (%)                   0\nHydrodynamic diameter (nm)    122\nZeta potential (mV)           806\nCell type                     494\ndtype: int64"
     },
     "execution_count": 46,
     "metadata": {},
     "output_type": "execute_result"
    }
   ],
   "source": [
    "df_final_conc.isnull().sum()"
   ],
   "metadata": {
    "collapsed": false,
    "pycharm": {
     "name": "#%%\n"
    }
   }
  },
  {
   "cell_type": "code",
   "execution_count": 47,
   "outputs": [
    {
     "data": {
      "text/plain": "     material cell source    cell tissue  time (hr)  concentration (ug/ml)  \\\n0        SiO2         Rat  Adrenal Gland       12.0                   1.95   \n1        SiO2         Rat  Adrenal Gland       12.0                   3.90   \n2        SiO2         Rat  Adrenal Gland       12.0                   7.80   \n3        SiO2         Rat  Adrenal Gland       12.0                  15.60   \n4        SiO2         Rat  Adrenal Gland       12.0                  31.20   \n...       ...         ...            ...        ...                    ...   \n6596      NiO         NaN            NaN        NaN                   1.60   \n6597      NiO         NaN            NaN        NaN                  50.00   \n6598    Sb2O3         NaN            NaN        NaN                   0.80   \n6599    Sb2O3         NaN            NaN        NaN                  25.00   \n6600      ZnO         NaN            NaN        NaN                   1.60   \n\n     test  viability (%)  Hydrodynamic diameter (nm)  Zeta potential (mV)  \\\n0     MTT        113.670                       386.9                -35.9   \n1     MTT         97.265                       386.9                -35.9   \n2     MTT        108.730                       386.9                -35.9   \n3     MTT         98.451                       386.9                -35.9   \n4     MTT         98.056                       386.9                -35.9   \n...   ...            ...                         ...                  ...   \n6596  NaN         99.000                       189.5                 27.6   \n6597  NaN         99.000                       189.5                 27.6   \n6598  NaN         99.000                       274.9                -35.3   \n6599  NaN         99.000                       274.9                -35.3   \n6600  NaN         99.700                        69.4                 28.8   \n\n     Cell type  \n0         PC12  \n1         PC12  \n2         PC12  \n3         PC12  \n4         PC12  \n...        ...  \n6596       NaN  \n6597       NaN  \n6598       NaN  \n6599       NaN  \n6600       NaN  \n\n[4220 rows x 10 columns]",
      "text/html": "<div>\n<style scoped>\n    .dataframe tbody tr th:only-of-type {\n        vertical-align: middle;\n    }\n\n    .dataframe tbody tr th {\n        vertical-align: top;\n    }\n\n    .dataframe thead th {\n        text-align: right;\n    }\n</style>\n<table border=\"1\" class=\"dataframe\">\n  <thead>\n    <tr style=\"text-align: right;\">\n      <th></th>\n      <th>material</th>\n      <th>cell source</th>\n      <th>cell tissue</th>\n      <th>time (hr)</th>\n      <th>concentration (ug/ml)</th>\n      <th>test</th>\n      <th>viability (%)</th>\n      <th>Hydrodynamic diameter (nm)</th>\n      <th>Zeta potential (mV)</th>\n      <th>Cell type</th>\n    </tr>\n  </thead>\n  <tbody>\n    <tr>\n      <th>0</th>\n      <td>SiO2</td>\n      <td>Rat</td>\n      <td>Adrenal Gland</td>\n      <td>12.0</td>\n      <td>1.95</td>\n      <td>MTT</td>\n      <td>113.670</td>\n      <td>386.9</td>\n      <td>-35.9</td>\n      <td>PC12</td>\n    </tr>\n    <tr>\n      <th>1</th>\n      <td>SiO2</td>\n      <td>Rat</td>\n      <td>Adrenal Gland</td>\n      <td>12.0</td>\n      <td>3.90</td>\n      <td>MTT</td>\n      <td>97.265</td>\n      <td>386.9</td>\n      <td>-35.9</td>\n      <td>PC12</td>\n    </tr>\n    <tr>\n      <th>2</th>\n      <td>SiO2</td>\n      <td>Rat</td>\n      <td>Adrenal Gland</td>\n      <td>12.0</td>\n      <td>7.80</td>\n      <td>MTT</td>\n      <td>108.730</td>\n      <td>386.9</td>\n      <td>-35.9</td>\n      <td>PC12</td>\n    </tr>\n    <tr>\n      <th>3</th>\n      <td>SiO2</td>\n      <td>Rat</td>\n      <td>Adrenal Gland</td>\n      <td>12.0</td>\n      <td>15.60</td>\n      <td>MTT</td>\n      <td>98.451</td>\n      <td>386.9</td>\n      <td>-35.9</td>\n      <td>PC12</td>\n    </tr>\n    <tr>\n      <th>4</th>\n      <td>SiO2</td>\n      <td>Rat</td>\n      <td>Adrenal Gland</td>\n      <td>12.0</td>\n      <td>31.20</td>\n      <td>MTT</td>\n      <td>98.056</td>\n      <td>386.9</td>\n      <td>-35.9</td>\n      <td>PC12</td>\n    </tr>\n    <tr>\n      <th>...</th>\n      <td>...</td>\n      <td>...</td>\n      <td>...</td>\n      <td>...</td>\n      <td>...</td>\n      <td>...</td>\n      <td>...</td>\n      <td>...</td>\n      <td>...</td>\n      <td>...</td>\n    </tr>\n    <tr>\n      <th>6596</th>\n      <td>NiO</td>\n      <td>NaN</td>\n      <td>NaN</td>\n      <td>NaN</td>\n      <td>1.60</td>\n      <td>NaN</td>\n      <td>99.000</td>\n      <td>189.5</td>\n      <td>27.6</td>\n      <td>NaN</td>\n    </tr>\n    <tr>\n      <th>6597</th>\n      <td>NiO</td>\n      <td>NaN</td>\n      <td>NaN</td>\n      <td>NaN</td>\n      <td>50.00</td>\n      <td>NaN</td>\n      <td>99.000</td>\n      <td>189.5</td>\n      <td>27.6</td>\n      <td>NaN</td>\n    </tr>\n    <tr>\n      <th>6598</th>\n      <td>Sb2O3</td>\n      <td>NaN</td>\n      <td>NaN</td>\n      <td>NaN</td>\n      <td>0.80</td>\n      <td>NaN</td>\n      <td>99.000</td>\n      <td>274.9</td>\n      <td>-35.3</td>\n      <td>NaN</td>\n    </tr>\n    <tr>\n      <th>6599</th>\n      <td>Sb2O3</td>\n      <td>NaN</td>\n      <td>NaN</td>\n      <td>NaN</td>\n      <td>25.00</td>\n      <td>NaN</td>\n      <td>99.000</td>\n      <td>274.9</td>\n      <td>-35.3</td>\n      <td>NaN</td>\n    </tr>\n    <tr>\n      <th>6600</th>\n      <td>ZnO</td>\n      <td>NaN</td>\n      <td>NaN</td>\n      <td>NaN</td>\n      <td>1.60</td>\n      <td>NaN</td>\n      <td>99.700</td>\n      <td>69.4</td>\n      <td>28.8</td>\n      <td>NaN</td>\n    </tr>\n  </tbody>\n</table>\n<p>4220 rows × 10 columns</p>\n</div>"
     },
     "execution_count": 47,
     "metadata": {},
     "output_type": "execute_result"
    }
   ],
   "source": [
    "df_final_conc"
   ],
   "metadata": {
    "collapsed": false,
    "pycharm": {
     "name": "#%%\n"
    }
   }
  },
  {
   "cell_type": "code",
   "execution_count": 53,
   "outputs": [],
   "source": [
    "cols = df_final_conc.columns\n",
    "\n",
    "num_cols = df_final_conc._get_numeric_data().columns\n",
    "\n",
    "categorical_columns = list(set(cols) - set(num_cols))"
   ],
   "metadata": {
    "collapsed": false,
    "pycharm": {
     "name": "#%%\n"
    }
   }
  },
  {
   "cell_type": "code",
   "execution_count": 81,
   "outputs": [
    {
     "data": {
      "text/plain": "Index(['time (hr)', 'concentration (ug/ml)', 'viability (%)',\n       'Hydrodynamic diameter (nm)', 'Zeta potential (mV)'],\n      dtype='object')"
     },
     "execution_count": 81,
     "metadata": {},
     "output_type": "execute_result"
    }
   ],
   "source": [
    "num_cols"
   ],
   "metadata": {
    "collapsed": false,
    "pycharm": {
     "name": "#%%\n"
    }
   }
  },
  {
   "cell_type": "code",
   "execution_count": 56,
   "outputs": [],
   "source": [
    "df_categorical = df_final_conc[categorical_columns]"
   ],
   "metadata": {
    "collapsed": false,
    "pycharm": {
     "name": "#%%\n"
    }
   }
  },
  {
   "cell_type": "code",
   "execution_count": 55,
   "outputs": [],
   "source": [
    "df_numerical = df_final_conc.drop(categorical_columns, axis=1)"
   ],
   "metadata": {
    "collapsed": false,
    "pycharm": {
     "name": "#%%\n"
    }
   }
  },
  {
   "cell_type": "code",
   "execution_count": 57,
   "outputs": [
    {
     "data": {
      "text/plain": "        cell tissue cell source material test Cell type\n0     Adrenal Gland         Rat     SiO2  MTT      PC12\n1     Adrenal Gland         Rat     SiO2  MTT      PC12\n2     Adrenal Gland         Rat     SiO2  MTT      PC12\n3     Adrenal Gland         Rat     SiO2  MTT      PC12\n4     Adrenal Gland         Rat     SiO2  MTT      PC12\n...             ...         ...      ...  ...       ...\n6596            NaN         NaN      NiO  NaN       NaN\n6597            NaN         NaN      NiO  NaN       NaN\n6598            NaN         NaN    Sb2O3  NaN       NaN\n6599            NaN         NaN    Sb2O3  NaN       NaN\n6600            NaN         NaN      ZnO  NaN       NaN\n\n[4220 rows x 5 columns]",
      "text/html": "<div>\n<style scoped>\n    .dataframe tbody tr th:only-of-type {\n        vertical-align: middle;\n    }\n\n    .dataframe tbody tr th {\n        vertical-align: top;\n    }\n\n    .dataframe thead th {\n        text-align: right;\n    }\n</style>\n<table border=\"1\" class=\"dataframe\">\n  <thead>\n    <tr style=\"text-align: right;\">\n      <th></th>\n      <th>cell tissue</th>\n      <th>cell source</th>\n      <th>material</th>\n      <th>test</th>\n      <th>Cell type</th>\n    </tr>\n  </thead>\n  <tbody>\n    <tr>\n      <th>0</th>\n      <td>Adrenal Gland</td>\n      <td>Rat</td>\n      <td>SiO2</td>\n      <td>MTT</td>\n      <td>PC12</td>\n    </tr>\n    <tr>\n      <th>1</th>\n      <td>Adrenal Gland</td>\n      <td>Rat</td>\n      <td>SiO2</td>\n      <td>MTT</td>\n      <td>PC12</td>\n    </tr>\n    <tr>\n      <th>2</th>\n      <td>Adrenal Gland</td>\n      <td>Rat</td>\n      <td>SiO2</td>\n      <td>MTT</td>\n      <td>PC12</td>\n    </tr>\n    <tr>\n      <th>3</th>\n      <td>Adrenal Gland</td>\n      <td>Rat</td>\n      <td>SiO2</td>\n      <td>MTT</td>\n      <td>PC12</td>\n    </tr>\n    <tr>\n      <th>4</th>\n      <td>Adrenal Gland</td>\n      <td>Rat</td>\n      <td>SiO2</td>\n      <td>MTT</td>\n      <td>PC12</td>\n    </tr>\n    <tr>\n      <th>...</th>\n      <td>...</td>\n      <td>...</td>\n      <td>...</td>\n      <td>...</td>\n      <td>...</td>\n    </tr>\n    <tr>\n      <th>6596</th>\n      <td>NaN</td>\n      <td>NaN</td>\n      <td>NiO</td>\n      <td>NaN</td>\n      <td>NaN</td>\n    </tr>\n    <tr>\n      <th>6597</th>\n      <td>NaN</td>\n      <td>NaN</td>\n      <td>NiO</td>\n      <td>NaN</td>\n      <td>NaN</td>\n    </tr>\n    <tr>\n      <th>6598</th>\n      <td>NaN</td>\n      <td>NaN</td>\n      <td>Sb2O3</td>\n      <td>NaN</td>\n      <td>NaN</td>\n    </tr>\n    <tr>\n      <th>6599</th>\n      <td>NaN</td>\n      <td>NaN</td>\n      <td>Sb2O3</td>\n      <td>NaN</td>\n      <td>NaN</td>\n    </tr>\n    <tr>\n      <th>6600</th>\n      <td>NaN</td>\n      <td>NaN</td>\n      <td>ZnO</td>\n      <td>NaN</td>\n      <td>NaN</td>\n    </tr>\n  </tbody>\n</table>\n<p>4220 rows × 5 columns</p>\n</div>"
     },
     "execution_count": 57,
     "metadata": {},
     "output_type": "execute_result"
    }
   ],
   "source": [
    "df_categorical"
   ],
   "metadata": {
    "collapsed": false,
    "pycharm": {
     "name": "#%%\n"
    }
   }
  },
  {
   "cell_type": "code",
   "execution_count": 61,
   "outputs": [],
   "source": [
    "from sklearn.impute import KNNImputer\n",
    "\n",
    "kNN = KNNImputer(n_neighbors=2)\n",
    "df_numerical_filled = pd.DataFrame(kNN.fit_transform(df_numerical))"
   ],
   "metadata": {
    "collapsed": false,
    "pycharm": {
     "name": "#%%\n"
    }
   }
  },
  {
   "cell_type": "code",
   "execution_count": 75,
   "outputs": [],
   "source": [
    "df_numerical_filled.columns = num_cols"
   ],
   "metadata": {
    "collapsed": false,
    "pycharm": {
     "name": "#%%\n"
    }
   }
  },
  {
   "cell_type": "code",
   "execution_count": 76,
   "outputs": [
    {
     "data": {
      "text/plain": "      time (hr)  concentration (ug/ml)  viability (%)  \\\n0          12.0                   1.95        113.670   \n1          12.0                   3.90         97.265   \n2          12.0                   7.80        108.730   \n3          12.0                  15.60         98.451   \n4          12.0                  31.20         98.056   \n...         ...                    ...            ...   \n4215       48.0                   1.60         99.000   \n4216       72.0                  50.00         99.000   \n4217       72.0                   0.80         99.000   \n4218       48.0                  25.00         99.000   \n4219       48.0                   1.60         99.700   \n\n      Hydrodynamic diameter (nm)  Zeta potential (mV)  \n0                          386.9                -35.9  \n1                          386.9                -35.9  \n2                          386.9                -35.9  \n3                          386.9                -35.9  \n4                          386.9                -35.9  \n...                          ...                  ...  \n4215                       189.5                 27.6  \n4216                       189.5                 27.6  \n4217                       274.9                -35.3  \n4218                       274.9                -35.3  \n4219                        69.4                 28.8  \n\n[4220 rows x 5 columns]",
      "text/html": "<div>\n<style scoped>\n    .dataframe tbody tr th:only-of-type {\n        vertical-align: middle;\n    }\n\n    .dataframe tbody tr th {\n        vertical-align: top;\n    }\n\n    .dataframe thead th {\n        text-align: right;\n    }\n</style>\n<table border=\"1\" class=\"dataframe\">\n  <thead>\n    <tr style=\"text-align: right;\">\n      <th></th>\n      <th>time (hr)</th>\n      <th>concentration (ug/ml)</th>\n      <th>viability (%)</th>\n      <th>Hydrodynamic diameter (nm)</th>\n      <th>Zeta potential (mV)</th>\n    </tr>\n  </thead>\n  <tbody>\n    <tr>\n      <th>0</th>\n      <td>12.0</td>\n      <td>1.95</td>\n      <td>113.670</td>\n      <td>386.9</td>\n      <td>-35.9</td>\n    </tr>\n    <tr>\n      <th>1</th>\n      <td>12.0</td>\n      <td>3.90</td>\n      <td>97.265</td>\n      <td>386.9</td>\n      <td>-35.9</td>\n    </tr>\n    <tr>\n      <th>2</th>\n      <td>12.0</td>\n      <td>7.80</td>\n      <td>108.730</td>\n      <td>386.9</td>\n      <td>-35.9</td>\n    </tr>\n    <tr>\n      <th>3</th>\n      <td>12.0</td>\n      <td>15.60</td>\n      <td>98.451</td>\n      <td>386.9</td>\n      <td>-35.9</td>\n    </tr>\n    <tr>\n      <th>4</th>\n      <td>12.0</td>\n      <td>31.20</td>\n      <td>98.056</td>\n      <td>386.9</td>\n      <td>-35.9</td>\n    </tr>\n    <tr>\n      <th>...</th>\n      <td>...</td>\n      <td>...</td>\n      <td>...</td>\n      <td>...</td>\n      <td>...</td>\n    </tr>\n    <tr>\n      <th>4215</th>\n      <td>48.0</td>\n      <td>1.60</td>\n      <td>99.000</td>\n      <td>189.5</td>\n      <td>27.6</td>\n    </tr>\n    <tr>\n      <th>4216</th>\n      <td>72.0</td>\n      <td>50.00</td>\n      <td>99.000</td>\n      <td>189.5</td>\n      <td>27.6</td>\n    </tr>\n    <tr>\n      <th>4217</th>\n      <td>72.0</td>\n      <td>0.80</td>\n      <td>99.000</td>\n      <td>274.9</td>\n      <td>-35.3</td>\n    </tr>\n    <tr>\n      <th>4218</th>\n      <td>48.0</td>\n      <td>25.00</td>\n      <td>99.000</td>\n      <td>274.9</td>\n      <td>-35.3</td>\n    </tr>\n    <tr>\n      <th>4219</th>\n      <td>48.0</td>\n      <td>1.60</td>\n      <td>99.700</td>\n      <td>69.4</td>\n      <td>28.8</td>\n    </tr>\n  </tbody>\n</table>\n<p>4220 rows × 5 columns</p>\n</div>"
     },
     "execution_count": 76,
     "metadata": {},
     "output_type": "execute_result"
    }
   ],
   "source": [
    "df_numerical_filled"
   ],
   "metadata": {
    "collapsed": false,
    "pycharm": {
     "name": "#%%\n"
    }
   }
  },
  {
   "cell_type": "code",
   "execution_count": 70,
   "outputs": [],
   "source": [
    "from feature_engine.imputation import CategoricalImputer\n",
    "\n",
    "kNN_categorical = CategoricalImputer()\n",
    "df_categorical_filled = pd.DataFrame(kNN_categorical.fit_transform(df_categorical))"
   ],
   "metadata": {
    "collapsed": false,
    "pycharm": {
     "name": "#%%\n"
    }
   }
  },
  {
   "cell_type": "code",
   "execution_count": 71,
   "outputs": [
    {
     "data": {
      "text/plain": "        cell tissue cell source material     test Cell type\n0     Adrenal Gland         Rat     SiO2      MTT      PC12\n1     Adrenal Gland         Rat     SiO2      MTT      PC12\n2     Adrenal Gland         Rat     SiO2      MTT      PC12\n3     Adrenal Gland         Rat     SiO2      MTT      PC12\n4     Adrenal Gland         Rat     SiO2      MTT      PC12\n...             ...         ...      ...      ...       ...\n6596        Missing     Missing      NiO  Missing   Missing\n6597        Missing     Missing      NiO  Missing   Missing\n6598        Missing     Missing    Sb2O3  Missing   Missing\n6599        Missing     Missing    Sb2O3  Missing   Missing\n6600        Missing     Missing      ZnO  Missing   Missing\n\n[4220 rows x 5 columns]",
      "text/html": "<div>\n<style scoped>\n    .dataframe tbody tr th:only-of-type {\n        vertical-align: middle;\n    }\n\n    .dataframe tbody tr th {\n        vertical-align: top;\n    }\n\n    .dataframe thead th {\n        text-align: right;\n    }\n</style>\n<table border=\"1\" class=\"dataframe\">\n  <thead>\n    <tr style=\"text-align: right;\">\n      <th></th>\n      <th>cell tissue</th>\n      <th>cell source</th>\n      <th>material</th>\n      <th>test</th>\n      <th>Cell type</th>\n    </tr>\n  </thead>\n  <tbody>\n    <tr>\n      <th>0</th>\n      <td>Adrenal Gland</td>\n      <td>Rat</td>\n      <td>SiO2</td>\n      <td>MTT</td>\n      <td>PC12</td>\n    </tr>\n    <tr>\n      <th>1</th>\n      <td>Adrenal Gland</td>\n      <td>Rat</td>\n      <td>SiO2</td>\n      <td>MTT</td>\n      <td>PC12</td>\n    </tr>\n    <tr>\n      <th>2</th>\n      <td>Adrenal Gland</td>\n      <td>Rat</td>\n      <td>SiO2</td>\n      <td>MTT</td>\n      <td>PC12</td>\n    </tr>\n    <tr>\n      <th>3</th>\n      <td>Adrenal Gland</td>\n      <td>Rat</td>\n      <td>SiO2</td>\n      <td>MTT</td>\n      <td>PC12</td>\n    </tr>\n    <tr>\n      <th>4</th>\n      <td>Adrenal Gland</td>\n      <td>Rat</td>\n      <td>SiO2</td>\n      <td>MTT</td>\n      <td>PC12</td>\n    </tr>\n    <tr>\n      <th>...</th>\n      <td>...</td>\n      <td>...</td>\n      <td>...</td>\n      <td>...</td>\n      <td>...</td>\n    </tr>\n    <tr>\n      <th>6596</th>\n      <td>Missing</td>\n      <td>Missing</td>\n      <td>NiO</td>\n      <td>Missing</td>\n      <td>Missing</td>\n    </tr>\n    <tr>\n      <th>6597</th>\n      <td>Missing</td>\n      <td>Missing</td>\n      <td>NiO</td>\n      <td>Missing</td>\n      <td>Missing</td>\n    </tr>\n    <tr>\n      <th>6598</th>\n      <td>Missing</td>\n      <td>Missing</td>\n      <td>Sb2O3</td>\n      <td>Missing</td>\n      <td>Missing</td>\n    </tr>\n    <tr>\n      <th>6599</th>\n      <td>Missing</td>\n      <td>Missing</td>\n      <td>Sb2O3</td>\n      <td>Missing</td>\n      <td>Missing</td>\n    </tr>\n    <tr>\n      <th>6600</th>\n      <td>Missing</td>\n      <td>Missing</td>\n      <td>ZnO</td>\n      <td>Missing</td>\n      <td>Missing</td>\n    </tr>\n  </tbody>\n</table>\n<p>4220 rows × 5 columns</p>\n</div>"
     },
     "execution_count": 71,
     "metadata": {},
     "output_type": "execute_result"
    }
   ],
   "source": [
    "df_categorical_filled"
   ],
   "metadata": {
    "collapsed": false,
    "pycharm": {
     "name": "#%%\n"
    }
   }
  },
  {
   "cell_type": "code",
   "execution_count": 79,
   "outputs": [],
   "source": [
    "df_numerical_filled.to_csv('C:/projects/laboratory/Nanoparticle_cytotoxicity/databases/Final/numerical.csv')"
   ],
   "metadata": {
    "collapsed": false,
    "pycharm": {
     "name": "#%%\n"
    }
   }
  },
  {
   "cell_type": "code",
   "execution_count": 80,
   "outputs": [],
   "source": [
    "df_categorical_filled.to_csv('C:/projects/laboratory/Nanoparticle_cytotoxicity/databases/Final/categorical.csv')"
   ],
   "metadata": {
    "collapsed": false,
    "pycharm": {
     "name": "#%%\n"
    }
   }
  },
  {
   "cell_type": "code",
   "execution_count": null,
   "outputs": [],
   "source": [],
   "metadata": {
    "collapsed": false,
    "pycharm": {
     "name": "#%%\n"
    }
   }
  }
 ],
 "metadata": {
  "kernelspec": {
   "display_name": "Python 3",
   "language": "python",
   "name": "python3"
  },
  "language_info": {
   "codemirror_mode": {
    "name": "ipython",
    "version": 2
   },
   "file_extension": ".py",
   "mimetype": "text/x-python",
   "name": "python",
   "nbconvert_exporter": "python",
   "pygments_lexer": "ipython2",
   "version": "2.7.6"
  }
 },
 "nbformat": 4,
 "nbformat_minor": 0
}