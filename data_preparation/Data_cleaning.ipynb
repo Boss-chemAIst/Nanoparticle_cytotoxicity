{
 "cells": [
  {
   "cell_type": "code",
   "execution_count": 1,
   "metadata": {
    "collapsed": true
   },
   "outputs": [],
   "source": [
    "import molmass\n",
    "import pandas as pd\n",
    "import numpy as np\n",
    "pd.options.mode.chained_assignment = None"
   ]
  },
  {
   "cell_type": "code",
   "execution_count": 1,
   "outputs": [
    {
     "name": "stdout",
     "output_type": "stream",
     "text": [
      "Requirement already satisfied: molmass in c:\\projects\\laboratory\\interpreter\\lib\\site-packages (2021.6.18)\n"
     ]
    },
    {
     "name": "stderr",
     "output_type": "stream",
     "text": [
      "WARNING: You are using pip version 22.0.4; however, version 22.1 is available.\n",
      "You should consider upgrading via the 'c:\\projects\\laboratory\\interpreter\\scripts\\python.exe -m pip install --upgrade pip' command.\n"
     ]
    }
   ],
   "source": [
    "!pip install molmass"
   ],
   "metadata": {
    "collapsed": false,
    "pycharm": {
     "name": "#%%\n"
    }
   }
  },
  {
   "cell_type": "code",
   "execution_count": 3,
   "outputs": [],
   "source": [
    "raw_db = pd.read_excel('C:/projects/laboratory/Nanoparticle_cytotoxicity/databases/Merging_tables.xlsx')"
   ],
   "metadata": {
    "collapsed": false,
    "pycharm": {
     "name": "#%%\n"
    }
   }
  },
  {
   "cell_type": "code",
   "execution_count": 4,
   "outputs": [
    {
     "data": {
      "text/plain": "(8075, 57)"
     },
     "execution_count": 4,
     "metadata": {},
     "output_type": "execute_result"
    }
   ],
   "source": [
    "raw_db.shape"
   ],
   "metadata": {
    "collapsed": false,
    "pycharm": {
     "name": "#%%\n"
    }
   }
  },
  {
   "cell_type": "code",
   "execution_count": 5,
   "outputs": [
    {
     "data": {
      "text/plain": "                no         year  diameter (nm)  size in water (nm)  \\\ncount  4111.000000  7007.000000    6174.000000         2330.000000   \nmean   2056.000000  2013.229770      83.804872          161.317318   \nstd    1186.887807     3.494216     131.957048          157.079816   \nmin       1.000000  2004.000000       1.000000            0.040000   \n25%    1028.500000  2011.000000      18.000000           43.800000   \n50%    2056.000000  2013.000000      30.000000          112.700000   \n75%    3083.500000  2015.000000      99.000000          203.300000   \nmax    4111.000000  2020.000000     957.000000          889.030000   \n\n       size in medium (nm)  zeta in water (mV)  zeta in medium (mV)  \\\ncount          1989.000000         2487.000000          1670.000000   \nmean            201.079628          -10.793844           -11.847219   \nstd             202.080642           34.186789            15.778892   \nmin               1.900000         -158.000000           -63.310000   \n25%              77.000000          -33.330000           -20.670000   \n50%             142.000000          -17.600000           -11.600000   \n75%             222.000000           -2.200000            -7.700000   \nmax            1262.330000          256.000000            56.000000   \n\n       no of cells (cells/well)    time (hr)  concentration (ug/ml)  ...  \\\ncount               3684.000000  7581.000000            4957.000000  ...   \nmean               51227.415852    33.489118             128.845920  ...   \nstd               119087.964430    23.723869             496.336466  ...   \nmin                  300.000000     1.000000               0.000000  ...   \n25%                10000.000000    24.000000               5.000000  ...   \n50%                10000.000000    24.000000              25.000000  ...   \n75%                50000.000000    48.000000             100.000000  ...   \nmax              1000000.000000   336.000000           14015.200000  ...   \n\n       number of atoms  molecular weight (g/mol)  \\\ncount       494.000000                494.000000   \nmean          3.787449                179.658570   \nstd           1.305848                101.372104   \nmin           2.000000                 60.080000   \n25%           3.000000                 79.545000   \n50%           5.000000                159.690000   \n75%           5.000000                277.640000   \nmax           5.000000                362.500000   \n\n       topological polar surface area (Å²)       a (Å)       b (Å)  \\\ncount                            494.00000  494.000000  494.000000   \nmean                              34.68664    5.212664    5.713040   \nstd                               10.80140    2.642547    3.290484   \nmin                               17.10000    0.000000    0.000000   \n25%                               34.10000    4.171000    3.945000   \n50%                               43.40000    4.920000    5.028000   \n75%                               43.40000    5.410000    5.752000   \nmax                               43.40000   10.796000   12.460000   \n\n            c (Å)       α (°)       β (°)       γ (°)  density (g/cm3)  \ncount  494.000000  494.000000  494.000000  494.000000       494.000000  \nmean     7.090787   83.076923   83.596154   91.943320         5.798239  \nstd      3.784657   24.006552   24.252650   29.784024         2.210094  \nmin      0.000000    0.000000    0.000000    0.000000         0.000000  \n25%      5.132000   90.000000   90.000000   90.000000         5.070000  \n50%      5.420000   90.000000   90.000000   90.000000         6.310000  \n75%     10.118000   90.000000   90.000000  120.000000         6.750000  \nmax     13.728000   90.000000   99.500000  120.000000         9.970000  \n\n[8 rows x 35 columns]",
      "text/html": "<div>\n<style scoped>\n    .dataframe tbody tr th:only-of-type {\n        vertical-align: middle;\n    }\n\n    .dataframe tbody tr th {\n        vertical-align: top;\n    }\n\n    .dataframe thead th {\n        text-align: right;\n    }\n</style>\n<table border=\"1\" class=\"dataframe\">\n  <thead>\n    <tr style=\"text-align: right;\">\n      <th></th>\n      <th>no</th>\n      <th>year</th>\n      <th>diameter (nm)</th>\n      <th>size in water (nm)</th>\n      <th>size in medium (nm)</th>\n      <th>zeta in water (mV)</th>\n      <th>zeta in medium (mV)</th>\n      <th>no of cells (cells/well)</th>\n      <th>time (hr)</th>\n      <th>concentration (ug/ml)</th>\n      <th>...</th>\n      <th>number of atoms</th>\n      <th>molecular weight (g/mol)</th>\n      <th>topological polar surface area (Å²)</th>\n      <th>a (Å)</th>\n      <th>b (Å)</th>\n      <th>c (Å)</th>\n      <th>α (°)</th>\n      <th>β (°)</th>\n      <th>γ (°)</th>\n      <th>density (g/cm3)</th>\n    </tr>\n  </thead>\n  <tbody>\n    <tr>\n      <th>count</th>\n      <td>4111.000000</td>\n      <td>7007.000000</td>\n      <td>6174.000000</td>\n      <td>2330.000000</td>\n      <td>1989.000000</td>\n      <td>2487.000000</td>\n      <td>1670.000000</td>\n      <td>3684.000000</td>\n      <td>7581.000000</td>\n      <td>4957.000000</td>\n      <td>...</td>\n      <td>494.000000</td>\n      <td>494.000000</td>\n      <td>494.00000</td>\n      <td>494.000000</td>\n      <td>494.000000</td>\n      <td>494.000000</td>\n      <td>494.000000</td>\n      <td>494.000000</td>\n      <td>494.000000</td>\n      <td>494.000000</td>\n    </tr>\n    <tr>\n      <th>mean</th>\n      <td>2056.000000</td>\n      <td>2013.229770</td>\n      <td>83.804872</td>\n      <td>161.317318</td>\n      <td>201.079628</td>\n      <td>-10.793844</td>\n      <td>-11.847219</td>\n      <td>51227.415852</td>\n      <td>33.489118</td>\n      <td>128.845920</td>\n      <td>...</td>\n      <td>3.787449</td>\n      <td>179.658570</td>\n      <td>34.68664</td>\n      <td>5.212664</td>\n      <td>5.713040</td>\n      <td>7.090787</td>\n      <td>83.076923</td>\n      <td>83.596154</td>\n      <td>91.943320</td>\n      <td>5.798239</td>\n    </tr>\n    <tr>\n      <th>std</th>\n      <td>1186.887807</td>\n      <td>3.494216</td>\n      <td>131.957048</td>\n      <td>157.079816</td>\n      <td>202.080642</td>\n      <td>34.186789</td>\n      <td>15.778892</td>\n      <td>119087.964430</td>\n      <td>23.723869</td>\n      <td>496.336466</td>\n      <td>...</td>\n      <td>1.305848</td>\n      <td>101.372104</td>\n      <td>10.80140</td>\n      <td>2.642547</td>\n      <td>3.290484</td>\n      <td>3.784657</td>\n      <td>24.006552</td>\n      <td>24.252650</td>\n      <td>29.784024</td>\n      <td>2.210094</td>\n    </tr>\n    <tr>\n      <th>min</th>\n      <td>1.000000</td>\n      <td>2004.000000</td>\n      <td>1.000000</td>\n      <td>0.040000</td>\n      <td>1.900000</td>\n      <td>-158.000000</td>\n      <td>-63.310000</td>\n      <td>300.000000</td>\n      <td>1.000000</td>\n      <td>0.000000</td>\n      <td>...</td>\n      <td>2.000000</td>\n      <td>60.080000</td>\n      <td>17.10000</td>\n      <td>0.000000</td>\n      <td>0.000000</td>\n      <td>0.000000</td>\n      <td>0.000000</td>\n      <td>0.000000</td>\n      <td>0.000000</td>\n      <td>0.000000</td>\n    </tr>\n    <tr>\n      <th>25%</th>\n      <td>1028.500000</td>\n      <td>2011.000000</td>\n      <td>18.000000</td>\n      <td>43.800000</td>\n      <td>77.000000</td>\n      <td>-33.330000</td>\n      <td>-20.670000</td>\n      <td>10000.000000</td>\n      <td>24.000000</td>\n      <td>5.000000</td>\n      <td>...</td>\n      <td>3.000000</td>\n      <td>79.545000</td>\n      <td>34.10000</td>\n      <td>4.171000</td>\n      <td>3.945000</td>\n      <td>5.132000</td>\n      <td>90.000000</td>\n      <td>90.000000</td>\n      <td>90.000000</td>\n      <td>5.070000</td>\n    </tr>\n    <tr>\n      <th>50%</th>\n      <td>2056.000000</td>\n      <td>2013.000000</td>\n      <td>30.000000</td>\n      <td>112.700000</td>\n      <td>142.000000</td>\n      <td>-17.600000</td>\n      <td>-11.600000</td>\n      <td>10000.000000</td>\n      <td>24.000000</td>\n      <td>25.000000</td>\n      <td>...</td>\n      <td>5.000000</td>\n      <td>159.690000</td>\n      <td>43.40000</td>\n      <td>4.920000</td>\n      <td>5.028000</td>\n      <td>5.420000</td>\n      <td>90.000000</td>\n      <td>90.000000</td>\n      <td>90.000000</td>\n      <td>6.310000</td>\n    </tr>\n    <tr>\n      <th>75%</th>\n      <td>3083.500000</td>\n      <td>2015.000000</td>\n      <td>99.000000</td>\n      <td>203.300000</td>\n      <td>222.000000</td>\n      <td>-2.200000</td>\n      <td>-7.700000</td>\n      <td>50000.000000</td>\n      <td>48.000000</td>\n      <td>100.000000</td>\n      <td>...</td>\n      <td>5.000000</td>\n      <td>277.640000</td>\n      <td>43.40000</td>\n      <td>5.410000</td>\n      <td>5.752000</td>\n      <td>10.118000</td>\n      <td>90.000000</td>\n      <td>90.000000</td>\n      <td>120.000000</td>\n      <td>6.750000</td>\n    </tr>\n    <tr>\n      <th>max</th>\n      <td>4111.000000</td>\n      <td>2020.000000</td>\n      <td>957.000000</td>\n      <td>889.030000</td>\n      <td>1262.330000</td>\n      <td>256.000000</td>\n      <td>56.000000</td>\n      <td>1000000.000000</td>\n      <td>336.000000</td>\n      <td>14015.200000</td>\n      <td>...</td>\n      <td>5.000000</td>\n      <td>362.500000</td>\n      <td>43.40000</td>\n      <td>10.796000</td>\n      <td>12.460000</td>\n      <td>13.728000</td>\n      <td>90.000000</td>\n      <td>99.500000</td>\n      <td>120.000000</td>\n      <td>9.970000</td>\n    </tr>\n  </tbody>\n</table>\n<p>8 rows × 35 columns</p>\n</div>"
     },
     "execution_count": 5,
     "metadata": {},
     "output_type": "execute_result"
    }
   ],
   "source": [
    "raw_db.describe()"
   ],
   "metadata": {
    "collapsed": false,
    "pycharm": {
     "name": "#%%\n"
    }
   }
  },
  {
   "cell_type": "code",
   "execution_count": 6,
   "outputs": [
    {
     "data": {
      "text/plain": "       no    year material type   shape coat/functional group synthesismethod  \\\n0     1.0  2015.0     SiO2    I  Sphere                  CTAB   Precipitation   \n1     2.0  2015.0     SiO2    I  Sphere                  CTAB   Precipitation   \n2     3.0  2015.0     SiO2    I  Sphere                  CTAB   Precipitation   \n3     4.0  2015.0     SiO2    I  Sphere                  CTAB   Precipitation   \n4     5.0  2015.0     SiO2    I  Sphere                  CTAB   Precipitation   \n...   ...     ...      ...  ...     ...                   ...             ...   \n8070  NaN     NaN      NiO  NaN     NaN                   NaN             NaN   \n8071  NaN     NaN      NiO  NaN     NaN                   NaN             NaN   \n8072  NaN     NaN    Sb2O3  NaN     NaN                   NaN             NaN   \n8073  NaN     NaN    Sb2O3  NaN     NaN                   NaN             NaN   \n8074  NaN     NaN      ZnO  NaN     NaN                   NaN             NaN   \n\n     surface charge  diameter (nm)  size in water (nm)  ...  number of atoms  \\\n0          Negative            NaN               386.9  ...              NaN   \n1          Negative            NaN               386.9  ...              NaN   \n2          Negative            NaN               386.9  ...              NaN   \n3          Negative            NaN               386.9  ...              NaN   \n4          Negative            NaN               386.9  ...              NaN   \n...             ...            ...                 ...  ...              ...   \n8070           27.6            NaN                 NaN  ...              2.0   \n8071           27.6            NaN                 NaN  ...              2.0   \n8072          -35.3            NaN                 NaN  ...              5.0   \n8073          -35.3            NaN                 NaN  ...              5.0   \n8074           28.8            NaN                 NaN  ...              2.0   \n\n      molecular weight (g/mol)  topological polar surface area (Å²)  a (Å)  \\\n0                          NaN                                  NaN    NaN   \n1                          NaN                                  NaN    NaN   \n2                          NaN                                  NaN    NaN   \n3                          NaN                                  NaN    NaN   \n4                          NaN                                  NaN    NaN   \n...                        ...                                  ...    ...   \n8070                   74.6928                                 17.1  4.171   \n8071                   74.6928                                 17.1  4.171   \n8072                  291.5200                                 43.4  4.920   \n8073                  291.5200                                 43.4  4.920   \n8074                   81.3800                                 17.1  3.249   \n\n       b (Å)  c (Å) α (°) β (°)  γ (°) density (g/cm3)  \n0        NaN    NaN   NaN   NaN    NaN             NaN  \n1        NaN    NaN   NaN   NaN    NaN             NaN  \n2        NaN    NaN   NaN   NaN    NaN             NaN  \n3        NaN    NaN   NaN   NaN    NaN             NaN  \n4        NaN    NaN   NaN   NaN    NaN             NaN  \n...      ...    ...   ...   ...    ...             ...  \n8070   4.171  4.171  90.0  90.0   90.0            6.62  \n8071   4.171  4.171  90.0  90.0   90.0            6.62  \n8072  12.460  5.420  90.0  90.0   90.0            5.36  \n8073  12.460  5.420  90.0  90.0   90.0            5.36  \n8074   3.249  5.206  90.0  90.0  120.0            5.44  \n\n[8075 rows x 57 columns]",
      "text/html": "<div>\n<style scoped>\n    .dataframe tbody tr th:only-of-type {\n        vertical-align: middle;\n    }\n\n    .dataframe tbody tr th {\n        vertical-align: top;\n    }\n\n    .dataframe thead th {\n        text-align: right;\n    }\n</style>\n<table border=\"1\" class=\"dataframe\">\n  <thead>\n    <tr style=\"text-align: right;\">\n      <th></th>\n      <th>no</th>\n      <th>year</th>\n      <th>material</th>\n      <th>type</th>\n      <th>shape</th>\n      <th>coat/functional group</th>\n      <th>synthesismethod</th>\n      <th>surface charge</th>\n      <th>diameter (nm)</th>\n      <th>size in water (nm)</th>\n      <th>...</th>\n      <th>number of atoms</th>\n      <th>molecular weight (g/mol)</th>\n      <th>topological polar surface area (Å²)</th>\n      <th>a (Å)</th>\n      <th>b (Å)</th>\n      <th>c (Å)</th>\n      <th>α (°)</th>\n      <th>β (°)</th>\n      <th>γ (°)</th>\n      <th>density (g/cm3)</th>\n    </tr>\n  </thead>\n  <tbody>\n    <tr>\n      <th>0</th>\n      <td>1.0</td>\n      <td>2015.0</td>\n      <td>SiO2</td>\n      <td>I</td>\n      <td>Sphere</td>\n      <td>CTAB</td>\n      <td>Precipitation</td>\n      <td>Negative</td>\n      <td>NaN</td>\n      <td>386.9</td>\n      <td>...</td>\n      <td>NaN</td>\n      <td>NaN</td>\n      <td>NaN</td>\n      <td>NaN</td>\n      <td>NaN</td>\n      <td>NaN</td>\n      <td>NaN</td>\n      <td>NaN</td>\n      <td>NaN</td>\n      <td>NaN</td>\n    </tr>\n    <tr>\n      <th>1</th>\n      <td>2.0</td>\n      <td>2015.0</td>\n      <td>SiO2</td>\n      <td>I</td>\n      <td>Sphere</td>\n      <td>CTAB</td>\n      <td>Precipitation</td>\n      <td>Negative</td>\n      <td>NaN</td>\n      <td>386.9</td>\n      <td>...</td>\n      <td>NaN</td>\n      <td>NaN</td>\n      <td>NaN</td>\n      <td>NaN</td>\n      <td>NaN</td>\n      <td>NaN</td>\n      <td>NaN</td>\n      <td>NaN</td>\n      <td>NaN</td>\n      <td>NaN</td>\n    </tr>\n    <tr>\n      <th>2</th>\n      <td>3.0</td>\n      <td>2015.0</td>\n      <td>SiO2</td>\n      <td>I</td>\n      <td>Sphere</td>\n      <td>CTAB</td>\n      <td>Precipitation</td>\n      <td>Negative</td>\n      <td>NaN</td>\n      <td>386.9</td>\n      <td>...</td>\n      <td>NaN</td>\n      <td>NaN</td>\n      <td>NaN</td>\n      <td>NaN</td>\n      <td>NaN</td>\n      <td>NaN</td>\n      <td>NaN</td>\n      <td>NaN</td>\n      <td>NaN</td>\n      <td>NaN</td>\n    </tr>\n    <tr>\n      <th>3</th>\n      <td>4.0</td>\n      <td>2015.0</td>\n      <td>SiO2</td>\n      <td>I</td>\n      <td>Sphere</td>\n      <td>CTAB</td>\n      <td>Precipitation</td>\n      <td>Negative</td>\n      <td>NaN</td>\n      <td>386.9</td>\n      <td>...</td>\n      <td>NaN</td>\n      <td>NaN</td>\n      <td>NaN</td>\n      <td>NaN</td>\n      <td>NaN</td>\n      <td>NaN</td>\n      <td>NaN</td>\n      <td>NaN</td>\n      <td>NaN</td>\n      <td>NaN</td>\n    </tr>\n    <tr>\n      <th>4</th>\n      <td>5.0</td>\n      <td>2015.0</td>\n      <td>SiO2</td>\n      <td>I</td>\n      <td>Sphere</td>\n      <td>CTAB</td>\n      <td>Precipitation</td>\n      <td>Negative</td>\n      <td>NaN</td>\n      <td>386.9</td>\n      <td>...</td>\n      <td>NaN</td>\n      <td>NaN</td>\n      <td>NaN</td>\n      <td>NaN</td>\n      <td>NaN</td>\n      <td>NaN</td>\n      <td>NaN</td>\n      <td>NaN</td>\n      <td>NaN</td>\n      <td>NaN</td>\n    </tr>\n    <tr>\n      <th>...</th>\n      <td>...</td>\n      <td>...</td>\n      <td>...</td>\n      <td>...</td>\n      <td>...</td>\n      <td>...</td>\n      <td>...</td>\n      <td>...</td>\n      <td>...</td>\n      <td>...</td>\n      <td>...</td>\n      <td>...</td>\n      <td>...</td>\n      <td>...</td>\n      <td>...</td>\n      <td>...</td>\n      <td>...</td>\n      <td>...</td>\n      <td>...</td>\n      <td>...</td>\n      <td>...</td>\n    </tr>\n    <tr>\n      <th>8070</th>\n      <td>NaN</td>\n      <td>NaN</td>\n      <td>NiO</td>\n      <td>NaN</td>\n      <td>NaN</td>\n      <td>NaN</td>\n      <td>NaN</td>\n      <td>27.6</td>\n      <td>NaN</td>\n      <td>NaN</td>\n      <td>...</td>\n      <td>2.0</td>\n      <td>74.6928</td>\n      <td>17.1</td>\n      <td>4.171</td>\n      <td>4.171</td>\n      <td>4.171</td>\n      <td>90.0</td>\n      <td>90.0</td>\n      <td>90.0</td>\n      <td>6.62</td>\n    </tr>\n    <tr>\n      <th>8071</th>\n      <td>NaN</td>\n      <td>NaN</td>\n      <td>NiO</td>\n      <td>NaN</td>\n      <td>NaN</td>\n      <td>NaN</td>\n      <td>NaN</td>\n      <td>27.6</td>\n      <td>NaN</td>\n      <td>NaN</td>\n      <td>...</td>\n      <td>2.0</td>\n      <td>74.6928</td>\n      <td>17.1</td>\n      <td>4.171</td>\n      <td>4.171</td>\n      <td>4.171</td>\n      <td>90.0</td>\n      <td>90.0</td>\n      <td>90.0</td>\n      <td>6.62</td>\n    </tr>\n    <tr>\n      <th>8072</th>\n      <td>NaN</td>\n      <td>NaN</td>\n      <td>Sb2O3</td>\n      <td>NaN</td>\n      <td>NaN</td>\n      <td>NaN</td>\n      <td>NaN</td>\n      <td>-35.3</td>\n      <td>NaN</td>\n      <td>NaN</td>\n      <td>...</td>\n      <td>5.0</td>\n      <td>291.5200</td>\n      <td>43.4</td>\n      <td>4.920</td>\n      <td>12.460</td>\n      <td>5.420</td>\n      <td>90.0</td>\n      <td>90.0</td>\n      <td>90.0</td>\n      <td>5.36</td>\n    </tr>\n    <tr>\n      <th>8073</th>\n      <td>NaN</td>\n      <td>NaN</td>\n      <td>Sb2O3</td>\n      <td>NaN</td>\n      <td>NaN</td>\n      <td>NaN</td>\n      <td>NaN</td>\n      <td>-35.3</td>\n      <td>NaN</td>\n      <td>NaN</td>\n      <td>...</td>\n      <td>5.0</td>\n      <td>291.5200</td>\n      <td>43.4</td>\n      <td>4.920</td>\n      <td>12.460</td>\n      <td>5.420</td>\n      <td>90.0</td>\n      <td>90.0</td>\n      <td>90.0</td>\n      <td>5.36</td>\n    </tr>\n    <tr>\n      <th>8074</th>\n      <td>NaN</td>\n      <td>NaN</td>\n      <td>ZnO</td>\n      <td>NaN</td>\n      <td>NaN</td>\n      <td>NaN</td>\n      <td>NaN</td>\n      <td>28.8</td>\n      <td>NaN</td>\n      <td>NaN</td>\n      <td>...</td>\n      <td>2.0</td>\n      <td>81.3800</td>\n      <td>17.1</td>\n      <td>3.249</td>\n      <td>3.249</td>\n      <td>5.206</td>\n      <td>90.0</td>\n      <td>90.0</td>\n      <td>120.0</td>\n      <td>5.44</td>\n    </tr>\n  </tbody>\n</table>\n<p>8075 rows × 57 columns</p>\n</div>"
     },
     "execution_count": 6,
     "metadata": {},
     "output_type": "execute_result"
    }
   ],
   "source": [
    "raw_db"
   ],
   "metadata": {
    "collapsed": false,
    "pycharm": {
     "name": "#%%\n"
    }
   }
  },
  {
   "cell_type": "code",
   "execution_count": 7,
   "outputs": [],
   "source": [
    "raw_db = raw_db.drop(['no',\n",
    "                      'year',\n",
    "                      'Hsf',\n",
    "                      'Ec',\n",
    "                      'Ev',\n",
    "                      'MeO',\n",
    "                      'interference checked (Y/N)',\n",
    "                      'colloidal stability checked (Y/N)',\n",
    "                      'positive control (Y/N)',\n",
    "                      'biochemical metric',\n",
    "                      'Electronegativity',\n",
    "                      'Ionic radius',\n",
    "                      'number of atoms',\n",
    "                      'molecular weight (g/mol)',\n",
    "                      'topological polar surface area (Å²)',\n",
    "                      'toxicity',\n",
    "                      'a (Å)',\n",
    "                      'b (Å)',\n",
    "                      'c (Å)',\n",
    "                      'α (°)',\n",
    "                      'β (°)',\n",
    "                      'γ (°)',\n",
    "                      'density (g/cm3)',\n",
    "                      'article ID'], axis=1)"
   ],
   "metadata": {
    "collapsed": false,
    "pycharm": {
     "name": "#%%\n"
    }
   }
  },
  {
   "cell_type": "code",
   "execution_count": 8,
   "outputs": [
    {
     "data": {
      "text/plain": "       diameter (nm)  size in water (nm)  size in medium (nm)  \\\ncount    6174.000000         2330.000000          1989.000000   \nmean       83.804872          161.317318           201.079628   \nstd       131.957048          157.079816           202.080642   \nmin         1.000000            0.040000             1.900000   \n25%        18.000000           43.800000            77.000000   \n50%        30.000000          112.700000           142.000000   \n75%        99.000000          203.300000           222.000000   \nmax       957.000000          889.030000          1262.330000   \n\n       zeta in water (mV)  zeta in medium (mV)  no of cells (cells/well)  \\\ncount         2487.000000          1670.000000               3684.000000   \nmean           -10.793844           -11.847219              51227.415852   \nstd             34.186789            15.778892             119087.964430   \nmin           -158.000000           -63.310000                300.000000   \n25%            -33.330000           -20.670000              10000.000000   \n50%            -17.600000           -11.600000              10000.000000   \n75%             -2.200000            -7.700000              50000.000000   \nmax            256.000000            56.000000            1000000.000000   \n\n         time (hr)  concentration (ug/ml)  aspect ratio  viability (%)  \\\ncount  7581.000000            4957.000000    380.000000    8075.000000   \nmean     33.489118             128.845920    147.247079      76.211737   \nstd      23.723869             496.336466    493.111329      31.658323   \nmin       1.000000               0.000000      0.100000     -58.897640   \n25%      24.000000               5.000000      3.525000      59.460191   \n50%      24.000000              25.000000     11.800000      86.980000   \n75%      48.000000             100.000000     37.900000      97.304709   \nmax     336.000000           14015.200000   3333.000000     404.811700   \n\n               PDI  zeta potential (mV)  concentration (μM)  core size (nm)  \\\ncount  1000.000000          1261.000000        2.896000e+03     1068.000000   \nmean      0.330952            -1.963933        8.574635e+01       40.319850   \nstd       0.249619            28.925259        7.979487e+02       35.743746   \nmin       0.005000           -48.000000        1.660539e-20        5.900000   \n25%       0.148000           -27.000000        2.500000e-06       18.300000   \n50%       0.241000            -8.000000        5.000000e-04       28.400000   \n75%       0.518000            17.700000        1.054755e-02       50.000000   \nmax       0.895000            87.000000        1.500000e+04      369.000000   \n\n       hydro size (nm)  surface area  \ncount      1068.000000    1068.00000  \nmean        370.504588      86.42603  \nstd         320.034182     133.12824  \nmin          46.400000       7.00000  \n25%         208.300000      21.80000  \n50%         273.400000      42.50000  \n75%         331.250000      93.10000  \nmax        1843.000000     640.00000  ",
      "text/html": "<div>\n<style scoped>\n    .dataframe tbody tr th:only-of-type {\n        vertical-align: middle;\n    }\n\n    .dataframe tbody tr th {\n        vertical-align: top;\n    }\n\n    .dataframe thead th {\n        text-align: right;\n    }\n</style>\n<table border=\"1\" class=\"dataframe\">\n  <thead>\n    <tr style=\"text-align: right;\">\n      <th></th>\n      <th>diameter (nm)</th>\n      <th>size in water (nm)</th>\n      <th>size in medium (nm)</th>\n      <th>zeta in water (mV)</th>\n      <th>zeta in medium (mV)</th>\n      <th>no of cells (cells/well)</th>\n      <th>time (hr)</th>\n      <th>concentration (ug/ml)</th>\n      <th>aspect ratio</th>\n      <th>viability (%)</th>\n      <th>PDI</th>\n      <th>zeta potential (mV)</th>\n      <th>concentration (μM)</th>\n      <th>core size (nm)</th>\n      <th>hydro size (nm)</th>\n      <th>surface area</th>\n    </tr>\n  </thead>\n  <tbody>\n    <tr>\n      <th>count</th>\n      <td>6174.000000</td>\n      <td>2330.000000</td>\n      <td>1989.000000</td>\n      <td>2487.000000</td>\n      <td>1670.000000</td>\n      <td>3684.000000</td>\n      <td>7581.000000</td>\n      <td>4957.000000</td>\n      <td>380.000000</td>\n      <td>8075.000000</td>\n      <td>1000.000000</td>\n      <td>1261.000000</td>\n      <td>2.896000e+03</td>\n      <td>1068.000000</td>\n      <td>1068.000000</td>\n      <td>1068.00000</td>\n    </tr>\n    <tr>\n      <th>mean</th>\n      <td>83.804872</td>\n      <td>161.317318</td>\n      <td>201.079628</td>\n      <td>-10.793844</td>\n      <td>-11.847219</td>\n      <td>51227.415852</td>\n      <td>33.489118</td>\n      <td>128.845920</td>\n      <td>147.247079</td>\n      <td>76.211737</td>\n      <td>0.330952</td>\n      <td>-1.963933</td>\n      <td>8.574635e+01</td>\n      <td>40.319850</td>\n      <td>370.504588</td>\n      <td>86.42603</td>\n    </tr>\n    <tr>\n      <th>std</th>\n      <td>131.957048</td>\n      <td>157.079816</td>\n      <td>202.080642</td>\n      <td>34.186789</td>\n      <td>15.778892</td>\n      <td>119087.964430</td>\n      <td>23.723869</td>\n      <td>496.336466</td>\n      <td>493.111329</td>\n      <td>31.658323</td>\n      <td>0.249619</td>\n      <td>28.925259</td>\n      <td>7.979487e+02</td>\n      <td>35.743746</td>\n      <td>320.034182</td>\n      <td>133.12824</td>\n    </tr>\n    <tr>\n      <th>min</th>\n      <td>1.000000</td>\n      <td>0.040000</td>\n      <td>1.900000</td>\n      <td>-158.000000</td>\n      <td>-63.310000</td>\n      <td>300.000000</td>\n      <td>1.000000</td>\n      <td>0.000000</td>\n      <td>0.100000</td>\n      <td>-58.897640</td>\n      <td>0.005000</td>\n      <td>-48.000000</td>\n      <td>1.660539e-20</td>\n      <td>5.900000</td>\n      <td>46.400000</td>\n      <td>7.00000</td>\n    </tr>\n    <tr>\n      <th>25%</th>\n      <td>18.000000</td>\n      <td>43.800000</td>\n      <td>77.000000</td>\n      <td>-33.330000</td>\n      <td>-20.670000</td>\n      <td>10000.000000</td>\n      <td>24.000000</td>\n      <td>5.000000</td>\n      <td>3.525000</td>\n      <td>59.460191</td>\n      <td>0.148000</td>\n      <td>-27.000000</td>\n      <td>2.500000e-06</td>\n      <td>18.300000</td>\n      <td>208.300000</td>\n      <td>21.80000</td>\n    </tr>\n    <tr>\n      <th>50%</th>\n      <td>30.000000</td>\n      <td>112.700000</td>\n      <td>142.000000</td>\n      <td>-17.600000</td>\n      <td>-11.600000</td>\n      <td>10000.000000</td>\n      <td>24.000000</td>\n      <td>25.000000</td>\n      <td>11.800000</td>\n      <td>86.980000</td>\n      <td>0.241000</td>\n      <td>-8.000000</td>\n      <td>5.000000e-04</td>\n      <td>28.400000</td>\n      <td>273.400000</td>\n      <td>42.50000</td>\n    </tr>\n    <tr>\n      <th>75%</th>\n      <td>99.000000</td>\n      <td>203.300000</td>\n      <td>222.000000</td>\n      <td>-2.200000</td>\n      <td>-7.700000</td>\n      <td>50000.000000</td>\n      <td>48.000000</td>\n      <td>100.000000</td>\n      <td>37.900000</td>\n      <td>97.304709</td>\n      <td>0.518000</td>\n      <td>17.700000</td>\n      <td>1.054755e-02</td>\n      <td>50.000000</td>\n      <td>331.250000</td>\n      <td>93.10000</td>\n    </tr>\n    <tr>\n      <th>max</th>\n      <td>957.000000</td>\n      <td>889.030000</td>\n      <td>1262.330000</td>\n      <td>256.000000</td>\n      <td>56.000000</td>\n      <td>1000000.000000</td>\n      <td>336.000000</td>\n      <td>14015.200000</td>\n      <td>3333.000000</td>\n      <td>404.811700</td>\n      <td>0.895000</td>\n      <td>87.000000</td>\n      <td>1.500000e+04</td>\n      <td>369.000000</td>\n      <td>1843.000000</td>\n      <td>640.00000</td>\n    </tr>\n  </tbody>\n</table>\n</div>"
     },
     "execution_count": 8,
     "metadata": {},
     "output_type": "execute_result"
    }
   ],
   "source": [
    "raw_db.describe()"
   ],
   "metadata": {
    "collapsed": false,
    "pycharm": {
     "name": "#%%\n"
    }
   }
  },
  {
   "cell_type": "code",
   "execution_count": 9,
   "outputs": [
    {
     "data": {
      "text/plain": "     material type   shape coat/functional group synthesismethod  \\\n0        SiO2    I  Sphere                  CTAB   Precipitation   \n1        SiO2    I  Sphere                  CTAB   Precipitation   \n2        SiO2    I  Sphere                  CTAB   Precipitation   \n3        SiO2    I  Sphere                  CTAB   Precipitation   \n4        SiO2    I  Sphere                  CTAB   Precipitation   \n...       ...  ...     ...                   ...             ...   \n8070      NiO  NaN     NaN                   NaN             NaN   \n8071      NiO  NaN     NaN                   NaN             NaN   \n8072    Sb2O3  NaN     NaN                   NaN             NaN   \n8073    Sb2O3  NaN     NaN                   NaN             NaN   \n8074      ZnO  NaN     NaN                   NaN             NaN   \n\n     surface charge  diameter (nm)  size in water (nm)  size in medium (nm)  \\\n0          Negative            NaN               386.9                90.09   \n1          Negative            NaN               386.9                90.09   \n2          Negative            NaN               386.9                90.09   \n3          Negative            NaN               386.9                90.09   \n4          Negative            NaN               386.9                90.09   \n...             ...            ...                 ...                  ...   \n8070           27.6            NaN                 NaN                  NaN   \n8071           27.6            NaN                 NaN                  NaN   \n8072          -35.3            NaN                 NaN                  NaN   \n8073          -35.3            NaN                 NaN                  NaN   \n8074           28.8            NaN                 NaN                  NaN   \n\n      zeta in water (mV)  ...  aspect ratio viability (%)  PDI  \\\n0                  -35.9  ...           NaN       113.670  NaN   \n1                  -35.9  ...           NaN        97.265  NaN   \n2                  -35.9  ...           NaN       108.730  NaN   \n3                  -35.9  ...           NaN        98.451  NaN   \n4                  -35.9  ...           NaN        98.056  NaN   \n...                  ...  ...           ...           ...  ...   \n8070                 NaN  ...           NaN        99.000  NaN   \n8071                 NaN  ...           NaN        99.000  NaN   \n8072                 NaN  ...           NaN        99.000  NaN   \n8073                 NaN  ...           NaN        99.000  NaN   \n8074                 NaN  ...           NaN        99.700  NaN   \n\n                                DOI zeta potential (mV) concentration (μM)  \\\n0     10.3109/15376516.2015.1070229                 NaN                NaN   \n1     10.3109/15376516.2015.1070229                 NaN                NaN   \n2     10.3109/15376516.2015.1070229                 NaN                NaN   \n3     10.3109/15376516.2015.1070229                 NaN                NaN   \n4     10.3109/15376516.2015.1070229                 NaN                NaN   \n...                             ...                 ...                ...   \n8070                            NaN                 NaN                NaN   \n8071                            NaN                 NaN                NaN   \n8072                            NaN                 NaN                NaN   \n8073                            NaN                 NaN                NaN   \n8074                            NaN                 NaN                NaN   \n\n     core size (nm) hydro size (nm) surface area  cell type.1  \n0               NaN             NaN          NaN          NaN  \n1               NaN             NaN          NaN          NaN  \n2               NaN             NaN          NaN          NaN  \n3               NaN             NaN          NaN          NaN  \n4               NaN             NaN          NaN          NaN  \n...             ...             ...          ...          ...  \n8070           13.1           189.5         68.7          NaN  \n8071           13.1           189.5         68.7          NaN  \n8072           11.8           274.9         93.6          NaN  \n8073           11.8           274.9         93.6          NaN  \n8074           22.6            69.4         47.4          NaN  \n\n[8075 rows x 33 columns]",
      "text/html": "<div>\n<style scoped>\n    .dataframe tbody tr th:only-of-type {\n        vertical-align: middle;\n    }\n\n    .dataframe tbody tr th {\n        vertical-align: top;\n    }\n\n    .dataframe thead th {\n        text-align: right;\n    }\n</style>\n<table border=\"1\" class=\"dataframe\">\n  <thead>\n    <tr style=\"text-align: right;\">\n      <th></th>\n      <th>material</th>\n      <th>type</th>\n      <th>shape</th>\n      <th>coat/functional group</th>\n      <th>synthesismethod</th>\n      <th>surface charge</th>\n      <th>diameter (nm)</th>\n      <th>size in water (nm)</th>\n      <th>size in medium (nm)</th>\n      <th>zeta in water (mV)</th>\n      <th>...</th>\n      <th>aspect ratio</th>\n      <th>viability (%)</th>\n      <th>PDI</th>\n      <th>DOI</th>\n      <th>zeta potential (mV)</th>\n      <th>concentration (μM)</th>\n      <th>core size (nm)</th>\n      <th>hydro size (nm)</th>\n      <th>surface area</th>\n      <th>cell type.1</th>\n    </tr>\n  </thead>\n  <tbody>\n    <tr>\n      <th>0</th>\n      <td>SiO2</td>\n      <td>I</td>\n      <td>Sphere</td>\n      <td>CTAB</td>\n      <td>Precipitation</td>\n      <td>Negative</td>\n      <td>NaN</td>\n      <td>386.9</td>\n      <td>90.09</td>\n      <td>-35.9</td>\n      <td>...</td>\n      <td>NaN</td>\n      <td>113.670</td>\n      <td>NaN</td>\n      <td>10.3109/15376516.2015.1070229</td>\n      <td>NaN</td>\n      <td>NaN</td>\n      <td>NaN</td>\n      <td>NaN</td>\n      <td>NaN</td>\n      <td>NaN</td>\n    </tr>\n    <tr>\n      <th>1</th>\n      <td>SiO2</td>\n      <td>I</td>\n      <td>Sphere</td>\n      <td>CTAB</td>\n      <td>Precipitation</td>\n      <td>Negative</td>\n      <td>NaN</td>\n      <td>386.9</td>\n      <td>90.09</td>\n      <td>-35.9</td>\n      <td>...</td>\n      <td>NaN</td>\n      <td>97.265</td>\n      <td>NaN</td>\n      <td>10.3109/15376516.2015.1070229</td>\n      <td>NaN</td>\n      <td>NaN</td>\n      <td>NaN</td>\n      <td>NaN</td>\n      <td>NaN</td>\n      <td>NaN</td>\n    </tr>\n    <tr>\n      <th>2</th>\n      <td>SiO2</td>\n      <td>I</td>\n      <td>Sphere</td>\n      <td>CTAB</td>\n      <td>Precipitation</td>\n      <td>Negative</td>\n      <td>NaN</td>\n      <td>386.9</td>\n      <td>90.09</td>\n      <td>-35.9</td>\n      <td>...</td>\n      <td>NaN</td>\n      <td>108.730</td>\n      <td>NaN</td>\n      <td>10.3109/15376516.2015.1070229</td>\n      <td>NaN</td>\n      <td>NaN</td>\n      <td>NaN</td>\n      <td>NaN</td>\n      <td>NaN</td>\n      <td>NaN</td>\n    </tr>\n    <tr>\n      <th>3</th>\n      <td>SiO2</td>\n      <td>I</td>\n      <td>Sphere</td>\n      <td>CTAB</td>\n      <td>Precipitation</td>\n      <td>Negative</td>\n      <td>NaN</td>\n      <td>386.9</td>\n      <td>90.09</td>\n      <td>-35.9</td>\n      <td>...</td>\n      <td>NaN</td>\n      <td>98.451</td>\n      <td>NaN</td>\n      <td>10.3109/15376516.2015.1070229</td>\n      <td>NaN</td>\n      <td>NaN</td>\n      <td>NaN</td>\n      <td>NaN</td>\n      <td>NaN</td>\n      <td>NaN</td>\n    </tr>\n    <tr>\n      <th>4</th>\n      <td>SiO2</td>\n      <td>I</td>\n      <td>Sphere</td>\n      <td>CTAB</td>\n      <td>Precipitation</td>\n      <td>Negative</td>\n      <td>NaN</td>\n      <td>386.9</td>\n      <td>90.09</td>\n      <td>-35.9</td>\n      <td>...</td>\n      <td>NaN</td>\n      <td>98.056</td>\n      <td>NaN</td>\n      <td>10.3109/15376516.2015.1070229</td>\n      <td>NaN</td>\n      <td>NaN</td>\n      <td>NaN</td>\n      <td>NaN</td>\n      <td>NaN</td>\n      <td>NaN</td>\n    </tr>\n    <tr>\n      <th>...</th>\n      <td>...</td>\n      <td>...</td>\n      <td>...</td>\n      <td>...</td>\n      <td>...</td>\n      <td>...</td>\n      <td>...</td>\n      <td>...</td>\n      <td>...</td>\n      <td>...</td>\n      <td>...</td>\n      <td>...</td>\n      <td>...</td>\n      <td>...</td>\n      <td>...</td>\n      <td>...</td>\n      <td>...</td>\n      <td>...</td>\n      <td>...</td>\n      <td>...</td>\n      <td>...</td>\n    </tr>\n    <tr>\n      <th>8070</th>\n      <td>NiO</td>\n      <td>NaN</td>\n      <td>NaN</td>\n      <td>NaN</td>\n      <td>NaN</td>\n      <td>27.6</td>\n      <td>NaN</td>\n      <td>NaN</td>\n      <td>NaN</td>\n      <td>NaN</td>\n      <td>...</td>\n      <td>NaN</td>\n      <td>99.000</td>\n      <td>NaN</td>\n      <td>NaN</td>\n      <td>NaN</td>\n      <td>NaN</td>\n      <td>13.1</td>\n      <td>189.5</td>\n      <td>68.7</td>\n      <td>NaN</td>\n    </tr>\n    <tr>\n      <th>8071</th>\n      <td>NiO</td>\n      <td>NaN</td>\n      <td>NaN</td>\n      <td>NaN</td>\n      <td>NaN</td>\n      <td>27.6</td>\n      <td>NaN</td>\n      <td>NaN</td>\n      <td>NaN</td>\n      <td>NaN</td>\n      <td>...</td>\n      <td>NaN</td>\n      <td>99.000</td>\n      <td>NaN</td>\n      <td>NaN</td>\n      <td>NaN</td>\n      <td>NaN</td>\n      <td>13.1</td>\n      <td>189.5</td>\n      <td>68.7</td>\n      <td>NaN</td>\n    </tr>\n    <tr>\n      <th>8072</th>\n      <td>Sb2O3</td>\n      <td>NaN</td>\n      <td>NaN</td>\n      <td>NaN</td>\n      <td>NaN</td>\n      <td>-35.3</td>\n      <td>NaN</td>\n      <td>NaN</td>\n      <td>NaN</td>\n      <td>NaN</td>\n      <td>...</td>\n      <td>NaN</td>\n      <td>99.000</td>\n      <td>NaN</td>\n      <td>NaN</td>\n      <td>NaN</td>\n      <td>NaN</td>\n      <td>11.8</td>\n      <td>274.9</td>\n      <td>93.6</td>\n      <td>NaN</td>\n    </tr>\n    <tr>\n      <th>8073</th>\n      <td>Sb2O3</td>\n      <td>NaN</td>\n      <td>NaN</td>\n      <td>NaN</td>\n      <td>NaN</td>\n      <td>-35.3</td>\n      <td>NaN</td>\n      <td>NaN</td>\n      <td>NaN</td>\n      <td>NaN</td>\n      <td>...</td>\n      <td>NaN</td>\n      <td>99.000</td>\n      <td>NaN</td>\n      <td>NaN</td>\n      <td>NaN</td>\n      <td>NaN</td>\n      <td>11.8</td>\n      <td>274.9</td>\n      <td>93.6</td>\n      <td>NaN</td>\n    </tr>\n    <tr>\n      <th>8074</th>\n      <td>ZnO</td>\n      <td>NaN</td>\n      <td>NaN</td>\n      <td>NaN</td>\n      <td>NaN</td>\n      <td>28.8</td>\n      <td>NaN</td>\n      <td>NaN</td>\n      <td>NaN</td>\n      <td>NaN</td>\n      <td>...</td>\n      <td>NaN</td>\n      <td>99.700</td>\n      <td>NaN</td>\n      <td>NaN</td>\n      <td>NaN</td>\n      <td>NaN</td>\n      <td>22.6</td>\n      <td>69.4</td>\n      <td>47.4</td>\n      <td>NaN</td>\n    </tr>\n  </tbody>\n</table>\n<p>8075 rows × 33 columns</p>\n</div>"
     },
     "execution_count": 9,
     "metadata": {},
     "output_type": "execute_result"
    }
   ],
   "source": [
    "raw_db"
   ],
   "metadata": {
    "collapsed": false,
    "pycharm": {
     "name": "#%%\n"
    }
   }
  },
  {
   "cell_type": "code",
   "execution_count": 10,
   "outputs": [],
   "source": [
    "raw_db = raw_db[raw_db.type != 'O']"
   ],
   "metadata": {
    "collapsed": false,
    "pycharm": {
     "name": "#%%\n"
    }
   }
  },
  {
   "cell_type": "code",
   "execution_count": 11,
   "outputs": [
    {
     "data": {
      "text/plain": "     material type   shape coat/functional group synthesismethod  \\\n0        SiO2    I  Sphere                  CTAB   Precipitation   \n1        SiO2    I  Sphere                  CTAB   Precipitation   \n2        SiO2    I  Sphere                  CTAB   Precipitation   \n3        SiO2    I  Sphere                  CTAB   Precipitation   \n4        SiO2    I  Sphere                  CTAB   Precipitation   \n...       ...  ...     ...                   ...             ...   \n8070      NiO  NaN     NaN                   NaN             NaN   \n8071      NiO  NaN     NaN                   NaN             NaN   \n8072    Sb2O3  NaN     NaN                   NaN             NaN   \n8073    Sb2O3  NaN     NaN                   NaN             NaN   \n8074      ZnO  NaN     NaN                   NaN             NaN   \n\n     surface charge  diameter (nm)  size in water (nm)  size in medium (nm)  \\\n0          Negative            NaN               386.9                90.09   \n1          Negative            NaN               386.9                90.09   \n2          Negative            NaN               386.9                90.09   \n3          Negative            NaN               386.9                90.09   \n4          Negative            NaN               386.9                90.09   \n...             ...            ...                 ...                  ...   \n8070           27.6            NaN                 NaN                  NaN   \n8071           27.6            NaN                 NaN                  NaN   \n8072          -35.3            NaN                 NaN                  NaN   \n8073          -35.3            NaN                 NaN                  NaN   \n8074           28.8            NaN                 NaN                  NaN   \n\n      zeta in water (mV)  ...  aspect ratio viability (%)  PDI  \\\n0                  -35.9  ...           NaN       113.670  NaN   \n1                  -35.9  ...           NaN        97.265  NaN   \n2                  -35.9  ...           NaN       108.730  NaN   \n3                  -35.9  ...           NaN        98.451  NaN   \n4                  -35.9  ...           NaN        98.056  NaN   \n...                  ...  ...           ...           ...  ...   \n8070                 NaN  ...           NaN        99.000  NaN   \n8071                 NaN  ...           NaN        99.000  NaN   \n8072                 NaN  ...           NaN        99.000  NaN   \n8073                 NaN  ...           NaN        99.000  NaN   \n8074                 NaN  ...           NaN        99.700  NaN   \n\n                                DOI zeta potential (mV) concentration (μM)  \\\n0     10.3109/15376516.2015.1070229                 NaN                NaN   \n1     10.3109/15376516.2015.1070229                 NaN                NaN   \n2     10.3109/15376516.2015.1070229                 NaN                NaN   \n3     10.3109/15376516.2015.1070229                 NaN                NaN   \n4     10.3109/15376516.2015.1070229                 NaN                NaN   \n...                             ...                 ...                ...   \n8070                            NaN                 NaN                NaN   \n8071                            NaN                 NaN                NaN   \n8072                            NaN                 NaN                NaN   \n8073                            NaN                 NaN                NaN   \n8074                            NaN                 NaN                NaN   \n\n     core size (nm) hydro size (nm) surface area  cell type.1  \n0               NaN             NaN          NaN          NaN  \n1               NaN             NaN          NaN          NaN  \n2               NaN             NaN          NaN          NaN  \n3               NaN             NaN          NaN          NaN  \n4               NaN             NaN          NaN          NaN  \n...             ...             ...          ...          ...  \n8070           13.1           189.5         68.7          NaN  \n8071           13.1           189.5         68.7          NaN  \n8072           11.8           274.9         93.6          NaN  \n8073           11.8           274.9         93.6          NaN  \n8074           22.6            69.4         47.4          NaN  \n\n[6718 rows x 33 columns]",
      "text/html": "<div>\n<style scoped>\n    .dataframe tbody tr th:only-of-type {\n        vertical-align: middle;\n    }\n\n    .dataframe tbody tr th {\n        vertical-align: top;\n    }\n\n    .dataframe thead th {\n        text-align: right;\n    }\n</style>\n<table border=\"1\" class=\"dataframe\">\n  <thead>\n    <tr style=\"text-align: right;\">\n      <th></th>\n      <th>material</th>\n      <th>type</th>\n      <th>shape</th>\n      <th>coat/functional group</th>\n      <th>synthesismethod</th>\n      <th>surface charge</th>\n      <th>diameter (nm)</th>\n      <th>size in water (nm)</th>\n      <th>size in medium (nm)</th>\n      <th>zeta in water (mV)</th>\n      <th>...</th>\n      <th>aspect ratio</th>\n      <th>viability (%)</th>\n      <th>PDI</th>\n      <th>DOI</th>\n      <th>zeta potential (mV)</th>\n      <th>concentration (μM)</th>\n      <th>core size (nm)</th>\n      <th>hydro size (nm)</th>\n      <th>surface area</th>\n      <th>cell type.1</th>\n    </tr>\n  </thead>\n  <tbody>\n    <tr>\n      <th>0</th>\n      <td>SiO2</td>\n      <td>I</td>\n      <td>Sphere</td>\n      <td>CTAB</td>\n      <td>Precipitation</td>\n      <td>Negative</td>\n      <td>NaN</td>\n      <td>386.9</td>\n      <td>90.09</td>\n      <td>-35.9</td>\n      <td>...</td>\n      <td>NaN</td>\n      <td>113.670</td>\n      <td>NaN</td>\n      <td>10.3109/15376516.2015.1070229</td>\n      <td>NaN</td>\n      <td>NaN</td>\n      <td>NaN</td>\n      <td>NaN</td>\n      <td>NaN</td>\n      <td>NaN</td>\n    </tr>\n    <tr>\n      <th>1</th>\n      <td>SiO2</td>\n      <td>I</td>\n      <td>Sphere</td>\n      <td>CTAB</td>\n      <td>Precipitation</td>\n      <td>Negative</td>\n      <td>NaN</td>\n      <td>386.9</td>\n      <td>90.09</td>\n      <td>-35.9</td>\n      <td>...</td>\n      <td>NaN</td>\n      <td>97.265</td>\n      <td>NaN</td>\n      <td>10.3109/15376516.2015.1070229</td>\n      <td>NaN</td>\n      <td>NaN</td>\n      <td>NaN</td>\n      <td>NaN</td>\n      <td>NaN</td>\n      <td>NaN</td>\n    </tr>\n    <tr>\n      <th>2</th>\n      <td>SiO2</td>\n      <td>I</td>\n      <td>Sphere</td>\n      <td>CTAB</td>\n      <td>Precipitation</td>\n      <td>Negative</td>\n      <td>NaN</td>\n      <td>386.9</td>\n      <td>90.09</td>\n      <td>-35.9</td>\n      <td>...</td>\n      <td>NaN</td>\n      <td>108.730</td>\n      <td>NaN</td>\n      <td>10.3109/15376516.2015.1070229</td>\n      <td>NaN</td>\n      <td>NaN</td>\n      <td>NaN</td>\n      <td>NaN</td>\n      <td>NaN</td>\n      <td>NaN</td>\n    </tr>\n    <tr>\n      <th>3</th>\n      <td>SiO2</td>\n      <td>I</td>\n      <td>Sphere</td>\n      <td>CTAB</td>\n      <td>Precipitation</td>\n      <td>Negative</td>\n      <td>NaN</td>\n      <td>386.9</td>\n      <td>90.09</td>\n      <td>-35.9</td>\n      <td>...</td>\n      <td>NaN</td>\n      <td>98.451</td>\n      <td>NaN</td>\n      <td>10.3109/15376516.2015.1070229</td>\n      <td>NaN</td>\n      <td>NaN</td>\n      <td>NaN</td>\n      <td>NaN</td>\n      <td>NaN</td>\n      <td>NaN</td>\n    </tr>\n    <tr>\n      <th>4</th>\n      <td>SiO2</td>\n      <td>I</td>\n      <td>Sphere</td>\n      <td>CTAB</td>\n      <td>Precipitation</td>\n      <td>Negative</td>\n      <td>NaN</td>\n      <td>386.9</td>\n      <td>90.09</td>\n      <td>-35.9</td>\n      <td>...</td>\n      <td>NaN</td>\n      <td>98.056</td>\n      <td>NaN</td>\n      <td>10.3109/15376516.2015.1070229</td>\n      <td>NaN</td>\n      <td>NaN</td>\n      <td>NaN</td>\n      <td>NaN</td>\n      <td>NaN</td>\n      <td>NaN</td>\n    </tr>\n    <tr>\n      <th>...</th>\n      <td>...</td>\n      <td>...</td>\n      <td>...</td>\n      <td>...</td>\n      <td>...</td>\n      <td>...</td>\n      <td>...</td>\n      <td>...</td>\n      <td>...</td>\n      <td>...</td>\n      <td>...</td>\n      <td>...</td>\n      <td>...</td>\n      <td>...</td>\n      <td>...</td>\n      <td>...</td>\n      <td>...</td>\n      <td>...</td>\n      <td>...</td>\n      <td>...</td>\n      <td>...</td>\n    </tr>\n    <tr>\n      <th>8070</th>\n      <td>NiO</td>\n      <td>NaN</td>\n      <td>NaN</td>\n      <td>NaN</td>\n      <td>NaN</td>\n      <td>27.6</td>\n      <td>NaN</td>\n      <td>NaN</td>\n      <td>NaN</td>\n      <td>NaN</td>\n      <td>...</td>\n      <td>NaN</td>\n      <td>99.000</td>\n      <td>NaN</td>\n      <td>NaN</td>\n      <td>NaN</td>\n      <td>NaN</td>\n      <td>13.1</td>\n      <td>189.5</td>\n      <td>68.7</td>\n      <td>NaN</td>\n    </tr>\n    <tr>\n      <th>8071</th>\n      <td>NiO</td>\n      <td>NaN</td>\n      <td>NaN</td>\n      <td>NaN</td>\n      <td>NaN</td>\n      <td>27.6</td>\n      <td>NaN</td>\n      <td>NaN</td>\n      <td>NaN</td>\n      <td>NaN</td>\n      <td>...</td>\n      <td>NaN</td>\n      <td>99.000</td>\n      <td>NaN</td>\n      <td>NaN</td>\n      <td>NaN</td>\n      <td>NaN</td>\n      <td>13.1</td>\n      <td>189.5</td>\n      <td>68.7</td>\n      <td>NaN</td>\n    </tr>\n    <tr>\n      <th>8072</th>\n      <td>Sb2O3</td>\n      <td>NaN</td>\n      <td>NaN</td>\n      <td>NaN</td>\n      <td>NaN</td>\n      <td>-35.3</td>\n      <td>NaN</td>\n      <td>NaN</td>\n      <td>NaN</td>\n      <td>NaN</td>\n      <td>...</td>\n      <td>NaN</td>\n      <td>99.000</td>\n      <td>NaN</td>\n      <td>NaN</td>\n      <td>NaN</td>\n      <td>NaN</td>\n      <td>11.8</td>\n      <td>274.9</td>\n      <td>93.6</td>\n      <td>NaN</td>\n    </tr>\n    <tr>\n      <th>8073</th>\n      <td>Sb2O3</td>\n      <td>NaN</td>\n      <td>NaN</td>\n      <td>NaN</td>\n      <td>NaN</td>\n      <td>-35.3</td>\n      <td>NaN</td>\n      <td>NaN</td>\n      <td>NaN</td>\n      <td>NaN</td>\n      <td>...</td>\n      <td>NaN</td>\n      <td>99.000</td>\n      <td>NaN</td>\n      <td>NaN</td>\n      <td>NaN</td>\n      <td>NaN</td>\n      <td>11.8</td>\n      <td>274.9</td>\n      <td>93.6</td>\n      <td>NaN</td>\n    </tr>\n    <tr>\n      <th>8074</th>\n      <td>ZnO</td>\n      <td>NaN</td>\n      <td>NaN</td>\n      <td>NaN</td>\n      <td>NaN</td>\n      <td>28.8</td>\n      <td>NaN</td>\n      <td>NaN</td>\n      <td>NaN</td>\n      <td>NaN</td>\n      <td>...</td>\n      <td>NaN</td>\n      <td>99.700</td>\n      <td>NaN</td>\n      <td>NaN</td>\n      <td>NaN</td>\n      <td>NaN</td>\n      <td>22.6</td>\n      <td>69.4</td>\n      <td>47.4</td>\n      <td>NaN</td>\n    </tr>\n  </tbody>\n</table>\n<p>6718 rows × 33 columns</p>\n</div>"
     },
     "execution_count": 11,
     "metadata": {},
     "output_type": "execute_result"
    }
   ],
   "source": [
    "raw_db"
   ],
   "metadata": {
    "collapsed": false,
    "pycharm": {
     "name": "#%%\n"
    }
   }
  },
  {
   "cell_type": "code",
   "execution_count": 12,
   "outputs": [],
   "source": [
    "raw_db['Hydrodynamic diameter (nm)'] = np.nan"
   ],
   "metadata": {
    "collapsed": false,
    "pycharm": {
     "name": "#%%\n"
    }
   }
  },
  {
   "cell_type": "code",
   "execution_count": 13,
   "outputs": [],
   "source": [
    "raw_db['Hydrodynamic diameter (nm)'].fillna(raw_db['diameter (nm)'],\n",
    "                                            inplace=True)\n",
    "raw_db['Hydrodynamic diameter (nm)'].fillna(raw_db['hydro size (nm)'],\n",
    "                                            inplace=True)\n",
    "raw_db['Hydrodynamic diameter (nm)'].fillna(raw_db['size in water (nm)'],\n",
    "                                            inplace=True)"
   ],
   "metadata": {
    "collapsed": false,
    "pycharm": {
     "name": "#%%\n"
    }
   }
  },
  {
   "cell_type": "code",
   "execution_count": 14,
   "outputs": [
    {
     "data": {
      "text/plain": "       diameter (nm)  size in water (nm)  size in medium (nm)  \\\ncount    5186.000000         1843.000000          1721.000000   \nmean       79.012067          137.662925           197.958751   \nstd       133.177930          132.283438           191.536390   \nmin         1.150000            0.040000             7.600000   \n25%        17.400000           35.800000            77.000000   \n50%        29.570000           94.000000           142.110000   \n75%        81.350000          188.000000           230.000000   \nmax       957.000000          889.030000          1262.330000   \n\n       zeta in water (mV)  zeta in medium (mV)  no of cells (cells/well)  \\\ncount         1922.000000          1324.000000               3050.000000   \nmean           -20.081129           -12.511140              51588.459016   \nstd             23.944318            15.407166             123995.736807   \nmin           -158.000000           -63.310000                300.000000   \n25%            -33.330000           -20.670000              10000.000000   \n50%            -24.520000           -11.600000              10000.000000   \n75%             -8.230000            -8.200000              50000.000000   \nmax             88.000000            48.600000            1000000.000000   \n\n         time (hr)  concentration (ug/ml)  aspect ratio  viability (%)  \\\ncount  6224.000000            4228.000000    368.000000    6718.000000   \nmean     33.164685              80.751037    151.461658      75.193507   \nstd      23.700154             157.869764    500.545165      31.693755   \nmin       1.000000               0.000000      0.100000     -58.897640   \n25%      24.000000               5.000000      2.880000      57.295575   \n50%      24.000000              25.000000      8.200000      85.767000   \n75%      48.000000             100.000000     41.800000      96.649375   \nmax     336.000000            1600.000000   3333.000000     404.811700   \n\n              PDI  zeta potential (mV)  concentration (μM)  core size (nm)  \\\ncount  546.000000           869.000000        2.274000e+03     1068.000000   \nmean     0.408853            -8.722900        1.064845e+02       40.319850   \nstd      0.227407            27.839407        8.981164e+02       35.743746   \nmin      0.005000           -48.000000        1.660539e-20        5.900000   \n25%      0.230000           -33.330000        8.761490e-07       18.300000   \n50%      0.360000           -17.600000        2.801985e-04       28.400000   \n75%      0.573000            12.100000        6.960233e-03       50.000000   \nmax      0.895000            87.000000        1.500000e+04      369.000000   \n\n       hydro size (nm)  surface area  Hydrodynamic diameter (nm)  \ncount      1068.000000    1068.00000                 6571.000000  \nmean        370.504588      86.42603                  133.049303  \nstd         320.034182     133.12824                  209.080987  \nmin          46.400000       7.00000                    1.150000  \n25%         208.300000      21.80000                   20.000000  \n50%         273.400000      42.50000                   40.000000  \n75%         331.250000      93.10000                  179.300000  \nmax        1843.000000     640.00000                 1843.000000  ",
      "text/html": "<div>\n<style scoped>\n    .dataframe tbody tr th:only-of-type {\n        vertical-align: middle;\n    }\n\n    .dataframe tbody tr th {\n        vertical-align: top;\n    }\n\n    .dataframe thead th {\n        text-align: right;\n    }\n</style>\n<table border=\"1\" class=\"dataframe\">\n  <thead>\n    <tr style=\"text-align: right;\">\n      <th></th>\n      <th>diameter (nm)</th>\n      <th>size in water (nm)</th>\n      <th>size in medium (nm)</th>\n      <th>zeta in water (mV)</th>\n      <th>zeta in medium (mV)</th>\n      <th>no of cells (cells/well)</th>\n      <th>time (hr)</th>\n      <th>concentration (ug/ml)</th>\n      <th>aspect ratio</th>\n      <th>viability (%)</th>\n      <th>PDI</th>\n      <th>zeta potential (mV)</th>\n      <th>concentration (μM)</th>\n      <th>core size (nm)</th>\n      <th>hydro size (nm)</th>\n      <th>surface area</th>\n      <th>Hydrodynamic diameter (nm)</th>\n    </tr>\n  </thead>\n  <tbody>\n    <tr>\n      <th>count</th>\n      <td>5186.000000</td>\n      <td>1843.000000</td>\n      <td>1721.000000</td>\n      <td>1922.000000</td>\n      <td>1324.000000</td>\n      <td>3050.000000</td>\n      <td>6224.000000</td>\n      <td>4228.000000</td>\n      <td>368.000000</td>\n      <td>6718.000000</td>\n      <td>546.000000</td>\n      <td>869.000000</td>\n      <td>2.274000e+03</td>\n      <td>1068.000000</td>\n      <td>1068.000000</td>\n      <td>1068.00000</td>\n      <td>6571.000000</td>\n    </tr>\n    <tr>\n      <th>mean</th>\n      <td>79.012067</td>\n      <td>137.662925</td>\n      <td>197.958751</td>\n      <td>-20.081129</td>\n      <td>-12.511140</td>\n      <td>51588.459016</td>\n      <td>33.164685</td>\n      <td>80.751037</td>\n      <td>151.461658</td>\n      <td>75.193507</td>\n      <td>0.408853</td>\n      <td>-8.722900</td>\n      <td>1.064845e+02</td>\n      <td>40.319850</td>\n      <td>370.504588</td>\n      <td>86.42603</td>\n      <td>133.049303</td>\n    </tr>\n    <tr>\n      <th>std</th>\n      <td>133.177930</td>\n      <td>132.283438</td>\n      <td>191.536390</td>\n      <td>23.944318</td>\n      <td>15.407166</td>\n      <td>123995.736807</td>\n      <td>23.700154</td>\n      <td>157.869764</td>\n      <td>500.545165</td>\n      <td>31.693755</td>\n      <td>0.227407</td>\n      <td>27.839407</td>\n      <td>8.981164e+02</td>\n      <td>35.743746</td>\n      <td>320.034182</td>\n      <td>133.12824</td>\n      <td>209.080987</td>\n    </tr>\n    <tr>\n      <th>min</th>\n      <td>1.150000</td>\n      <td>0.040000</td>\n      <td>7.600000</td>\n      <td>-158.000000</td>\n      <td>-63.310000</td>\n      <td>300.000000</td>\n      <td>1.000000</td>\n      <td>0.000000</td>\n      <td>0.100000</td>\n      <td>-58.897640</td>\n      <td>0.005000</td>\n      <td>-48.000000</td>\n      <td>1.660539e-20</td>\n      <td>5.900000</td>\n      <td>46.400000</td>\n      <td>7.00000</td>\n      <td>1.150000</td>\n    </tr>\n    <tr>\n      <th>25%</th>\n      <td>17.400000</td>\n      <td>35.800000</td>\n      <td>77.000000</td>\n      <td>-33.330000</td>\n      <td>-20.670000</td>\n      <td>10000.000000</td>\n      <td>24.000000</td>\n      <td>5.000000</td>\n      <td>2.880000</td>\n      <td>57.295575</td>\n      <td>0.230000</td>\n      <td>-33.330000</td>\n      <td>8.761490e-07</td>\n      <td>18.300000</td>\n      <td>208.300000</td>\n      <td>21.80000</td>\n      <td>20.000000</td>\n    </tr>\n    <tr>\n      <th>50%</th>\n      <td>29.570000</td>\n      <td>94.000000</td>\n      <td>142.110000</td>\n      <td>-24.520000</td>\n      <td>-11.600000</td>\n      <td>10000.000000</td>\n      <td>24.000000</td>\n      <td>25.000000</td>\n      <td>8.200000</td>\n      <td>85.767000</td>\n      <td>0.360000</td>\n      <td>-17.600000</td>\n      <td>2.801985e-04</td>\n      <td>28.400000</td>\n      <td>273.400000</td>\n      <td>42.50000</td>\n      <td>40.000000</td>\n    </tr>\n    <tr>\n      <th>75%</th>\n      <td>81.350000</td>\n      <td>188.000000</td>\n      <td>230.000000</td>\n      <td>-8.230000</td>\n      <td>-8.200000</td>\n      <td>50000.000000</td>\n      <td>48.000000</td>\n      <td>100.000000</td>\n      <td>41.800000</td>\n      <td>96.649375</td>\n      <td>0.573000</td>\n      <td>12.100000</td>\n      <td>6.960233e-03</td>\n      <td>50.000000</td>\n      <td>331.250000</td>\n      <td>93.10000</td>\n      <td>179.300000</td>\n    </tr>\n    <tr>\n      <th>max</th>\n      <td>957.000000</td>\n      <td>889.030000</td>\n      <td>1262.330000</td>\n      <td>88.000000</td>\n      <td>48.600000</td>\n      <td>1000000.000000</td>\n      <td>336.000000</td>\n      <td>1600.000000</td>\n      <td>3333.000000</td>\n      <td>404.811700</td>\n      <td>0.895000</td>\n      <td>87.000000</td>\n      <td>1.500000e+04</td>\n      <td>369.000000</td>\n      <td>1843.000000</td>\n      <td>640.00000</td>\n      <td>1843.000000</td>\n    </tr>\n  </tbody>\n</table>\n</div>"
     },
     "execution_count": 14,
     "metadata": {},
     "output_type": "execute_result"
    }
   ],
   "source": [
    "raw_db.describe()"
   ],
   "metadata": {
    "collapsed": false,
    "pycharm": {
     "name": "#%%\n"
    }
   }
  },
  {
   "cell_type": "code",
   "execution_count": 15,
   "outputs": [],
   "source": [
    "raw_db = raw_db.drop(['size in water (nm)',\n",
    "                      'hydro size (nm)',\n",
    "                      'diameter (nm)',\n",
    "                      'type'], axis = 1)"
   ],
   "metadata": {
    "collapsed": false,
    "pycharm": {
     "name": "#%%\n"
    }
   }
  },
  {
   "cell_type": "code",
   "execution_count": 16,
   "outputs": [
    {
     "data": {
      "text/plain": "     material   shape coat/functional group synthesismethod surface charge  \\\n0        SiO2  Sphere                  CTAB   Precipitation       Negative   \n1        SiO2  Sphere                  CTAB   Precipitation       Negative   \n2        SiO2  Sphere                  CTAB   Precipitation       Negative   \n3        SiO2  Sphere                  CTAB   Precipitation       Negative   \n4        SiO2  Sphere                  CTAB   Precipitation       Negative   \n...       ...     ...                   ...             ...            ...   \n8070      NiO     NaN                   NaN             NaN           27.6   \n8071      NiO     NaN                   NaN             NaN           27.6   \n8072    Sb2O3     NaN                   NaN             NaN          -35.3   \n8073    Sb2O3     NaN                   NaN             NaN          -35.3   \n8074      ZnO     NaN                   NaN             NaN           28.8   \n\n      size in medium (nm)  zeta in water (mV)  zeta in medium (mV) cell type  \\\n0                   90.09               -35.9                  NaN      PC12   \n1                   90.09               -35.9                  NaN      PC12   \n2                   90.09               -35.9                  NaN      PC12   \n3                   90.09               -35.9                  NaN      PC12   \n4                   90.09               -35.9                  NaN      PC12   \n...                   ...                 ...                  ...       ...   \n8070                  NaN                 NaN                  NaN       NaN   \n8071                  NaN                 NaN                  NaN       NaN   \n8072                  NaN                 NaN                  NaN       NaN   \n8073                  NaN                 NaN                  NaN       NaN   \n8074                  NaN                 NaN                  NaN       NaN   \n\n      no of cells (cells/well)  ... aspect ratio viability (%) PDI  \\\n0                       5000.0  ...          NaN       113.670 NaN   \n1                       5000.0  ...          NaN        97.265 NaN   \n2                       5000.0  ...          NaN       108.730 NaN   \n3                       5000.0  ...          NaN        98.451 NaN   \n4                       5000.0  ...          NaN        98.056 NaN   \n...                        ...  ...          ...           ...  ..   \n8070                       NaN  ...          NaN        99.000 NaN   \n8071                       NaN  ...          NaN        99.000 NaN   \n8072                       NaN  ...          NaN        99.000 NaN   \n8073                       NaN  ...          NaN        99.000 NaN   \n8074                       NaN  ...          NaN        99.700 NaN   \n\n                                DOI zeta potential (mV) concentration (μM)  \\\n0     10.3109/15376516.2015.1070229                 NaN                NaN   \n1     10.3109/15376516.2015.1070229                 NaN                NaN   \n2     10.3109/15376516.2015.1070229                 NaN                NaN   \n3     10.3109/15376516.2015.1070229                 NaN                NaN   \n4     10.3109/15376516.2015.1070229                 NaN                NaN   \n...                             ...                 ...                ...   \n8070                            NaN                 NaN                NaN   \n8071                            NaN                 NaN                NaN   \n8072                            NaN                 NaN                NaN   \n8073                            NaN                 NaN                NaN   \n8074                            NaN                 NaN                NaN   \n\n      core size (nm)  surface area cell type.1 Hydrodynamic diameter (nm)  \n0                NaN           NaN         NaN                      386.9  \n1                NaN           NaN         NaN                      386.9  \n2                NaN           NaN         NaN                      386.9  \n3                NaN           NaN         NaN                      386.9  \n4                NaN           NaN         NaN                      386.9  \n...              ...           ...         ...                        ...  \n8070            13.1          68.7         NaN                      189.5  \n8071            13.1          68.7         NaN                      189.5  \n8072            11.8          93.6         NaN                      274.9  \n8073            11.8          93.6         NaN                      274.9  \n8074            22.6          47.4         NaN                       69.4  \n\n[6718 rows x 30 columns]",
      "text/html": "<div>\n<style scoped>\n    .dataframe tbody tr th:only-of-type {\n        vertical-align: middle;\n    }\n\n    .dataframe tbody tr th {\n        vertical-align: top;\n    }\n\n    .dataframe thead th {\n        text-align: right;\n    }\n</style>\n<table border=\"1\" class=\"dataframe\">\n  <thead>\n    <tr style=\"text-align: right;\">\n      <th></th>\n      <th>material</th>\n      <th>shape</th>\n      <th>coat/functional group</th>\n      <th>synthesismethod</th>\n      <th>surface charge</th>\n      <th>size in medium (nm)</th>\n      <th>zeta in water (mV)</th>\n      <th>zeta in medium (mV)</th>\n      <th>cell type</th>\n      <th>no of cells (cells/well)</th>\n      <th>...</th>\n      <th>aspect ratio</th>\n      <th>viability (%)</th>\n      <th>PDI</th>\n      <th>DOI</th>\n      <th>zeta potential (mV)</th>\n      <th>concentration (μM)</th>\n      <th>core size (nm)</th>\n      <th>surface area</th>\n      <th>cell type.1</th>\n      <th>Hydrodynamic diameter (nm)</th>\n    </tr>\n  </thead>\n  <tbody>\n    <tr>\n      <th>0</th>\n      <td>SiO2</td>\n      <td>Sphere</td>\n      <td>CTAB</td>\n      <td>Precipitation</td>\n      <td>Negative</td>\n      <td>90.09</td>\n      <td>-35.9</td>\n      <td>NaN</td>\n      <td>PC12</td>\n      <td>5000.0</td>\n      <td>...</td>\n      <td>NaN</td>\n      <td>113.670</td>\n      <td>NaN</td>\n      <td>10.3109/15376516.2015.1070229</td>\n      <td>NaN</td>\n      <td>NaN</td>\n      <td>NaN</td>\n      <td>NaN</td>\n      <td>NaN</td>\n      <td>386.9</td>\n    </tr>\n    <tr>\n      <th>1</th>\n      <td>SiO2</td>\n      <td>Sphere</td>\n      <td>CTAB</td>\n      <td>Precipitation</td>\n      <td>Negative</td>\n      <td>90.09</td>\n      <td>-35.9</td>\n      <td>NaN</td>\n      <td>PC12</td>\n      <td>5000.0</td>\n      <td>...</td>\n      <td>NaN</td>\n      <td>97.265</td>\n      <td>NaN</td>\n      <td>10.3109/15376516.2015.1070229</td>\n      <td>NaN</td>\n      <td>NaN</td>\n      <td>NaN</td>\n      <td>NaN</td>\n      <td>NaN</td>\n      <td>386.9</td>\n    </tr>\n    <tr>\n      <th>2</th>\n      <td>SiO2</td>\n      <td>Sphere</td>\n      <td>CTAB</td>\n      <td>Precipitation</td>\n      <td>Negative</td>\n      <td>90.09</td>\n      <td>-35.9</td>\n      <td>NaN</td>\n      <td>PC12</td>\n      <td>5000.0</td>\n      <td>...</td>\n      <td>NaN</td>\n      <td>108.730</td>\n      <td>NaN</td>\n      <td>10.3109/15376516.2015.1070229</td>\n      <td>NaN</td>\n      <td>NaN</td>\n      <td>NaN</td>\n      <td>NaN</td>\n      <td>NaN</td>\n      <td>386.9</td>\n    </tr>\n    <tr>\n      <th>3</th>\n      <td>SiO2</td>\n      <td>Sphere</td>\n      <td>CTAB</td>\n      <td>Precipitation</td>\n      <td>Negative</td>\n      <td>90.09</td>\n      <td>-35.9</td>\n      <td>NaN</td>\n      <td>PC12</td>\n      <td>5000.0</td>\n      <td>...</td>\n      <td>NaN</td>\n      <td>98.451</td>\n      <td>NaN</td>\n      <td>10.3109/15376516.2015.1070229</td>\n      <td>NaN</td>\n      <td>NaN</td>\n      <td>NaN</td>\n      <td>NaN</td>\n      <td>NaN</td>\n      <td>386.9</td>\n    </tr>\n    <tr>\n      <th>4</th>\n      <td>SiO2</td>\n      <td>Sphere</td>\n      <td>CTAB</td>\n      <td>Precipitation</td>\n      <td>Negative</td>\n      <td>90.09</td>\n      <td>-35.9</td>\n      <td>NaN</td>\n      <td>PC12</td>\n      <td>5000.0</td>\n      <td>...</td>\n      <td>NaN</td>\n      <td>98.056</td>\n      <td>NaN</td>\n      <td>10.3109/15376516.2015.1070229</td>\n      <td>NaN</td>\n      <td>NaN</td>\n      <td>NaN</td>\n      <td>NaN</td>\n      <td>NaN</td>\n      <td>386.9</td>\n    </tr>\n    <tr>\n      <th>...</th>\n      <td>...</td>\n      <td>...</td>\n      <td>...</td>\n      <td>...</td>\n      <td>...</td>\n      <td>...</td>\n      <td>...</td>\n      <td>...</td>\n      <td>...</td>\n      <td>...</td>\n      <td>...</td>\n      <td>...</td>\n      <td>...</td>\n      <td>...</td>\n      <td>...</td>\n      <td>...</td>\n      <td>...</td>\n      <td>...</td>\n      <td>...</td>\n      <td>...</td>\n      <td>...</td>\n    </tr>\n    <tr>\n      <th>8070</th>\n      <td>NiO</td>\n      <td>NaN</td>\n      <td>NaN</td>\n      <td>NaN</td>\n      <td>27.6</td>\n      <td>NaN</td>\n      <td>NaN</td>\n      <td>NaN</td>\n      <td>NaN</td>\n      <td>NaN</td>\n      <td>...</td>\n      <td>NaN</td>\n      <td>99.000</td>\n      <td>NaN</td>\n      <td>NaN</td>\n      <td>NaN</td>\n      <td>NaN</td>\n      <td>13.1</td>\n      <td>68.7</td>\n      <td>NaN</td>\n      <td>189.5</td>\n    </tr>\n    <tr>\n      <th>8071</th>\n      <td>NiO</td>\n      <td>NaN</td>\n      <td>NaN</td>\n      <td>NaN</td>\n      <td>27.6</td>\n      <td>NaN</td>\n      <td>NaN</td>\n      <td>NaN</td>\n      <td>NaN</td>\n      <td>NaN</td>\n      <td>...</td>\n      <td>NaN</td>\n      <td>99.000</td>\n      <td>NaN</td>\n      <td>NaN</td>\n      <td>NaN</td>\n      <td>NaN</td>\n      <td>13.1</td>\n      <td>68.7</td>\n      <td>NaN</td>\n      <td>189.5</td>\n    </tr>\n    <tr>\n      <th>8072</th>\n      <td>Sb2O3</td>\n      <td>NaN</td>\n      <td>NaN</td>\n      <td>NaN</td>\n      <td>-35.3</td>\n      <td>NaN</td>\n      <td>NaN</td>\n      <td>NaN</td>\n      <td>NaN</td>\n      <td>NaN</td>\n      <td>...</td>\n      <td>NaN</td>\n      <td>99.000</td>\n      <td>NaN</td>\n      <td>NaN</td>\n      <td>NaN</td>\n      <td>NaN</td>\n      <td>11.8</td>\n      <td>93.6</td>\n      <td>NaN</td>\n      <td>274.9</td>\n    </tr>\n    <tr>\n      <th>8073</th>\n      <td>Sb2O3</td>\n      <td>NaN</td>\n      <td>NaN</td>\n      <td>NaN</td>\n      <td>-35.3</td>\n      <td>NaN</td>\n      <td>NaN</td>\n      <td>NaN</td>\n      <td>NaN</td>\n      <td>NaN</td>\n      <td>...</td>\n      <td>NaN</td>\n      <td>99.000</td>\n      <td>NaN</td>\n      <td>NaN</td>\n      <td>NaN</td>\n      <td>NaN</td>\n      <td>11.8</td>\n      <td>93.6</td>\n      <td>NaN</td>\n      <td>274.9</td>\n    </tr>\n    <tr>\n      <th>8074</th>\n      <td>ZnO</td>\n      <td>NaN</td>\n      <td>NaN</td>\n      <td>NaN</td>\n      <td>28.8</td>\n      <td>NaN</td>\n      <td>NaN</td>\n      <td>NaN</td>\n      <td>NaN</td>\n      <td>NaN</td>\n      <td>...</td>\n      <td>NaN</td>\n      <td>99.700</td>\n      <td>NaN</td>\n      <td>NaN</td>\n      <td>NaN</td>\n      <td>NaN</td>\n      <td>22.6</td>\n      <td>47.4</td>\n      <td>NaN</td>\n      <td>69.4</td>\n    </tr>\n  </tbody>\n</table>\n<p>6718 rows × 30 columns</p>\n</div>"
     },
     "execution_count": 16,
     "metadata": {},
     "output_type": "execute_result"
    }
   ],
   "source": [
    "raw_db"
   ],
   "metadata": {
    "collapsed": false,
    "pycharm": {
     "name": "#%%\n"
    }
   }
  },
  {
   "cell_type": "code",
   "execution_count": 17,
   "outputs": [
    {
     "data": {
      "text/plain": "       size in medium (nm)  zeta in water (mV)  zeta in medium (mV)  \\\ncount          1721.000000         1922.000000          1324.000000   \nmean            197.958751          -20.081129           -12.511140   \nstd             191.536390           23.944318            15.407166   \nmin               7.600000         -158.000000           -63.310000   \n25%              77.000000          -33.330000           -20.670000   \n50%             142.110000          -24.520000           -11.600000   \n75%             230.000000           -8.230000            -8.200000   \nmax            1262.330000           88.000000            48.600000   \n\n       no of cells (cells/well)    time (hr)  concentration (ug/ml)  \\\ncount               3050.000000  6224.000000            4228.000000   \nmean               51588.459016    33.164685              80.751037   \nstd               123995.736807    23.700154             157.869764   \nmin                  300.000000     1.000000               0.000000   \n25%                10000.000000    24.000000               5.000000   \n50%                10000.000000    24.000000              25.000000   \n75%                50000.000000    48.000000             100.000000   \nmax              1000000.000000   336.000000            1600.000000   \n\n       aspect ratio  viability (%)         PDI  zeta potential (mV)  \\\ncount    368.000000    6718.000000  546.000000           869.000000   \nmean     151.461658      75.193507    0.408853            -8.722900   \nstd      500.545165      31.693755    0.227407            27.839407   \nmin        0.100000     -58.897640    0.005000           -48.000000   \n25%        2.880000      57.295575    0.230000           -33.330000   \n50%        8.200000      85.767000    0.360000           -17.600000   \n75%       41.800000      96.649375    0.573000            12.100000   \nmax     3333.000000     404.811700    0.895000            87.000000   \n\n       concentration (μM)  core size (nm)  surface area  \\\ncount        2.274000e+03     1068.000000    1068.00000   \nmean         1.064845e+02       40.319850      86.42603   \nstd          8.981164e+02       35.743746     133.12824   \nmin          1.660539e-20        5.900000       7.00000   \n25%          8.761490e-07       18.300000      21.80000   \n50%          2.801985e-04       28.400000      42.50000   \n75%          6.960233e-03       50.000000      93.10000   \nmax          1.500000e+04      369.000000     640.00000   \n\n       Hydrodynamic diameter (nm)  \ncount                 6571.000000  \nmean                   133.049303  \nstd                    209.080987  \nmin                      1.150000  \n25%                     20.000000  \n50%                     40.000000  \n75%                    179.300000  \nmax                   1843.000000  ",
      "text/html": "<div>\n<style scoped>\n    .dataframe tbody tr th:only-of-type {\n        vertical-align: middle;\n    }\n\n    .dataframe tbody tr th {\n        vertical-align: top;\n    }\n\n    .dataframe thead th {\n        text-align: right;\n    }\n</style>\n<table border=\"1\" class=\"dataframe\">\n  <thead>\n    <tr style=\"text-align: right;\">\n      <th></th>\n      <th>size in medium (nm)</th>\n      <th>zeta in water (mV)</th>\n      <th>zeta in medium (mV)</th>\n      <th>no of cells (cells/well)</th>\n      <th>time (hr)</th>\n      <th>concentration (ug/ml)</th>\n      <th>aspect ratio</th>\n      <th>viability (%)</th>\n      <th>PDI</th>\n      <th>zeta potential (mV)</th>\n      <th>concentration (μM)</th>\n      <th>core size (nm)</th>\n      <th>surface area</th>\n      <th>Hydrodynamic diameter (nm)</th>\n    </tr>\n  </thead>\n  <tbody>\n    <tr>\n      <th>count</th>\n      <td>1721.000000</td>\n      <td>1922.000000</td>\n      <td>1324.000000</td>\n      <td>3050.000000</td>\n      <td>6224.000000</td>\n      <td>4228.000000</td>\n      <td>368.000000</td>\n      <td>6718.000000</td>\n      <td>546.000000</td>\n      <td>869.000000</td>\n      <td>2.274000e+03</td>\n      <td>1068.000000</td>\n      <td>1068.00000</td>\n      <td>6571.000000</td>\n    </tr>\n    <tr>\n      <th>mean</th>\n      <td>197.958751</td>\n      <td>-20.081129</td>\n      <td>-12.511140</td>\n      <td>51588.459016</td>\n      <td>33.164685</td>\n      <td>80.751037</td>\n      <td>151.461658</td>\n      <td>75.193507</td>\n      <td>0.408853</td>\n      <td>-8.722900</td>\n      <td>1.064845e+02</td>\n      <td>40.319850</td>\n      <td>86.42603</td>\n      <td>133.049303</td>\n    </tr>\n    <tr>\n      <th>std</th>\n      <td>191.536390</td>\n      <td>23.944318</td>\n      <td>15.407166</td>\n      <td>123995.736807</td>\n      <td>23.700154</td>\n      <td>157.869764</td>\n      <td>500.545165</td>\n      <td>31.693755</td>\n      <td>0.227407</td>\n      <td>27.839407</td>\n      <td>8.981164e+02</td>\n      <td>35.743746</td>\n      <td>133.12824</td>\n      <td>209.080987</td>\n    </tr>\n    <tr>\n      <th>min</th>\n      <td>7.600000</td>\n      <td>-158.000000</td>\n      <td>-63.310000</td>\n      <td>300.000000</td>\n      <td>1.000000</td>\n      <td>0.000000</td>\n      <td>0.100000</td>\n      <td>-58.897640</td>\n      <td>0.005000</td>\n      <td>-48.000000</td>\n      <td>1.660539e-20</td>\n      <td>5.900000</td>\n      <td>7.00000</td>\n      <td>1.150000</td>\n    </tr>\n    <tr>\n      <th>25%</th>\n      <td>77.000000</td>\n      <td>-33.330000</td>\n      <td>-20.670000</td>\n      <td>10000.000000</td>\n      <td>24.000000</td>\n      <td>5.000000</td>\n      <td>2.880000</td>\n      <td>57.295575</td>\n      <td>0.230000</td>\n      <td>-33.330000</td>\n      <td>8.761490e-07</td>\n      <td>18.300000</td>\n      <td>21.80000</td>\n      <td>20.000000</td>\n    </tr>\n    <tr>\n      <th>50%</th>\n      <td>142.110000</td>\n      <td>-24.520000</td>\n      <td>-11.600000</td>\n      <td>10000.000000</td>\n      <td>24.000000</td>\n      <td>25.000000</td>\n      <td>8.200000</td>\n      <td>85.767000</td>\n      <td>0.360000</td>\n      <td>-17.600000</td>\n      <td>2.801985e-04</td>\n      <td>28.400000</td>\n      <td>42.50000</td>\n      <td>40.000000</td>\n    </tr>\n    <tr>\n      <th>75%</th>\n      <td>230.000000</td>\n      <td>-8.230000</td>\n      <td>-8.200000</td>\n      <td>50000.000000</td>\n      <td>48.000000</td>\n      <td>100.000000</td>\n      <td>41.800000</td>\n      <td>96.649375</td>\n      <td>0.573000</td>\n      <td>12.100000</td>\n      <td>6.960233e-03</td>\n      <td>50.000000</td>\n      <td>93.10000</td>\n      <td>179.300000</td>\n    </tr>\n    <tr>\n      <th>max</th>\n      <td>1262.330000</td>\n      <td>88.000000</td>\n      <td>48.600000</td>\n      <td>1000000.000000</td>\n      <td>336.000000</td>\n      <td>1600.000000</td>\n      <td>3333.000000</td>\n      <td>404.811700</td>\n      <td>0.895000</td>\n      <td>87.000000</td>\n      <td>1.500000e+04</td>\n      <td>369.000000</td>\n      <td>640.00000</td>\n      <td>1843.000000</td>\n    </tr>\n  </tbody>\n</table>\n</div>"
     },
     "execution_count": 17,
     "metadata": {},
     "output_type": "execute_result"
    }
   ],
   "source": [
    "raw_db.describe()"
   ],
   "metadata": {
    "collapsed": false,
    "pycharm": {
     "name": "#%%\n"
    }
   }
  },
  {
   "cell_type": "code",
   "execution_count": 18,
   "outputs": [],
   "source": [
    "raw_db['Zeta potential (mV)'] = np.nan"
   ],
   "metadata": {
    "collapsed": false,
    "pycharm": {
     "name": "#%%\n"
    }
   }
  },
  {
   "cell_type": "code",
   "execution_count": 19,
   "outputs": [],
   "source": [
    "raw_db['Zeta potential (mV)'].fillna(raw_db['zeta in water (mV)'],\n",
    "                                     inplace=True)\n",
    "raw_db['Zeta potential (mV)'].fillna(raw_db['zeta potential (mV)'],\n",
    "                                     inplace=True)\n",
    "raw_db['Zeta potential (mV)'].fillna(raw_db['surface charge'],\n",
    "                                     inplace=True)"
   ],
   "metadata": {
    "collapsed": false,
    "pycharm": {
     "name": "#%%\n"
    }
   }
  },
  {
   "cell_type": "code",
   "execution_count": 20,
   "outputs": [
    {
     "data": {
      "text/plain": "     material   shape coat/functional group synthesismethod surface charge  \\\n0        SiO2  Sphere                  CTAB   Precipitation       Negative   \n1        SiO2  Sphere                  CTAB   Precipitation       Negative   \n2        SiO2  Sphere                  CTAB   Precipitation       Negative   \n3        SiO2  Sphere                  CTAB   Precipitation       Negative   \n4        SiO2  Sphere                  CTAB   Precipitation       Negative   \n...       ...     ...                   ...             ...            ...   \n8070      NiO     NaN                   NaN             NaN           27.6   \n8071      NiO     NaN                   NaN             NaN           27.6   \n8072    Sb2O3     NaN                   NaN             NaN          -35.3   \n8073    Sb2O3     NaN                   NaN             NaN          -35.3   \n8074      ZnO     NaN                   NaN             NaN           28.8   \n\n      size in medium (nm)  zeta in water (mV)  zeta in medium (mV) cell type  \\\n0                   90.09               -35.9                  NaN      PC12   \n1                   90.09               -35.9                  NaN      PC12   \n2                   90.09               -35.9                  NaN      PC12   \n3                   90.09               -35.9                  NaN      PC12   \n4                   90.09               -35.9                  NaN      PC12   \n...                   ...                 ...                  ...       ...   \n8070                  NaN                 NaN                  NaN       NaN   \n8071                  NaN                 NaN                  NaN       NaN   \n8072                  NaN                 NaN                  NaN       NaN   \n8073                  NaN                 NaN                  NaN       NaN   \n8074                  NaN                 NaN                  NaN       NaN   \n\n      no of cells (cells/well)  ... viability (%) PDI  \\\n0                       5000.0  ...       113.670 NaN   \n1                       5000.0  ...        97.265 NaN   \n2                       5000.0  ...       108.730 NaN   \n3                       5000.0  ...        98.451 NaN   \n4                       5000.0  ...        98.056 NaN   \n...                        ...  ...           ...  ..   \n8070                       NaN  ...        99.000 NaN   \n8071                       NaN  ...        99.000 NaN   \n8072                       NaN  ...        99.000 NaN   \n8073                       NaN  ...        99.000 NaN   \n8074                       NaN  ...        99.700 NaN   \n\n                                DOI zeta potential (mV) concentration (μM)  \\\n0     10.3109/15376516.2015.1070229                 NaN                NaN   \n1     10.3109/15376516.2015.1070229                 NaN                NaN   \n2     10.3109/15376516.2015.1070229                 NaN                NaN   \n3     10.3109/15376516.2015.1070229                 NaN                NaN   \n4     10.3109/15376516.2015.1070229                 NaN                NaN   \n...                             ...                 ...                ...   \n8070                            NaN                 NaN                NaN   \n8071                            NaN                 NaN                NaN   \n8072                            NaN                 NaN                NaN   \n8073                            NaN                 NaN                NaN   \n8074                            NaN                 NaN                NaN   \n\n     core size (nm)  surface area  cell type.1 Hydrodynamic diameter (nm)  \\\n0               NaN           NaN          NaN                      386.9   \n1               NaN           NaN          NaN                      386.9   \n2               NaN           NaN          NaN                      386.9   \n3               NaN           NaN          NaN                      386.9   \n4               NaN           NaN          NaN                      386.9   \n...             ...           ...          ...                        ...   \n8070           13.1          68.7          NaN                      189.5   \n8071           13.1          68.7          NaN                      189.5   \n8072           11.8          93.6          NaN                      274.9   \n8073           11.8          93.6          NaN                      274.9   \n8074           22.6          47.4          NaN                       69.4   \n\n     Zeta potential (mV)  \n0                  -35.9  \n1                  -35.9  \n2                  -35.9  \n3                  -35.9  \n4                  -35.9  \n...                  ...  \n8070                27.6  \n8071                27.6  \n8072               -35.3  \n8073               -35.3  \n8074                28.8  \n\n[6718 rows x 31 columns]",
      "text/html": "<div>\n<style scoped>\n    .dataframe tbody tr th:only-of-type {\n        vertical-align: middle;\n    }\n\n    .dataframe tbody tr th {\n        vertical-align: top;\n    }\n\n    .dataframe thead th {\n        text-align: right;\n    }\n</style>\n<table border=\"1\" class=\"dataframe\">\n  <thead>\n    <tr style=\"text-align: right;\">\n      <th></th>\n      <th>material</th>\n      <th>shape</th>\n      <th>coat/functional group</th>\n      <th>synthesismethod</th>\n      <th>surface charge</th>\n      <th>size in medium (nm)</th>\n      <th>zeta in water (mV)</th>\n      <th>zeta in medium (mV)</th>\n      <th>cell type</th>\n      <th>no of cells (cells/well)</th>\n      <th>...</th>\n      <th>viability (%)</th>\n      <th>PDI</th>\n      <th>DOI</th>\n      <th>zeta potential (mV)</th>\n      <th>concentration (μM)</th>\n      <th>core size (nm)</th>\n      <th>surface area</th>\n      <th>cell type.1</th>\n      <th>Hydrodynamic diameter (nm)</th>\n      <th>Zeta potential (mV)</th>\n    </tr>\n  </thead>\n  <tbody>\n    <tr>\n      <th>0</th>\n      <td>SiO2</td>\n      <td>Sphere</td>\n      <td>CTAB</td>\n      <td>Precipitation</td>\n      <td>Negative</td>\n      <td>90.09</td>\n      <td>-35.9</td>\n      <td>NaN</td>\n      <td>PC12</td>\n      <td>5000.0</td>\n      <td>...</td>\n      <td>113.670</td>\n      <td>NaN</td>\n      <td>10.3109/15376516.2015.1070229</td>\n      <td>NaN</td>\n      <td>NaN</td>\n      <td>NaN</td>\n      <td>NaN</td>\n      <td>NaN</td>\n      <td>386.9</td>\n      <td>-35.9</td>\n    </tr>\n    <tr>\n      <th>1</th>\n      <td>SiO2</td>\n      <td>Sphere</td>\n      <td>CTAB</td>\n      <td>Precipitation</td>\n      <td>Negative</td>\n      <td>90.09</td>\n      <td>-35.9</td>\n      <td>NaN</td>\n      <td>PC12</td>\n      <td>5000.0</td>\n      <td>...</td>\n      <td>97.265</td>\n      <td>NaN</td>\n      <td>10.3109/15376516.2015.1070229</td>\n      <td>NaN</td>\n      <td>NaN</td>\n      <td>NaN</td>\n      <td>NaN</td>\n      <td>NaN</td>\n      <td>386.9</td>\n      <td>-35.9</td>\n    </tr>\n    <tr>\n      <th>2</th>\n      <td>SiO2</td>\n      <td>Sphere</td>\n      <td>CTAB</td>\n      <td>Precipitation</td>\n      <td>Negative</td>\n      <td>90.09</td>\n      <td>-35.9</td>\n      <td>NaN</td>\n      <td>PC12</td>\n      <td>5000.0</td>\n      <td>...</td>\n      <td>108.730</td>\n      <td>NaN</td>\n      <td>10.3109/15376516.2015.1070229</td>\n      <td>NaN</td>\n      <td>NaN</td>\n      <td>NaN</td>\n      <td>NaN</td>\n      <td>NaN</td>\n      <td>386.9</td>\n      <td>-35.9</td>\n    </tr>\n    <tr>\n      <th>3</th>\n      <td>SiO2</td>\n      <td>Sphere</td>\n      <td>CTAB</td>\n      <td>Precipitation</td>\n      <td>Negative</td>\n      <td>90.09</td>\n      <td>-35.9</td>\n      <td>NaN</td>\n      <td>PC12</td>\n      <td>5000.0</td>\n      <td>...</td>\n      <td>98.451</td>\n      <td>NaN</td>\n      <td>10.3109/15376516.2015.1070229</td>\n      <td>NaN</td>\n      <td>NaN</td>\n      <td>NaN</td>\n      <td>NaN</td>\n      <td>NaN</td>\n      <td>386.9</td>\n      <td>-35.9</td>\n    </tr>\n    <tr>\n      <th>4</th>\n      <td>SiO2</td>\n      <td>Sphere</td>\n      <td>CTAB</td>\n      <td>Precipitation</td>\n      <td>Negative</td>\n      <td>90.09</td>\n      <td>-35.9</td>\n      <td>NaN</td>\n      <td>PC12</td>\n      <td>5000.0</td>\n      <td>...</td>\n      <td>98.056</td>\n      <td>NaN</td>\n      <td>10.3109/15376516.2015.1070229</td>\n      <td>NaN</td>\n      <td>NaN</td>\n      <td>NaN</td>\n      <td>NaN</td>\n      <td>NaN</td>\n      <td>386.9</td>\n      <td>-35.9</td>\n    </tr>\n    <tr>\n      <th>...</th>\n      <td>...</td>\n      <td>...</td>\n      <td>...</td>\n      <td>...</td>\n      <td>...</td>\n      <td>...</td>\n      <td>...</td>\n      <td>...</td>\n      <td>...</td>\n      <td>...</td>\n      <td>...</td>\n      <td>...</td>\n      <td>...</td>\n      <td>...</td>\n      <td>...</td>\n      <td>...</td>\n      <td>...</td>\n      <td>...</td>\n      <td>...</td>\n      <td>...</td>\n      <td>...</td>\n    </tr>\n    <tr>\n      <th>8070</th>\n      <td>NiO</td>\n      <td>NaN</td>\n      <td>NaN</td>\n      <td>NaN</td>\n      <td>27.6</td>\n      <td>NaN</td>\n      <td>NaN</td>\n      <td>NaN</td>\n      <td>NaN</td>\n      <td>NaN</td>\n      <td>...</td>\n      <td>99.000</td>\n      <td>NaN</td>\n      <td>NaN</td>\n      <td>NaN</td>\n      <td>NaN</td>\n      <td>13.1</td>\n      <td>68.7</td>\n      <td>NaN</td>\n      <td>189.5</td>\n      <td>27.6</td>\n    </tr>\n    <tr>\n      <th>8071</th>\n      <td>NiO</td>\n      <td>NaN</td>\n      <td>NaN</td>\n      <td>NaN</td>\n      <td>27.6</td>\n      <td>NaN</td>\n      <td>NaN</td>\n      <td>NaN</td>\n      <td>NaN</td>\n      <td>NaN</td>\n      <td>...</td>\n      <td>99.000</td>\n      <td>NaN</td>\n      <td>NaN</td>\n      <td>NaN</td>\n      <td>NaN</td>\n      <td>13.1</td>\n      <td>68.7</td>\n      <td>NaN</td>\n      <td>189.5</td>\n      <td>27.6</td>\n    </tr>\n    <tr>\n      <th>8072</th>\n      <td>Sb2O3</td>\n      <td>NaN</td>\n      <td>NaN</td>\n      <td>NaN</td>\n      <td>-35.3</td>\n      <td>NaN</td>\n      <td>NaN</td>\n      <td>NaN</td>\n      <td>NaN</td>\n      <td>NaN</td>\n      <td>...</td>\n      <td>99.000</td>\n      <td>NaN</td>\n      <td>NaN</td>\n      <td>NaN</td>\n      <td>NaN</td>\n      <td>11.8</td>\n      <td>93.6</td>\n      <td>NaN</td>\n      <td>274.9</td>\n      <td>-35.3</td>\n    </tr>\n    <tr>\n      <th>8073</th>\n      <td>Sb2O3</td>\n      <td>NaN</td>\n      <td>NaN</td>\n      <td>NaN</td>\n      <td>-35.3</td>\n      <td>NaN</td>\n      <td>NaN</td>\n      <td>NaN</td>\n      <td>NaN</td>\n      <td>NaN</td>\n      <td>...</td>\n      <td>99.000</td>\n      <td>NaN</td>\n      <td>NaN</td>\n      <td>NaN</td>\n      <td>NaN</td>\n      <td>11.8</td>\n      <td>93.6</td>\n      <td>NaN</td>\n      <td>274.9</td>\n      <td>-35.3</td>\n    </tr>\n    <tr>\n      <th>8074</th>\n      <td>ZnO</td>\n      <td>NaN</td>\n      <td>NaN</td>\n      <td>NaN</td>\n      <td>28.8</td>\n      <td>NaN</td>\n      <td>NaN</td>\n      <td>NaN</td>\n      <td>NaN</td>\n      <td>NaN</td>\n      <td>...</td>\n      <td>99.700</td>\n      <td>NaN</td>\n      <td>NaN</td>\n      <td>NaN</td>\n      <td>NaN</td>\n      <td>22.6</td>\n      <td>47.4</td>\n      <td>NaN</td>\n      <td>69.4</td>\n      <td>28.8</td>\n    </tr>\n  </tbody>\n</table>\n<p>6718 rows × 31 columns</p>\n</div>"
     },
     "execution_count": 20,
     "metadata": {},
     "output_type": "execute_result"
    }
   ],
   "source": [
    "raw_db"
   ],
   "metadata": {
    "collapsed": false,
    "pycharm": {
     "name": "#%%\n"
    }
   }
  },
  {
   "cell_type": "code",
   "execution_count": 21,
   "outputs": [
    {
     "data": {
      "text/plain": "       size in medium (nm)  zeta in water (mV)  zeta in medium (mV)  \\\ncount          1721.000000         1922.000000          1324.000000   \nmean            197.958751          -20.081129           -12.511140   \nstd             191.536390           23.944318            15.407166   \nmin               7.600000         -158.000000           -63.310000   \n25%              77.000000          -33.330000           -20.670000   \n50%             142.110000          -24.520000           -11.600000   \n75%             230.000000           -8.230000            -8.200000   \nmax            1262.330000           88.000000            48.600000   \n\n       no of cells (cells/well)    time (hr)  concentration (ug/ml)  \\\ncount               3050.000000  6224.000000            4228.000000   \nmean               51588.459016    33.164685              80.751037   \nstd               123995.736807    23.700154             157.869764   \nmin                  300.000000     1.000000               0.000000   \n25%                10000.000000    24.000000               5.000000   \n50%                10000.000000    24.000000              25.000000   \n75%                50000.000000    48.000000             100.000000   \nmax              1000000.000000   336.000000            1600.000000   \n\n       aspect ratio  viability (%)         PDI  zeta potential (mV)  \\\ncount    368.000000    6718.000000  546.000000           869.000000   \nmean     151.461658      75.193507    0.408853            -8.722900   \nstd      500.545165      31.693755    0.227407            27.839407   \nmin        0.100000     -58.897640    0.005000           -48.000000   \n25%        2.880000      57.295575    0.230000           -33.330000   \n50%        8.200000      85.767000    0.360000           -17.600000   \n75%       41.800000      96.649375    0.573000            12.100000   \nmax     3333.000000     404.811700    0.895000            87.000000   \n\n       concentration (μM)  core size (nm)  surface area  \\\ncount        2.274000e+03     1068.000000    1068.00000   \nmean         1.064845e+02       40.319850      86.42603   \nstd          8.981164e+02       35.743746     133.12824   \nmin          1.660539e-20        5.900000       7.00000   \n25%          8.761490e-07       18.300000      21.80000   \n50%          2.801985e-04       28.400000      42.50000   \n75%          6.960233e-03       50.000000      93.10000   \nmax          1.500000e+04      369.000000     640.00000   \n\n       Hydrodynamic diameter (nm)  \ncount                 6571.000000  \nmean                   133.049303  \nstd                    209.080987  \nmin                      1.150000  \n25%                     20.000000  \n50%                     40.000000  \n75%                    179.300000  \nmax                   1843.000000  ",
      "text/html": "<div>\n<style scoped>\n    .dataframe tbody tr th:only-of-type {\n        vertical-align: middle;\n    }\n\n    .dataframe tbody tr th {\n        vertical-align: top;\n    }\n\n    .dataframe thead th {\n        text-align: right;\n    }\n</style>\n<table border=\"1\" class=\"dataframe\">\n  <thead>\n    <tr style=\"text-align: right;\">\n      <th></th>\n      <th>size in medium (nm)</th>\n      <th>zeta in water (mV)</th>\n      <th>zeta in medium (mV)</th>\n      <th>no of cells (cells/well)</th>\n      <th>time (hr)</th>\n      <th>concentration (ug/ml)</th>\n      <th>aspect ratio</th>\n      <th>viability (%)</th>\n      <th>PDI</th>\n      <th>zeta potential (mV)</th>\n      <th>concentration (μM)</th>\n      <th>core size (nm)</th>\n      <th>surface area</th>\n      <th>Hydrodynamic diameter (nm)</th>\n    </tr>\n  </thead>\n  <tbody>\n    <tr>\n      <th>count</th>\n      <td>1721.000000</td>\n      <td>1922.000000</td>\n      <td>1324.000000</td>\n      <td>3050.000000</td>\n      <td>6224.000000</td>\n      <td>4228.000000</td>\n      <td>368.000000</td>\n      <td>6718.000000</td>\n      <td>546.000000</td>\n      <td>869.000000</td>\n      <td>2.274000e+03</td>\n      <td>1068.000000</td>\n      <td>1068.00000</td>\n      <td>6571.000000</td>\n    </tr>\n    <tr>\n      <th>mean</th>\n      <td>197.958751</td>\n      <td>-20.081129</td>\n      <td>-12.511140</td>\n      <td>51588.459016</td>\n      <td>33.164685</td>\n      <td>80.751037</td>\n      <td>151.461658</td>\n      <td>75.193507</td>\n      <td>0.408853</td>\n      <td>-8.722900</td>\n      <td>1.064845e+02</td>\n      <td>40.319850</td>\n      <td>86.42603</td>\n      <td>133.049303</td>\n    </tr>\n    <tr>\n      <th>std</th>\n      <td>191.536390</td>\n      <td>23.944318</td>\n      <td>15.407166</td>\n      <td>123995.736807</td>\n      <td>23.700154</td>\n      <td>157.869764</td>\n      <td>500.545165</td>\n      <td>31.693755</td>\n      <td>0.227407</td>\n      <td>27.839407</td>\n      <td>8.981164e+02</td>\n      <td>35.743746</td>\n      <td>133.12824</td>\n      <td>209.080987</td>\n    </tr>\n    <tr>\n      <th>min</th>\n      <td>7.600000</td>\n      <td>-158.000000</td>\n      <td>-63.310000</td>\n      <td>300.000000</td>\n      <td>1.000000</td>\n      <td>0.000000</td>\n      <td>0.100000</td>\n      <td>-58.897640</td>\n      <td>0.005000</td>\n      <td>-48.000000</td>\n      <td>1.660539e-20</td>\n      <td>5.900000</td>\n      <td>7.00000</td>\n      <td>1.150000</td>\n    </tr>\n    <tr>\n      <th>25%</th>\n      <td>77.000000</td>\n      <td>-33.330000</td>\n      <td>-20.670000</td>\n      <td>10000.000000</td>\n      <td>24.000000</td>\n      <td>5.000000</td>\n      <td>2.880000</td>\n      <td>57.295575</td>\n      <td>0.230000</td>\n      <td>-33.330000</td>\n      <td>8.761490e-07</td>\n      <td>18.300000</td>\n      <td>21.80000</td>\n      <td>20.000000</td>\n    </tr>\n    <tr>\n      <th>50%</th>\n      <td>142.110000</td>\n      <td>-24.520000</td>\n      <td>-11.600000</td>\n      <td>10000.000000</td>\n      <td>24.000000</td>\n      <td>25.000000</td>\n      <td>8.200000</td>\n      <td>85.767000</td>\n      <td>0.360000</td>\n      <td>-17.600000</td>\n      <td>2.801985e-04</td>\n      <td>28.400000</td>\n      <td>42.50000</td>\n      <td>40.000000</td>\n    </tr>\n    <tr>\n      <th>75%</th>\n      <td>230.000000</td>\n      <td>-8.230000</td>\n      <td>-8.200000</td>\n      <td>50000.000000</td>\n      <td>48.000000</td>\n      <td>100.000000</td>\n      <td>41.800000</td>\n      <td>96.649375</td>\n      <td>0.573000</td>\n      <td>12.100000</td>\n      <td>6.960233e-03</td>\n      <td>50.000000</td>\n      <td>93.10000</td>\n      <td>179.300000</td>\n    </tr>\n    <tr>\n      <th>max</th>\n      <td>1262.330000</td>\n      <td>88.000000</td>\n      <td>48.600000</td>\n      <td>1000000.000000</td>\n      <td>336.000000</td>\n      <td>1600.000000</td>\n      <td>3333.000000</td>\n      <td>404.811700</td>\n      <td>0.895000</td>\n      <td>87.000000</td>\n      <td>1.500000e+04</td>\n      <td>369.000000</td>\n      <td>640.00000</td>\n      <td>1843.000000</td>\n    </tr>\n  </tbody>\n</table>\n</div>"
     },
     "execution_count": 21,
     "metadata": {},
     "output_type": "execute_result"
    }
   ],
   "source": [
    "raw_db.describe()"
   ],
   "metadata": {
    "collapsed": false,
    "pycharm": {
     "name": "#%%\n"
    }
   }
  },
  {
   "cell_type": "code",
   "execution_count": 22,
   "outputs": [],
   "source": [
    "raw_db['Zeta potential (mV)'] = raw_db['Zeta potential (mV)'].replace('Negative', np.nan)"
   ],
   "metadata": {
    "collapsed": false,
    "pycharm": {
     "name": "#%%\n"
    }
   }
  },
  {
   "cell_type": "code",
   "execution_count": 23,
   "outputs": [],
   "source": [
    "raw_db['Zeta potential (mV)'] = raw_db['Zeta potential (mV)'].replace('Positive', np.nan)"
   ],
   "metadata": {
    "collapsed": false,
    "pycharm": {
     "name": "#%%\n"
    }
   }
  },
  {
   "cell_type": "code",
   "execution_count": 24,
   "outputs": [],
   "source": [
    "raw_db['Zeta potential (mV)'] = raw_db['Zeta potential (mV)'].replace('Neutral', 0)"
   ],
   "metadata": {
    "collapsed": false,
    "pycharm": {
     "name": "#%%\n"
    }
   }
  },
  {
   "cell_type": "code",
   "execution_count": 25,
   "outputs": [
    {
     "data": {
      "text/plain": "     material   shape coat/functional group synthesismethod surface charge  \\\n0        SiO2  Sphere                  CTAB   Precipitation       Negative   \n1        SiO2  Sphere                  CTAB   Precipitation       Negative   \n2        SiO2  Sphere                  CTAB   Precipitation       Negative   \n3        SiO2  Sphere                  CTAB   Precipitation       Negative   \n4        SiO2  Sphere                  CTAB   Precipitation       Negative   \n...       ...     ...                   ...             ...            ...   \n8070      NiO     NaN                   NaN             NaN           27.6   \n8071      NiO     NaN                   NaN             NaN           27.6   \n8072    Sb2O3     NaN                   NaN             NaN          -35.3   \n8073    Sb2O3     NaN                   NaN             NaN          -35.3   \n8074      ZnO     NaN                   NaN             NaN           28.8   \n\n      size in medium (nm)  zeta in water (mV)  zeta in medium (mV) cell type  \\\n0                   90.09               -35.9                  NaN      PC12   \n1                   90.09               -35.9                  NaN      PC12   \n2                   90.09               -35.9                  NaN      PC12   \n3                   90.09               -35.9                  NaN      PC12   \n4                   90.09               -35.9                  NaN      PC12   \n...                   ...                 ...                  ...       ...   \n8070                  NaN                 NaN                  NaN       NaN   \n8071                  NaN                 NaN                  NaN       NaN   \n8072                  NaN                 NaN                  NaN       NaN   \n8073                  NaN                 NaN                  NaN       NaN   \n8074                  NaN                 NaN                  NaN       NaN   \n\n      no of cells (cells/well)  ... viability (%) PDI  \\\n0                       5000.0  ...       113.670 NaN   \n1                       5000.0  ...        97.265 NaN   \n2                       5000.0  ...       108.730 NaN   \n3                       5000.0  ...        98.451 NaN   \n4                       5000.0  ...        98.056 NaN   \n...                        ...  ...           ...  ..   \n8070                       NaN  ...        99.000 NaN   \n8071                       NaN  ...        99.000 NaN   \n8072                       NaN  ...        99.000 NaN   \n8073                       NaN  ...        99.000 NaN   \n8074                       NaN  ...        99.700 NaN   \n\n                                DOI zeta potential (mV) concentration (μM)  \\\n0     10.3109/15376516.2015.1070229                 NaN                NaN   \n1     10.3109/15376516.2015.1070229                 NaN                NaN   \n2     10.3109/15376516.2015.1070229                 NaN                NaN   \n3     10.3109/15376516.2015.1070229                 NaN                NaN   \n4     10.3109/15376516.2015.1070229                 NaN                NaN   \n...                             ...                 ...                ...   \n8070                            NaN                 NaN                NaN   \n8071                            NaN                 NaN                NaN   \n8072                            NaN                 NaN                NaN   \n8073                            NaN                 NaN                NaN   \n8074                            NaN                 NaN                NaN   \n\n     core size (nm)  surface area  cell type.1 Hydrodynamic diameter (nm)  \\\n0               NaN           NaN          NaN                      386.9   \n1               NaN           NaN          NaN                      386.9   \n2               NaN           NaN          NaN                      386.9   \n3               NaN           NaN          NaN                      386.9   \n4               NaN           NaN          NaN                      386.9   \n...             ...           ...          ...                        ...   \n8070           13.1          68.7          NaN                      189.5   \n8071           13.1          68.7          NaN                      189.5   \n8072           11.8          93.6          NaN                      274.9   \n8073           11.8          93.6          NaN                      274.9   \n8074           22.6          47.4          NaN                       69.4   \n\n     Zeta potential (mV)  \n0                  -35.9  \n1                  -35.9  \n2                  -35.9  \n3                  -35.9  \n4                  -35.9  \n...                  ...  \n8070                27.6  \n8071                27.6  \n8072               -35.3  \n8073               -35.3  \n8074                28.8  \n\n[6718 rows x 31 columns]",
      "text/html": "<div>\n<style scoped>\n    .dataframe tbody tr th:only-of-type {\n        vertical-align: middle;\n    }\n\n    .dataframe tbody tr th {\n        vertical-align: top;\n    }\n\n    .dataframe thead th {\n        text-align: right;\n    }\n</style>\n<table border=\"1\" class=\"dataframe\">\n  <thead>\n    <tr style=\"text-align: right;\">\n      <th></th>\n      <th>material</th>\n      <th>shape</th>\n      <th>coat/functional group</th>\n      <th>synthesismethod</th>\n      <th>surface charge</th>\n      <th>size in medium (nm)</th>\n      <th>zeta in water (mV)</th>\n      <th>zeta in medium (mV)</th>\n      <th>cell type</th>\n      <th>no of cells (cells/well)</th>\n      <th>...</th>\n      <th>viability (%)</th>\n      <th>PDI</th>\n      <th>DOI</th>\n      <th>zeta potential (mV)</th>\n      <th>concentration (μM)</th>\n      <th>core size (nm)</th>\n      <th>surface area</th>\n      <th>cell type.1</th>\n      <th>Hydrodynamic diameter (nm)</th>\n      <th>Zeta potential (mV)</th>\n    </tr>\n  </thead>\n  <tbody>\n    <tr>\n      <th>0</th>\n      <td>SiO2</td>\n      <td>Sphere</td>\n      <td>CTAB</td>\n      <td>Precipitation</td>\n      <td>Negative</td>\n      <td>90.09</td>\n      <td>-35.9</td>\n      <td>NaN</td>\n      <td>PC12</td>\n      <td>5000.0</td>\n      <td>...</td>\n      <td>113.670</td>\n      <td>NaN</td>\n      <td>10.3109/15376516.2015.1070229</td>\n      <td>NaN</td>\n      <td>NaN</td>\n      <td>NaN</td>\n      <td>NaN</td>\n      <td>NaN</td>\n      <td>386.9</td>\n      <td>-35.9</td>\n    </tr>\n    <tr>\n      <th>1</th>\n      <td>SiO2</td>\n      <td>Sphere</td>\n      <td>CTAB</td>\n      <td>Precipitation</td>\n      <td>Negative</td>\n      <td>90.09</td>\n      <td>-35.9</td>\n      <td>NaN</td>\n      <td>PC12</td>\n      <td>5000.0</td>\n      <td>...</td>\n      <td>97.265</td>\n      <td>NaN</td>\n      <td>10.3109/15376516.2015.1070229</td>\n      <td>NaN</td>\n      <td>NaN</td>\n      <td>NaN</td>\n      <td>NaN</td>\n      <td>NaN</td>\n      <td>386.9</td>\n      <td>-35.9</td>\n    </tr>\n    <tr>\n      <th>2</th>\n      <td>SiO2</td>\n      <td>Sphere</td>\n      <td>CTAB</td>\n      <td>Precipitation</td>\n      <td>Negative</td>\n      <td>90.09</td>\n      <td>-35.9</td>\n      <td>NaN</td>\n      <td>PC12</td>\n      <td>5000.0</td>\n      <td>...</td>\n      <td>108.730</td>\n      <td>NaN</td>\n      <td>10.3109/15376516.2015.1070229</td>\n      <td>NaN</td>\n      <td>NaN</td>\n      <td>NaN</td>\n      <td>NaN</td>\n      <td>NaN</td>\n      <td>386.9</td>\n      <td>-35.9</td>\n    </tr>\n    <tr>\n      <th>3</th>\n      <td>SiO2</td>\n      <td>Sphere</td>\n      <td>CTAB</td>\n      <td>Precipitation</td>\n      <td>Negative</td>\n      <td>90.09</td>\n      <td>-35.9</td>\n      <td>NaN</td>\n      <td>PC12</td>\n      <td>5000.0</td>\n      <td>...</td>\n      <td>98.451</td>\n      <td>NaN</td>\n      <td>10.3109/15376516.2015.1070229</td>\n      <td>NaN</td>\n      <td>NaN</td>\n      <td>NaN</td>\n      <td>NaN</td>\n      <td>NaN</td>\n      <td>386.9</td>\n      <td>-35.9</td>\n    </tr>\n    <tr>\n      <th>4</th>\n      <td>SiO2</td>\n      <td>Sphere</td>\n      <td>CTAB</td>\n      <td>Precipitation</td>\n      <td>Negative</td>\n      <td>90.09</td>\n      <td>-35.9</td>\n      <td>NaN</td>\n      <td>PC12</td>\n      <td>5000.0</td>\n      <td>...</td>\n      <td>98.056</td>\n      <td>NaN</td>\n      <td>10.3109/15376516.2015.1070229</td>\n      <td>NaN</td>\n      <td>NaN</td>\n      <td>NaN</td>\n      <td>NaN</td>\n      <td>NaN</td>\n      <td>386.9</td>\n      <td>-35.9</td>\n    </tr>\n    <tr>\n      <th>...</th>\n      <td>...</td>\n      <td>...</td>\n      <td>...</td>\n      <td>...</td>\n      <td>...</td>\n      <td>...</td>\n      <td>...</td>\n      <td>...</td>\n      <td>...</td>\n      <td>...</td>\n      <td>...</td>\n      <td>...</td>\n      <td>...</td>\n      <td>...</td>\n      <td>...</td>\n      <td>...</td>\n      <td>...</td>\n      <td>...</td>\n      <td>...</td>\n      <td>...</td>\n      <td>...</td>\n    </tr>\n    <tr>\n      <th>8070</th>\n      <td>NiO</td>\n      <td>NaN</td>\n      <td>NaN</td>\n      <td>NaN</td>\n      <td>27.6</td>\n      <td>NaN</td>\n      <td>NaN</td>\n      <td>NaN</td>\n      <td>NaN</td>\n      <td>NaN</td>\n      <td>...</td>\n      <td>99.000</td>\n      <td>NaN</td>\n      <td>NaN</td>\n      <td>NaN</td>\n      <td>NaN</td>\n      <td>13.1</td>\n      <td>68.7</td>\n      <td>NaN</td>\n      <td>189.5</td>\n      <td>27.6</td>\n    </tr>\n    <tr>\n      <th>8071</th>\n      <td>NiO</td>\n      <td>NaN</td>\n      <td>NaN</td>\n      <td>NaN</td>\n      <td>27.6</td>\n      <td>NaN</td>\n      <td>NaN</td>\n      <td>NaN</td>\n      <td>NaN</td>\n      <td>NaN</td>\n      <td>...</td>\n      <td>99.000</td>\n      <td>NaN</td>\n      <td>NaN</td>\n      <td>NaN</td>\n      <td>NaN</td>\n      <td>13.1</td>\n      <td>68.7</td>\n      <td>NaN</td>\n      <td>189.5</td>\n      <td>27.6</td>\n    </tr>\n    <tr>\n      <th>8072</th>\n      <td>Sb2O3</td>\n      <td>NaN</td>\n      <td>NaN</td>\n      <td>NaN</td>\n      <td>-35.3</td>\n      <td>NaN</td>\n      <td>NaN</td>\n      <td>NaN</td>\n      <td>NaN</td>\n      <td>NaN</td>\n      <td>...</td>\n      <td>99.000</td>\n      <td>NaN</td>\n      <td>NaN</td>\n      <td>NaN</td>\n      <td>NaN</td>\n      <td>11.8</td>\n      <td>93.6</td>\n      <td>NaN</td>\n      <td>274.9</td>\n      <td>-35.3</td>\n    </tr>\n    <tr>\n      <th>8073</th>\n      <td>Sb2O3</td>\n      <td>NaN</td>\n      <td>NaN</td>\n      <td>NaN</td>\n      <td>-35.3</td>\n      <td>NaN</td>\n      <td>NaN</td>\n      <td>NaN</td>\n      <td>NaN</td>\n      <td>NaN</td>\n      <td>...</td>\n      <td>99.000</td>\n      <td>NaN</td>\n      <td>NaN</td>\n      <td>NaN</td>\n      <td>NaN</td>\n      <td>11.8</td>\n      <td>93.6</td>\n      <td>NaN</td>\n      <td>274.9</td>\n      <td>-35.3</td>\n    </tr>\n    <tr>\n      <th>8074</th>\n      <td>ZnO</td>\n      <td>NaN</td>\n      <td>NaN</td>\n      <td>NaN</td>\n      <td>28.8</td>\n      <td>NaN</td>\n      <td>NaN</td>\n      <td>NaN</td>\n      <td>NaN</td>\n      <td>NaN</td>\n      <td>...</td>\n      <td>99.700</td>\n      <td>NaN</td>\n      <td>NaN</td>\n      <td>NaN</td>\n      <td>NaN</td>\n      <td>22.6</td>\n      <td>47.4</td>\n      <td>NaN</td>\n      <td>69.4</td>\n      <td>28.8</td>\n    </tr>\n  </tbody>\n</table>\n<p>6718 rows × 31 columns</p>\n</div>"
     },
     "execution_count": 25,
     "metadata": {},
     "output_type": "execute_result"
    }
   ],
   "source": [
    "raw_db"
   ],
   "metadata": {
    "collapsed": false,
    "pycharm": {
     "name": "#%%\n"
    }
   }
  },
  {
   "cell_type": "code",
   "execution_count": 26,
   "outputs": [
    {
     "data": {
      "text/plain": "       size in medium (nm)  zeta in water (mV)  zeta in medium (mV)  \\\ncount          1721.000000         1922.000000          1324.000000   \nmean            197.958751          -20.081129           -12.511140   \nstd             191.536390           23.944318            15.407166   \nmin               7.600000         -158.000000           -63.310000   \n25%              77.000000          -33.330000           -20.670000   \n50%             142.110000          -24.520000           -11.600000   \n75%             230.000000           -8.230000            -8.200000   \nmax            1262.330000           88.000000            48.600000   \n\n       no of cells (cells/well)    time (hr)  concentration (ug/ml)  \\\ncount               3050.000000  6224.000000            4228.000000   \nmean               51588.459016    33.164685              80.751037   \nstd               123995.736807    23.700154             157.869764   \nmin                  300.000000     1.000000               0.000000   \n25%                10000.000000    24.000000               5.000000   \n50%                10000.000000    24.000000              25.000000   \n75%                50000.000000    48.000000             100.000000   \nmax              1000000.000000   336.000000            1600.000000   \n\n       aspect ratio  viability (%)         PDI  zeta potential (mV)  \\\ncount    368.000000    6718.000000  546.000000           869.000000   \nmean     151.461658      75.193507    0.408853            -8.722900   \nstd      500.545165      31.693755    0.227407            27.839407   \nmin        0.100000     -58.897640    0.005000           -48.000000   \n25%        2.880000      57.295575    0.230000           -33.330000   \n50%        8.200000      85.767000    0.360000           -17.600000   \n75%       41.800000      96.649375    0.573000            12.100000   \nmax     3333.000000     404.811700    0.895000            87.000000   \n\n       concentration (μM)  core size (nm)  surface area  \\\ncount        2.274000e+03     1068.000000    1068.00000   \nmean         1.064845e+02       40.319850      86.42603   \nstd          8.981164e+02       35.743746     133.12824   \nmin          1.660539e-20        5.900000       7.00000   \n25%          8.761490e-07       18.300000      21.80000   \n50%          2.801985e-04       28.400000      42.50000   \n75%          6.960233e-03       50.000000      93.10000   \nmax          1.500000e+04      369.000000     640.00000   \n\n       Hydrodynamic diameter (nm)  Zeta potential (mV)  \ncount                 6571.000000          3863.000000  \nmean                   133.049303           -11.298713  \nstd                    209.080987            27.814476  \nmin                      1.150000          -158.000000  \n25%                     20.000000           -32.660000  \n50%                     40.000000           -13.500000  \n75%                    179.300000             6.500000  \nmax                   1843.000000            88.000000  ",
      "text/html": "<div>\n<style scoped>\n    .dataframe tbody tr th:only-of-type {\n        vertical-align: middle;\n    }\n\n    .dataframe tbody tr th {\n        vertical-align: top;\n    }\n\n    .dataframe thead th {\n        text-align: right;\n    }\n</style>\n<table border=\"1\" class=\"dataframe\">\n  <thead>\n    <tr style=\"text-align: right;\">\n      <th></th>\n      <th>size in medium (nm)</th>\n      <th>zeta in water (mV)</th>\n      <th>zeta in medium (mV)</th>\n      <th>no of cells (cells/well)</th>\n      <th>time (hr)</th>\n      <th>concentration (ug/ml)</th>\n      <th>aspect ratio</th>\n      <th>viability (%)</th>\n      <th>PDI</th>\n      <th>zeta potential (mV)</th>\n      <th>concentration (μM)</th>\n      <th>core size (nm)</th>\n      <th>surface area</th>\n      <th>Hydrodynamic diameter (nm)</th>\n      <th>Zeta potential (mV)</th>\n    </tr>\n  </thead>\n  <tbody>\n    <tr>\n      <th>count</th>\n      <td>1721.000000</td>\n      <td>1922.000000</td>\n      <td>1324.000000</td>\n      <td>3050.000000</td>\n      <td>6224.000000</td>\n      <td>4228.000000</td>\n      <td>368.000000</td>\n      <td>6718.000000</td>\n      <td>546.000000</td>\n      <td>869.000000</td>\n      <td>2.274000e+03</td>\n      <td>1068.000000</td>\n      <td>1068.00000</td>\n      <td>6571.000000</td>\n      <td>3863.000000</td>\n    </tr>\n    <tr>\n      <th>mean</th>\n      <td>197.958751</td>\n      <td>-20.081129</td>\n      <td>-12.511140</td>\n      <td>51588.459016</td>\n      <td>33.164685</td>\n      <td>80.751037</td>\n      <td>151.461658</td>\n      <td>75.193507</td>\n      <td>0.408853</td>\n      <td>-8.722900</td>\n      <td>1.064845e+02</td>\n      <td>40.319850</td>\n      <td>86.42603</td>\n      <td>133.049303</td>\n      <td>-11.298713</td>\n    </tr>\n    <tr>\n      <th>std</th>\n      <td>191.536390</td>\n      <td>23.944318</td>\n      <td>15.407166</td>\n      <td>123995.736807</td>\n      <td>23.700154</td>\n      <td>157.869764</td>\n      <td>500.545165</td>\n      <td>31.693755</td>\n      <td>0.227407</td>\n      <td>27.839407</td>\n      <td>8.981164e+02</td>\n      <td>35.743746</td>\n      <td>133.12824</td>\n      <td>209.080987</td>\n      <td>27.814476</td>\n    </tr>\n    <tr>\n      <th>min</th>\n      <td>7.600000</td>\n      <td>-158.000000</td>\n      <td>-63.310000</td>\n      <td>300.000000</td>\n      <td>1.000000</td>\n      <td>0.000000</td>\n      <td>0.100000</td>\n      <td>-58.897640</td>\n      <td>0.005000</td>\n      <td>-48.000000</td>\n      <td>1.660539e-20</td>\n      <td>5.900000</td>\n      <td>7.00000</td>\n      <td>1.150000</td>\n      <td>-158.000000</td>\n    </tr>\n    <tr>\n      <th>25%</th>\n      <td>77.000000</td>\n      <td>-33.330000</td>\n      <td>-20.670000</td>\n      <td>10000.000000</td>\n      <td>24.000000</td>\n      <td>5.000000</td>\n      <td>2.880000</td>\n      <td>57.295575</td>\n      <td>0.230000</td>\n      <td>-33.330000</td>\n      <td>8.761490e-07</td>\n      <td>18.300000</td>\n      <td>21.80000</td>\n      <td>20.000000</td>\n      <td>-32.660000</td>\n    </tr>\n    <tr>\n      <th>50%</th>\n      <td>142.110000</td>\n      <td>-24.520000</td>\n      <td>-11.600000</td>\n      <td>10000.000000</td>\n      <td>24.000000</td>\n      <td>25.000000</td>\n      <td>8.200000</td>\n      <td>85.767000</td>\n      <td>0.360000</td>\n      <td>-17.600000</td>\n      <td>2.801985e-04</td>\n      <td>28.400000</td>\n      <td>42.50000</td>\n      <td>40.000000</td>\n      <td>-13.500000</td>\n    </tr>\n    <tr>\n      <th>75%</th>\n      <td>230.000000</td>\n      <td>-8.230000</td>\n      <td>-8.200000</td>\n      <td>50000.000000</td>\n      <td>48.000000</td>\n      <td>100.000000</td>\n      <td>41.800000</td>\n      <td>96.649375</td>\n      <td>0.573000</td>\n      <td>12.100000</td>\n      <td>6.960233e-03</td>\n      <td>50.000000</td>\n      <td>93.10000</td>\n      <td>179.300000</td>\n      <td>6.500000</td>\n    </tr>\n    <tr>\n      <th>max</th>\n      <td>1262.330000</td>\n      <td>88.000000</td>\n      <td>48.600000</td>\n      <td>1000000.000000</td>\n      <td>336.000000</td>\n      <td>1600.000000</td>\n      <td>3333.000000</td>\n      <td>404.811700</td>\n      <td>0.895000</td>\n      <td>87.000000</td>\n      <td>1.500000e+04</td>\n      <td>369.000000</td>\n      <td>640.00000</td>\n      <td>1843.000000</td>\n      <td>88.000000</td>\n    </tr>\n  </tbody>\n</table>\n</div>"
     },
     "execution_count": 26,
     "metadata": {},
     "output_type": "execute_result"
    }
   ],
   "source": [
    "raw_db.describe()"
   ],
   "metadata": {
    "collapsed": false,
    "pycharm": {
     "name": "#%%\n"
    }
   }
  },
  {
   "cell_type": "code",
   "execution_count": 27,
   "outputs": [],
   "source": [
    "raw_db = raw_db.drop(['zeta potential (mV)',\n",
    "                      'zeta in water (mV)'], axis = 1)"
   ],
   "metadata": {
    "collapsed": false,
    "pycharm": {
     "name": "#%%\n"
    }
   }
  },
  {
   "cell_type": "code",
   "execution_count": 28,
   "outputs": [
    {
     "data": {
      "text/plain": "     material   shape coat/functional group synthesismethod surface charge  \\\n0        SiO2  Sphere                  CTAB   Precipitation       Negative   \n1        SiO2  Sphere                  CTAB   Precipitation       Negative   \n2        SiO2  Sphere                  CTAB   Precipitation       Negative   \n3        SiO2  Sphere                  CTAB   Precipitation       Negative   \n4        SiO2  Sphere                  CTAB   Precipitation       Negative   \n...       ...     ...                   ...             ...            ...   \n8070      NiO     NaN                   NaN             NaN           27.6   \n8071      NiO     NaN                   NaN             NaN           27.6   \n8072    Sb2O3     NaN                   NaN             NaN          -35.3   \n8073    Sb2O3     NaN                   NaN             NaN          -35.3   \n8074      ZnO     NaN                   NaN             NaN           28.8   \n\n      size in medium (nm)  zeta in medium (mV) cell type  \\\n0                   90.09                  NaN      PC12   \n1                   90.09                  NaN      PC12   \n2                   90.09                  NaN      PC12   \n3                   90.09                  NaN      PC12   \n4                   90.09                  NaN      PC12   \n...                   ...                  ...       ...   \n8070                  NaN                  NaN       NaN   \n8071                  NaN                  NaN       NaN   \n8072                  NaN                  NaN       NaN   \n8073                  NaN                  NaN       NaN   \n8074                  NaN                  NaN       NaN   \n\n      no of cells (cells/well) human/animal  ... aspect ratio viability (%)  \\\n0                       5000.0            A  ...          NaN       113.670   \n1                       5000.0            A  ...          NaN        97.265   \n2                       5000.0            A  ...          NaN       108.730   \n3                       5000.0            A  ...          NaN        98.451   \n4                       5000.0            A  ...          NaN        98.056   \n...                        ...          ...  ...          ...           ...   \n8070                       NaN          NaN  ...          NaN        99.000   \n8071                       NaN          NaN  ...          NaN        99.000   \n8072                       NaN          NaN  ...          NaN        99.000   \n8073                       NaN          NaN  ...          NaN        99.000   \n8074                       NaN          NaN  ...          NaN        99.700   \n\n     PDI                            DOI concentration (μM)  core size (nm)  \\\n0    NaN  10.3109/15376516.2015.1070229                NaN             NaN   \n1    NaN  10.3109/15376516.2015.1070229                NaN             NaN   \n2    NaN  10.3109/15376516.2015.1070229                NaN             NaN   \n3    NaN  10.3109/15376516.2015.1070229                NaN             NaN   \n4    NaN  10.3109/15376516.2015.1070229                NaN             NaN   \n...   ..                            ...                ...             ...   \n8070 NaN                            NaN                NaN            13.1   \n8071 NaN                            NaN                NaN            13.1   \n8072 NaN                            NaN                NaN            11.8   \n8073 NaN                            NaN                NaN            11.8   \n8074 NaN                            NaN                NaN            22.6   \n\n      surface area cell type.1 Hydrodynamic diameter (nm)  Zeta potential (mV)  \n0              NaN         NaN                      386.9                -35.9  \n1              NaN         NaN                      386.9                -35.9  \n2              NaN         NaN                      386.9                -35.9  \n3              NaN         NaN                      386.9                -35.9  \n4              NaN         NaN                      386.9                -35.9  \n...            ...         ...                        ...                  ...  \n8070          68.7         NaN                      189.5                 27.6  \n8071          68.7         NaN                      189.5                 27.6  \n8072          93.6         NaN                      274.9                -35.3  \n8073          93.6         NaN                      274.9                -35.3  \n8074          47.4         NaN                       69.4                 28.8  \n\n[6718 rows x 29 columns]",
      "text/html": "<div>\n<style scoped>\n    .dataframe tbody tr th:only-of-type {\n        vertical-align: middle;\n    }\n\n    .dataframe tbody tr th {\n        vertical-align: top;\n    }\n\n    .dataframe thead th {\n        text-align: right;\n    }\n</style>\n<table border=\"1\" class=\"dataframe\">\n  <thead>\n    <tr style=\"text-align: right;\">\n      <th></th>\n      <th>material</th>\n      <th>shape</th>\n      <th>coat/functional group</th>\n      <th>synthesismethod</th>\n      <th>surface charge</th>\n      <th>size in medium (nm)</th>\n      <th>zeta in medium (mV)</th>\n      <th>cell type</th>\n      <th>no of cells (cells/well)</th>\n      <th>human/animal</th>\n      <th>...</th>\n      <th>aspect ratio</th>\n      <th>viability (%)</th>\n      <th>PDI</th>\n      <th>DOI</th>\n      <th>concentration (μM)</th>\n      <th>core size (nm)</th>\n      <th>surface area</th>\n      <th>cell type.1</th>\n      <th>Hydrodynamic diameter (nm)</th>\n      <th>Zeta potential (mV)</th>\n    </tr>\n  </thead>\n  <tbody>\n    <tr>\n      <th>0</th>\n      <td>SiO2</td>\n      <td>Sphere</td>\n      <td>CTAB</td>\n      <td>Precipitation</td>\n      <td>Negative</td>\n      <td>90.09</td>\n      <td>NaN</td>\n      <td>PC12</td>\n      <td>5000.0</td>\n      <td>A</td>\n      <td>...</td>\n      <td>NaN</td>\n      <td>113.670</td>\n      <td>NaN</td>\n      <td>10.3109/15376516.2015.1070229</td>\n      <td>NaN</td>\n      <td>NaN</td>\n      <td>NaN</td>\n      <td>NaN</td>\n      <td>386.9</td>\n      <td>-35.9</td>\n    </tr>\n    <tr>\n      <th>1</th>\n      <td>SiO2</td>\n      <td>Sphere</td>\n      <td>CTAB</td>\n      <td>Precipitation</td>\n      <td>Negative</td>\n      <td>90.09</td>\n      <td>NaN</td>\n      <td>PC12</td>\n      <td>5000.0</td>\n      <td>A</td>\n      <td>...</td>\n      <td>NaN</td>\n      <td>97.265</td>\n      <td>NaN</td>\n      <td>10.3109/15376516.2015.1070229</td>\n      <td>NaN</td>\n      <td>NaN</td>\n      <td>NaN</td>\n      <td>NaN</td>\n      <td>386.9</td>\n      <td>-35.9</td>\n    </tr>\n    <tr>\n      <th>2</th>\n      <td>SiO2</td>\n      <td>Sphere</td>\n      <td>CTAB</td>\n      <td>Precipitation</td>\n      <td>Negative</td>\n      <td>90.09</td>\n      <td>NaN</td>\n      <td>PC12</td>\n      <td>5000.0</td>\n      <td>A</td>\n      <td>...</td>\n      <td>NaN</td>\n      <td>108.730</td>\n      <td>NaN</td>\n      <td>10.3109/15376516.2015.1070229</td>\n      <td>NaN</td>\n      <td>NaN</td>\n      <td>NaN</td>\n      <td>NaN</td>\n      <td>386.9</td>\n      <td>-35.9</td>\n    </tr>\n    <tr>\n      <th>3</th>\n      <td>SiO2</td>\n      <td>Sphere</td>\n      <td>CTAB</td>\n      <td>Precipitation</td>\n      <td>Negative</td>\n      <td>90.09</td>\n      <td>NaN</td>\n      <td>PC12</td>\n      <td>5000.0</td>\n      <td>A</td>\n      <td>...</td>\n      <td>NaN</td>\n      <td>98.451</td>\n      <td>NaN</td>\n      <td>10.3109/15376516.2015.1070229</td>\n      <td>NaN</td>\n      <td>NaN</td>\n      <td>NaN</td>\n      <td>NaN</td>\n      <td>386.9</td>\n      <td>-35.9</td>\n    </tr>\n    <tr>\n      <th>4</th>\n      <td>SiO2</td>\n      <td>Sphere</td>\n      <td>CTAB</td>\n      <td>Precipitation</td>\n      <td>Negative</td>\n      <td>90.09</td>\n      <td>NaN</td>\n      <td>PC12</td>\n      <td>5000.0</td>\n      <td>A</td>\n      <td>...</td>\n      <td>NaN</td>\n      <td>98.056</td>\n      <td>NaN</td>\n      <td>10.3109/15376516.2015.1070229</td>\n      <td>NaN</td>\n      <td>NaN</td>\n      <td>NaN</td>\n      <td>NaN</td>\n      <td>386.9</td>\n      <td>-35.9</td>\n    </tr>\n    <tr>\n      <th>...</th>\n      <td>...</td>\n      <td>...</td>\n      <td>...</td>\n      <td>...</td>\n      <td>...</td>\n      <td>...</td>\n      <td>...</td>\n      <td>...</td>\n      <td>...</td>\n      <td>...</td>\n      <td>...</td>\n      <td>...</td>\n      <td>...</td>\n      <td>...</td>\n      <td>...</td>\n      <td>...</td>\n      <td>...</td>\n      <td>...</td>\n      <td>...</td>\n      <td>...</td>\n      <td>...</td>\n    </tr>\n    <tr>\n      <th>8070</th>\n      <td>NiO</td>\n      <td>NaN</td>\n      <td>NaN</td>\n      <td>NaN</td>\n      <td>27.6</td>\n      <td>NaN</td>\n      <td>NaN</td>\n      <td>NaN</td>\n      <td>NaN</td>\n      <td>NaN</td>\n      <td>...</td>\n      <td>NaN</td>\n      <td>99.000</td>\n      <td>NaN</td>\n      <td>NaN</td>\n      <td>NaN</td>\n      <td>13.1</td>\n      <td>68.7</td>\n      <td>NaN</td>\n      <td>189.5</td>\n      <td>27.6</td>\n    </tr>\n    <tr>\n      <th>8071</th>\n      <td>NiO</td>\n      <td>NaN</td>\n      <td>NaN</td>\n      <td>NaN</td>\n      <td>27.6</td>\n      <td>NaN</td>\n      <td>NaN</td>\n      <td>NaN</td>\n      <td>NaN</td>\n      <td>NaN</td>\n      <td>...</td>\n      <td>NaN</td>\n      <td>99.000</td>\n      <td>NaN</td>\n      <td>NaN</td>\n      <td>NaN</td>\n      <td>13.1</td>\n      <td>68.7</td>\n      <td>NaN</td>\n      <td>189.5</td>\n      <td>27.6</td>\n    </tr>\n    <tr>\n      <th>8072</th>\n      <td>Sb2O3</td>\n      <td>NaN</td>\n      <td>NaN</td>\n      <td>NaN</td>\n      <td>-35.3</td>\n      <td>NaN</td>\n      <td>NaN</td>\n      <td>NaN</td>\n      <td>NaN</td>\n      <td>NaN</td>\n      <td>...</td>\n      <td>NaN</td>\n      <td>99.000</td>\n      <td>NaN</td>\n      <td>NaN</td>\n      <td>NaN</td>\n      <td>11.8</td>\n      <td>93.6</td>\n      <td>NaN</td>\n      <td>274.9</td>\n      <td>-35.3</td>\n    </tr>\n    <tr>\n      <th>8073</th>\n      <td>Sb2O3</td>\n      <td>NaN</td>\n      <td>NaN</td>\n      <td>NaN</td>\n      <td>-35.3</td>\n      <td>NaN</td>\n      <td>NaN</td>\n      <td>NaN</td>\n      <td>NaN</td>\n      <td>NaN</td>\n      <td>...</td>\n      <td>NaN</td>\n      <td>99.000</td>\n      <td>NaN</td>\n      <td>NaN</td>\n      <td>NaN</td>\n      <td>11.8</td>\n      <td>93.6</td>\n      <td>NaN</td>\n      <td>274.9</td>\n      <td>-35.3</td>\n    </tr>\n    <tr>\n      <th>8074</th>\n      <td>ZnO</td>\n      <td>NaN</td>\n      <td>NaN</td>\n      <td>NaN</td>\n      <td>28.8</td>\n      <td>NaN</td>\n      <td>NaN</td>\n      <td>NaN</td>\n      <td>NaN</td>\n      <td>NaN</td>\n      <td>...</td>\n      <td>NaN</td>\n      <td>99.700</td>\n      <td>NaN</td>\n      <td>NaN</td>\n      <td>NaN</td>\n      <td>22.6</td>\n      <td>47.4</td>\n      <td>NaN</td>\n      <td>69.4</td>\n      <td>28.8</td>\n    </tr>\n  </tbody>\n</table>\n<p>6718 rows × 29 columns</p>\n</div>"
     },
     "execution_count": 28,
     "metadata": {},
     "output_type": "execute_result"
    }
   ],
   "source": [
    "raw_db"
   ],
   "metadata": {
    "collapsed": false,
    "pycharm": {
     "name": "#%%\n"
    }
   }
  },
  {
   "cell_type": "code",
   "execution_count": 29,
   "outputs": [],
   "source": [
    "raw_db['Cell type'] = np.nan"
   ],
   "metadata": {
    "collapsed": false,
    "pycharm": {
     "name": "#%%\n"
    }
   }
  },
  {
   "cell_type": "code",
   "execution_count": 30,
   "outputs": [],
   "source": [
    "raw_db['Cell type'].fillna(raw_db['cell type'],\n",
    "                                     inplace=True)\n",
    "raw_db['Cell type'].fillna(raw_db['cell type.1'],\n",
    "                                     inplace=True)"
   ],
   "metadata": {
    "collapsed": false,
    "pycharm": {
     "name": "#%%\n"
    }
   }
  },
  {
   "cell_type": "code",
   "execution_count": 31,
   "outputs": [
    {
     "data": {
      "text/plain": "     material   shape coat/functional group synthesismethod surface charge  \\\n0        SiO2  Sphere                  CTAB   Precipitation       Negative   \n1        SiO2  Sphere                  CTAB   Precipitation       Negative   \n2        SiO2  Sphere                  CTAB   Precipitation       Negative   \n3        SiO2  Sphere                  CTAB   Precipitation       Negative   \n4        SiO2  Sphere                  CTAB   Precipitation       Negative   \n...       ...     ...                   ...             ...            ...   \n8070      NiO     NaN                   NaN             NaN           27.6   \n8071      NiO     NaN                   NaN             NaN           27.6   \n8072    Sb2O3     NaN                   NaN             NaN          -35.3   \n8073    Sb2O3     NaN                   NaN             NaN          -35.3   \n8074      ZnO     NaN                   NaN             NaN           28.8   \n\n      size in medium (nm)  zeta in medium (mV) cell type  \\\n0                   90.09                  NaN      PC12   \n1                   90.09                  NaN      PC12   \n2                   90.09                  NaN      PC12   \n3                   90.09                  NaN      PC12   \n4                   90.09                  NaN      PC12   \n...                   ...                  ...       ...   \n8070                  NaN                  NaN       NaN   \n8071                  NaN                  NaN       NaN   \n8072                  NaN                  NaN       NaN   \n8073                  NaN                  NaN       NaN   \n8074                  NaN                  NaN       NaN   \n\n      no of cells (cells/well) human/animal  ... viability (%) PDI  \\\n0                       5000.0            A  ...       113.670 NaN   \n1                       5000.0            A  ...        97.265 NaN   \n2                       5000.0            A  ...       108.730 NaN   \n3                       5000.0            A  ...        98.451 NaN   \n4                       5000.0            A  ...        98.056 NaN   \n...                        ...          ...  ...           ...  ..   \n8070                       NaN          NaN  ...        99.000 NaN   \n8071                       NaN          NaN  ...        99.000 NaN   \n8072                       NaN          NaN  ...        99.000 NaN   \n8073                       NaN          NaN  ...        99.000 NaN   \n8074                       NaN          NaN  ...        99.700 NaN   \n\n                                DOI concentration (μM) core size (nm)  \\\n0     10.3109/15376516.2015.1070229                NaN            NaN   \n1     10.3109/15376516.2015.1070229                NaN            NaN   \n2     10.3109/15376516.2015.1070229                NaN            NaN   \n3     10.3109/15376516.2015.1070229                NaN            NaN   \n4     10.3109/15376516.2015.1070229                NaN            NaN   \n...                             ...                ...            ...   \n8070                            NaN                NaN           13.1   \n8071                            NaN                NaN           13.1   \n8072                            NaN                NaN           11.8   \n8073                            NaN                NaN           11.8   \n8074                            NaN                NaN           22.6   \n\n      surface area  cell type.1 Hydrodynamic diameter (nm)  \\\n0              NaN          NaN                      386.9   \n1              NaN          NaN                      386.9   \n2              NaN          NaN                      386.9   \n3              NaN          NaN                      386.9   \n4              NaN          NaN                      386.9   \n...            ...          ...                        ...   \n8070          68.7          NaN                      189.5   \n8071          68.7          NaN                      189.5   \n8072          93.6          NaN                      274.9   \n8073          93.6          NaN                      274.9   \n8074          47.4          NaN                       69.4   \n\n     Zeta potential (mV)  Cell type  \n0                  -35.9       PC12  \n1                  -35.9       PC12  \n2                  -35.9       PC12  \n3                  -35.9       PC12  \n4                  -35.9       PC12  \n...                  ...        ...  \n8070                27.6        NaN  \n8071                27.6        NaN  \n8072               -35.3        NaN  \n8073               -35.3        NaN  \n8074                28.8        NaN  \n\n[6718 rows x 30 columns]",
      "text/html": "<div>\n<style scoped>\n    .dataframe tbody tr th:only-of-type {\n        vertical-align: middle;\n    }\n\n    .dataframe tbody tr th {\n        vertical-align: top;\n    }\n\n    .dataframe thead th {\n        text-align: right;\n    }\n</style>\n<table border=\"1\" class=\"dataframe\">\n  <thead>\n    <tr style=\"text-align: right;\">\n      <th></th>\n      <th>material</th>\n      <th>shape</th>\n      <th>coat/functional group</th>\n      <th>synthesismethod</th>\n      <th>surface charge</th>\n      <th>size in medium (nm)</th>\n      <th>zeta in medium (mV)</th>\n      <th>cell type</th>\n      <th>no of cells (cells/well)</th>\n      <th>human/animal</th>\n      <th>...</th>\n      <th>viability (%)</th>\n      <th>PDI</th>\n      <th>DOI</th>\n      <th>concentration (μM)</th>\n      <th>core size (nm)</th>\n      <th>surface area</th>\n      <th>cell type.1</th>\n      <th>Hydrodynamic diameter (nm)</th>\n      <th>Zeta potential (mV)</th>\n      <th>Cell type</th>\n    </tr>\n  </thead>\n  <tbody>\n    <tr>\n      <th>0</th>\n      <td>SiO2</td>\n      <td>Sphere</td>\n      <td>CTAB</td>\n      <td>Precipitation</td>\n      <td>Negative</td>\n      <td>90.09</td>\n      <td>NaN</td>\n      <td>PC12</td>\n      <td>5000.0</td>\n      <td>A</td>\n      <td>...</td>\n      <td>113.670</td>\n      <td>NaN</td>\n      <td>10.3109/15376516.2015.1070229</td>\n      <td>NaN</td>\n      <td>NaN</td>\n      <td>NaN</td>\n      <td>NaN</td>\n      <td>386.9</td>\n      <td>-35.9</td>\n      <td>PC12</td>\n    </tr>\n    <tr>\n      <th>1</th>\n      <td>SiO2</td>\n      <td>Sphere</td>\n      <td>CTAB</td>\n      <td>Precipitation</td>\n      <td>Negative</td>\n      <td>90.09</td>\n      <td>NaN</td>\n      <td>PC12</td>\n      <td>5000.0</td>\n      <td>A</td>\n      <td>...</td>\n      <td>97.265</td>\n      <td>NaN</td>\n      <td>10.3109/15376516.2015.1070229</td>\n      <td>NaN</td>\n      <td>NaN</td>\n      <td>NaN</td>\n      <td>NaN</td>\n      <td>386.9</td>\n      <td>-35.9</td>\n      <td>PC12</td>\n    </tr>\n    <tr>\n      <th>2</th>\n      <td>SiO2</td>\n      <td>Sphere</td>\n      <td>CTAB</td>\n      <td>Precipitation</td>\n      <td>Negative</td>\n      <td>90.09</td>\n      <td>NaN</td>\n      <td>PC12</td>\n      <td>5000.0</td>\n      <td>A</td>\n      <td>...</td>\n      <td>108.730</td>\n      <td>NaN</td>\n      <td>10.3109/15376516.2015.1070229</td>\n      <td>NaN</td>\n      <td>NaN</td>\n      <td>NaN</td>\n      <td>NaN</td>\n      <td>386.9</td>\n      <td>-35.9</td>\n      <td>PC12</td>\n    </tr>\n    <tr>\n      <th>3</th>\n      <td>SiO2</td>\n      <td>Sphere</td>\n      <td>CTAB</td>\n      <td>Precipitation</td>\n      <td>Negative</td>\n      <td>90.09</td>\n      <td>NaN</td>\n      <td>PC12</td>\n      <td>5000.0</td>\n      <td>A</td>\n      <td>...</td>\n      <td>98.451</td>\n      <td>NaN</td>\n      <td>10.3109/15376516.2015.1070229</td>\n      <td>NaN</td>\n      <td>NaN</td>\n      <td>NaN</td>\n      <td>NaN</td>\n      <td>386.9</td>\n      <td>-35.9</td>\n      <td>PC12</td>\n    </tr>\n    <tr>\n      <th>4</th>\n      <td>SiO2</td>\n      <td>Sphere</td>\n      <td>CTAB</td>\n      <td>Precipitation</td>\n      <td>Negative</td>\n      <td>90.09</td>\n      <td>NaN</td>\n      <td>PC12</td>\n      <td>5000.0</td>\n      <td>A</td>\n      <td>...</td>\n      <td>98.056</td>\n      <td>NaN</td>\n      <td>10.3109/15376516.2015.1070229</td>\n      <td>NaN</td>\n      <td>NaN</td>\n      <td>NaN</td>\n      <td>NaN</td>\n      <td>386.9</td>\n      <td>-35.9</td>\n      <td>PC12</td>\n    </tr>\n    <tr>\n      <th>...</th>\n      <td>...</td>\n      <td>...</td>\n      <td>...</td>\n      <td>...</td>\n      <td>...</td>\n      <td>...</td>\n      <td>...</td>\n      <td>...</td>\n      <td>...</td>\n      <td>...</td>\n      <td>...</td>\n      <td>...</td>\n      <td>...</td>\n      <td>...</td>\n      <td>...</td>\n      <td>...</td>\n      <td>...</td>\n      <td>...</td>\n      <td>...</td>\n      <td>...</td>\n      <td>...</td>\n    </tr>\n    <tr>\n      <th>8070</th>\n      <td>NiO</td>\n      <td>NaN</td>\n      <td>NaN</td>\n      <td>NaN</td>\n      <td>27.6</td>\n      <td>NaN</td>\n      <td>NaN</td>\n      <td>NaN</td>\n      <td>NaN</td>\n      <td>NaN</td>\n      <td>...</td>\n      <td>99.000</td>\n      <td>NaN</td>\n      <td>NaN</td>\n      <td>NaN</td>\n      <td>13.1</td>\n      <td>68.7</td>\n      <td>NaN</td>\n      <td>189.5</td>\n      <td>27.6</td>\n      <td>NaN</td>\n    </tr>\n    <tr>\n      <th>8071</th>\n      <td>NiO</td>\n      <td>NaN</td>\n      <td>NaN</td>\n      <td>NaN</td>\n      <td>27.6</td>\n      <td>NaN</td>\n      <td>NaN</td>\n      <td>NaN</td>\n      <td>NaN</td>\n      <td>NaN</td>\n      <td>...</td>\n      <td>99.000</td>\n      <td>NaN</td>\n      <td>NaN</td>\n      <td>NaN</td>\n      <td>13.1</td>\n      <td>68.7</td>\n      <td>NaN</td>\n      <td>189.5</td>\n      <td>27.6</td>\n      <td>NaN</td>\n    </tr>\n    <tr>\n      <th>8072</th>\n      <td>Sb2O3</td>\n      <td>NaN</td>\n      <td>NaN</td>\n      <td>NaN</td>\n      <td>-35.3</td>\n      <td>NaN</td>\n      <td>NaN</td>\n      <td>NaN</td>\n      <td>NaN</td>\n      <td>NaN</td>\n      <td>...</td>\n      <td>99.000</td>\n      <td>NaN</td>\n      <td>NaN</td>\n      <td>NaN</td>\n      <td>11.8</td>\n      <td>93.6</td>\n      <td>NaN</td>\n      <td>274.9</td>\n      <td>-35.3</td>\n      <td>NaN</td>\n    </tr>\n    <tr>\n      <th>8073</th>\n      <td>Sb2O3</td>\n      <td>NaN</td>\n      <td>NaN</td>\n      <td>NaN</td>\n      <td>-35.3</td>\n      <td>NaN</td>\n      <td>NaN</td>\n      <td>NaN</td>\n      <td>NaN</td>\n      <td>NaN</td>\n      <td>...</td>\n      <td>99.000</td>\n      <td>NaN</td>\n      <td>NaN</td>\n      <td>NaN</td>\n      <td>11.8</td>\n      <td>93.6</td>\n      <td>NaN</td>\n      <td>274.9</td>\n      <td>-35.3</td>\n      <td>NaN</td>\n    </tr>\n    <tr>\n      <th>8074</th>\n      <td>ZnO</td>\n      <td>NaN</td>\n      <td>NaN</td>\n      <td>NaN</td>\n      <td>28.8</td>\n      <td>NaN</td>\n      <td>NaN</td>\n      <td>NaN</td>\n      <td>NaN</td>\n      <td>NaN</td>\n      <td>...</td>\n      <td>99.700</td>\n      <td>NaN</td>\n      <td>NaN</td>\n      <td>NaN</td>\n      <td>22.6</td>\n      <td>47.4</td>\n      <td>NaN</td>\n      <td>69.4</td>\n      <td>28.8</td>\n      <td>NaN</td>\n    </tr>\n  </tbody>\n</table>\n<p>6718 rows × 30 columns</p>\n</div>"
     },
     "execution_count": 31,
     "metadata": {},
     "output_type": "execute_result"
    }
   ],
   "source": [
    "raw_db"
   ],
   "metadata": {
    "collapsed": false,
    "pycharm": {
     "name": "#%%\n"
    }
   }
  },
  {
   "cell_type": "code",
   "execution_count": 32,
   "outputs": [],
   "source": [
    "raw_db = raw_db.drop(['cell type',\n",
    "                      'cell type.1'], axis = 1)"
   ],
   "metadata": {
    "collapsed": false,
    "pycharm": {
     "name": "#%%\n"
    }
   }
  },
  {
   "cell_type": "code",
   "execution_count": 33,
   "outputs": [
    {
     "data": {
      "text/plain": "     material   shape coat/functional group synthesismethod surface charge  \\\n0        SiO2  Sphere                  CTAB   Precipitation       Negative   \n1        SiO2  Sphere                  CTAB   Precipitation       Negative   \n2        SiO2  Sphere                  CTAB   Precipitation       Negative   \n3        SiO2  Sphere                  CTAB   Precipitation       Negative   \n4        SiO2  Sphere                  CTAB   Precipitation       Negative   \n...       ...     ...                   ...             ...            ...   \n8070      NiO     NaN                   NaN             NaN           27.6   \n8071      NiO     NaN                   NaN             NaN           27.6   \n8072    Sb2O3     NaN                   NaN             NaN          -35.3   \n8073    Sb2O3     NaN                   NaN             NaN          -35.3   \n8074      ZnO     NaN                   NaN             NaN           28.8   \n\n      size in medium (nm)  zeta in medium (mV)  no of cells (cells/well)  \\\n0                   90.09                  NaN                    5000.0   \n1                   90.09                  NaN                    5000.0   \n2                   90.09                  NaN                    5000.0   \n3                   90.09                  NaN                    5000.0   \n4                   90.09                  NaN                    5000.0   \n...                   ...                  ...                       ...   \n8070                  NaN                  NaN                       NaN   \n8071                  NaN                  NaN                       NaN   \n8072                  NaN                  NaN                       NaN   \n8073                  NaN                  NaN                       NaN   \n8074                  NaN                  NaN                       NaN   \n\n     human/animal cell source  ... aspect ratio viability (%) PDI  \\\n0               A         Rat  ...          NaN       113.670 NaN   \n1               A         Rat  ...          NaN        97.265 NaN   \n2               A         Rat  ...          NaN       108.730 NaN   \n3               A         Rat  ...          NaN        98.451 NaN   \n4               A         Rat  ...          NaN        98.056 NaN   \n...           ...         ...  ...          ...           ...  ..   \n8070          NaN         NaN  ...          NaN        99.000 NaN   \n8071          NaN         NaN  ...          NaN        99.000 NaN   \n8072          NaN         NaN  ...          NaN        99.000 NaN   \n8073          NaN         NaN  ...          NaN        99.000 NaN   \n8074          NaN         NaN  ...          NaN        99.700 NaN   \n\n                                DOI  concentration (μM)  core size (nm)  \\\n0     10.3109/15376516.2015.1070229                 NaN             NaN   \n1     10.3109/15376516.2015.1070229                 NaN             NaN   \n2     10.3109/15376516.2015.1070229                 NaN             NaN   \n3     10.3109/15376516.2015.1070229                 NaN             NaN   \n4     10.3109/15376516.2015.1070229                 NaN             NaN   \n...                             ...                 ...             ...   \n8070                            NaN                 NaN            13.1   \n8071                            NaN                 NaN            13.1   \n8072                            NaN                 NaN            11.8   \n8073                            NaN                 NaN            11.8   \n8074                            NaN                 NaN            22.6   \n\n     surface area Hydrodynamic diameter (nm)  Zeta potential (mV)  Cell type  \n0             NaN                      386.9                -35.9       PC12  \n1             NaN                      386.9                -35.9       PC12  \n2             NaN                      386.9                -35.9       PC12  \n3             NaN                      386.9                -35.9       PC12  \n4             NaN                      386.9                -35.9       PC12  \n...           ...                        ...                  ...        ...  \n8070         68.7                      189.5                 27.6        NaN  \n8071         68.7                      189.5                 27.6        NaN  \n8072         93.6                      274.9                -35.3        NaN  \n8073         93.6                      274.9                -35.3        NaN  \n8074         47.4                       69.4                 28.8        NaN  \n\n[6718 rows x 28 columns]",
      "text/html": "<div>\n<style scoped>\n    .dataframe tbody tr th:only-of-type {\n        vertical-align: middle;\n    }\n\n    .dataframe tbody tr th {\n        vertical-align: top;\n    }\n\n    .dataframe thead th {\n        text-align: right;\n    }\n</style>\n<table border=\"1\" class=\"dataframe\">\n  <thead>\n    <tr style=\"text-align: right;\">\n      <th></th>\n      <th>material</th>\n      <th>shape</th>\n      <th>coat/functional group</th>\n      <th>synthesismethod</th>\n      <th>surface charge</th>\n      <th>size in medium (nm)</th>\n      <th>zeta in medium (mV)</th>\n      <th>no of cells (cells/well)</th>\n      <th>human/animal</th>\n      <th>cell source</th>\n      <th>...</th>\n      <th>aspect ratio</th>\n      <th>viability (%)</th>\n      <th>PDI</th>\n      <th>DOI</th>\n      <th>concentration (μM)</th>\n      <th>core size (nm)</th>\n      <th>surface area</th>\n      <th>Hydrodynamic diameter (nm)</th>\n      <th>Zeta potential (mV)</th>\n      <th>Cell type</th>\n    </tr>\n  </thead>\n  <tbody>\n    <tr>\n      <th>0</th>\n      <td>SiO2</td>\n      <td>Sphere</td>\n      <td>CTAB</td>\n      <td>Precipitation</td>\n      <td>Negative</td>\n      <td>90.09</td>\n      <td>NaN</td>\n      <td>5000.0</td>\n      <td>A</td>\n      <td>Rat</td>\n      <td>...</td>\n      <td>NaN</td>\n      <td>113.670</td>\n      <td>NaN</td>\n      <td>10.3109/15376516.2015.1070229</td>\n      <td>NaN</td>\n      <td>NaN</td>\n      <td>NaN</td>\n      <td>386.9</td>\n      <td>-35.9</td>\n      <td>PC12</td>\n    </tr>\n    <tr>\n      <th>1</th>\n      <td>SiO2</td>\n      <td>Sphere</td>\n      <td>CTAB</td>\n      <td>Precipitation</td>\n      <td>Negative</td>\n      <td>90.09</td>\n      <td>NaN</td>\n      <td>5000.0</td>\n      <td>A</td>\n      <td>Rat</td>\n      <td>...</td>\n      <td>NaN</td>\n      <td>97.265</td>\n      <td>NaN</td>\n      <td>10.3109/15376516.2015.1070229</td>\n      <td>NaN</td>\n      <td>NaN</td>\n      <td>NaN</td>\n      <td>386.9</td>\n      <td>-35.9</td>\n      <td>PC12</td>\n    </tr>\n    <tr>\n      <th>2</th>\n      <td>SiO2</td>\n      <td>Sphere</td>\n      <td>CTAB</td>\n      <td>Precipitation</td>\n      <td>Negative</td>\n      <td>90.09</td>\n      <td>NaN</td>\n      <td>5000.0</td>\n      <td>A</td>\n      <td>Rat</td>\n      <td>...</td>\n      <td>NaN</td>\n      <td>108.730</td>\n      <td>NaN</td>\n      <td>10.3109/15376516.2015.1070229</td>\n      <td>NaN</td>\n      <td>NaN</td>\n      <td>NaN</td>\n      <td>386.9</td>\n      <td>-35.9</td>\n      <td>PC12</td>\n    </tr>\n    <tr>\n      <th>3</th>\n      <td>SiO2</td>\n      <td>Sphere</td>\n      <td>CTAB</td>\n      <td>Precipitation</td>\n      <td>Negative</td>\n      <td>90.09</td>\n      <td>NaN</td>\n      <td>5000.0</td>\n      <td>A</td>\n      <td>Rat</td>\n      <td>...</td>\n      <td>NaN</td>\n      <td>98.451</td>\n      <td>NaN</td>\n      <td>10.3109/15376516.2015.1070229</td>\n      <td>NaN</td>\n      <td>NaN</td>\n      <td>NaN</td>\n      <td>386.9</td>\n      <td>-35.9</td>\n      <td>PC12</td>\n    </tr>\n    <tr>\n      <th>4</th>\n      <td>SiO2</td>\n      <td>Sphere</td>\n      <td>CTAB</td>\n      <td>Precipitation</td>\n      <td>Negative</td>\n      <td>90.09</td>\n      <td>NaN</td>\n      <td>5000.0</td>\n      <td>A</td>\n      <td>Rat</td>\n      <td>...</td>\n      <td>NaN</td>\n      <td>98.056</td>\n      <td>NaN</td>\n      <td>10.3109/15376516.2015.1070229</td>\n      <td>NaN</td>\n      <td>NaN</td>\n      <td>NaN</td>\n      <td>386.9</td>\n      <td>-35.9</td>\n      <td>PC12</td>\n    </tr>\n    <tr>\n      <th>...</th>\n      <td>...</td>\n      <td>...</td>\n      <td>...</td>\n      <td>...</td>\n      <td>...</td>\n      <td>...</td>\n      <td>...</td>\n      <td>...</td>\n      <td>...</td>\n      <td>...</td>\n      <td>...</td>\n      <td>...</td>\n      <td>...</td>\n      <td>...</td>\n      <td>...</td>\n      <td>...</td>\n      <td>...</td>\n      <td>...</td>\n      <td>...</td>\n      <td>...</td>\n      <td>...</td>\n    </tr>\n    <tr>\n      <th>8070</th>\n      <td>NiO</td>\n      <td>NaN</td>\n      <td>NaN</td>\n      <td>NaN</td>\n      <td>27.6</td>\n      <td>NaN</td>\n      <td>NaN</td>\n      <td>NaN</td>\n      <td>NaN</td>\n      <td>NaN</td>\n      <td>...</td>\n      <td>NaN</td>\n      <td>99.000</td>\n      <td>NaN</td>\n      <td>NaN</td>\n      <td>NaN</td>\n      <td>13.1</td>\n      <td>68.7</td>\n      <td>189.5</td>\n      <td>27.6</td>\n      <td>NaN</td>\n    </tr>\n    <tr>\n      <th>8071</th>\n      <td>NiO</td>\n      <td>NaN</td>\n      <td>NaN</td>\n      <td>NaN</td>\n      <td>27.6</td>\n      <td>NaN</td>\n      <td>NaN</td>\n      <td>NaN</td>\n      <td>NaN</td>\n      <td>NaN</td>\n      <td>...</td>\n      <td>NaN</td>\n      <td>99.000</td>\n      <td>NaN</td>\n      <td>NaN</td>\n      <td>NaN</td>\n      <td>13.1</td>\n      <td>68.7</td>\n      <td>189.5</td>\n      <td>27.6</td>\n      <td>NaN</td>\n    </tr>\n    <tr>\n      <th>8072</th>\n      <td>Sb2O3</td>\n      <td>NaN</td>\n      <td>NaN</td>\n      <td>NaN</td>\n      <td>-35.3</td>\n      <td>NaN</td>\n      <td>NaN</td>\n      <td>NaN</td>\n      <td>NaN</td>\n      <td>NaN</td>\n      <td>...</td>\n      <td>NaN</td>\n      <td>99.000</td>\n      <td>NaN</td>\n      <td>NaN</td>\n      <td>NaN</td>\n      <td>11.8</td>\n      <td>93.6</td>\n      <td>274.9</td>\n      <td>-35.3</td>\n      <td>NaN</td>\n    </tr>\n    <tr>\n      <th>8073</th>\n      <td>Sb2O3</td>\n      <td>NaN</td>\n      <td>NaN</td>\n      <td>NaN</td>\n      <td>-35.3</td>\n      <td>NaN</td>\n      <td>NaN</td>\n      <td>NaN</td>\n      <td>NaN</td>\n      <td>NaN</td>\n      <td>...</td>\n      <td>NaN</td>\n      <td>99.000</td>\n      <td>NaN</td>\n      <td>NaN</td>\n      <td>NaN</td>\n      <td>11.8</td>\n      <td>93.6</td>\n      <td>274.9</td>\n      <td>-35.3</td>\n      <td>NaN</td>\n    </tr>\n    <tr>\n      <th>8074</th>\n      <td>ZnO</td>\n      <td>NaN</td>\n      <td>NaN</td>\n      <td>NaN</td>\n      <td>28.8</td>\n      <td>NaN</td>\n      <td>NaN</td>\n      <td>NaN</td>\n      <td>NaN</td>\n      <td>NaN</td>\n      <td>...</td>\n      <td>NaN</td>\n      <td>99.700</td>\n      <td>NaN</td>\n      <td>NaN</td>\n      <td>NaN</td>\n      <td>22.6</td>\n      <td>47.4</td>\n      <td>69.4</td>\n      <td>28.8</td>\n      <td>NaN</td>\n    </tr>\n  </tbody>\n</table>\n<p>6718 rows × 28 columns</p>\n</div>"
     },
     "execution_count": 33,
     "metadata": {},
     "output_type": "execute_result"
    }
   ],
   "source": [
    "raw_db"
   ],
   "metadata": {
    "collapsed": false,
    "pycharm": {
     "name": "#%%\n"
    }
   }
  },
  {
   "cell_type": "code",
   "execution_count": 34,
   "outputs": [],
   "source": [
    "raw_db = raw_db.drop(['cell line/primary cell',\n",
    "                      'PDI'], axis = 1)"
   ],
   "metadata": {
    "collapsed": false,
    "pycharm": {
     "name": "#%%\n"
    }
   }
  },
  {
   "cell_type": "code",
   "execution_count": 35,
   "outputs": [
    {
     "data": {
      "text/plain": "     material   shape coat/functional group synthesismethod surface charge  \\\n0        SiO2  Sphere                  CTAB   Precipitation       Negative   \n1        SiO2  Sphere                  CTAB   Precipitation       Negative   \n2        SiO2  Sphere                  CTAB   Precipitation       Negative   \n3        SiO2  Sphere                  CTAB   Precipitation       Negative   \n4        SiO2  Sphere                  CTAB   Precipitation       Negative   \n...       ...     ...                   ...             ...            ...   \n8070      NiO     NaN                   NaN             NaN           27.6   \n8071      NiO     NaN                   NaN             NaN           27.6   \n8072    Sb2O3     NaN                   NaN             NaN          -35.3   \n8073    Sb2O3     NaN                   NaN             NaN          -35.3   \n8074      ZnO     NaN                   NaN             NaN           28.8   \n\n      size in medium (nm)  zeta in medium (mV)  no of cells (cells/well)  \\\n0                   90.09                  NaN                    5000.0   \n1                   90.09                  NaN                    5000.0   \n2                   90.09                  NaN                    5000.0   \n3                   90.09                  NaN                    5000.0   \n4                   90.09                  NaN                    5000.0   \n...                   ...                  ...                       ...   \n8070                  NaN                  NaN                       NaN   \n8071                  NaN                  NaN                       NaN   \n8072                  NaN                  NaN                       NaN   \n8073                  NaN                  NaN                       NaN   \n8074                  NaN                  NaN                       NaN   \n\n     human/animal cell source  ...   test indicator aspect ratio  \\\n0               A         Rat  ...  TetrazoliumSalt          NaN   \n1               A         Rat  ...  TetrazoliumSalt          NaN   \n2               A         Rat  ...  TetrazoliumSalt          NaN   \n3               A         Rat  ...  TetrazoliumSalt          NaN   \n4               A         Rat  ...  TetrazoliumSalt          NaN   \n...           ...         ...  ...              ...          ...   \n8070          NaN         NaN  ...              NaN          NaN   \n8071          NaN         NaN  ...              NaN          NaN   \n8072          NaN         NaN  ...              NaN          NaN   \n8073          NaN         NaN  ...              NaN          NaN   \n8074          NaN         NaN  ...              NaN          NaN   \n\n     viability (%)                            DOI  concentration (μM)  \\\n0          113.670  10.3109/15376516.2015.1070229                 NaN   \n1           97.265  10.3109/15376516.2015.1070229                 NaN   \n2          108.730  10.3109/15376516.2015.1070229                 NaN   \n3           98.451  10.3109/15376516.2015.1070229                 NaN   \n4           98.056  10.3109/15376516.2015.1070229                 NaN   \n...            ...                            ...                 ...   \n8070        99.000                            NaN                 NaN   \n8071        99.000                            NaN                 NaN   \n8072        99.000                            NaN                 NaN   \n8073        99.000                            NaN                 NaN   \n8074        99.700                            NaN                 NaN   \n\n     core size (nm) surface area  Hydrodynamic diameter (nm)  \\\n0               NaN          NaN                       386.9   \n1               NaN          NaN                       386.9   \n2               NaN          NaN                       386.9   \n3               NaN          NaN                       386.9   \n4               NaN          NaN                       386.9   \n...             ...          ...                         ...   \n8070           13.1         68.7                       189.5   \n8071           13.1         68.7                       189.5   \n8072           11.8         93.6                       274.9   \n8073           11.8         93.6                       274.9   \n8074           22.6         47.4                        69.4   \n\n      Zeta potential (mV) Cell type  \n0                   -35.9      PC12  \n1                   -35.9      PC12  \n2                   -35.9      PC12  \n3                   -35.9      PC12  \n4                   -35.9      PC12  \n...                   ...       ...  \n8070                 27.6       NaN  \n8071                 27.6       NaN  \n8072                -35.3       NaN  \n8073                -35.3       NaN  \n8074                 28.8       NaN  \n\n[6718 rows x 26 columns]",
      "text/html": "<div>\n<style scoped>\n    .dataframe tbody tr th:only-of-type {\n        vertical-align: middle;\n    }\n\n    .dataframe tbody tr th {\n        vertical-align: top;\n    }\n\n    .dataframe thead th {\n        text-align: right;\n    }\n</style>\n<table border=\"1\" class=\"dataframe\">\n  <thead>\n    <tr style=\"text-align: right;\">\n      <th></th>\n      <th>material</th>\n      <th>shape</th>\n      <th>coat/functional group</th>\n      <th>synthesismethod</th>\n      <th>surface charge</th>\n      <th>size in medium (nm)</th>\n      <th>zeta in medium (mV)</th>\n      <th>no of cells (cells/well)</th>\n      <th>human/animal</th>\n      <th>cell source</th>\n      <th>...</th>\n      <th>test indicator</th>\n      <th>aspect ratio</th>\n      <th>viability (%)</th>\n      <th>DOI</th>\n      <th>concentration (μM)</th>\n      <th>core size (nm)</th>\n      <th>surface area</th>\n      <th>Hydrodynamic diameter (nm)</th>\n      <th>Zeta potential (mV)</th>\n      <th>Cell type</th>\n    </tr>\n  </thead>\n  <tbody>\n    <tr>\n      <th>0</th>\n      <td>SiO2</td>\n      <td>Sphere</td>\n      <td>CTAB</td>\n      <td>Precipitation</td>\n      <td>Negative</td>\n      <td>90.09</td>\n      <td>NaN</td>\n      <td>5000.0</td>\n      <td>A</td>\n      <td>Rat</td>\n      <td>...</td>\n      <td>TetrazoliumSalt</td>\n      <td>NaN</td>\n      <td>113.670</td>\n      <td>10.3109/15376516.2015.1070229</td>\n      <td>NaN</td>\n      <td>NaN</td>\n      <td>NaN</td>\n      <td>386.9</td>\n      <td>-35.9</td>\n      <td>PC12</td>\n    </tr>\n    <tr>\n      <th>1</th>\n      <td>SiO2</td>\n      <td>Sphere</td>\n      <td>CTAB</td>\n      <td>Precipitation</td>\n      <td>Negative</td>\n      <td>90.09</td>\n      <td>NaN</td>\n      <td>5000.0</td>\n      <td>A</td>\n      <td>Rat</td>\n      <td>...</td>\n      <td>TetrazoliumSalt</td>\n      <td>NaN</td>\n      <td>97.265</td>\n      <td>10.3109/15376516.2015.1070229</td>\n      <td>NaN</td>\n      <td>NaN</td>\n      <td>NaN</td>\n      <td>386.9</td>\n      <td>-35.9</td>\n      <td>PC12</td>\n    </tr>\n    <tr>\n      <th>2</th>\n      <td>SiO2</td>\n      <td>Sphere</td>\n      <td>CTAB</td>\n      <td>Precipitation</td>\n      <td>Negative</td>\n      <td>90.09</td>\n      <td>NaN</td>\n      <td>5000.0</td>\n      <td>A</td>\n      <td>Rat</td>\n      <td>...</td>\n      <td>TetrazoliumSalt</td>\n      <td>NaN</td>\n      <td>108.730</td>\n      <td>10.3109/15376516.2015.1070229</td>\n      <td>NaN</td>\n      <td>NaN</td>\n      <td>NaN</td>\n      <td>386.9</td>\n      <td>-35.9</td>\n      <td>PC12</td>\n    </tr>\n    <tr>\n      <th>3</th>\n      <td>SiO2</td>\n      <td>Sphere</td>\n      <td>CTAB</td>\n      <td>Precipitation</td>\n      <td>Negative</td>\n      <td>90.09</td>\n      <td>NaN</td>\n      <td>5000.0</td>\n      <td>A</td>\n      <td>Rat</td>\n      <td>...</td>\n      <td>TetrazoliumSalt</td>\n      <td>NaN</td>\n      <td>98.451</td>\n      <td>10.3109/15376516.2015.1070229</td>\n      <td>NaN</td>\n      <td>NaN</td>\n      <td>NaN</td>\n      <td>386.9</td>\n      <td>-35.9</td>\n      <td>PC12</td>\n    </tr>\n    <tr>\n      <th>4</th>\n      <td>SiO2</td>\n      <td>Sphere</td>\n      <td>CTAB</td>\n      <td>Precipitation</td>\n      <td>Negative</td>\n      <td>90.09</td>\n      <td>NaN</td>\n      <td>5000.0</td>\n      <td>A</td>\n      <td>Rat</td>\n      <td>...</td>\n      <td>TetrazoliumSalt</td>\n      <td>NaN</td>\n      <td>98.056</td>\n      <td>10.3109/15376516.2015.1070229</td>\n      <td>NaN</td>\n      <td>NaN</td>\n      <td>NaN</td>\n      <td>386.9</td>\n      <td>-35.9</td>\n      <td>PC12</td>\n    </tr>\n    <tr>\n      <th>...</th>\n      <td>...</td>\n      <td>...</td>\n      <td>...</td>\n      <td>...</td>\n      <td>...</td>\n      <td>...</td>\n      <td>...</td>\n      <td>...</td>\n      <td>...</td>\n      <td>...</td>\n      <td>...</td>\n      <td>...</td>\n      <td>...</td>\n      <td>...</td>\n      <td>...</td>\n      <td>...</td>\n      <td>...</td>\n      <td>...</td>\n      <td>...</td>\n      <td>...</td>\n      <td>...</td>\n    </tr>\n    <tr>\n      <th>8070</th>\n      <td>NiO</td>\n      <td>NaN</td>\n      <td>NaN</td>\n      <td>NaN</td>\n      <td>27.6</td>\n      <td>NaN</td>\n      <td>NaN</td>\n      <td>NaN</td>\n      <td>NaN</td>\n      <td>NaN</td>\n      <td>...</td>\n      <td>NaN</td>\n      <td>NaN</td>\n      <td>99.000</td>\n      <td>NaN</td>\n      <td>NaN</td>\n      <td>13.1</td>\n      <td>68.7</td>\n      <td>189.5</td>\n      <td>27.6</td>\n      <td>NaN</td>\n    </tr>\n    <tr>\n      <th>8071</th>\n      <td>NiO</td>\n      <td>NaN</td>\n      <td>NaN</td>\n      <td>NaN</td>\n      <td>27.6</td>\n      <td>NaN</td>\n      <td>NaN</td>\n      <td>NaN</td>\n      <td>NaN</td>\n      <td>NaN</td>\n      <td>...</td>\n      <td>NaN</td>\n      <td>NaN</td>\n      <td>99.000</td>\n      <td>NaN</td>\n      <td>NaN</td>\n      <td>13.1</td>\n      <td>68.7</td>\n      <td>189.5</td>\n      <td>27.6</td>\n      <td>NaN</td>\n    </tr>\n    <tr>\n      <th>8072</th>\n      <td>Sb2O3</td>\n      <td>NaN</td>\n      <td>NaN</td>\n      <td>NaN</td>\n      <td>-35.3</td>\n      <td>NaN</td>\n      <td>NaN</td>\n      <td>NaN</td>\n      <td>NaN</td>\n      <td>NaN</td>\n      <td>...</td>\n      <td>NaN</td>\n      <td>NaN</td>\n      <td>99.000</td>\n      <td>NaN</td>\n      <td>NaN</td>\n      <td>11.8</td>\n      <td>93.6</td>\n      <td>274.9</td>\n      <td>-35.3</td>\n      <td>NaN</td>\n    </tr>\n    <tr>\n      <th>8073</th>\n      <td>Sb2O3</td>\n      <td>NaN</td>\n      <td>NaN</td>\n      <td>NaN</td>\n      <td>-35.3</td>\n      <td>NaN</td>\n      <td>NaN</td>\n      <td>NaN</td>\n      <td>NaN</td>\n      <td>NaN</td>\n      <td>...</td>\n      <td>NaN</td>\n      <td>NaN</td>\n      <td>99.000</td>\n      <td>NaN</td>\n      <td>NaN</td>\n      <td>11.8</td>\n      <td>93.6</td>\n      <td>274.9</td>\n      <td>-35.3</td>\n      <td>NaN</td>\n    </tr>\n    <tr>\n      <th>8074</th>\n      <td>ZnO</td>\n      <td>NaN</td>\n      <td>NaN</td>\n      <td>NaN</td>\n      <td>28.8</td>\n      <td>NaN</td>\n      <td>NaN</td>\n      <td>NaN</td>\n      <td>NaN</td>\n      <td>NaN</td>\n      <td>...</td>\n      <td>NaN</td>\n      <td>NaN</td>\n      <td>99.700</td>\n      <td>NaN</td>\n      <td>NaN</td>\n      <td>22.6</td>\n      <td>47.4</td>\n      <td>69.4</td>\n      <td>28.8</td>\n      <td>NaN</td>\n    </tr>\n  </tbody>\n</table>\n<p>6718 rows × 26 columns</p>\n</div>"
     },
     "execution_count": 35,
     "metadata": {},
     "output_type": "execute_result"
    }
   ],
   "source": [
    "raw_db"
   ],
   "metadata": {
    "collapsed": false,
    "pycharm": {
     "name": "#%%\n"
    }
   }
  },
  {
   "cell_type": "code",
   "execution_count": 36,
   "outputs": [
    {
     "data": {
      "text/plain": "       size in medium (nm)  zeta in medium (mV)  no of cells (cells/well)  \\\ncount          1721.000000          1324.000000               3050.000000   \nmean            197.958751           -12.511140              51588.459016   \nstd             191.536390            15.407166             123995.736807   \nmin               7.600000           -63.310000                300.000000   \n25%              77.000000           -20.670000              10000.000000   \n50%             142.110000           -11.600000              10000.000000   \n75%             230.000000            -8.200000              50000.000000   \nmax            1262.330000            48.600000            1000000.000000   \n\n         time (hr)  concentration (ug/ml)  aspect ratio  viability (%)  \\\ncount  6224.000000            4228.000000    368.000000    6718.000000   \nmean     33.164685              80.751037    151.461658      75.193507   \nstd      23.700154             157.869764    500.545165      31.693755   \nmin       1.000000               0.000000      0.100000     -58.897640   \n25%      24.000000               5.000000      2.880000      57.295575   \n50%      24.000000              25.000000      8.200000      85.767000   \n75%      48.000000             100.000000     41.800000      96.649375   \nmax     336.000000            1600.000000   3333.000000     404.811700   \n\n       concentration (μM)  core size (nm)  surface area  \\\ncount        2.274000e+03     1068.000000    1068.00000   \nmean         1.064845e+02       40.319850      86.42603   \nstd          8.981164e+02       35.743746     133.12824   \nmin          1.660539e-20        5.900000       7.00000   \n25%          8.761490e-07       18.300000      21.80000   \n50%          2.801985e-04       28.400000      42.50000   \n75%          6.960233e-03       50.000000      93.10000   \nmax          1.500000e+04      369.000000     640.00000   \n\n       Hydrodynamic diameter (nm)  Zeta potential (mV)  \ncount                 6571.000000          3863.000000  \nmean                   133.049303           -11.298713  \nstd                    209.080987            27.814476  \nmin                      1.150000          -158.000000  \n25%                     20.000000           -32.660000  \n50%                     40.000000           -13.500000  \n75%                    179.300000             6.500000  \nmax                   1843.000000            88.000000  ",
      "text/html": "<div>\n<style scoped>\n    .dataframe tbody tr th:only-of-type {\n        vertical-align: middle;\n    }\n\n    .dataframe tbody tr th {\n        vertical-align: top;\n    }\n\n    .dataframe thead th {\n        text-align: right;\n    }\n</style>\n<table border=\"1\" class=\"dataframe\">\n  <thead>\n    <tr style=\"text-align: right;\">\n      <th></th>\n      <th>size in medium (nm)</th>\n      <th>zeta in medium (mV)</th>\n      <th>no of cells (cells/well)</th>\n      <th>time (hr)</th>\n      <th>concentration (ug/ml)</th>\n      <th>aspect ratio</th>\n      <th>viability (%)</th>\n      <th>concentration (μM)</th>\n      <th>core size (nm)</th>\n      <th>surface area</th>\n      <th>Hydrodynamic diameter (nm)</th>\n      <th>Zeta potential (mV)</th>\n    </tr>\n  </thead>\n  <tbody>\n    <tr>\n      <th>count</th>\n      <td>1721.000000</td>\n      <td>1324.000000</td>\n      <td>3050.000000</td>\n      <td>6224.000000</td>\n      <td>4228.000000</td>\n      <td>368.000000</td>\n      <td>6718.000000</td>\n      <td>2.274000e+03</td>\n      <td>1068.000000</td>\n      <td>1068.00000</td>\n      <td>6571.000000</td>\n      <td>3863.000000</td>\n    </tr>\n    <tr>\n      <th>mean</th>\n      <td>197.958751</td>\n      <td>-12.511140</td>\n      <td>51588.459016</td>\n      <td>33.164685</td>\n      <td>80.751037</td>\n      <td>151.461658</td>\n      <td>75.193507</td>\n      <td>1.064845e+02</td>\n      <td>40.319850</td>\n      <td>86.42603</td>\n      <td>133.049303</td>\n      <td>-11.298713</td>\n    </tr>\n    <tr>\n      <th>std</th>\n      <td>191.536390</td>\n      <td>15.407166</td>\n      <td>123995.736807</td>\n      <td>23.700154</td>\n      <td>157.869764</td>\n      <td>500.545165</td>\n      <td>31.693755</td>\n      <td>8.981164e+02</td>\n      <td>35.743746</td>\n      <td>133.12824</td>\n      <td>209.080987</td>\n      <td>27.814476</td>\n    </tr>\n    <tr>\n      <th>min</th>\n      <td>7.600000</td>\n      <td>-63.310000</td>\n      <td>300.000000</td>\n      <td>1.000000</td>\n      <td>0.000000</td>\n      <td>0.100000</td>\n      <td>-58.897640</td>\n      <td>1.660539e-20</td>\n      <td>5.900000</td>\n      <td>7.00000</td>\n      <td>1.150000</td>\n      <td>-158.000000</td>\n    </tr>\n    <tr>\n      <th>25%</th>\n      <td>77.000000</td>\n      <td>-20.670000</td>\n      <td>10000.000000</td>\n      <td>24.000000</td>\n      <td>5.000000</td>\n      <td>2.880000</td>\n      <td>57.295575</td>\n      <td>8.761490e-07</td>\n      <td>18.300000</td>\n      <td>21.80000</td>\n      <td>20.000000</td>\n      <td>-32.660000</td>\n    </tr>\n    <tr>\n      <th>50%</th>\n      <td>142.110000</td>\n      <td>-11.600000</td>\n      <td>10000.000000</td>\n      <td>24.000000</td>\n      <td>25.000000</td>\n      <td>8.200000</td>\n      <td>85.767000</td>\n      <td>2.801985e-04</td>\n      <td>28.400000</td>\n      <td>42.50000</td>\n      <td>40.000000</td>\n      <td>-13.500000</td>\n    </tr>\n    <tr>\n      <th>75%</th>\n      <td>230.000000</td>\n      <td>-8.200000</td>\n      <td>50000.000000</td>\n      <td>48.000000</td>\n      <td>100.000000</td>\n      <td>41.800000</td>\n      <td>96.649375</td>\n      <td>6.960233e-03</td>\n      <td>50.000000</td>\n      <td>93.10000</td>\n      <td>179.300000</td>\n      <td>6.500000</td>\n    </tr>\n    <tr>\n      <th>max</th>\n      <td>1262.330000</td>\n      <td>48.600000</td>\n      <td>1000000.000000</td>\n      <td>336.000000</td>\n      <td>1600.000000</td>\n      <td>3333.000000</td>\n      <td>404.811700</td>\n      <td>1.500000e+04</td>\n      <td>369.000000</td>\n      <td>640.00000</td>\n      <td>1843.000000</td>\n      <td>88.000000</td>\n    </tr>\n  </tbody>\n</table>\n</div>"
     },
     "execution_count": 36,
     "metadata": {},
     "output_type": "execute_result"
    }
   ],
   "source": [
    "raw_db.describe()"
   ],
   "metadata": {
    "collapsed": false,
    "pycharm": {
     "name": "#%%\n"
    }
   }
  },
  {
   "cell_type": "code",
   "execution_count": 37,
   "outputs": [],
   "source": [
    "raw_db.loc[raw_db[\"viability (%)\"] < 0] = 0"
   ],
   "metadata": {
    "collapsed": false,
    "pycharm": {
     "name": "#%%\n"
    }
   }
  },
  {
   "cell_type": "code",
   "execution_count": 38,
   "outputs": [],
   "source": [
    "raw_db = raw_db.drop(['aspect ratio',\n",
    "                      'concentration (μM)'], axis=1)"
   ],
   "metadata": {
    "collapsed": false,
    "pycharm": {
     "name": "#%%\n"
    }
   }
  },
  {
   "cell_type": "code",
   "execution_count": 39,
   "outputs": [
    {
     "data": {
      "text/plain": "'\\nNeeded parameters:\\n1) Material (CHECKED, 6718 samples)\\n2) Shape (CHECKED, 3387 samples)\\n3) Coating (CHECKED, 4322 samples)\\n4) Cell Source (CHECKED, 6224 samples)\\n5) Cell tissue (CHECKED, 6224 samples)\\n6) Cell morphology (CHECKED, 5652 samples)\\n7) Time, hours (CHECKED, 6224 samples)\\n8) Concentration, ug/ml (CHECKED, 4228 samples)\\n9) Test (CHECKED, 6224 samples)\\n10) Test indicator (CHECKED, 5652 samples)\\n11) Viability (CHECKED, 6718 samples)\\n12) Hydro diameter (CHECKED, 6571 samples)\\n13) Zeta potential (count from mean charge density, for uncoated only) !!!\\n14) Surface area (CHECKED, 1068 samples)\\n15) Core size, nm (CHECKED, 1068 samples)\\n16) No of cells (CHECKED, 3050 samples)\\n'"
     },
     "execution_count": 39,
     "metadata": {},
     "output_type": "execute_result"
    }
   ],
   "source": [
    "'''\n",
    "Needed parameters:\n",
    "1) Material (CHECKED, 6718 samples)\n",
    "2) Shape (CHECKED, 3387 samples)\n",
    "3) Coating (CHECKED, 4322 samples)\n",
    "4) Cell Source (CHECKED, 6224 samples)\n",
    "5) Cell tissue (CHECKED, 6224 samples)\n",
    "6) Cell morphology (CHECKED, 5652 samples)\n",
    "7) Time, hours (CHECKED, 6224 samples)\n",
    "8) Concentration, ug/ml (CHECKED, 4228 samples)\n",
    "9) Test (CHECKED, 6224 samples)\n",
    "10) Test indicator (CHECKED, 5652 samples)\n",
    "11) Viability (CHECKED, 6718 samples)\n",
    "12) Hydro diameter (CHECKED, 6571 samples)\n",
    "13) Zeta potential (count from mean charge density, for uncoated only) !!!\n",
    "14) Surface area (CHECKED, 1068 samples)\n",
    "15) Core size, nm (CHECKED, 1068 samples)\n",
    "16) No of cells (CHECKED, 3050 samples)\n",
    "'''"
   ],
   "metadata": {
    "collapsed": false,
    "pycharm": {
     "name": "#%%\n"
    }
   }
  },
  {
   "cell_type": "code",
   "execution_count": 40,
   "outputs": [
    {
     "data": {
      "text/plain": "5652"
     },
     "execution_count": 40,
     "metadata": {},
     "output_type": "execute_result"
    }
   ],
   "source": [
    "raw_db['test indicator'].value_counts()\n",
    "sum(raw_db['test indicator'].value_counts())"
   ],
   "metadata": {
    "collapsed": false,
    "pycharm": {
     "name": "#%%\n"
    }
   }
  },
  {
   "cell_type": "code",
   "execution_count": 41,
   "outputs": [],
   "source": [
    "from molmass import Formula"
   ],
   "metadata": {
    "collapsed": false,
    "pycharm": {
     "name": "#%%\n"
    }
   }
  },
  {
   "cell_type": "code",
   "execution_count": 42,
   "outputs": [
    {
     "data": {
      "text/plain": "Ag                755\nAu                749\nZnO               727\nTiO2              678\nSiO2              657\nIron oxide        489\nIronOxide         388\nPt                251\nCuO               203\nBi                176\nAl2O3             148\nMWCNT             141\nCeO2               87\nQDs                84\nMgO                84\nSWCNT              82\nHAP                82\nCu2O               80\nNiO                73\nC60                70\nBi2O3              60\nFe2O3              56\nCo                 52\nGd2O3              39\nHfO2               38\nIn2O3              38\nLa2O3              38\nHydroxyapatite     38\nSb2O3              37\nCoO                29\nMn2O3              28\nCo3O4              27\nFe3O4              26\nZrO2               25\nMnO                20\nC70                17\n0                  17\nTi                 16\nCr                 16\nQD                 16\nCarbon             15\nGraphite           12\nDiamond            12\nNi                 10\nCuS                10\nCu                  8\nMo                  5\nCdO                 5\nSe                  4\nName: material, dtype: int64"
     },
     "execution_count": 42,
     "metadata": {},
     "output_type": "execute_result"
    }
   ],
   "source": [
    "raw_db['material'].value_counts()"
   ],
   "metadata": {
    "collapsed": false,
    "pycharm": {
     "name": "#%%\n"
    }
   }
  },
  {
   "cell_type": "code",
   "execution_count": 43,
   "outputs": [],
   "source": [
    "raw_db['material'] = raw_db['material'].replace('IronOxide', 'Fe3O4')\n",
    "raw_db['material'] = raw_db['material'].replace('Iron Oxide', 'Fe3O4')\n",
    "raw_db['material'] = raw_db['material'].replace('Iron oxide', 'Fe3O4')\n",
    "raw_db['material'] = raw_db['material'].replace('MWCNT', 'C')\n",
    "raw_db['material'] = raw_db['material'].replace('SWCNT', 'C')\n",
    "raw_db['material'] = raw_db['material'].replace('Hydroxyapatite', 'CaHCO3')\n",
    "raw_db['material'] = raw_db['material'].replace('HAP', 'CaHCO3')\n",
    "raw_db['material'] = raw_db['material'].replace('Carbon', 'C')\n",
    "raw_db['material'] = raw_db['material'].replace('Diamond', 'C')\n",
    "raw_db['material'] = raw_db['material'].replace('Graphite', 'C')\n",
    "raw_db['material'] = raw_db['material'].replace('C60', 'C')\n",
    "raw_db['material'] = raw_db['material'].replace('C70', 'C')"
   ],
   "metadata": {
    "collapsed": false,
    "pycharm": {
     "name": "#%%\n"
    }
   }
  },
  {
   "cell_type": "code",
   "execution_count": 44,
   "outputs": [],
   "source": [
    "raw_db = raw_db[raw_db.material != 'QD']\n",
    "raw_db = raw_db[raw_db.material != 'QDs']\n",
    "raw_db = raw_db[raw_db.material != 0]"
   ],
   "metadata": {
    "collapsed": false,
    "pycharm": {
     "name": "#%%\n"
    }
   }
  },
  {
   "cell_type": "code",
   "execution_count": 45,
   "outputs": [],
   "source": [
    "materials = list(raw_db['material'])\n",
    "mol_weights = []\n",
    "\n",
    "for material in materials:\n",
    "    mol_weights.append(Formula(material).mass)"
   ],
   "metadata": {
    "collapsed": false,
    "pycharm": {
     "name": "#%%\n"
    }
   }
  },
  {
   "cell_type": "code",
   "execution_count": 46,
   "outputs": [],
   "source": [
    "raw_db['Molecular weight (g/mol)'] = pd.DataFrame({'col':mol_weights})"
   ],
   "metadata": {
    "collapsed": false,
    "pycharm": {
     "name": "#%%\n"
    }
   }
  },
  {
   "cell_type": "code",
   "execution_count": 47,
   "outputs": [
    {
     "data": {
      "text/plain": "     material   shape coat/functional group synthesismethod surface charge  \\\n0        SiO2  Sphere                  CTAB   Precipitation       Negative   \n1        SiO2  Sphere                  CTAB   Precipitation       Negative   \n2        SiO2  Sphere                  CTAB   Precipitation       Negative   \n3        SiO2  Sphere                  CTAB   Precipitation       Negative   \n4        SiO2  Sphere                  CTAB   Precipitation       Negative   \n...       ...     ...                   ...             ...            ...   \n8070      NiO     NaN                   NaN             NaN           27.6   \n8071      NiO     NaN                   NaN             NaN           27.6   \n8072    Sb2O3     NaN                   NaN             NaN          -35.3   \n8073    Sb2O3     NaN                   NaN             NaN          -35.3   \n8074      ZnO     NaN                   NaN             NaN           28.8   \n\n      size in medium (nm)  zeta in medium (mV)  no of cells (cells/well)  \\\n0                   90.09                  NaN                    5000.0   \n1                   90.09                  NaN                    5000.0   \n2                   90.09                  NaN                    5000.0   \n3                   90.09                  NaN                    5000.0   \n4                   90.09                  NaN                    5000.0   \n...                   ...                  ...                       ...   \n8070                  NaN                  NaN                       NaN   \n8071                  NaN                  NaN                       NaN   \n8072                  NaN                  NaN                       NaN   \n8073                  NaN                  NaN                       NaN   \n8074                  NaN                  NaN                       NaN   \n\n     human/animal cell source  ... test   test indicator viability (%)  \\\n0               A         Rat  ...  MTT  TetrazoliumSalt       113.670   \n1               A         Rat  ...  MTT  TetrazoliumSalt        97.265   \n2               A         Rat  ...  MTT  TetrazoliumSalt       108.730   \n3               A         Rat  ...  MTT  TetrazoliumSalt        98.451   \n4               A         Rat  ...  MTT  TetrazoliumSalt        98.056   \n...           ...         ...  ...  ...              ...           ...   \n8070          NaN         NaN  ...  NaN              NaN        99.000   \n8071          NaN         NaN  ...  NaN              NaN        99.000   \n8072          NaN         NaN  ...  NaN              NaN        99.000   \n8073          NaN         NaN  ...  NaN              NaN        99.000   \n8074          NaN         NaN  ...  NaN              NaN        99.700   \n\n                                DOI  core size (nm) surface area  \\\n0     10.3109/15376516.2015.1070229             NaN          NaN   \n1     10.3109/15376516.2015.1070229             NaN          NaN   \n2     10.3109/15376516.2015.1070229             NaN          NaN   \n3     10.3109/15376516.2015.1070229             NaN          NaN   \n4     10.3109/15376516.2015.1070229             NaN          NaN   \n...                             ...             ...          ...   \n8070                            NaN            13.1         68.7   \n8071                            NaN            13.1         68.7   \n8072                            NaN            11.8         93.6   \n8073                            NaN            11.8         93.6   \n8074                            NaN            22.6         47.4   \n\n     Hydrodynamic diameter (nm)  Zeta potential (mV) Cell type  \\\n0                         386.9                -35.9      PC12   \n1                         386.9                -35.9      PC12   \n2                         386.9                -35.9      PC12   \n3                         386.9                -35.9      PC12   \n4                         386.9                -35.9      PC12   \n...                         ...                  ...       ...   \n8070                      189.5                 27.6       NaN   \n8071                      189.5                 27.6       NaN   \n8072                      274.9                -35.3       NaN   \n8073                      274.9                -35.3       NaN   \n8074                       69.4                 28.8       NaN   \n\n      Molecular weight (g/mol)  \n0                     60.08431  \n1                     60.08431  \n2                     60.08431  \n3                     60.08431  \n4                     60.08431  \n...                        ...  \n8070                       NaN  \n8071                       NaN  \n8072                       NaN  \n8073                       NaN  \n8074                       NaN  \n\n[6601 rows x 25 columns]",
      "text/html": "<div>\n<style scoped>\n    .dataframe tbody tr th:only-of-type {\n        vertical-align: middle;\n    }\n\n    .dataframe tbody tr th {\n        vertical-align: top;\n    }\n\n    .dataframe thead th {\n        text-align: right;\n    }\n</style>\n<table border=\"1\" class=\"dataframe\">\n  <thead>\n    <tr style=\"text-align: right;\">\n      <th></th>\n      <th>material</th>\n      <th>shape</th>\n      <th>coat/functional group</th>\n      <th>synthesismethod</th>\n      <th>surface charge</th>\n      <th>size in medium (nm)</th>\n      <th>zeta in medium (mV)</th>\n      <th>no of cells (cells/well)</th>\n      <th>human/animal</th>\n      <th>cell source</th>\n      <th>...</th>\n      <th>test</th>\n      <th>test indicator</th>\n      <th>viability (%)</th>\n      <th>DOI</th>\n      <th>core size (nm)</th>\n      <th>surface area</th>\n      <th>Hydrodynamic diameter (nm)</th>\n      <th>Zeta potential (mV)</th>\n      <th>Cell type</th>\n      <th>Molecular weight (g/mol)</th>\n    </tr>\n  </thead>\n  <tbody>\n    <tr>\n      <th>0</th>\n      <td>SiO2</td>\n      <td>Sphere</td>\n      <td>CTAB</td>\n      <td>Precipitation</td>\n      <td>Negative</td>\n      <td>90.09</td>\n      <td>NaN</td>\n      <td>5000.0</td>\n      <td>A</td>\n      <td>Rat</td>\n      <td>...</td>\n      <td>MTT</td>\n      <td>TetrazoliumSalt</td>\n      <td>113.670</td>\n      <td>10.3109/15376516.2015.1070229</td>\n      <td>NaN</td>\n      <td>NaN</td>\n      <td>386.9</td>\n      <td>-35.9</td>\n      <td>PC12</td>\n      <td>60.08431</td>\n    </tr>\n    <tr>\n      <th>1</th>\n      <td>SiO2</td>\n      <td>Sphere</td>\n      <td>CTAB</td>\n      <td>Precipitation</td>\n      <td>Negative</td>\n      <td>90.09</td>\n      <td>NaN</td>\n      <td>5000.0</td>\n      <td>A</td>\n      <td>Rat</td>\n      <td>...</td>\n      <td>MTT</td>\n      <td>TetrazoliumSalt</td>\n      <td>97.265</td>\n      <td>10.3109/15376516.2015.1070229</td>\n      <td>NaN</td>\n      <td>NaN</td>\n      <td>386.9</td>\n      <td>-35.9</td>\n      <td>PC12</td>\n      <td>60.08431</td>\n    </tr>\n    <tr>\n      <th>2</th>\n      <td>SiO2</td>\n      <td>Sphere</td>\n      <td>CTAB</td>\n      <td>Precipitation</td>\n      <td>Negative</td>\n      <td>90.09</td>\n      <td>NaN</td>\n      <td>5000.0</td>\n      <td>A</td>\n      <td>Rat</td>\n      <td>...</td>\n      <td>MTT</td>\n      <td>TetrazoliumSalt</td>\n      <td>108.730</td>\n      <td>10.3109/15376516.2015.1070229</td>\n      <td>NaN</td>\n      <td>NaN</td>\n      <td>386.9</td>\n      <td>-35.9</td>\n      <td>PC12</td>\n      <td>60.08431</td>\n    </tr>\n    <tr>\n      <th>3</th>\n      <td>SiO2</td>\n      <td>Sphere</td>\n      <td>CTAB</td>\n      <td>Precipitation</td>\n      <td>Negative</td>\n      <td>90.09</td>\n      <td>NaN</td>\n      <td>5000.0</td>\n      <td>A</td>\n      <td>Rat</td>\n      <td>...</td>\n      <td>MTT</td>\n      <td>TetrazoliumSalt</td>\n      <td>98.451</td>\n      <td>10.3109/15376516.2015.1070229</td>\n      <td>NaN</td>\n      <td>NaN</td>\n      <td>386.9</td>\n      <td>-35.9</td>\n      <td>PC12</td>\n      <td>60.08431</td>\n    </tr>\n    <tr>\n      <th>4</th>\n      <td>SiO2</td>\n      <td>Sphere</td>\n      <td>CTAB</td>\n      <td>Precipitation</td>\n      <td>Negative</td>\n      <td>90.09</td>\n      <td>NaN</td>\n      <td>5000.0</td>\n      <td>A</td>\n      <td>Rat</td>\n      <td>...</td>\n      <td>MTT</td>\n      <td>TetrazoliumSalt</td>\n      <td>98.056</td>\n      <td>10.3109/15376516.2015.1070229</td>\n      <td>NaN</td>\n      <td>NaN</td>\n      <td>386.9</td>\n      <td>-35.9</td>\n      <td>PC12</td>\n      <td>60.08431</td>\n    </tr>\n    <tr>\n      <th>...</th>\n      <td>...</td>\n      <td>...</td>\n      <td>...</td>\n      <td>...</td>\n      <td>...</td>\n      <td>...</td>\n      <td>...</td>\n      <td>...</td>\n      <td>...</td>\n      <td>...</td>\n      <td>...</td>\n      <td>...</td>\n      <td>...</td>\n      <td>...</td>\n      <td>...</td>\n      <td>...</td>\n      <td>...</td>\n      <td>...</td>\n      <td>...</td>\n      <td>...</td>\n      <td>...</td>\n    </tr>\n    <tr>\n      <th>8070</th>\n      <td>NiO</td>\n      <td>NaN</td>\n      <td>NaN</td>\n      <td>NaN</td>\n      <td>27.6</td>\n      <td>NaN</td>\n      <td>NaN</td>\n      <td>NaN</td>\n      <td>NaN</td>\n      <td>NaN</td>\n      <td>...</td>\n      <td>NaN</td>\n      <td>NaN</td>\n      <td>99.000</td>\n      <td>NaN</td>\n      <td>13.1</td>\n      <td>68.7</td>\n      <td>189.5</td>\n      <td>27.6</td>\n      <td>NaN</td>\n      <td>NaN</td>\n    </tr>\n    <tr>\n      <th>8071</th>\n      <td>NiO</td>\n      <td>NaN</td>\n      <td>NaN</td>\n      <td>NaN</td>\n      <td>27.6</td>\n      <td>NaN</td>\n      <td>NaN</td>\n      <td>NaN</td>\n      <td>NaN</td>\n      <td>NaN</td>\n      <td>...</td>\n      <td>NaN</td>\n      <td>NaN</td>\n      <td>99.000</td>\n      <td>NaN</td>\n      <td>13.1</td>\n      <td>68.7</td>\n      <td>189.5</td>\n      <td>27.6</td>\n      <td>NaN</td>\n      <td>NaN</td>\n    </tr>\n    <tr>\n      <th>8072</th>\n      <td>Sb2O3</td>\n      <td>NaN</td>\n      <td>NaN</td>\n      <td>NaN</td>\n      <td>-35.3</td>\n      <td>NaN</td>\n      <td>NaN</td>\n      <td>NaN</td>\n      <td>NaN</td>\n      <td>NaN</td>\n      <td>...</td>\n      <td>NaN</td>\n      <td>NaN</td>\n      <td>99.000</td>\n      <td>NaN</td>\n      <td>11.8</td>\n      <td>93.6</td>\n      <td>274.9</td>\n      <td>-35.3</td>\n      <td>NaN</td>\n      <td>NaN</td>\n    </tr>\n    <tr>\n      <th>8073</th>\n      <td>Sb2O3</td>\n      <td>NaN</td>\n      <td>NaN</td>\n      <td>NaN</td>\n      <td>-35.3</td>\n      <td>NaN</td>\n      <td>NaN</td>\n      <td>NaN</td>\n      <td>NaN</td>\n      <td>NaN</td>\n      <td>...</td>\n      <td>NaN</td>\n      <td>NaN</td>\n      <td>99.000</td>\n      <td>NaN</td>\n      <td>11.8</td>\n      <td>93.6</td>\n      <td>274.9</td>\n      <td>-35.3</td>\n      <td>NaN</td>\n      <td>NaN</td>\n    </tr>\n    <tr>\n      <th>8074</th>\n      <td>ZnO</td>\n      <td>NaN</td>\n      <td>NaN</td>\n      <td>NaN</td>\n      <td>28.8</td>\n      <td>NaN</td>\n      <td>NaN</td>\n      <td>NaN</td>\n      <td>NaN</td>\n      <td>NaN</td>\n      <td>...</td>\n      <td>NaN</td>\n      <td>NaN</td>\n      <td>99.700</td>\n      <td>NaN</td>\n      <td>22.6</td>\n      <td>47.4</td>\n      <td>69.4</td>\n      <td>28.8</td>\n      <td>NaN</td>\n      <td>NaN</td>\n    </tr>\n  </tbody>\n</table>\n<p>6601 rows × 25 columns</p>\n</div>"
     },
     "execution_count": 47,
     "metadata": {},
     "output_type": "execute_result"
    }
   ],
   "source": [
    "raw_db"
   ],
   "metadata": {
    "collapsed": false,
    "pycharm": {
     "name": "#%%\n"
    }
   }
  },
  {
   "cell_type": "code",
   "execution_count": 49,
   "outputs": [],
   "source": [
    "raw_db.to_csv('Tox_DB.csv')"
   ],
   "metadata": {
    "collapsed": false,
    "pycharm": {
     "name": "#%%\n"
    }
   }
  },
  {
   "cell_type": "code",
   "execution_count": null,
   "outputs": [],
   "source": [],
   "metadata": {
    "collapsed": false,
    "pycharm": {
     "name": "#%%\n"
    }
   }
  }
 ],
 "metadata": {
  "kernelspec": {
   "display_name": "Python 3",
   "language": "python",
   "name": "python3"
  },
  "language_info": {
   "codemirror_mode": {
    "name": "ipython",
    "version": 2
   },
   "file_extension": ".py",
   "mimetype": "text/x-python",
   "name": "python",
   "nbconvert_exporter": "python",
   "pygments_lexer": "ipython2",
   "version": "2.7.6"
  }
 },
 "nbformat": 4,
 "nbformat_minor": 0
}