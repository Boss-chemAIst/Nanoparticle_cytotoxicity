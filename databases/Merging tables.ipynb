{
 "nbformat": 4,
 "nbformat_minor": 0,
 "metadata": {
  "colab": {
   "name": "Merging tables.ipynb",
   "provenance": [],
   "collapsed_sections": [],
   "authorship_tag": "ABX9TyPfH25tABC0OMdJHjtBEKgV"
  },
  "kernelspec": {
   "name": "python3",
   "display_name": "Python 3"
  },
  "language_info": {
   "name": "python"
  }
 },
 "cells": [
  {
   "cell_type": "code",
   "execution_count": 1,
   "metadata": {
    "colab": {
     "base_uri": "https://localhost:8080/"
    },
    "id": "ZVc-uDP_awOp",
    "executionInfo": {
     "status": "ok",
     "timestamp": 1644495597448,
     "user_tz": -180,
     "elapsed": 313,
     "user": {
      "displayName": "O`Reilly",
      "photoUrl": "https://lh3.googleusercontent.com/a-/AOh14GjRojJgetMBXWOPYqIr3f-ELjZmmHdNhAFWaDa-uQ=s64",
      "userId": "14342088318867418483"
     }
    },
    "outputId": "05188c7b-7f93-4cf4-b8aa-4395fd22bff4"
   },
   "outputs": [
    {
     "ename": "FileNotFoundError",
     "evalue": "[Errno 2] No such file or directory: 'C:/projects/laboratory/Nanoparticle_cytotoxicity/databases/Raw data from new article.xlsx'",
     "output_type": "error",
     "traceback": [
      "\u001B[1;31m---------------------------------------------------------------------------\u001B[0m",
      "\u001B[1;31mFileNotFoundError\u001B[0m                         Traceback (most recent call last)",
      "Input \u001B[1;32mIn [1]\u001B[0m, in \u001B[0;36m<module>\u001B[1;34m\u001B[0m\n\u001B[0;32m      1\u001B[0m \u001B[38;5;28;01mimport\u001B[39;00m \u001B[38;5;21;01mpandas\u001B[39;00m \u001B[38;5;28;01mas\u001B[39;00m \u001B[38;5;21;01mpd\u001B[39;00m\n\u001B[1;32m----> 2\u001B[0m db \u001B[38;5;241m=\u001B[39m \u001B[43mpd\u001B[49m\u001B[38;5;241;43m.\u001B[39;49m\u001B[43mread_excel\u001B[49m\u001B[43m(\u001B[49m\u001B[38;5;124;43m'\u001B[39;49m\u001B[38;5;124;43mC:/projects/laboratory/Nanoparticle_cytotoxicity/databases/Raw data from new article.xlsx\u001B[39;49m\u001B[38;5;124;43m'\u001B[39;49m\u001B[43m)\u001B[49m\n\u001B[0;32m      3\u001B[0m db\u001B[38;5;241m.\u001B[39minfo()\n",
      "File \u001B[1;32m~\\AppData\\Local\\Programs\\Python\\Python39\\lib\\site-packages\\pandas\\util\\_decorators.py:311\u001B[0m, in \u001B[0;36mdeprecate_nonkeyword_arguments.<locals>.decorate.<locals>.wrapper\u001B[1;34m(*args, **kwargs)\u001B[0m\n\u001B[0;32m    305\u001B[0m \u001B[38;5;28;01mif\u001B[39;00m \u001B[38;5;28mlen\u001B[39m(args) \u001B[38;5;241m>\u001B[39m num_allow_args:\n\u001B[0;32m    306\u001B[0m     warnings\u001B[38;5;241m.\u001B[39mwarn(\n\u001B[0;32m    307\u001B[0m         msg\u001B[38;5;241m.\u001B[39mformat(arguments\u001B[38;5;241m=\u001B[39marguments),\n\u001B[0;32m    308\u001B[0m         \u001B[38;5;167;01mFutureWarning\u001B[39;00m,\n\u001B[0;32m    309\u001B[0m         stacklevel\u001B[38;5;241m=\u001B[39mstacklevel,\n\u001B[0;32m    310\u001B[0m     )\n\u001B[1;32m--> 311\u001B[0m \u001B[38;5;28;01mreturn\u001B[39;00m func(\u001B[38;5;241m*\u001B[39margs, \u001B[38;5;241m*\u001B[39m\u001B[38;5;241m*\u001B[39mkwargs)\n",
      "File \u001B[1;32m~\\AppData\\Local\\Programs\\Python\\Python39\\lib\\site-packages\\pandas\\io\\excel\\_base.py:457\u001B[0m, in \u001B[0;36mread_excel\u001B[1;34m(io, sheet_name, header, names, index_col, usecols, squeeze, dtype, engine, converters, true_values, false_values, skiprows, nrows, na_values, keep_default_na, na_filter, verbose, parse_dates, date_parser, thousands, decimal, comment, skipfooter, convert_float, mangle_dupe_cols, storage_options)\u001B[0m\n\u001B[0;32m    455\u001B[0m \u001B[38;5;28;01mif\u001B[39;00m \u001B[38;5;129;01mnot\u001B[39;00m \u001B[38;5;28misinstance\u001B[39m(io, ExcelFile):\n\u001B[0;32m    456\u001B[0m     should_close \u001B[38;5;241m=\u001B[39m \u001B[38;5;28;01mTrue\u001B[39;00m\n\u001B[1;32m--> 457\u001B[0m     io \u001B[38;5;241m=\u001B[39m \u001B[43mExcelFile\u001B[49m\u001B[43m(\u001B[49m\u001B[43mio\u001B[49m\u001B[43m,\u001B[49m\u001B[43m \u001B[49m\u001B[43mstorage_options\u001B[49m\u001B[38;5;241;43m=\u001B[39;49m\u001B[43mstorage_options\u001B[49m\u001B[43m,\u001B[49m\u001B[43m \u001B[49m\u001B[43mengine\u001B[49m\u001B[38;5;241;43m=\u001B[39;49m\u001B[43mengine\u001B[49m\u001B[43m)\u001B[49m\n\u001B[0;32m    458\u001B[0m \u001B[38;5;28;01melif\u001B[39;00m engine \u001B[38;5;129;01mand\u001B[39;00m engine \u001B[38;5;241m!=\u001B[39m io\u001B[38;5;241m.\u001B[39mengine:\n\u001B[0;32m    459\u001B[0m     \u001B[38;5;28;01mraise\u001B[39;00m \u001B[38;5;167;01mValueError\u001B[39;00m(\n\u001B[0;32m    460\u001B[0m         \u001B[38;5;124m\"\u001B[39m\u001B[38;5;124mEngine should not be specified when passing \u001B[39m\u001B[38;5;124m\"\u001B[39m\n\u001B[0;32m    461\u001B[0m         \u001B[38;5;124m\"\u001B[39m\u001B[38;5;124man ExcelFile - ExcelFile already has the engine set\u001B[39m\u001B[38;5;124m\"\u001B[39m\n\u001B[0;32m    462\u001B[0m     )\n",
      "File \u001B[1;32m~\\AppData\\Local\\Programs\\Python\\Python39\\lib\\site-packages\\pandas\\io\\excel\\_base.py:1376\u001B[0m, in \u001B[0;36mExcelFile.__init__\u001B[1;34m(self, path_or_buffer, engine, storage_options)\u001B[0m\n\u001B[0;32m   1374\u001B[0m     ext \u001B[38;5;241m=\u001B[39m \u001B[38;5;124m\"\u001B[39m\u001B[38;5;124mxls\u001B[39m\u001B[38;5;124m\"\u001B[39m\n\u001B[0;32m   1375\u001B[0m \u001B[38;5;28;01melse\u001B[39;00m:\n\u001B[1;32m-> 1376\u001B[0m     ext \u001B[38;5;241m=\u001B[39m \u001B[43minspect_excel_format\u001B[49m\u001B[43m(\u001B[49m\n\u001B[0;32m   1377\u001B[0m \u001B[43m        \u001B[49m\u001B[43mcontent_or_path\u001B[49m\u001B[38;5;241;43m=\u001B[39;49m\u001B[43mpath_or_buffer\u001B[49m\u001B[43m,\u001B[49m\u001B[43m \u001B[49m\u001B[43mstorage_options\u001B[49m\u001B[38;5;241;43m=\u001B[39;49m\u001B[43mstorage_options\u001B[49m\n\u001B[0;32m   1378\u001B[0m \u001B[43m    \u001B[49m\u001B[43m)\u001B[49m\n\u001B[0;32m   1379\u001B[0m     \u001B[38;5;28;01mif\u001B[39;00m ext \u001B[38;5;129;01mis\u001B[39;00m \u001B[38;5;28;01mNone\u001B[39;00m:\n\u001B[0;32m   1380\u001B[0m         \u001B[38;5;28;01mraise\u001B[39;00m \u001B[38;5;167;01mValueError\u001B[39;00m(\n\u001B[0;32m   1381\u001B[0m             \u001B[38;5;124m\"\u001B[39m\u001B[38;5;124mExcel file format cannot be determined, you must specify \u001B[39m\u001B[38;5;124m\"\u001B[39m\n\u001B[0;32m   1382\u001B[0m             \u001B[38;5;124m\"\u001B[39m\u001B[38;5;124man engine manually.\u001B[39m\u001B[38;5;124m\"\u001B[39m\n\u001B[0;32m   1383\u001B[0m         )\n",
      "File \u001B[1;32m~\\AppData\\Local\\Programs\\Python\\Python39\\lib\\site-packages\\pandas\\io\\excel\\_base.py:1250\u001B[0m, in \u001B[0;36minspect_excel_format\u001B[1;34m(content_or_path, storage_options)\u001B[0m\n\u001B[0;32m   1247\u001B[0m \u001B[38;5;28;01mif\u001B[39;00m \u001B[38;5;28misinstance\u001B[39m(content_or_path, \u001B[38;5;28mbytes\u001B[39m):\n\u001B[0;32m   1248\u001B[0m     content_or_path \u001B[38;5;241m=\u001B[39m BytesIO(content_or_path)\n\u001B[1;32m-> 1250\u001B[0m \u001B[38;5;28;01mwith\u001B[39;00m \u001B[43mget_handle\u001B[49m\u001B[43m(\u001B[49m\n\u001B[0;32m   1251\u001B[0m \u001B[43m    \u001B[49m\u001B[43mcontent_or_path\u001B[49m\u001B[43m,\u001B[49m\u001B[43m \u001B[49m\u001B[38;5;124;43m\"\u001B[39;49m\u001B[38;5;124;43mrb\u001B[39;49m\u001B[38;5;124;43m\"\u001B[39;49m\u001B[43m,\u001B[49m\u001B[43m \u001B[49m\u001B[43mstorage_options\u001B[49m\u001B[38;5;241;43m=\u001B[39;49m\u001B[43mstorage_options\u001B[49m\u001B[43m,\u001B[49m\u001B[43m \u001B[49m\u001B[43mis_text\u001B[49m\u001B[38;5;241;43m=\u001B[39;49m\u001B[38;5;28;43;01mFalse\u001B[39;49;00m\n\u001B[0;32m   1252\u001B[0m \u001B[43m\u001B[49m\u001B[43m)\u001B[49m \u001B[38;5;28;01mas\u001B[39;00m handle:\n\u001B[0;32m   1253\u001B[0m     stream \u001B[38;5;241m=\u001B[39m handle\u001B[38;5;241m.\u001B[39mhandle\n\u001B[0;32m   1254\u001B[0m     stream\u001B[38;5;241m.\u001B[39mseek(\u001B[38;5;241m0\u001B[39m)\n",
      "File \u001B[1;32m~\\AppData\\Local\\Programs\\Python\\Python39\\lib\\site-packages\\pandas\\io\\common.py:798\u001B[0m, in \u001B[0;36mget_handle\u001B[1;34m(path_or_buf, mode, encoding, compression, memory_map, is_text, errors, storage_options)\u001B[0m\n\u001B[0;32m    789\u001B[0m         handle \u001B[38;5;241m=\u001B[39m \u001B[38;5;28mopen\u001B[39m(\n\u001B[0;32m    790\u001B[0m             handle,\n\u001B[0;32m    791\u001B[0m             ioargs\u001B[38;5;241m.\u001B[39mmode,\n\u001B[1;32m   (...)\u001B[0m\n\u001B[0;32m    794\u001B[0m             newline\u001B[38;5;241m=\u001B[39m\u001B[38;5;124m\"\u001B[39m\u001B[38;5;124m\"\u001B[39m,\n\u001B[0;32m    795\u001B[0m         )\n\u001B[0;32m    796\u001B[0m     \u001B[38;5;28;01melse\u001B[39;00m:\n\u001B[0;32m    797\u001B[0m         \u001B[38;5;66;03m# Binary mode\u001B[39;00m\n\u001B[1;32m--> 798\u001B[0m         handle \u001B[38;5;241m=\u001B[39m \u001B[38;5;28;43mopen\u001B[39;49m\u001B[43m(\u001B[49m\u001B[43mhandle\u001B[49m\u001B[43m,\u001B[49m\u001B[43m \u001B[49m\u001B[43mioargs\u001B[49m\u001B[38;5;241;43m.\u001B[39;49m\u001B[43mmode\u001B[49m\u001B[43m)\u001B[49m\n\u001B[0;32m    799\u001B[0m     handles\u001B[38;5;241m.\u001B[39mappend(handle)\n\u001B[0;32m    801\u001B[0m \u001B[38;5;66;03m# Convert BytesIO or file objects passed with an encoding\u001B[39;00m\n",
      "\u001B[1;31mFileNotFoundError\u001B[0m: [Errno 2] No such file or directory: 'C:/projects/laboratory/Nanoparticle_cytotoxicity/databases/Raw data from new article.xlsx'"
     ]
    }
   ],
   "source": [
    "import pandas as pd\n",
    "db = pd.read_excel('C:/projects/laboratory/Nanoparticle_cytotoxicity/databases/Raw data from new article.xlsx')\n",
    "db.info()"
   ]
  },
  {
   "cell_type": "code",
   "source": [
    "db = pd.DataFrame(db)"
   ],
   "metadata": {
    "id": "A_L6U10whrmT",
    "executionInfo": {
     "status": "ok",
     "timestamp": 1644495599091,
     "user_tz": -180,
     "elapsed": 277,
     "user": {
      "displayName": "O`Reilly",
      "photoUrl": "https://lh3.googleusercontent.com/a-/AOh14GjRojJgetMBXWOPYqIr3f-ELjZmmHdNhAFWaDa-uQ=s64",
      "userId": "14342088318867418483"
     }
    }
   },
   "execution_count": null,
   "outputs": []
  },
  {
   "cell_type": "code",
   "source": [
    "db.rename(columns = {'surf_charge' : 'surface charge (mV)',\n",
    "                     'surf_area' :'surface area (m2/g)','cell_type':'cell type',\n",
    "                     'viability':'viability (%)', 'core_size':'core size (nm)',\n",
    "                     'hydro_size':'hydro size (nm)','cell_line':'cell line','cell_species':'cell species','cell_origin':'cell origin',\n",
    "                     'time':'time (h)', 'dose':'dose (ug/mL)'}, inplace = True)"
   ],
   "metadata": {
    "id": "s8QPFF1Xj24E",
    "executionInfo": {
     "status": "ok",
     "timestamp": 1644495600119,
     "user_tz": -180,
     "elapsed": 1,
     "user": {
      "displayName": "O`Reilly",
      "photoUrl": "https://lh3.googleusercontent.com/a-/AOh14GjRojJgetMBXWOPYqIr3f-ELjZmmHdNhAFWaDa-uQ=s64",
      "userId": "14342088318867418483"
     }
    }
   },
   "execution_count": null,
   "outputs": []
  },
  {
   "cell_type": "code",
   "source": [
    "db"
   ],
   "metadata": {
    "colab": {
     "base_uri": "https://localhost:8080/",
     "height": 502
    },
    "id": "afCjYoIUjL75",
    "executionInfo": {
     "status": "ok",
     "timestamp": 1644495601779,
     "user_tz": -180,
     "elapsed": 3,
     "user": {
      "displayName": "O`Reilly",
      "photoUrl": "https://lh3.googleusercontent.com/a-/AOh14GjRojJgetMBXWOPYqIr3f-ELjZmmHdNhAFWaDa-uQ=s64",
      "userId": "14342088318867418483"
     }
    },
    "outputId": "4c9bd21d-4fcc-4d4c-92ab-ac9c7a4468d6"
   },
   "execution_count": null,
   "outputs": []
  },
  {
   "cell_type": "code",
   "source": [
    "db1 = pd.read_excel('C:/projects/laboratory/Nanoparticle_cytotoxicity/databases/Meta-Analysis of Nanoparticle Cytotoxicity via Data-Mining the Literature.xlsx')\n",
    "db1.info()"
   ],
   "metadata": {
    "colab": {
     "base_uri": "https://localhost:8080/"
    },
    "id": "UmS8YBkNc1G1",
    "executionInfo": {
     "status": "ok",
     "timestamp": 1644495604037,
     "user_tz": -180,
     "elapsed": 244,
     "user": {
      "displayName": "O`Reilly",
      "photoUrl": "https://lh3.googleusercontent.com/a-/AOh14GjRojJgetMBXWOPYqIr3f-ELjZmmHdNhAFWaDa-uQ=s64",
      "userId": "14342088318867418483"
     }
    },
    "outputId": "33171dfd-b8b4-4f91-f667-59a7b8f90b1a"
   },
   "execution_count": null,
   "outputs": []
  },
  {
   "cell_type": "code",
   "source": [
    "db1 = pd.DataFrame(db1)"
   ],
   "metadata": {
    "id": "Av4otvI51NBD",
    "executionInfo": {
     "status": "ok",
     "timestamp": 1644495606182,
     "user_tz": -180,
     "elapsed": 307,
     "user": {
      "displayName": "O`Reilly",
      "photoUrl": "https://lh3.googleusercontent.com/a-/AOh14GjRojJgetMBXWOPYqIr3f-ELjZmmHdNhAFWaDa-uQ=s64",
      "userId": "14342088318867418483"
     }
    }
   },
   "execution_count": null,
   "outputs": []
  },
  {
   "cell_type": "code",
   "source": [
    "db1.rename(columns = {'Nanoparticle':'material','Zeta potential (mV)':'zeta potential (mV)',\n",
    "                      'Exposure time (h)':'time', '% Cell viability':'viability (%)',\n",
    "                      'Cells':'cell line','Animal?':'cell species',\n",
    "                      'Cell-organ/tissue source':'cell origin', 'Diameter (nm)':'diameter (nm)' }, inplace = True)"
   ],
   "metadata": {
    "id": "OPbzfcPX1XFH",
    "executionInfo": {
     "status": "ok",
     "timestamp": 1644495607534,
     "user_tz": -180,
     "elapsed": 2,
     "user": {
      "displayName": "O`Reilly",
      "photoUrl": "https://lh3.googleusercontent.com/a-/AOh14GjRojJgetMBXWOPYqIr3f-ELjZmmHdNhAFWaDa-uQ=s64",
      "userId": "14342088318867418483"
     }
    }
   },
   "execution_count": null,
   "outputs": []
  },
  {
   "cell_type": "code",
   "source": [
    "db1.describe()"
   ],
   "metadata": {
    "colab": {
     "base_uri": "https://localhost:8080/",
     "height": 887
    },
    "id": "TtOhABxdnZST",
    "executionInfo": {
     "status": "ok",
     "timestamp": 1644496269125,
     "user_tz": -180,
     "elapsed": 379,
     "user": {
      "displayName": "O`Reilly",
      "photoUrl": "https://lh3.googleusercontent.com/a-/AOh14GjRojJgetMBXWOPYqIr3f-ELjZmmHdNhAFWaDa-uQ=s64",
      "userId": "14342088318867418483"
     }
    },
    "outputId": "406b4a0f-5215-45a3-f6ff-39a6dd86526f"
   },
   "execution_count": null,
   "outputs": []
  },
  {
   "cell_type": "code",
   "execution_count": null,
   "outputs": [],
   "source": [
    "\"\"\"\n",
    "\n",
    "Cтранности в db1 (решить):\n",
    "1) концентрации в микромолях\n",
    "2) огромный разброс по концентрациям (проверить значения на адекватность)\n",
    "3) максимальная дзета в 87 - это странно (+ Алина, оставляем)\n",
    "4) максимальное время в 28 дней - верится слабо (Максимальное время 14 дней)\n",
    "5) максимальная жизнеспособность 404% - возможно, но лучше проверить, неужели так стимулирует рост клеток\n",
    "\n",
    "\"\"\""
   ],
   "metadata": {
    "collapsed": false,
    "pycharm": {
     "name": "#%%\n"
    }
   }
  },
  {
   "cell_type": "code",
   "source": [
    "db2 = pd.read_excel('C:/projects/laboratory/Nanoparticle_cytotoxicity/databases/Cytotoxicity analysis of nanoparticles by association rule mining.xlsx')\n",
    "db2.info()"
   ],
   "metadata": {
    "colab": {
     "base_uri": "https://localhost:8080/"
    },
    "id": "7UOSf69cd05a",
    "executionInfo": {
     "status": "ok",
     "timestamp": 1644495612176,
     "user_tz": -180,
     "elapsed": 235,
     "user": {
      "displayName": "O`Reilly",
      "photoUrl": "https://lh3.googleusercontent.com/a-/AOh14GjRojJgetMBXWOPYqIr3f-ELjZmmHdNhAFWaDa-uQ=s64",
      "userId": "14342088318867418483"
     }
    },
    "outputId": "55416e3a-eeeb-4cf8-d2ab-c72c69fa186e"
   },
   "execution_count": null,
   "outputs": []
  },
  {
   "cell_type": "code",
   "source": [
    "db2.rename(columns = {'Material':'material','Surface_Charge':'surface charge (mV)',\n",
    "                      'Diameter (nm)':'diameter (nm)','Cell_Type':'cell type','Cell_Source':'cell species','Cell_Tissue':'cell origin',\n",
    "                      'Time (hr)':'time (h)','Concentration (ug/ml)':'dose (ug/mL)','Cell_Viability (%)':'a'}, inplace = True)"
   ],
   "metadata": {
    "id": "_-L_GpAV7B-p",
    "executionInfo": {
     "status": "ok",
     "timestamp": 1644495614745,
     "user_tz": -180,
     "elapsed": 239,
     "user": {
      "displayName": "O`Reilly",
      "photoUrl": "https://lh3.googleusercontent.com/a-/AOh14GjRojJgetMBXWOPYqIr3f-ELjZmmHdNhAFWaDa-uQ=s64",
      "userId": "14342088318867418483"
     }
    }
   },
   "execution_count": null,
   "outputs": []
  },
  {
   "cell_type": "code",
   "execution_count": null,
   "outputs": [],
   "source": [
    "db2 = db2.loc[db2['Zeta_in_Water (mV)'] < 100]"
   ],
   "metadata": {
    "collapsed": false,
    "pycharm": {
     "name": "#%%\n"
    }
   }
  },
  {
   "cell_type": "code",
   "execution_count": null,
   "outputs": [],
   "source": [
    "db2.loc[(db2.a < 0), 'a'] = 0"
   ],
   "metadata": {
    "collapsed": false,
    "pycharm": {
     "name": "#%%\n"
    }
   }
  },
  {
   "cell_type": "code",
   "execution_count": null,
   "outputs": [],
   "source": [
    "db2.rename(columns = {'a':'viability (%)'}, inplace = True)"
   ],
   "metadata": {
    "collapsed": false,
    "pycharm": {
     "name": "#%%\n"
    }
   }
  },
  {
   "cell_type": "code",
   "execution_count": null,
   "outputs": [],
   "source": [
    "db2.rename(columns = {'Size_in_Water (nm)':'b'}, inplace = True)"
   ],
   "metadata": {
    "collapsed": false,
    "pycharm": {
     "name": "#%%\n"
    }
   }
  },
  {
   "cell_type": "code",
   "execution_count": null,
   "outputs": [],
   "source": [
    "db2.loc[(db2.b < 1), 'b'] = 'NaN'"
   ],
   "metadata": {
    "collapsed": false,
    "pycharm": {
     "name": "#%%\n"
    }
   }
  },
  {
   "cell_type": "code",
   "execution_count": null,
   "outputs": [],
   "source": [
    "db2.rename(columns = {'b':'Size_in_Water (nm)'}, inplace = True)"
   ],
   "metadata": {
    "collapsed": false,
    "pycharm": {
     "name": "#%%\n"
    }
   }
  },
  {
   "cell_type": "code",
   "source": [
    "db2.describe()"
   ],
   "metadata": {
    "colab": {
     "base_uri": "https://localhost:8080/",
     "height": 696
    },
    "id": "dUHp6tX65E0b",
    "executionInfo": {
     "status": "ok",
     "timestamp": 1644495616304,
     "user_tz": -180,
     "elapsed": 255,
     "user": {
      "displayName": "O`Reilly",
      "photoUrl": "https://lh3.googleusercontent.com/a-/AOh14GjRojJgetMBXWOPYqIr3f-ELjZmmHdNhAFWaDa-uQ=s64",
      "userId": "14342088318867418483"
     }
    },
    "outputId": "27a6c243-afba-4a26-89b8-8082555bef24"
   },
   "execution_count": null,
   "outputs": []
  },
  {
   "cell_type": "code",
   "execution_count": null,
   "outputs": [],
   "source": [
    "\"\"\"\n",
    "\n",
    "Cтранности в db2 (решить):\n",
    "\n",
    "1) зета-потенциалы точно ненормальные в воде (чистим всё больше 100 точно) (+ Алина)\n",
    "2) минимальные размер в воде в долях нанометра - это явно ошибка, отвалидировать колонку на адекватность (+ Алина)\n",
    "3) жизнеспособности меньше нуля приводим к нулю (+ Алина)\n",
    "\n",
    "\"\"\""
   ],
   "metadata": {
    "collapsed": false,
    "pycharm": {
     "name": "#%%\n"
    }
   }
  },
  {
   "cell_type": "code",
   "source": [
    "db3 = pd.read_excel('C:/projects/laboratory/Nanoparticle_cytotoxicity/databases/New_descriptors.xlsx')\n",
    "db3.info()"
   ],
   "metadata": {
    "colab": {
     "base_uri": "https://localhost:8080/"
    },
    "id": "tykZEmzAd42F",
    "executionInfo": {
     "status": "ok",
     "timestamp": 1644495619577,
     "user_tz": -180,
     "elapsed": 338,
     "user": {
      "displayName": "O`Reilly",
      "photoUrl": "https://lh3.googleusercontent.com/a-/AOh14GjRojJgetMBXWOPYqIr3f-ELjZmmHdNhAFWaDa-uQ=s64",
      "userId": "14342088318867418483"
     }
    },
    "outputId": "0a977fdb-74dc-4c4f-dabc-c059883c52cc"
   },
   "execution_count": null,
   "outputs": []
  },
  {
   "cell_type": "code",
   "source": [
    "db3.rename(columns = {'Material type':'material','Elements':'elements',\n",
    "                      'Electronegativity':'electronegativity', 'Ionic radius':'ionic radius','Core size (nm)':'core size (nm)','Hydro size (nm)':'hydro size (nm)',\n",
    "                      'Surface charge (mV)':'surface charge (mV)','Surface area (m2/g)':'surface area (m2/g)',\n",
    "                      'Cell type':'cell type','Exposure dose (ug/mL)':'dose (ug/mL)', 'Viability (%)':'viability (%)'}, inplace = True)"
   ],
   "metadata": {
    "id": "LLVc1I_MvZ2k",
    "executionInfo": {
     "status": "ok",
     "timestamp": 1644495621855,
     "user_tz": -180,
     "elapsed": 235,
     "user": {
      "displayName": "O`Reilly",
      "photoUrl": "https://lh3.googleusercontent.com/a-/AOh14GjRojJgetMBXWOPYqIr3f-ELjZmmHdNhAFWaDa-uQ=s64",
      "userId": "14342088318867418483"
     }
    }
   },
   "execution_count": null,
   "outputs": []
  },
  {
   "cell_type": "code",
   "source": [
    "db3.describe()"
   ],
   "metadata": {
    "colab": {
     "base_uri": "https://localhost:8080/",
     "height": 540
    },
    "id": "A8I7Ccqtd7bm",
    "executionInfo": {
     "status": "ok",
     "timestamp": 1644495623663,
     "user_tz": -180,
     "elapsed": 269,
     "user": {
      "displayName": "O`Reilly",
      "photoUrl": "https://lh3.googleusercontent.com/a-/AOh14GjRojJgetMBXWOPYqIr3f-ELjZmmHdNhAFWaDa-uQ=s64",
      "userId": "14342088318867418483"
     }
    },
    "outputId": "4a787a3c-1917-46db-ffdf-f37befc603dc"
   },
   "execution_count": null,
   "outputs": []
  },
  {
   "cell_type": "code",
   "execution_count": null,
   "outputs": [],
   "source": [
    "\"\"\"\n",
    "\n",
    "Тут всё норм, самая адекватная база данных.\n",
    "\n",
    "\"\"\""
   ],
   "metadata": {
    "collapsed": false,
    "pycharm": {
     "name": "#%%\n"
    }
   }
  },
  {
   "cell_type": "code",
   "source": [
    "dbl = db.append(db1, ignore_index=True)"
   ],
   "metadata": {
    "id": "kq9Hpj6o6oHR",
    "executionInfo": {
     "status": "ok",
     "timestamp": 1644495817580,
     "user_tz": -180,
     "elapsed": 300,
     "user": {
      "displayName": "O`Reilly",
      "photoUrl": "https://lh3.googleusercontent.com/a-/AOh14GjRojJgetMBXWOPYqIr3f-ELjZmmHdNhAFWaDa-uQ=s64",
      "userId": "14342088318867418483"
     }
    }
   },
   "execution_count": null,
   "outputs": []
  },
  {
   "cell_type": "code",
   "source": [
    "dbll = dbl.append(db2, ignore_index=True)"
   ],
   "metadata": {
    "id": "p8cegXSflT0-",
    "executionInfo": {
     "status": "ok",
     "timestamp": 1644496101725,
     "user_tz": -180,
     "elapsed": 370,
     "user": {
      "displayName": "O`Reilly",
      "photoUrl": "https://lh3.googleusercontent.com/a-/AOh14GjRojJgetMBXWOPYqIr3f-ELjZmmHdNhAFWaDa-uQ=s64",
      "userId": "14342088318867418483"
     }
    }
   },
   "execution_count": null,
   "outputs": []
  },
  {
   "cell_type": "code",
   "source": [
    "db_final = dbll.append(db3, ignore_index=True)"
   ],
   "metadata": {
    "id": "Q8_N05xjmzti",
    "executionInfo": {
     "status": "ok",
     "timestamp": 1644497966727,
     "user_tz": -180,
     "elapsed": 344,
     "user": {
      "displayName": "O`Reilly",
      "photoUrl": "https://lh3.googleusercontent.com/a-/AOh14GjRojJgetMBXWOPYqIr3f-ELjZmmHdNhAFWaDa-uQ=s64",
      "userId": "14342088318867418483"
     }
    }
   },
   "execution_count": null,
   "outputs": []
  },
  {
   "cell_type": "code",
   "source": [
    "db_final.drop(columns = ['Unnamed: 24', 'Unnamed: 25','Unnamed: 26'], axis = 1)"
   ],
   "metadata": {
    "colab": {
     "base_uri": "https://localhost:8080/",
     "height": 540
    },
    "id": "mn_p-xrzm_rl",
    "executionInfo": {
     "status": "ok",
     "timestamp": 1644497968240,
     "user_tz": -180,
     "elapsed": 400,
     "user": {
      "displayName": "O`Reilly",
      "photoUrl": "https://lh3.googleusercontent.com/a-/AOh14GjRojJgetMBXWOPYqIr3f-ELjZmmHdNhAFWaDa-uQ=s64",
      "userId": "14342088318867418483"
     }
    },
    "outputId": "20651cec-2172-482f-c923-a14848530b5c"
   },
   "execution_count": null,
   "outputs": []
  },
  {
   "cell_type": "code",
   "execution_count": null,
   "outputs": [],
   "source": [
    "db_final['material'].unique()"
   ],
   "metadata": {
    "collapsed": false,
    "pycharm": {
     "name": "#%%\n"
    }
   }
  },
  {
   "cell_type": "code",
   "execution_count": null,
   "outputs": [],
   "source": [
    "db_final.shape"
   ],
   "metadata": {
    "collapsed": false,
    "pycharm": {
     "name": "#%%\n"
    }
   }
  },
  {
   "cell_type": "code",
   "execution_count": null,
   "outputs": [],
   "source": [
    "db_final.describe()"
   ],
   "metadata": {
    "collapsed": false,
    "pycharm": {
     "name": "#%%\n"
    }
   }
  }
 ]
}