{
 "nbformat": 4,
 "nbformat_minor": 0,
 "metadata": {
  "colab": {
   "name": "Merging tables.ipynb",
   "provenance": [],
   "collapsed_sections": [],
   "authorship_tag": "ABX9TyPfH25tABC0OMdJHjtBEKgV"
  },
  "kernelspec": {
   "name": "python3",
   "display_name": "Python 3"
  },
  "language_info": {
   "name": "python"
  }
 },
 "cells": [
  {
   "cell_type": "code",
   "execution_count": 148,
   "outputs": [
    {
     "name": "stdout",
     "output_type": "stream",
     "text": [
      "Requirement already satisfied: molmass in c:\\projects\\laboratory\\interpreter\\lib\\site-packages (2021.6.18)\n"
     ]
    },
    {
     "name": "stderr",
     "output_type": "stream",
     "text": [
      "WARNING: You are using pip version 21.1.2; however, version 22.0.3 is available.\n",
      "You should consider upgrading via the 'C:\\projects\\laboratory\\Interpreter\\Scripts\\python.exe -m pip install --upgrade pip' command.\n"
     ]
    }
   ],
   "source": [
    "import numpy as np\n",
    "!pip install molmass\n",
    "from molmass import Formula"
   ],
   "metadata": {
    "collapsed": false,
    "pycharm": {
     "name": "#%%\n"
    }
   }
  },
  {
   "cell_type": "code",
   "execution_count": 149,
   "outputs": [
    {
     "name": "stdout",
     "output_type": "stream",
     "text": [
      "<class 'pandas.core.frame.DataFrame'>\n",
      "RangeIndex: 574 entries, 0 to 573\n",
      "Data columns (total 18 columns):\n",
      " #   Column        Non-Null Count  Dtype  \n",
      "---  ------        --------------  -----  \n",
      " 0   material      574 non-null    object \n",
      " 1   core_size     574 non-null    float64\n",
      " 2   hydro_size    574 non-null    float64\n",
      " 3   surf_charge   574 non-null    float64\n",
      " 4   surf_area     574 non-null    float64\n",
      " 5   Hsf           574 non-null    float64\n",
      " 6   Ec            574 non-null    float64\n",
      " 7   Ev            574 non-null    float64\n",
      " 8   MeO           574 non-null    float64\n",
      " 9   assay         574 non-null    object \n",
      " 10  cell_line     574 non-null    object \n",
      " 11  cell_species  574 non-null    object \n",
      " 12  cell_origin   574 non-null    object \n",
      " 13  cell_type     574 non-null    object \n",
      " 14  time          574 non-null    int64  \n",
      " 15  dose          574 non-null    float64\n",
      " 16  viability     574 non-null    float64\n",
      " 17  toxicity      574 non-null    object \n",
      "dtypes: float64(10), int64(1), object(7)\n",
      "memory usage: 80.8+ KB\n"
     ]
    }
   ],
   "source": [
    "import pandas as pd\n",
    "db = pd.read_excel('C:/projects/laboratory/Nanoparticle_cytotoxicity/databases/Raw data from new article.xlsx')\n",
    "db.info()"
   ],
   "metadata": {
    "collapsed": false,
    "pycharm": {
     "name": "#%%\n"
    }
   }
  },
  {
   "cell_type": "code",
   "source": [
    "db.rename(columns = {'surf_charge': 'surface charge (mV)',\n",
    "                     'time': 'time (h)',\n",
    "                     'dose': 'dose (μg/ml)',\n",
    "                     'surf_area': 'surface area (m2/g)',\n",
    "                     'cell_type':'cell type',\n",
    "                     'viability':'viability (%)',\n",
    "                     'core_size':'core size (nm)',\n",
    "                     'hydro_size':'hydro size (nm)',\n",
    "                     'cell_line':'cell line',\n",
    "                     'cell_species':'cell species',\n",
    "                     'cell_origin': 'cell origin'},\n",
    "                     inplace = True)"
   ],
   "metadata": {
    "id": "s8QPFF1Xj24E",
    "executionInfo": {
     "status": "ok",
     "timestamp": 1644495600119,
     "user_tz": -180,
     "elapsed": 1,
     "user": {
      "displayName": "O`Reilly",
      "photoUrl": "https://lh3.googleusercontent.com/a-/AOh14GjRojJgetMBXWOPYqIr3f-ELjZmmHdNhAFWaDa-uQ=s64",
      "userId": "14342088318867418483"
     }
    }
   },
   "execution_count": 150,
   "outputs": []
  },
  {
   "cell_type": "code",
   "source": [
    "db = db.drop(columns=['Hsf', 'Ec', 'Ev', 'MeO', 'toxicity'])"
   ],
   "metadata": {
    "colab": {
     "base_uri": "https://localhost:8080/",
     "height": 502
    },
    "id": "afCjYoIUjL75",
    "executionInfo": {
     "status": "ok",
     "timestamp": 1644495601779,
     "user_tz": -180,
     "elapsed": 3,
     "user": {
      "displayName": "O`Reilly",
      "photoUrl": "https://lh3.googleusercontent.com/a-/AOh14GjRojJgetMBXWOPYqIr3f-ELjZmmHdNhAFWaDa-uQ=s64",
      "userId": "14342088318867418483"
     }
    },
    "outputId": "4c9bd21d-4fcc-4d4c-92ab-ac9c7a4468d6"
   },
   "execution_count": 151,
   "outputs": []
  },
  {
   "cell_type": "code",
   "execution_count": 152,
   "outputs": [
    {
     "data": {
      "text/plain": "       core size (nm)  hydro size (nm)  surface charge (mV)  \\\ncount      574.000000       574.000000           574.000000   \nmean        51.104181       501.711324            -5.368641   \nstd         42.751944       386.975172            23.515750   \nmin          5.900000        74.000000           -47.600000   \n25%         25.000000       267.000000           -12.075000   \n50%         35.600000       321.150000           -10.700000   \n75%         60.000000       687.000000             1.700000   \nmax        369.000000      1843.000000            42.800000   \n\n       surface area (m2/g)    time (h)  dose (μg/ml)  viability (%)  \ncount           574.000000  574.000000    574.000000     574.000000  \nmean             77.222125   24.310105     39.717458      82.565494  \nstd             104.430464   18.068843     95.312219      30.392059  \nmin               7.000000    3.000000      0.000000      -3.873900  \n25%              20.000000   12.000000      1.000000      74.013675  \n50%              40.000000   24.000000     12.500000      93.821050  \n75%              82.800000   24.000000     50.000000     100.494550  \nmax             576.230000   72.000000   1440.000000     151.111100  ",
      "text/html": "<div>\n<style scoped>\n    .dataframe tbody tr th:only-of-type {\n        vertical-align: middle;\n    }\n\n    .dataframe tbody tr th {\n        vertical-align: top;\n    }\n\n    .dataframe thead th {\n        text-align: right;\n    }\n</style>\n<table border=\"1\" class=\"dataframe\">\n  <thead>\n    <tr style=\"text-align: right;\">\n      <th></th>\n      <th>core size (nm)</th>\n      <th>hydro size (nm)</th>\n      <th>surface charge (mV)</th>\n      <th>surface area (m2/g)</th>\n      <th>time (h)</th>\n      <th>dose (μg/ml)</th>\n      <th>viability (%)</th>\n    </tr>\n  </thead>\n  <tbody>\n    <tr>\n      <th>count</th>\n      <td>574.000000</td>\n      <td>574.000000</td>\n      <td>574.000000</td>\n      <td>574.000000</td>\n      <td>574.000000</td>\n      <td>574.000000</td>\n      <td>574.000000</td>\n    </tr>\n    <tr>\n      <th>mean</th>\n      <td>51.104181</td>\n      <td>501.711324</td>\n      <td>-5.368641</td>\n      <td>77.222125</td>\n      <td>24.310105</td>\n      <td>39.717458</td>\n      <td>82.565494</td>\n    </tr>\n    <tr>\n      <th>std</th>\n      <td>42.751944</td>\n      <td>386.975172</td>\n      <td>23.515750</td>\n      <td>104.430464</td>\n      <td>18.068843</td>\n      <td>95.312219</td>\n      <td>30.392059</td>\n    </tr>\n    <tr>\n      <th>min</th>\n      <td>5.900000</td>\n      <td>74.000000</td>\n      <td>-47.600000</td>\n      <td>7.000000</td>\n      <td>3.000000</td>\n      <td>0.000000</td>\n      <td>-3.873900</td>\n    </tr>\n    <tr>\n      <th>25%</th>\n      <td>25.000000</td>\n      <td>267.000000</td>\n      <td>-12.075000</td>\n      <td>20.000000</td>\n      <td>12.000000</td>\n      <td>1.000000</td>\n      <td>74.013675</td>\n    </tr>\n    <tr>\n      <th>50%</th>\n      <td>35.600000</td>\n      <td>321.150000</td>\n      <td>-10.700000</td>\n      <td>40.000000</td>\n      <td>24.000000</td>\n      <td>12.500000</td>\n      <td>93.821050</td>\n    </tr>\n    <tr>\n      <th>75%</th>\n      <td>60.000000</td>\n      <td>687.000000</td>\n      <td>1.700000</td>\n      <td>82.800000</td>\n      <td>24.000000</td>\n      <td>50.000000</td>\n      <td>100.494550</td>\n    </tr>\n    <tr>\n      <th>max</th>\n      <td>369.000000</td>\n      <td>1843.000000</td>\n      <td>42.800000</td>\n      <td>576.230000</td>\n      <td>72.000000</td>\n      <td>1440.000000</td>\n      <td>151.111100</td>\n    </tr>\n  </tbody>\n</table>\n</div>"
     },
     "execution_count": 152,
     "metadata": {},
     "output_type": "execute_result"
    }
   ],
   "source": [
    "db.describe()"
   ],
   "metadata": {
    "collapsed": false,
    "pycharm": {
     "name": "#%%\n"
    }
   }
  },
  {
   "cell_type": "code",
   "execution_count": null,
   "outputs": [],
   "source": [
    "# --------------------------------------------------------------------------------------------------------------------"
   ],
   "metadata": {
    "collapsed": false,
    "pycharm": {
     "name": "#%%\n"
    }
   }
  },
  {
   "cell_type": "code",
   "source": [
    "db1 = pd.read_excel('C:/projects/laboratory/Nanoparticle_cytotoxicity/databases/Meta-Analysis of Nanoparticle Cytotoxicity via Data-Mining the Literature.xlsx')\n",
    "db1.info()"
   ],
   "metadata": {
    "colab": {
     "base_uri": "https://localhost:8080/"
    },
    "id": "UmS8YBkNc1G1",
    "executionInfo": {
     "status": "ok",
     "timestamp": 1644495604037,
     "user_tz": -180,
     "elapsed": 244,
     "user": {
      "displayName": "O`Reilly",
      "photoUrl": "https://lh3.googleusercontent.com/a-/AOh14GjRojJgetMBXWOPYqIr3f-ELjZmmHdNhAFWaDa-uQ=s64",
      "userId": "14342088318867418483"
     }
    },
    "outputId": "33171dfd-b8b4-4f91-f667-59a7b8f90b1a"
   },
   "execution_count": 125,
   "outputs": [
    {
     "name": "stdout",
     "output_type": "stream",
     "text": [
      "<class 'pandas.core.frame.DataFrame'>\n",
      "RangeIndex: 2896 entries, 0 to 2895\n",
      "Data columns (total 24 columns):\n",
      " #   Column                              Non-Null Count  Dtype  \n",
      "---  ------                              --------------  -----  \n",
      " 0   Nanoparticle                        2896 non-null   object \n",
      " 1   Type: Organic (O)/inorganic (I)     2896 non-null   object \n",
      " 2   coat                                1052 non-null   object \n",
      " 3   Diameter (nm)                       2896 non-null   float64\n",
      " 4   Concentration μM                    2896 non-null   float64\n",
      " 5   Zeta potential (mV)                 1261 non-null   float64\n",
      " 6   Cells                               2896 non-null   object \n",
      " 7   Cell line (L)/primary cells (P)     2896 non-null   object \n",
      " 8   Human(H)/Animal(A) cells            2896 non-null   object \n",
      " 9   Animal?                             651 non-null    object \n",
      " 10  Cell morphology                     2896 non-null   object \n",
      " 11  Cell age: embryonic (E), Adult (A)  2896 non-null   object \n",
      " 12  Cell-organ/tissue source            2896 non-null   object \n",
      " 13  Exposure time (h)                   2896 non-null   int64  \n",
      " 14  Test                                2896 non-null   object \n",
      " 15  Test indicator                      2896 non-null   object \n",
      " 16  Biochemical metric                  2896 non-null   object \n",
      " 17  % Cell viability                    2896 non-null   float64\n",
      " 18  Interference checked (Y/N)          2896 non-null   object \n",
      " 19  Colloidal stability checked (Y/N)   2896 non-null   object \n",
      " 20  Positive control (Y/N)              2896 non-null   object \n",
      " 21  Publication year                    2896 non-null   int64  \n",
      " 22  Particle ID                         2896 non-null   int64  \n",
      " 23  Reference DOI                       2896 non-null   object \n",
      "dtypes: float64(4), int64(3), object(17)\n",
      "memory usage: 543.1+ KB\n"
     ]
    }
   ]
  },
  {
   "cell_type": "code",
   "source": [
    "db1 = pd.DataFrame(db1)"
   ],
   "metadata": {
    "id": "Av4otvI51NBD",
    "executionInfo": {
     "status": "ok",
     "timestamp": 1644495606182,
     "user_tz": -180,
     "elapsed": 307,
     "user": {
      "displayName": "O`Reilly",
      "photoUrl": "https://lh3.googleusercontent.com/a-/AOh14GjRojJgetMBXWOPYqIr3f-ELjZmmHdNhAFWaDa-uQ=s64",
      "userId": "14342088318867418483"
     }
    }
   },
   "execution_count": 126,
   "outputs": []
  },
  {
   "cell_type": "code",
   "source": [
    "db1.rename(columns = {'Nanoparticle':'material',\n",
    "                      \"Type: Organic (O)/inorganic (I)\": 'type',\n",
    "                      'Zeta potential (mV)':'zeta potential (mV)',\n",
    "                      'Exposure time (h)':'time',\n",
    "                      '% Cell viability':'viability (%)',\n",
    "                      'Cells':'cell line',\n",
    "                      'Animal?':'cell species',\n",
    "                      'Cell-organ/tissue source':'cell origin',\n",
    "                      'Diameter (nm)':'diameter (nm)' }, inplace = True)"
   ],
   "metadata": {
    "id": "OPbzfcPX1XFH",
    "executionInfo": {
     "status": "ok",
     "timestamp": 1644495607534,
     "user_tz": -180,
     "elapsed": 2,
     "user": {
      "displayName": "O`Reilly",
      "photoUrl": "https://lh3.googleusercontent.com/a-/AOh14GjRojJgetMBXWOPYqIr3f-ELjZmmHdNhAFWaDa-uQ=s64",
      "userId": "14342088318867418483"
     }
    }
   },
   "execution_count": 127,
   "outputs": []
  },
  {
   "cell_type": "code",
   "source": [
    "db1.describe()"
   ],
   "metadata": {
    "colab": {
     "base_uri": "https://localhost:8080/",
     "height": 887
    },
    "id": "TtOhABxdnZST",
    "executionInfo": {
     "status": "ok",
     "timestamp": 1644496269125,
     "user_tz": -180,
     "elapsed": 379,
     "user": {
      "displayName": "O`Reilly",
      "photoUrl": "https://lh3.googleusercontent.com/a-/AOh14GjRojJgetMBXWOPYqIr3f-ELjZmmHdNhAFWaDa-uQ=s64",
      "userId": "14342088318867418483"
     }
    },
    "outputId": "406b4a0f-5215-45a3-f6ff-39a6dd86526f"
   },
   "execution_count": 128,
   "outputs": [
    {
     "data": {
      "text/plain": "       diameter (nm)  Concentration μM  zeta potential (mV)         time  \\\ncount    2896.000000      2.896000e+03          1261.000000  2896.000000   \nmean      125.082465      8.574635e+01            -1.963933    35.515539   \nstd       171.931194      7.979487e+02            28.925259    27.950149   \nmin         1.000000      1.660539e-20           -48.000000     1.000000   \n25%        20.000000      2.500000e-06           -27.000000    24.000000   \n50%        49.200000      5.000000e-04            -8.000000    24.000000   \n75%       165.000000      1.054755e-02            17.700000    48.000000   \nmax       957.000000      1.500000e+04            87.000000   336.000000   \n\n       viability (%)  Publication year  Particle ID  \ncount    2896.000000       2896.000000  2896.000000  \nmean       75.208409       2010.821133    59.613605  \nstd        34.267026          2.609359    33.874291  \nmin       -58.897640       2004.000000     1.000000  \n25%        54.219643       2009.000000    29.000000  \n50%        86.965674       2011.000000    57.000000  \n75%        97.652370       2012.000000    88.000000  \nmax       404.811700       2015.000000   118.000000  ",
      "text/html": "<div>\n<style scoped>\n    .dataframe tbody tr th:only-of-type {\n        vertical-align: middle;\n    }\n\n    .dataframe tbody tr th {\n        vertical-align: top;\n    }\n\n    .dataframe thead th {\n        text-align: right;\n    }\n</style>\n<table border=\"1\" class=\"dataframe\">\n  <thead>\n    <tr style=\"text-align: right;\">\n      <th></th>\n      <th>diameter (nm)</th>\n      <th>Concentration μM</th>\n      <th>zeta potential (mV)</th>\n      <th>time</th>\n      <th>viability (%)</th>\n      <th>Publication year</th>\n      <th>Particle ID</th>\n    </tr>\n  </thead>\n  <tbody>\n    <tr>\n      <th>count</th>\n      <td>2896.000000</td>\n      <td>2.896000e+03</td>\n      <td>1261.000000</td>\n      <td>2896.000000</td>\n      <td>2896.000000</td>\n      <td>2896.000000</td>\n      <td>2896.000000</td>\n    </tr>\n    <tr>\n      <th>mean</th>\n      <td>125.082465</td>\n      <td>8.574635e+01</td>\n      <td>-1.963933</td>\n      <td>35.515539</td>\n      <td>75.208409</td>\n      <td>2010.821133</td>\n      <td>59.613605</td>\n    </tr>\n    <tr>\n      <th>std</th>\n      <td>171.931194</td>\n      <td>7.979487e+02</td>\n      <td>28.925259</td>\n      <td>27.950149</td>\n      <td>34.267026</td>\n      <td>2.609359</td>\n      <td>33.874291</td>\n    </tr>\n    <tr>\n      <th>min</th>\n      <td>1.000000</td>\n      <td>1.660539e-20</td>\n      <td>-48.000000</td>\n      <td>1.000000</td>\n      <td>-58.897640</td>\n      <td>2004.000000</td>\n      <td>1.000000</td>\n    </tr>\n    <tr>\n      <th>25%</th>\n      <td>20.000000</td>\n      <td>2.500000e-06</td>\n      <td>-27.000000</td>\n      <td>24.000000</td>\n      <td>54.219643</td>\n      <td>2009.000000</td>\n      <td>29.000000</td>\n    </tr>\n    <tr>\n      <th>50%</th>\n      <td>49.200000</td>\n      <td>5.000000e-04</td>\n      <td>-8.000000</td>\n      <td>24.000000</td>\n      <td>86.965674</td>\n      <td>2011.000000</td>\n      <td>57.000000</td>\n    </tr>\n    <tr>\n      <th>75%</th>\n      <td>165.000000</td>\n      <td>1.054755e-02</td>\n      <td>17.700000</td>\n      <td>48.000000</td>\n      <td>97.652370</td>\n      <td>2012.000000</td>\n      <td>88.000000</td>\n    </tr>\n    <tr>\n      <th>max</th>\n      <td>957.000000</td>\n      <td>1.500000e+04</td>\n      <td>87.000000</td>\n      <td>336.000000</td>\n      <td>404.811700</td>\n      <td>2015.000000</td>\n      <td>118.000000</td>\n    </tr>\n  </tbody>\n</table>\n</div>"
     },
     "execution_count": 128,
     "metadata": {},
     "output_type": "execute_result"
    }
   ]
  },
  {
   "cell_type": "code",
   "execution_count": 129,
   "outputs": [],
   "source": [
    "db1['molecular weight (g/mol)'] = np.nan"
   ],
   "metadata": {
    "collapsed": false,
    "pycharm": {
     "name": "#%%\n"
    }
   }
  },
  {
   "cell_type": "code",
   "execution_count": 131,
   "outputs": [],
   "source": [
    "from molmass import FormulaError\n",
    "from aifc import Error\n",
    "\n",
    "for index, row in db1.iterrows():\n",
    "    try:\n",
    "        db1['molecular weight (g/mol)'].values[index] = Formula(db1['material'].values[index]).mass\n",
    "    except FormulaError:\n",
    "        pass\n",
    "\n",
    "db1.dropna(subset = [\"molecular weight (g/mol)\"], inplace=True)"
   ],
   "metadata": {
    "collapsed": false,
    "pycharm": {
     "name": "#%%\n"
    }
   }
  },
  {
   "cell_type": "code",
   "execution_count": 133,
   "outputs": [],
   "source": [
    "db1['Concentration μg/ml'] = db1['Concentration μM'] * db1['molecular weight (g/mol)'] / 1000"
   ],
   "metadata": {
    "collapsed": false,
    "pycharm": {
     "name": "#%%\n"
    }
   }
  },
  {
   "cell_type": "code",
   "execution_count": 135,
   "outputs": [
    {
     "data": {
      "text/plain": "     material type coat  diameter (nm)  Concentration μM  zeta potential (mV)  \\\n0        CeO2    I  NaN           20.3          0.002478                  NaN   \n1        CeO2    I  NaN           20.3          0.004956                  NaN   \n2        CeO2    I  NaN           20.3          0.009911                  NaN   \n3        CeO2    I  NaN           20.3          0.019823                  NaN   \n4        CeO2    I  NaN           20.3          0.039645                  NaN   \n...       ...  ...  ...            ...               ...                  ...   \n2604      SLN    O  NaN           98.4          0.000350                -14.6   \n2605      SLN    O  NaN           98.4          0.000876                -14.6   \n2606      SLN    O  NaN           98.4          0.001752                -14.6   \n2607      SLN    O  NaN           98.4          0.002628                -14.6   \n2608      SLN    O  NaN           98.4          0.003504                -14.6   \n\n     cell line Cell line (L)/primary cells (P) Human(H)/Animal(A) cells  \\\n0         L929                               L                        A   \n1         L929                               L                        A   \n2         L929                               L                        A   \n3         L929                               L                        A   \n4         L929                               L                        A   \n...        ...                             ...                      ...   \n2604      A549                               L                        H   \n2605      A549                               L                        H   \n2606      A549                               L                        H   \n2607      A549                               L                        H   \n2608      A549                               L                        H   \n\n     cell species  ...       Biochemical metric viability (%)  \\\n0           Mouse  ...  cell metabolic activity    105.589180   \n1           Mouse  ...  cell metabolic activity    103.026210   \n2           Mouse  ...  cell metabolic activity    104.857480   \n3           Mouse  ...  cell metabolic activity    100.096700   \n4           Mouse  ...  cell metabolic activity     97.532370   \n...           ...  ...                      ...           ...   \n2604          NaN  ...  cell metabolic activity    100.609760   \n2605          NaN  ...  cell metabolic activity     83.170730   \n2606          NaN  ...  cell metabolic activity     67.073170   \n2607          NaN  ...  cell metabolic activity     32.865852   \n2608          NaN  ...  cell metabolic activity     -0.670732   \n\n     Interference checked (Y/N)  Colloidal stability checked (Y/N)  \\\n0                             N                                  N   \n1                             N                                  N   \n2                             N                                  N   \n3                             N                                  N   \n4                             N                                  N   \n...                         ...                                ...   \n2604                          N                                  N   \n2605                          N                                  N   \n2606                          N                                  N   \n2607                          N                                  N   \n2608                          N                                  N   \n\n     Positive control (Y/N) Publication year Particle ID  \\\n0                         N             2015           1   \n1                         N             2015           1   \n2                         N             2015           1   \n3                         N             2015           1   \n4                         N             2015           1   \n...                     ...              ...         ...   \n2604                      N             2010         106   \n2605                      N             2010         106   \n2606                      N             2010         106   \n2607                      N             2010         106   \n2608                      N             2010         106   \n\n                       Reference DOI molecular weight (g/mol)  \\\n0     10.1016/j.ceramint.2014.09.095               172.114810   \n1     10.1016/j.ceramint.2014.09.095               172.114810   \n2     10.1016/j.ceramint.2014.09.095               172.114810   \n3     10.1016/j.ceramint.2014.09.095               172.114810   \n4     10.1016/j.ceramint.2014.09.095               172.114810   \n...                              ...                      ...   \n2604      10.1016/j.ejpb.2010.02.014               332.353446   \n2605      10.1016/j.ejpb.2010.02.014               332.353446   \n2606      10.1016/j.ejpb.2010.02.014               332.353446   \n2607      10.1016/j.ejpb.2010.02.014               332.353446   \n2608      10.1016/j.ejpb.2010.02.014               332.353446   \n\n     Concentration μg/ml  \n0               0.000426  \n1               0.000853  \n2               0.001706  \n3               0.003412  \n4               0.006824  \n...                  ...  \n2604            0.000116  \n2605            0.000291  \n2606            0.000582  \n2607            0.000873  \n2608            0.001165  \n\n[1792 rows x 26 columns]",
      "text/html": "<div>\n<style scoped>\n    .dataframe tbody tr th:only-of-type {\n        vertical-align: middle;\n    }\n\n    .dataframe tbody tr th {\n        vertical-align: top;\n    }\n\n    .dataframe thead th {\n        text-align: right;\n    }\n</style>\n<table border=\"1\" class=\"dataframe\">\n  <thead>\n    <tr style=\"text-align: right;\">\n      <th></th>\n      <th>material</th>\n      <th>type</th>\n      <th>coat</th>\n      <th>diameter (nm)</th>\n      <th>Concentration μM</th>\n      <th>zeta potential (mV)</th>\n      <th>cell line</th>\n      <th>Cell line (L)/primary cells (P)</th>\n      <th>Human(H)/Animal(A) cells</th>\n      <th>cell species</th>\n      <th>...</th>\n      <th>Biochemical metric</th>\n      <th>viability (%)</th>\n      <th>Interference checked (Y/N)</th>\n      <th>Colloidal stability checked (Y/N)</th>\n      <th>Positive control (Y/N)</th>\n      <th>Publication year</th>\n      <th>Particle ID</th>\n      <th>Reference DOI</th>\n      <th>molecular weight (g/mol)</th>\n      <th>Concentration μg/ml</th>\n    </tr>\n  </thead>\n  <tbody>\n    <tr>\n      <th>0</th>\n      <td>CeO2</td>\n      <td>I</td>\n      <td>NaN</td>\n      <td>20.3</td>\n      <td>0.002478</td>\n      <td>NaN</td>\n      <td>L929</td>\n      <td>L</td>\n      <td>A</td>\n      <td>Mouse</td>\n      <td>...</td>\n      <td>cell metabolic activity</td>\n      <td>105.589180</td>\n      <td>N</td>\n      <td>N</td>\n      <td>N</td>\n      <td>2015</td>\n      <td>1</td>\n      <td>10.1016/j.ceramint.2014.09.095</td>\n      <td>172.114810</td>\n      <td>0.000426</td>\n    </tr>\n    <tr>\n      <th>1</th>\n      <td>CeO2</td>\n      <td>I</td>\n      <td>NaN</td>\n      <td>20.3</td>\n      <td>0.004956</td>\n      <td>NaN</td>\n      <td>L929</td>\n      <td>L</td>\n      <td>A</td>\n      <td>Mouse</td>\n      <td>...</td>\n      <td>cell metabolic activity</td>\n      <td>103.026210</td>\n      <td>N</td>\n      <td>N</td>\n      <td>N</td>\n      <td>2015</td>\n      <td>1</td>\n      <td>10.1016/j.ceramint.2014.09.095</td>\n      <td>172.114810</td>\n      <td>0.000853</td>\n    </tr>\n    <tr>\n      <th>2</th>\n      <td>CeO2</td>\n      <td>I</td>\n      <td>NaN</td>\n      <td>20.3</td>\n      <td>0.009911</td>\n      <td>NaN</td>\n      <td>L929</td>\n      <td>L</td>\n      <td>A</td>\n      <td>Mouse</td>\n      <td>...</td>\n      <td>cell metabolic activity</td>\n      <td>104.857480</td>\n      <td>N</td>\n      <td>N</td>\n      <td>N</td>\n      <td>2015</td>\n      <td>1</td>\n      <td>10.1016/j.ceramint.2014.09.095</td>\n      <td>172.114810</td>\n      <td>0.001706</td>\n    </tr>\n    <tr>\n      <th>3</th>\n      <td>CeO2</td>\n      <td>I</td>\n      <td>NaN</td>\n      <td>20.3</td>\n      <td>0.019823</td>\n      <td>NaN</td>\n      <td>L929</td>\n      <td>L</td>\n      <td>A</td>\n      <td>Mouse</td>\n      <td>...</td>\n      <td>cell metabolic activity</td>\n      <td>100.096700</td>\n      <td>N</td>\n      <td>N</td>\n      <td>N</td>\n      <td>2015</td>\n      <td>1</td>\n      <td>10.1016/j.ceramint.2014.09.095</td>\n      <td>172.114810</td>\n      <td>0.003412</td>\n    </tr>\n    <tr>\n      <th>4</th>\n      <td>CeO2</td>\n      <td>I</td>\n      <td>NaN</td>\n      <td>20.3</td>\n      <td>0.039645</td>\n      <td>NaN</td>\n      <td>L929</td>\n      <td>L</td>\n      <td>A</td>\n      <td>Mouse</td>\n      <td>...</td>\n      <td>cell metabolic activity</td>\n      <td>97.532370</td>\n      <td>N</td>\n      <td>N</td>\n      <td>N</td>\n      <td>2015</td>\n      <td>1</td>\n      <td>10.1016/j.ceramint.2014.09.095</td>\n      <td>172.114810</td>\n      <td>0.006824</td>\n    </tr>\n    <tr>\n      <th>...</th>\n      <td>...</td>\n      <td>...</td>\n      <td>...</td>\n      <td>...</td>\n      <td>...</td>\n      <td>...</td>\n      <td>...</td>\n      <td>...</td>\n      <td>...</td>\n      <td>...</td>\n      <td>...</td>\n      <td>...</td>\n      <td>...</td>\n      <td>...</td>\n      <td>...</td>\n      <td>...</td>\n      <td>...</td>\n      <td>...</td>\n      <td>...</td>\n      <td>...</td>\n      <td>...</td>\n    </tr>\n    <tr>\n      <th>2604</th>\n      <td>SLN</td>\n      <td>O</td>\n      <td>NaN</td>\n      <td>98.4</td>\n      <td>0.000350</td>\n      <td>-14.6</td>\n      <td>A549</td>\n      <td>L</td>\n      <td>H</td>\n      <td>NaN</td>\n      <td>...</td>\n      <td>cell metabolic activity</td>\n      <td>100.609760</td>\n      <td>N</td>\n      <td>N</td>\n      <td>N</td>\n      <td>2010</td>\n      <td>106</td>\n      <td>10.1016/j.ejpb.2010.02.014</td>\n      <td>332.353446</td>\n      <td>0.000116</td>\n    </tr>\n    <tr>\n      <th>2605</th>\n      <td>SLN</td>\n      <td>O</td>\n      <td>NaN</td>\n      <td>98.4</td>\n      <td>0.000876</td>\n      <td>-14.6</td>\n      <td>A549</td>\n      <td>L</td>\n      <td>H</td>\n      <td>NaN</td>\n      <td>...</td>\n      <td>cell metabolic activity</td>\n      <td>83.170730</td>\n      <td>N</td>\n      <td>N</td>\n      <td>N</td>\n      <td>2010</td>\n      <td>106</td>\n      <td>10.1016/j.ejpb.2010.02.014</td>\n      <td>332.353446</td>\n      <td>0.000291</td>\n    </tr>\n    <tr>\n      <th>2606</th>\n      <td>SLN</td>\n      <td>O</td>\n      <td>NaN</td>\n      <td>98.4</td>\n      <td>0.001752</td>\n      <td>-14.6</td>\n      <td>A549</td>\n      <td>L</td>\n      <td>H</td>\n      <td>NaN</td>\n      <td>...</td>\n      <td>cell metabolic activity</td>\n      <td>67.073170</td>\n      <td>N</td>\n      <td>N</td>\n      <td>N</td>\n      <td>2010</td>\n      <td>106</td>\n      <td>10.1016/j.ejpb.2010.02.014</td>\n      <td>332.353446</td>\n      <td>0.000582</td>\n    </tr>\n    <tr>\n      <th>2607</th>\n      <td>SLN</td>\n      <td>O</td>\n      <td>NaN</td>\n      <td>98.4</td>\n      <td>0.002628</td>\n      <td>-14.6</td>\n      <td>A549</td>\n      <td>L</td>\n      <td>H</td>\n      <td>NaN</td>\n      <td>...</td>\n      <td>cell metabolic activity</td>\n      <td>32.865852</td>\n      <td>N</td>\n      <td>N</td>\n      <td>N</td>\n      <td>2010</td>\n      <td>106</td>\n      <td>10.1016/j.ejpb.2010.02.014</td>\n      <td>332.353446</td>\n      <td>0.000873</td>\n    </tr>\n    <tr>\n      <th>2608</th>\n      <td>SLN</td>\n      <td>O</td>\n      <td>NaN</td>\n      <td>98.4</td>\n      <td>0.003504</td>\n      <td>-14.6</td>\n      <td>A549</td>\n      <td>L</td>\n      <td>H</td>\n      <td>NaN</td>\n      <td>...</td>\n      <td>cell metabolic activity</td>\n      <td>-0.670732</td>\n      <td>N</td>\n      <td>N</td>\n      <td>N</td>\n      <td>2010</td>\n      <td>106</td>\n      <td>10.1016/j.ejpb.2010.02.014</td>\n      <td>332.353446</td>\n      <td>0.001165</td>\n    </tr>\n  </tbody>\n</table>\n<p>1792 rows × 26 columns</p>\n</div>"
     },
     "execution_count": 135,
     "metadata": {},
     "output_type": "execute_result"
    }
   ],
   "source": [
    "db1"
   ],
   "metadata": {
    "collapsed": false,
    "pycharm": {
     "name": "#%%\n"
    }
   }
  },
  {
   "cell_type": "code",
   "execution_count": 70,
   "outputs": [
    {
     "data": {
      "text/plain": "'\\n\\nCтранности в db1 (решить):\\n1) концентрации в микромолях\\n2) огромный разброс по концентрациям (проверить значения на адекватность)\\n5) максимальная жизнеспособность 404% - возможно, но лучше проверить, неужели так стимулирует рост клеток\\n\\n'"
     },
     "execution_count": 70,
     "metadata": {},
     "output_type": "execute_result"
    }
   ],
   "source": [
    "\"\"\"\n",
    "\n",
    "Cтранности в db1 (решить):\n",
    "2) огромный разброс по концентрациям (проверить значения на адекватность)\n",
    "5) максимальная жизнеспособность 404% - возможно, но лучше проверить, неужели так стимулирует рост клеток\n",
    "\n",
    "\"\"\""
   ],
   "metadata": {
    "collapsed": false,
    "pycharm": {
     "name": "#%%\n"
    }
   }
  },
  {
   "cell_type": "code",
   "execution_count": 71,
   "outputs": [],
   "source": [
    "db1 = db1.drop(db1[db1.time > 72].index)\n",
    "db1 = db1.drop(db1[db1.type == 'O'].index)\n",
    "db1 = db1.drop(columns=['Particle ID', 'Publication year'])"
   ],
   "metadata": {
    "collapsed": false,
    "pycharm": {
     "name": "#%%\n"
    }
   }
  },
  {
   "cell_type": "code",
   "execution_count": 72,
   "outputs": [
    {
     "data": {
      "text/plain": "       diameter (nm)  Concentration μM  zeta potential (mV)         time  \\\ncount    2164.000000      2.164000e+03           809.000000  2164.000000   \nmean      129.689242      8.902248e+01           -10.007664    31.321165   \nstd       185.242622      7.324197e+02            27.767412    19.795788   \nmin         1.400000      1.660539e-20           -48.000000     1.000000   \n25%        20.000000      1.200280e-06           -33.330000    24.000000   \n50%        38.000000      3.308490e-04           -20.000000    24.000000   \n75%       165.000000      7.066396e-03            12.100000    48.000000   \nmax       957.000000      1.000000e+04            87.000000    72.000000   \n\n       viability (%)  \ncount    2164.000000  \nmean       74.990209  \nstd        35.191307  \nmin       -58.897640  \n25%        53.087573  \n50%        87.289635  \n75%        97.563372  \nmax       404.811700  ",
      "text/html": "<div>\n<style scoped>\n    .dataframe tbody tr th:only-of-type {\n        vertical-align: middle;\n    }\n\n    .dataframe tbody tr th {\n        vertical-align: top;\n    }\n\n    .dataframe thead th {\n        text-align: right;\n    }\n</style>\n<table border=\"1\" class=\"dataframe\">\n  <thead>\n    <tr style=\"text-align: right;\">\n      <th></th>\n      <th>diameter (nm)</th>\n      <th>Concentration μM</th>\n      <th>zeta potential (mV)</th>\n      <th>time</th>\n      <th>viability (%)</th>\n    </tr>\n  </thead>\n  <tbody>\n    <tr>\n      <th>count</th>\n      <td>2164.000000</td>\n      <td>2.164000e+03</td>\n      <td>809.000000</td>\n      <td>2164.000000</td>\n      <td>2164.000000</td>\n    </tr>\n    <tr>\n      <th>mean</th>\n      <td>129.689242</td>\n      <td>8.902248e+01</td>\n      <td>-10.007664</td>\n      <td>31.321165</td>\n      <td>74.990209</td>\n    </tr>\n    <tr>\n      <th>std</th>\n      <td>185.242622</td>\n      <td>7.324197e+02</td>\n      <td>27.767412</td>\n      <td>19.795788</td>\n      <td>35.191307</td>\n    </tr>\n    <tr>\n      <th>min</th>\n      <td>1.400000</td>\n      <td>1.660539e-20</td>\n      <td>-48.000000</td>\n      <td>1.000000</td>\n      <td>-58.897640</td>\n    </tr>\n    <tr>\n      <th>25%</th>\n      <td>20.000000</td>\n      <td>1.200280e-06</td>\n      <td>-33.330000</td>\n      <td>24.000000</td>\n      <td>53.087573</td>\n    </tr>\n    <tr>\n      <th>50%</th>\n      <td>38.000000</td>\n      <td>3.308490e-04</td>\n      <td>-20.000000</td>\n      <td>24.000000</td>\n      <td>87.289635</td>\n    </tr>\n    <tr>\n      <th>75%</th>\n      <td>165.000000</td>\n      <td>7.066396e-03</td>\n      <td>12.100000</td>\n      <td>48.000000</td>\n      <td>97.563372</td>\n    </tr>\n    <tr>\n      <th>max</th>\n      <td>957.000000</td>\n      <td>1.000000e+04</td>\n      <td>87.000000</td>\n      <td>72.000000</td>\n      <td>404.811700</td>\n    </tr>\n  </tbody>\n</table>\n</div>"
     },
     "execution_count": 72,
     "metadata": {},
     "output_type": "execute_result"
    }
   ],
   "source": [
    "db1.describe()"
   ],
   "metadata": {
    "collapsed": false,
    "pycharm": {
     "name": "#%%\n"
    }
   }
  },
  {
   "cell_type": "code",
   "execution_count": null,
   "outputs": [],
   "source": [
    "# --------------------------------------------------------------------------------------------------------------------"
   ],
   "metadata": {
    "collapsed": false,
    "pycharm": {
     "name": "#%%\n"
    }
   }
  },
  {
   "cell_type": "code",
   "source": [
    "db2 = pd.read_excel('C:/projects/laboratory/Nanoparticle_cytotoxicity/databases/Cytotoxicity analysis of nanoparticles by association rule mining.xlsx')\n",
    "db2.info()"
   ],
   "metadata": {
    "colab": {
     "base_uri": "https://localhost:8080/"
    },
    "id": "7UOSf69cd05a",
    "executionInfo": {
     "status": "ok",
     "timestamp": 1644495612176,
     "user_tz": -180,
     "elapsed": 235,
     "user": {
      "displayName": "O`Reilly",
      "photoUrl": "https://lh3.googleusercontent.com/a-/AOh14GjRojJgetMBXWOPYqIr3f-ELjZmmHdNhAFWaDa-uQ=s64",
      "userId": "14342088318867418483"
     }
    },
    "outputId": "55416e3a-eeeb-4cf8-d2ab-c72c69fa186e"
   },
   "execution_count": 10,
   "outputs": [
    {
     "name": "stdout",
     "output_type": "stream",
     "text": [
      "<class 'pandas.core.frame.DataFrame'>\n",
      "RangeIndex: 4111 entries, 0 to 4110\n",
      "Data columns (total 30 columns):\n",
      " #   Column                    Non-Null Count  Dtype  \n",
      "---  ------                    --------------  -----  \n",
      " 0   No                        4111 non-null   int64  \n",
      " 1   Year                      4111 non-null   int64  \n",
      " 2   Material                  4111 non-null   object \n",
      " 3   Type                      4111 non-null   object \n",
      " 4   Shape                     4111 non-null   object \n",
      " 5   Coat/Functional Group     4111 non-null   object \n",
      " 6   Synthesis_Method          4111 non-null   object \n",
      " 7   Surface_Charge            3110 non-null   object \n",
      " 8   Diameter (nm)             3278 non-null   float64\n",
      " 9   Size_in_Water (nm)        2330 non-null   float64\n",
      " 10  Size_in_Medium (nm)       1989 non-null   float64\n",
      " 11  Zeta_in_Water (mV)        2487 non-null   float64\n",
      " 12  Zeta_in_Medium (mV)       1670 non-null   float64\n",
      " 13  Cell_Type                 4111 non-null   object \n",
      " 14  No_of_Cells (cells/well)  3684 non-null   float64\n",
      " 15  Human_Animal              4111 non-null   object \n",
      " 16  Cell_Source               4111 non-null   object \n",
      " 17  Cell_Tissue               4111 non-null   object \n",
      " 18  Cell_Morphology           4111 non-null   object \n",
      " 19  Cell_Age                  4111 non-null   object \n",
      " 20  Cell Line_Primary Cell    4111 non-null   object \n",
      " 21  Time (hr)                 4111 non-null   int64  \n",
      " 22  Concentration (ug/ml)     3889 non-null   float64\n",
      " 23  Test                      4111 non-null   object \n",
      " 24  Test_Indicator            4111 non-null   object \n",
      " 25  Aspect_Ratio              380 non-null    float64\n",
      " 26  Cell_Viability (%)        4111 non-null   float64\n",
      " 27  PDI                       1000 non-null   float64\n",
      " 28  Article_ID                4111 non-null   int64  \n",
      " 29  DOI                       4111 non-null   object \n",
      "dtypes: float64(10), int64(4), object(16)\n",
      "memory usage: 963.6+ KB\n"
     ]
    }
   ]
  },
  {
   "cell_type": "code",
   "source": [
    "db2.rename(columns = {'Material':'material','Surface_Charge':'surface charge (mV)',\n",
    "                      'Diameter (nm)':'diameter (nm)','Cell_Type':'cell type','Cell_Source':'cell species','Cell_Tissue':'cell origin',\n",
    "                      'Time (hr)':'time','Concentration (ug/ml)':'dose (ug/mL)','Cell_Viability (%)':'viability (%)'}, inplace = True)"
   ],
   "metadata": {
    "id": "_-L_GpAV7B-p",
    "executionInfo": {
     "status": "ok",
     "timestamp": 1644495614745,
     "user_tz": -180,
     "elapsed": 239,
     "user": {
      "displayName": "O`Reilly",
      "photoUrl": "https://lh3.googleusercontent.com/a-/AOh14GjRojJgetMBXWOPYqIr3f-ELjZmmHdNhAFWaDa-uQ=s64",
      "userId": "14342088318867418483"
     }
    }
   },
   "execution_count": 11,
   "outputs": []
  },
  {
   "cell_type": "code",
   "source": [
    "db2.describe()"
   ],
   "metadata": {
    "colab": {
     "base_uri": "https://localhost:8080/",
     "height": 696
    },
    "id": "dUHp6tX65E0b",
    "executionInfo": {
     "status": "ok",
     "timestamp": 1644495616304,
     "user_tz": -180,
     "elapsed": 255,
     "user": {
      "displayName": "O`Reilly",
      "photoUrl": "https://lh3.googleusercontent.com/a-/AOh14GjRojJgetMBXWOPYqIr3f-ELjZmmHdNhAFWaDa-uQ=s64",
      "userId": "14342088318867418483"
     }
    },
    "outputId": "27a6c243-afba-4a26-89b8-8082555bef24"
   },
   "execution_count": 12,
   "outputs": [
    {
     "data": {
      "text/plain": "                No         Year  diameter (nm)  Size_in_Water (nm)  \\\ncount  4111.000000  4111.000000    3278.000000         2330.000000   \nmean   2056.000000  2014.926539      47.337541          161.317318   \nstd    1186.887807     3.008173      62.051131          157.079816   \nmin       1.000000  2010.000000       1.150000            0.040000   \n25%    1028.500000  2012.000000      14.300000           43.800000   \n50%    2056.000000  2015.000000      28.200000          112.700000   \n75%    3083.500000  2018.000000      50.000000          203.300000   \nmax    4111.000000  2020.000000     500.000000          889.030000   \n\n       Size_in_Medium (nm)  Zeta_in_Water (mV)  Zeta_in_Medium (mV)  \\\ncount          1989.000000         2487.000000          1670.000000   \nmean            201.079628          -10.793844           -11.847219   \nstd             202.080642           34.186789            15.778892   \nmin               1.900000         -158.000000           -63.310000   \n25%              77.000000          -33.330000           -20.670000   \n50%             142.000000          -17.600000           -11.600000   \n75%             222.000000           -2.200000            -7.700000   \nmax            1262.330000          256.000000            56.000000   \n\n       No_of_Cells (cells/well)         time  dose (ug/mL)  Aspect_Ratio  \\\ncount               3684.000000  4111.000000   3889.000000    380.000000   \nmean               51227.415852    33.343225    152.849191    147.247079   \nstd               119087.964430    20.676919    556.328787    493.111329   \nmin                  300.000000     1.000000      0.001000      0.100000   \n25%                10000.000000    24.000000      8.000000      3.525000   \n50%                10000.000000    24.000000     40.000000     11.800000   \n75%                50000.000000    48.000000    100.000000     37.900000   \nmax              1000000.000000    96.000000  14015.200000   3333.000000   \n\n       viability (%)          PDI   Article_ID  \ncount    4111.000000  1000.000000  4111.000000  \nmean       75.409712     0.330952    75.413768  \nstd        30.854024     0.249619    44.821069  \nmin        -3.780100     0.005000     1.000000  \n25%        58.069500     0.148000    37.000000  \n50%        85.280000     0.241000    77.000000  \n75%        97.227000     0.518000   116.000000  \nmax       234.630000     0.895000   152.000000  ",
      "text/html": "<div>\n<style scoped>\n    .dataframe tbody tr th:only-of-type {\n        vertical-align: middle;\n    }\n\n    .dataframe tbody tr th {\n        vertical-align: top;\n    }\n\n    .dataframe thead th {\n        text-align: right;\n    }\n</style>\n<table border=\"1\" class=\"dataframe\">\n  <thead>\n    <tr style=\"text-align: right;\">\n      <th></th>\n      <th>No</th>\n      <th>Year</th>\n      <th>diameter (nm)</th>\n      <th>Size_in_Water (nm)</th>\n      <th>Size_in_Medium (nm)</th>\n      <th>Zeta_in_Water (mV)</th>\n      <th>Zeta_in_Medium (mV)</th>\n      <th>No_of_Cells (cells/well)</th>\n      <th>time</th>\n      <th>dose (ug/mL)</th>\n      <th>Aspect_Ratio</th>\n      <th>viability (%)</th>\n      <th>PDI</th>\n      <th>Article_ID</th>\n    </tr>\n  </thead>\n  <tbody>\n    <tr>\n      <th>count</th>\n      <td>4111.000000</td>\n      <td>4111.000000</td>\n      <td>3278.000000</td>\n      <td>2330.000000</td>\n      <td>1989.000000</td>\n      <td>2487.000000</td>\n      <td>1670.000000</td>\n      <td>3684.000000</td>\n      <td>4111.000000</td>\n      <td>3889.000000</td>\n      <td>380.000000</td>\n      <td>4111.000000</td>\n      <td>1000.000000</td>\n      <td>4111.000000</td>\n    </tr>\n    <tr>\n      <th>mean</th>\n      <td>2056.000000</td>\n      <td>2014.926539</td>\n      <td>47.337541</td>\n      <td>161.317318</td>\n      <td>201.079628</td>\n      <td>-10.793844</td>\n      <td>-11.847219</td>\n      <td>51227.415852</td>\n      <td>33.343225</td>\n      <td>152.849191</td>\n      <td>147.247079</td>\n      <td>75.409712</td>\n      <td>0.330952</td>\n      <td>75.413768</td>\n    </tr>\n    <tr>\n      <th>std</th>\n      <td>1186.887807</td>\n      <td>3.008173</td>\n      <td>62.051131</td>\n      <td>157.079816</td>\n      <td>202.080642</td>\n      <td>34.186789</td>\n      <td>15.778892</td>\n      <td>119087.964430</td>\n      <td>20.676919</td>\n      <td>556.328787</td>\n      <td>493.111329</td>\n      <td>30.854024</td>\n      <td>0.249619</td>\n      <td>44.821069</td>\n    </tr>\n    <tr>\n      <th>min</th>\n      <td>1.000000</td>\n      <td>2010.000000</td>\n      <td>1.150000</td>\n      <td>0.040000</td>\n      <td>1.900000</td>\n      <td>-158.000000</td>\n      <td>-63.310000</td>\n      <td>300.000000</td>\n      <td>1.000000</td>\n      <td>0.001000</td>\n      <td>0.100000</td>\n      <td>-3.780100</td>\n      <td>0.005000</td>\n      <td>1.000000</td>\n    </tr>\n    <tr>\n      <th>25%</th>\n      <td>1028.500000</td>\n      <td>2012.000000</td>\n      <td>14.300000</td>\n      <td>43.800000</td>\n      <td>77.000000</td>\n      <td>-33.330000</td>\n      <td>-20.670000</td>\n      <td>10000.000000</td>\n      <td>24.000000</td>\n      <td>8.000000</td>\n      <td>3.525000</td>\n      <td>58.069500</td>\n      <td>0.148000</td>\n      <td>37.000000</td>\n    </tr>\n    <tr>\n      <th>50%</th>\n      <td>2056.000000</td>\n      <td>2015.000000</td>\n      <td>28.200000</td>\n      <td>112.700000</td>\n      <td>142.000000</td>\n      <td>-17.600000</td>\n      <td>-11.600000</td>\n      <td>10000.000000</td>\n      <td>24.000000</td>\n      <td>40.000000</td>\n      <td>11.800000</td>\n      <td>85.280000</td>\n      <td>0.241000</td>\n      <td>77.000000</td>\n    </tr>\n    <tr>\n      <th>75%</th>\n      <td>3083.500000</td>\n      <td>2018.000000</td>\n      <td>50.000000</td>\n      <td>203.300000</td>\n      <td>222.000000</td>\n      <td>-2.200000</td>\n      <td>-7.700000</td>\n      <td>50000.000000</td>\n      <td>48.000000</td>\n      <td>100.000000</td>\n      <td>37.900000</td>\n      <td>97.227000</td>\n      <td>0.518000</td>\n      <td>116.000000</td>\n    </tr>\n    <tr>\n      <th>max</th>\n      <td>4111.000000</td>\n      <td>2020.000000</td>\n      <td>500.000000</td>\n      <td>889.030000</td>\n      <td>1262.330000</td>\n      <td>256.000000</td>\n      <td>56.000000</td>\n      <td>1000000.000000</td>\n      <td>96.000000</td>\n      <td>14015.200000</td>\n      <td>3333.000000</td>\n      <td>234.630000</td>\n      <td>0.895000</td>\n      <td>152.000000</td>\n    </tr>\n  </tbody>\n</table>\n</div>"
     },
     "execution_count": 12,
     "metadata": {},
     "output_type": "execute_result"
    }
   ]
  },
  {
   "cell_type": "code",
   "execution_count": 13,
   "outputs": [
    {
     "data": {
      "text/plain": "'\\n\\nCтранности в db2 (решить):\\n\\n1) зета-потенциалы точно ненормальные в воде (чистим всё больше 100 точно) (+ Алина)\\n2) минимальные размер в воде в долях нанометра - это явно ошибка, отвалидировать колонку на адекватность (+ Алина)\\n3) жизнеспособности меньше нуля приводим к нулю (+ Алина)\\n\\n'"
     },
     "execution_count": 13,
     "metadata": {},
     "output_type": "execute_result"
    }
   ],
   "source": [
    "\"\"\"\n",
    "\n",
    "Cтранности в db2 (решить):\n",
    "\n",
    "1) зета-потенциалы точно ненормальные в воде (чистим всё больше 100 точно) (+ Алина)\n",
    "2) минимальные размер в воде в долях нанометра - это явно ошибка, отвалидировать колонку на адекватность (+ Алина)\n",
    "3) жизнеспособности меньше нуля приводим к нулю (+ Алина)\n",
    "\n",
    "\"\"\""
   ],
   "metadata": {
    "collapsed": false,
    "pycharm": {
     "name": "#%%\n"
    }
   }
  },
  {
   "cell_type": "code",
   "execution_count": null,
   "outputs": [],
   "source": [
    "# --------------------------------------------------------------------------------------------------------------------"
   ],
   "metadata": {
    "collapsed": false,
    "pycharm": {
     "name": "#%%\n"
    }
   }
  },
  {
   "cell_type": "code",
   "source": [
    "db3 = pd.read_excel('C:/projects/laboratory/Nanoparticle_cytotoxicity/databases/New_descriptors.xlsx')\n",
    "db3.info()"
   ],
   "metadata": {
    "colab": {
     "base_uri": "https://localhost:8080/"
    },
    "id": "tykZEmzAd42F",
    "executionInfo": {
     "status": "ok",
     "timestamp": 1644495619577,
     "user_tz": -180,
     "elapsed": 338,
     "user": {
      "displayName": "O`Reilly",
      "photoUrl": "https://lh3.googleusercontent.com/a-/AOh14GjRojJgetMBXWOPYqIr3f-ELjZmmHdNhAFWaDa-uQ=s64",
      "userId": "14342088318867418483"
     }
    },
    "outputId": "0a977fdb-74dc-4c4f-dabc-c059883c52cc"
   },
   "execution_count": 14,
   "outputs": [
    {
     "name": "stdout",
     "output_type": "stream",
     "text": [
      "<class 'pandas.core.frame.DataFrame'>\n",
      "RangeIndex: 494 entries, 0 to 493\n",
      "Data columns (total 21 columns):\n",
      " #   Column                               Non-Null Count  Dtype  \n",
      "---  ------                               --------------  -----  \n",
      " 0   Material type                        494 non-null    object \n",
      " 1   Elements                             494 non-null    object \n",
      " 2   Electronegativity                    494 non-null    float64\n",
      " 3   Ionic radius                         494 non-null    float64\n",
      " 4   Core size (nm)                       494 non-null    float64\n",
      " 5   Hydro size (nm)                      494 non-null    float64\n",
      " 6   Surface charge (mV)                  494 non-null    float64\n",
      " 7   Surface area (m2/g)                  494 non-null    float64\n",
      " 8   Cell type                            494 non-null    int64  \n",
      " 9   Exposure dose (ug/mL)                494 non-null    float64\n",
      " 10  Number of atoms                      494 non-null    int64  \n",
      " 11  Molecular weight (g/mol)             494 non-null    float64\n",
      " 12  Topological polar surface area (Å²)  494 non-null    float64\n",
      " 13  a (Å)                                494 non-null    float64\n",
      " 14  b (Å)                                494 non-null    float64\n",
      " 15  c (Å)                                494 non-null    float64\n",
      " 16  α (°)                                494 non-null    int64  \n",
      " 17  β (°)                                494 non-null    float64\n",
      " 18  γ (°)                                494 non-null    int64  \n",
      " 19  Density (g/cm3)                      494 non-null    float64\n",
      " 20  Viability (%)                        494 non-null    float64\n",
      "dtypes: float64(15), int64(4), object(2)\n",
      "memory usage: 81.2+ KB\n"
     ]
    }
   ]
  },
  {
   "cell_type": "code",
   "source": [
    "db3.rename(columns = {'Material type':'material','Elements':'elements',\n",
    "                      'Electronegativity':'electronegativity', 'Ionic radius':'ionic radius','Core size (nm)':'core size (nm)','Hydro size (nm)':'hydro size (nm)',\n",
    "                      'Surface charge (mV)':'surface charge (mV)','Surface area (m2/g)':'surface area (m2/g)',\n",
    "                      'Cell type':'cell type','Exposure dose (ug/mL)':'dose (ug/mL)', 'Viability (%)':'viability (%)'}, inplace = True)"
   ],
   "metadata": {
    "id": "LLVc1I_MvZ2k",
    "executionInfo": {
     "status": "ok",
     "timestamp": 1644495621855,
     "user_tz": -180,
     "elapsed": 235,
     "user": {
      "displayName": "O`Reilly",
      "photoUrl": "https://lh3.googleusercontent.com/a-/AOh14GjRojJgetMBXWOPYqIr3f-ELjZmmHdNhAFWaDa-uQ=s64",
      "userId": "14342088318867418483"
     }
    }
   },
   "execution_count": 15,
   "outputs": []
  },
  {
   "cell_type": "code",
   "source": [
    "db3.describe()"
   ],
   "metadata": {
    "colab": {
     "base_uri": "https://localhost:8080/",
     "height": 540
    },
    "id": "A8I7Ccqtd7bm",
    "executionInfo": {
     "status": "ok",
     "timestamp": 1644495623663,
     "user_tz": -180,
     "elapsed": 269,
     "user": {
      "displayName": "O`Reilly",
      "photoUrl": "https://lh3.googleusercontent.com/a-/AOh14GjRojJgetMBXWOPYqIr3f-ELjZmmHdNhAFWaDa-uQ=s64",
      "userId": "14342088318867418483"
     }
    },
    "outputId": "4a787a3c-1917-46db-ffdf-f37befc603dc"
   },
   "execution_count": 16,
   "outputs": [
    {
     "data": {
      "text/plain": "       electronegativity  ionic radius  core size (nm)  hydro size (nm)  \\\ncount         494.000000    494.000000      494.000000       494.000000   \nmean            1.613279     71.694534       27.789069       218.049798   \nstd             0.319842     16.675392       18.656805        65.486345   \nmin             1.100000     40.000000       11.800000        46.400000   \n25%             1.300000     58.000000       13.100000       189.500000   \n50%             1.650000     73.000000       18.300000       222.000000   \n75%             1.900000     80.000000       43.800000       261.600000   \nmax             2.050000    103.200000       71.800000       313.800000   \n\n       surface charge (mV)  surface area (m2/g)   cell type  dose (ug/mL)  \\\ncount           494.000000           494.000000  494.000000    494.000000   \nmean             11.357895            97.120445    0.508097     43.443117   \nstd              30.829307           159.591743    0.500441     63.028111   \nmin             -46.100000            13.000000    0.000000      0.400000   \n25%              -2.100000            25.900000    0.000000      3.200000   \n50%              21.400000            44.000000    1.000000     12.500000   \n75%              28.800000            93.100000    1.000000     50.000000   \nmax              61.900000           640.000000    1.000000    200.000000   \n\n       Number of atoms  Molecular weight (g/mol)  \\\ncount       494.000000                494.000000   \nmean          3.787449                179.658570   \nstd           1.305848                101.372104   \nmin           2.000000                 60.080000   \n25%           3.000000                 79.545000   \n50%           5.000000                159.690000   \n75%           5.000000                277.640000   \nmax           5.000000                362.500000   \n\n       Topological polar surface area (Å²)       a (Å)       b (Å)  \\\ncount                            494.00000  494.000000  494.000000   \nmean                              34.68664    5.212664    5.713040   \nstd                               10.80140    2.642547    3.290484   \nmin                               17.10000    0.000000    0.000000   \n25%                               34.10000    4.171000    3.945000   \n50%                               43.40000    4.920000    5.028000   \n75%                               43.40000    5.410000    5.752000   \nmax                               43.40000   10.796000   12.460000   \n\n            c (Å)       α (°)       β (°)       γ (°)  Density (g/cm3)  \\\ncount  494.000000  494.000000  494.000000  494.000000       494.000000   \nmean     7.090787   83.076923   83.596154   91.943320         5.798239   \nstd      3.784657   24.006552   24.252650   29.784024         2.210094   \nmin      0.000000    0.000000    0.000000    0.000000         0.000000   \n25%      5.132000   90.000000   90.000000   90.000000         5.070000   \n50%      5.420000   90.000000   90.000000   90.000000         6.310000   \n75%     10.118000   90.000000   90.000000  120.000000         6.750000   \nmax     13.728000   90.000000   99.500000  120.000000         9.970000   \n\n       viability (%)  \ncount     494.000000  \nmean       81.385223  \nstd        20.587101  \nmin         9.100000  \n25%        81.550000  \n50%        87.000000  \n75%        94.000000  \nmax        99.700000  ",
      "text/html": "<div>\n<style scoped>\n    .dataframe tbody tr th:only-of-type {\n        vertical-align: middle;\n    }\n\n    .dataframe tbody tr th {\n        vertical-align: top;\n    }\n\n    .dataframe thead th {\n        text-align: right;\n    }\n</style>\n<table border=\"1\" class=\"dataframe\">\n  <thead>\n    <tr style=\"text-align: right;\">\n      <th></th>\n      <th>electronegativity</th>\n      <th>ionic radius</th>\n      <th>core size (nm)</th>\n      <th>hydro size (nm)</th>\n      <th>surface charge (mV)</th>\n      <th>surface area (m2/g)</th>\n      <th>cell type</th>\n      <th>dose (ug/mL)</th>\n      <th>Number of atoms</th>\n      <th>Molecular weight (g/mol)</th>\n      <th>Topological polar surface area (Å²)</th>\n      <th>a (Å)</th>\n      <th>b (Å)</th>\n      <th>c (Å)</th>\n      <th>α (°)</th>\n      <th>β (°)</th>\n      <th>γ (°)</th>\n      <th>Density (g/cm3)</th>\n      <th>viability (%)</th>\n    </tr>\n  </thead>\n  <tbody>\n    <tr>\n      <th>count</th>\n      <td>494.000000</td>\n      <td>494.000000</td>\n      <td>494.000000</td>\n      <td>494.000000</td>\n      <td>494.000000</td>\n      <td>494.000000</td>\n      <td>494.000000</td>\n      <td>494.000000</td>\n      <td>494.000000</td>\n      <td>494.000000</td>\n      <td>494.00000</td>\n      <td>494.000000</td>\n      <td>494.000000</td>\n      <td>494.000000</td>\n      <td>494.000000</td>\n      <td>494.000000</td>\n      <td>494.000000</td>\n      <td>494.000000</td>\n      <td>494.000000</td>\n    </tr>\n    <tr>\n      <th>mean</th>\n      <td>1.613279</td>\n      <td>71.694534</td>\n      <td>27.789069</td>\n      <td>218.049798</td>\n      <td>11.357895</td>\n      <td>97.120445</td>\n      <td>0.508097</td>\n      <td>43.443117</td>\n      <td>3.787449</td>\n      <td>179.658570</td>\n      <td>34.68664</td>\n      <td>5.212664</td>\n      <td>5.713040</td>\n      <td>7.090787</td>\n      <td>83.076923</td>\n      <td>83.596154</td>\n      <td>91.943320</td>\n      <td>5.798239</td>\n      <td>81.385223</td>\n    </tr>\n    <tr>\n      <th>std</th>\n      <td>0.319842</td>\n      <td>16.675392</td>\n      <td>18.656805</td>\n      <td>65.486345</td>\n      <td>30.829307</td>\n      <td>159.591743</td>\n      <td>0.500441</td>\n      <td>63.028111</td>\n      <td>1.305848</td>\n      <td>101.372104</td>\n      <td>10.80140</td>\n      <td>2.642547</td>\n      <td>3.290484</td>\n      <td>3.784657</td>\n      <td>24.006552</td>\n      <td>24.252650</td>\n      <td>29.784024</td>\n      <td>2.210094</td>\n      <td>20.587101</td>\n    </tr>\n    <tr>\n      <th>min</th>\n      <td>1.100000</td>\n      <td>40.000000</td>\n      <td>11.800000</td>\n      <td>46.400000</td>\n      <td>-46.100000</td>\n      <td>13.000000</td>\n      <td>0.000000</td>\n      <td>0.400000</td>\n      <td>2.000000</td>\n      <td>60.080000</td>\n      <td>17.10000</td>\n      <td>0.000000</td>\n      <td>0.000000</td>\n      <td>0.000000</td>\n      <td>0.000000</td>\n      <td>0.000000</td>\n      <td>0.000000</td>\n      <td>0.000000</td>\n      <td>9.100000</td>\n    </tr>\n    <tr>\n      <th>25%</th>\n      <td>1.300000</td>\n      <td>58.000000</td>\n      <td>13.100000</td>\n      <td>189.500000</td>\n      <td>-2.100000</td>\n      <td>25.900000</td>\n      <td>0.000000</td>\n      <td>3.200000</td>\n      <td>3.000000</td>\n      <td>79.545000</td>\n      <td>34.10000</td>\n      <td>4.171000</td>\n      <td>3.945000</td>\n      <td>5.132000</td>\n      <td>90.000000</td>\n      <td>90.000000</td>\n      <td>90.000000</td>\n      <td>5.070000</td>\n      <td>81.550000</td>\n    </tr>\n    <tr>\n      <th>50%</th>\n      <td>1.650000</td>\n      <td>73.000000</td>\n      <td>18.300000</td>\n      <td>222.000000</td>\n      <td>21.400000</td>\n      <td>44.000000</td>\n      <td>1.000000</td>\n      <td>12.500000</td>\n      <td>5.000000</td>\n      <td>159.690000</td>\n      <td>43.40000</td>\n      <td>4.920000</td>\n      <td>5.028000</td>\n      <td>5.420000</td>\n      <td>90.000000</td>\n      <td>90.000000</td>\n      <td>90.000000</td>\n      <td>6.310000</td>\n      <td>87.000000</td>\n    </tr>\n    <tr>\n      <th>75%</th>\n      <td>1.900000</td>\n      <td>80.000000</td>\n      <td>43.800000</td>\n      <td>261.600000</td>\n      <td>28.800000</td>\n      <td>93.100000</td>\n      <td>1.000000</td>\n      <td>50.000000</td>\n      <td>5.000000</td>\n      <td>277.640000</td>\n      <td>43.40000</td>\n      <td>5.410000</td>\n      <td>5.752000</td>\n      <td>10.118000</td>\n      <td>90.000000</td>\n      <td>90.000000</td>\n      <td>120.000000</td>\n      <td>6.750000</td>\n      <td>94.000000</td>\n    </tr>\n    <tr>\n      <th>max</th>\n      <td>2.050000</td>\n      <td>103.200000</td>\n      <td>71.800000</td>\n      <td>313.800000</td>\n      <td>61.900000</td>\n      <td>640.000000</td>\n      <td>1.000000</td>\n      <td>200.000000</td>\n      <td>5.000000</td>\n      <td>362.500000</td>\n      <td>43.40000</td>\n      <td>10.796000</td>\n      <td>12.460000</td>\n      <td>13.728000</td>\n      <td>90.000000</td>\n      <td>99.500000</td>\n      <td>120.000000</td>\n      <td>9.970000</td>\n      <td>99.700000</td>\n    </tr>\n  </tbody>\n</table>\n</div>"
     },
     "execution_count": 16,
     "metadata": {},
     "output_type": "execute_result"
    }
   ]
  },
  {
   "cell_type": "code",
   "execution_count": 17,
   "outputs": [
    {
     "data": {
      "text/plain": "'\\n\\nТут всё норм, самая адекватная база данных.\\n\\n'"
     },
     "execution_count": 17,
     "metadata": {},
     "output_type": "execute_result"
    }
   ],
   "source": [
    "\"\"\"\n",
    "\n",
    "Тут всё норм, самая адекватная база данных.\n",
    "\n",
    "\"\"\""
   ],
   "metadata": {
    "collapsed": false,
    "pycharm": {
     "name": "#%%\n"
    }
   }
  },
  {
   "cell_type": "code",
   "execution_count": null,
   "outputs": [],
   "source": [
    "# --------------------------------------------------------------------------------------------------------------------"
   ],
   "metadata": {
    "collapsed": false,
    "pycharm": {
     "name": "#%%\n"
    }
   }
  },
  {
   "cell_type": "code",
   "source": [
    "dbl = db.append(db1, ignore_index=True)"
   ],
   "metadata": {
    "id": "kq9Hpj6o6oHR",
    "executionInfo": {
     "status": "ok",
     "timestamp": 1644495817580,
     "user_tz": -180,
     "elapsed": 300,
     "user": {
      "displayName": "O`Reilly",
      "photoUrl": "https://lh3.googleusercontent.com/a-/AOh14GjRojJgetMBXWOPYqIr3f-ELjZmmHdNhAFWaDa-uQ=s64",
      "userId": "14342088318867418483"
     }
    }
   },
   "execution_count": 18,
   "outputs": [
    {
     "name": "stderr",
     "output_type": "stream",
     "text": [
      "C:\\Users\\serov\\AppData\\Local\\Temp\\ipykernel_2556\\3525406286.py:1: FutureWarning: The frame.append method is deprecated and will be removed from pandas in a future version. Use pandas.concat instead.\n",
      "  dbl = db.append(db1, ignore_index=True)\n"
     ]
    }
   ]
  },
  {
   "cell_type": "code",
   "source": [
    "dbll = dbl.append(db2, ignore_index=True)"
   ],
   "metadata": {
    "id": "p8cegXSflT0-",
    "executionInfo": {
     "status": "ok",
     "timestamp": 1644496101725,
     "user_tz": -180,
     "elapsed": 370,
     "user": {
      "displayName": "O`Reilly",
      "photoUrl": "https://lh3.googleusercontent.com/a-/AOh14GjRojJgetMBXWOPYqIr3f-ELjZmmHdNhAFWaDa-uQ=s64",
      "userId": "14342088318867418483"
     }
    }
   },
   "execution_count": 19,
   "outputs": [
    {
     "name": "stderr",
     "output_type": "stream",
     "text": [
      "C:\\Users\\serov\\AppData\\Local\\Temp\\ipykernel_2556\\3233971797.py:1: FutureWarning: The frame.append method is deprecated and will be removed from pandas in a future version. Use pandas.concat instead.\n",
      "  dbll = dbl.append(db2, ignore_index=True)\n"
     ]
    }
   ]
  },
  {
   "cell_type": "code",
   "source": [
    "db_final = dbll.append(db3, ignore_index=True)"
   ],
   "metadata": {
    "id": "Q8_N05xjmzti",
    "executionInfo": {
     "status": "ok",
     "timestamp": 1644497966727,
     "user_tz": -180,
     "elapsed": 344,
     "user": {
      "displayName": "O`Reilly",
      "photoUrl": "https://lh3.googleusercontent.com/a-/AOh14GjRojJgetMBXWOPYqIr3f-ELjZmmHdNhAFWaDa-uQ=s64",
      "userId": "14342088318867418483"
     }
    }
   },
   "execution_count": 20,
   "outputs": [
    {
     "name": "stderr",
     "output_type": "stream",
     "text": [
      "C:\\Users\\serov\\AppData\\Local\\Temp\\ipykernel_2556\\2681481093.py:1: FutureWarning: The frame.append method is deprecated and will be removed from pandas in a future version. Use pandas.concat instead.\n",
      "  db_final = dbll.append(db3, ignore_index=True)\n"
     ]
    }
   ]
  },
  {
   "cell_type": "code",
   "source": [
    "db_final.drop(columns = ['Unnamed: 24', 'Unnamed: 25','Unnamed: 26'], axis = 1)"
   ],
   "metadata": {
    "colab": {
     "base_uri": "https://localhost:8080/",
     "height": 540
    },
    "id": "mn_p-xrzm_rl",
    "executionInfo": {
     "status": "ok",
     "timestamp": 1644497968240,
     "user_tz": -180,
     "elapsed": 400,
     "user": {
      "displayName": "O`Reilly",
      "photoUrl": "https://lh3.googleusercontent.com/a-/AOh14GjRojJgetMBXWOPYqIr3f-ELjZmmHdNhAFWaDa-uQ=s64",
      "userId": "14342088318867418483"
     }
    },
    "outputId": "20651cec-2172-482f-c923-a14848530b5c"
   },
   "execution_count": 21,
   "outputs": [
    {
     "ename": "KeyError",
     "evalue": "\"['Unnamed: 24', 'Unnamed: 25', 'Unnamed: 26'] not found in axis\"",
     "output_type": "error",
     "traceback": [
      "\u001B[1;31m---------------------------------------------------------------------------\u001B[0m",
      "\u001B[1;31mKeyError\u001B[0m                                  Traceback (most recent call last)",
      "Input \u001B[1;32mIn [21]\u001B[0m, in \u001B[0;36m<module>\u001B[1;34m\u001B[0m\n\u001B[1;32m----> 1\u001B[0m \u001B[43mdb_final\u001B[49m\u001B[38;5;241;43m.\u001B[39;49m\u001B[43mdrop\u001B[49m\u001B[43m(\u001B[49m\u001B[43mcolumns\u001B[49m\u001B[43m \u001B[49m\u001B[38;5;241;43m=\u001B[39;49m\u001B[43m \u001B[49m\u001B[43m[\u001B[49m\u001B[38;5;124;43m'\u001B[39;49m\u001B[38;5;124;43mUnnamed: 24\u001B[39;49m\u001B[38;5;124;43m'\u001B[39;49m\u001B[43m,\u001B[49m\u001B[43m \u001B[49m\u001B[38;5;124;43m'\u001B[39;49m\u001B[38;5;124;43mUnnamed: 25\u001B[39;49m\u001B[38;5;124;43m'\u001B[39;49m\u001B[43m,\u001B[49m\u001B[38;5;124;43m'\u001B[39;49m\u001B[38;5;124;43mUnnamed: 26\u001B[39;49m\u001B[38;5;124;43m'\u001B[39;49m\u001B[43m]\u001B[49m\u001B[43m,\u001B[49m\u001B[43m \u001B[49m\u001B[43maxis\u001B[49m\u001B[43m \u001B[49m\u001B[38;5;241;43m=\u001B[39;49m\u001B[43m \u001B[49m\u001B[38;5;241;43m1\u001B[39;49m\u001B[43m)\u001B[49m\n",
      "File \u001B[1;32mc:\\projects\\laboratory\\interpreter\\lib\\site-packages\\pandas\\util\\_decorators.py:311\u001B[0m, in \u001B[0;36mdeprecate_nonkeyword_arguments.<locals>.decorate.<locals>.wrapper\u001B[1;34m(*args, **kwargs)\u001B[0m\n\u001B[0;32m    305\u001B[0m \u001B[38;5;28;01mif\u001B[39;00m \u001B[38;5;28mlen\u001B[39m(args) \u001B[38;5;241m>\u001B[39m num_allow_args:\n\u001B[0;32m    306\u001B[0m     warnings\u001B[38;5;241m.\u001B[39mwarn(\n\u001B[0;32m    307\u001B[0m         msg\u001B[38;5;241m.\u001B[39mformat(arguments\u001B[38;5;241m=\u001B[39marguments),\n\u001B[0;32m    308\u001B[0m         \u001B[38;5;167;01mFutureWarning\u001B[39;00m,\n\u001B[0;32m    309\u001B[0m         stacklevel\u001B[38;5;241m=\u001B[39mstacklevel,\n\u001B[0;32m    310\u001B[0m     )\n\u001B[1;32m--> 311\u001B[0m \u001B[38;5;28;01mreturn\u001B[39;00m func(\u001B[38;5;241m*\u001B[39margs, \u001B[38;5;241m*\u001B[39m\u001B[38;5;241m*\u001B[39mkwargs)\n",
      "File \u001B[1;32mc:\\projects\\laboratory\\interpreter\\lib\\site-packages\\pandas\\core\\frame.py:4956\u001B[0m, in \u001B[0;36mDataFrame.drop\u001B[1;34m(self, labels, axis, index, columns, level, inplace, errors)\u001B[0m\n\u001B[0;32m   4808\u001B[0m \u001B[38;5;129m@deprecate_nonkeyword_arguments\u001B[39m(version\u001B[38;5;241m=\u001B[39m\u001B[38;5;28;01mNone\u001B[39;00m, allowed_args\u001B[38;5;241m=\u001B[39m[\u001B[38;5;124m\"\u001B[39m\u001B[38;5;124mself\u001B[39m\u001B[38;5;124m\"\u001B[39m, \u001B[38;5;124m\"\u001B[39m\u001B[38;5;124mlabels\u001B[39m\u001B[38;5;124m\"\u001B[39m])\n\u001B[0;32m   4809\u001B[0m \u001B[38;5;28;01mdef\u001B[39;00m \u001B[38;5;21mdrop\u001B[39m(\n\u001B[0;32m   4810\u001B[0m     \u001B[38;5;28mself\u001B[39m,\n\u001B[1;32m   (...)\u001B[0m\n\u001B[0;32m   4817\u001B[0m     errors: \u001B[38;5;28mstr\u001B[39m \u001B[38;5;241m=\u001B[39m \u001B[38;5;124m\"\u001B[39m\u001B[38;5;124mraise\u001B[39m\u001B[38;5;124m\"\u001B[39m,\n\u001B[0;32m   4818\u001B[0m ):\n\u001B[0;32m   4819\u001B[0m     \u001B[38;5;124;03m\"\"\"\u001B[39;00m\n\u001B[0;32m   4820\u001B[0m \u001B[38;5;124;03m    Drop specified labels from rows or columns.\u001B[39;00m\n\u001B[0;32m   4821\u001B[0m \n\u001B[1;32m   (...)\u001B[0m\n\u001B[0;32m   4954\u001B[0m \u001B[38;5;124;03m            weight  1.0     0.8\u001B[39;00m\n\u001B[0;32m   4955\u001B[0m \u001B[38;5;124;03m    \"\"\"\u001B[39;00m\n\u001B[1;32m-> 4956\u001B[0m     \u001B[38;5;28;01mreturn\u001B[39;00m \u001B[38;5;28;43msuper\u001B[39;49m\u001B[43m(\u001B[49m\u001B[43m)\u001B[49m\u001B[38;5;241;43m.\u001B[39;49m\u001B[43mdrop\u001B[49m\u001B[43m(\u001B[49m\n\u001B[0;32m   4957\u001B[0m \u001B[43m        \u001B[49m\u001B[43mlabels\u001B[49m\u001B[38;5;241;43m=\u001B[39;49m\u001B[43mlabels\u001B[49m\u001B[43m,\u001B[49m\n\u001B[0;32m   4958\u001B[0m \u001B[43m        \u001B[49m\u001B[43maxis\u001B[49m\u001B[38;5;241;43m=\u001B[39;49m\u001B[43maxis\u001B[49m\u001B[43m,\u001B[49m\n\u001B[0;32m   4959\u001B[0m \u001B[43m        \u001B[49m\u001B[43mindex\u001B[49m\u001B[38;5;241;43m=\u001B[39;49m\u001B[43mindex\u001B[49m\u001B[43m,\u001B[49m\n\u001B[0;32m   4960\u001B[0m \u001B[43m        \u001B[49m\u001B[43mcolumns\u001B[49m\u001B[38;5;241;43m=\u001B[39;49m\u001B[43mcolumns\u001B[49m\u001B[43m,\u001B[49m\n\u001B[0;32m   4961\u001B[0m \u001B[43m        \u001B[49m\u001B[43mlevel\u001B[49m\u001B[38;5;241;43m=\u001B[39;49m\u001B[43mlevel\u001B[49m\u001B[43m,\u001B[49m\n\u001B[0;32m   4962\u001B[0m \u001B[43m        \u001B[49m\u001B[43minplace\u001B[49m\u001B[38;5;241;43m=\u001B[39;49m\u001B[43minplace\u001B[49m\u001B[43m,\u001B[49m\n\u001B[0;32m   4963\u001B[0m \u001B[43m        \u001B[49m\u001B[43merrors\u001B[49m\u001B[38;5;241;43m=\u001B[39;49m\u001B[43merrors\u001B[49m\u001B[43m,\u001B[49m\n\u001B[0;32m   4964\u001B[0m \u001B[43m    \u001B[49m\u001B[43m)\u001B[49m\n",
      "File \u001B[1;32mc:\\projects\\laboratory\\interpreter\\lib\\site-packages\\pandas\\core\\generic.py:4279\u001B[0m, in \u001B[0;36mNDFrame.drop\u001B[1;34m(self, labels, axis, index, columns, level, inplace, errors)\u001B[0m\n\u001B[0;32m   4277\u001B[0m \u001B[38;5;28;01mfor\u001B[39;00m axis, labels \u001B[38;5;129;01min\u001B[39;00m axes\u001B[38;5;241m.\u001B[39mitems():\n\u001B[0;32m   4278\u001B[0m     \u001B[38;5;28;01mif\u001B[39;00m labels \u001B[38;5;129;01mis\u001B[39;00m \u001B[38;5;129;01mnot\u001B[39;00m \u001B[38;5;28;01mNone\u001B[39;00m:\n\u001B[1;32m-> 4279\u001B[0m         obj \u001B[38;5;241m=\u001B[39m \u001B[43mobj\u001B[49m\u001B[38;5;241;43m.\u001B[39;49m\u001B[43m_drop_axis\u001B[49m\u001B[43m(\u001B[49m\u001B[43mlabels\u001B[49m\u001B[43m,\u001B[49m\u001B[43m \u001B[49m\u001B[43maxis\u001B[49m\u001B[43m,\u001B[49m\u001B[43m \u001B[49m\u001B[43mlevel\u001B[49m\u001B[38;5;241;43m=\u001B[39;49m\u001B[43mlevel\u001B[49m\u001B[43m,\u001B[49m\u001B[43m \u001B[49m\u001B[43merrors\u001B[49m\u001B[38;5;241;43m=\u001B[39;49m\u001B[43merrors\u001B[49m\u001B[43m)\u001B[49m\n\u001B[0;32m   4281\u001B[0m \u001B[38;5;28;01mif\u001B[39;00m inplace:\n\u001B[0;32m   4282\u001B[0m     \u001B[38;5;28mself\u001B[39m\u001B[38;5;241m.\u001B[39m_update_inplace(obj)\n",
      "File \u001B[1;32mc:\\projects\\laboratory\\interpreter\\lib\\site-packages\\pandas\\core\\generic.py:4323\u001B[0m, in \u001B[0;36mNDFrame._drop_axis\u001B[1;34m(self, labels, axis, level, errors, consolidate, only_slice)\u001B[0m\n\u001B[0;32m   4321\u001B[0m         new_axis \u001B[38;5;241m=\u001B[39m axis\u001B[38;5;241m.\u001B[39mdrop(labels, level\u001B[38;5;241m=\u001B[39mlevel, errors\u001B[38;5;241m=\u001B[39merrors)\n\u001B[0;32m   4322\u001B[0m     \u001B[38;5;28;01melse\u001B[39;00m:\n\u001B[1;32m-> 4323\u001B[0m         new_axis \u001B[38;5;241m=\u001B[39m \u001B[43maxis\u001B[49m\u001B[38;5;241;43m.\u001B[39;49m\u001B[43mdrop\u001B[49m\u001B[43m(\u001B[49m\u001B[43mlabels\u001B[49m\u001B[43m,\u001B[49m\u001B[43m \u001B[49m\u001B[43merrors\u001B[49m\u001B[38;5;241;43m=\u001B[39;49m\u001B[43merrors\u001B[49m\u001B[43m)\u001B[49m\n\u001B[0;32m   4324\u001B[0m     indexer \u001B[38;5;241m=\u001B[39m axis\u001B[38;5;241m.\u001B[39mget_indexer(new_axis)\n\u001B[0;32m   4326\u001B[0m \u001B[38;5;66;03m# Case for non-unique axis\u001B[39;00m\n\u001B[0;32m   4327\u001B[0m \u001B[38;5;28;01melse\u001B[39;00m:\n",
      "File \u001B[1;32mc:\\projects\\laboratory\\interpreter\\lib\\site-packages\\pandas\\core\\indexes\\base.py:6644\u001B[0m, in \u001B[0;36mIndex.drop\u001B[1;34m(self, labels, errors)\u001B[0m\n\u001B[0;32m   6642\u001B[0m \u001B[38;5;28;01mif\u001B[39;00m mask\u001B[38;5;241m.\u001B[39many():\n\u001B[0;32m   6643\u001B[0m     \u001B[38;5;28;01mif\u001B[39;00m errors \u001B[38;5;241m!=\u001B[39m \u001B[38;5;124m\"\u001B[39m\u001B[38;5;124mignore\u001B[39m\u001B[38;5;124m\"\u001B[39m:\n\u001B[1;32m-> 6644\u001B[0m         \u001B[38;5;28;01mraise\u001B[39;00m \u001B[38;5;167;01mKeyError\u001B[39;00m(\u001B[38;5;124mf\u001B[39m\u001B[38;5;124m\"\u001B[39m\u001B[38;5;132;01m{\u001B[39;00m\u001B[38;5;28mlist\u001B[39m(labels[mask])\u001B[38;5;132;01m}\u001B[39;00m\u001B[38;5;124m not found in axis\u001B[39m\u001B[38;5;124m\"\u001B[39m)\n\u001B[0;32m   6645\u001B[0m     indexer \u001B[38;5;241m=\u001B[39m indexer[\u001B[38;5;241m~\u001B[39mmask]\n\u001B[0;32m   6646\u001B[0m \u001B[38;5;28;01mreturn\u001B[39;00m \u001B[38;5;28mself\u001B[39m\u001B[38;5;241m.\u001B[39mdelete(indexer)\n",
      "\u001B[1;31mKeyError\u001B[0m: \"['Unnamed: 24', 'Unnamed: 25', 'Unnamed: 26'] not found in axis\""
     ]
    }
   ]
  },
  {
   "cell_type": "code",
   "execution_count": null,
   "outputs": [],
   "source": [
    "db_final['material'].unique()"
   ],
   "metadata": {
    "collapsed": false,
    "pycharm": {
     "name": "#%%\n"
    }
   }
  },
  {
   "cell_type": "code",
   "execution_count": null,
   "outputs": [],
   "source": [
    "db_final.shape"
   ],
   "metadata": {
    "collapsed": false,
    "pycharm": {
     "name": "#%%\n"
    }
   }
  },
  {
   "cell_type": "code",
   "execution_count": null,
   "outputs": [],
   "source": [
    "db_final.describe()"
   ],
   "metadata": {
    "collapsed": false,
    "pycharm": {
     "name": "#%%\n"
    }
   }
  }
 ]
}