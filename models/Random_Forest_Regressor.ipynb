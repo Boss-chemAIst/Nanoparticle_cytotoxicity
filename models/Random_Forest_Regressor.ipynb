{
 "nbformat": 4,
 "nbformat_minor": 0,
 "metadata": {
  "colab": {
   "name": "RFR.ipynb",
   "provenance": [],
   "collapsed_sections": [],
   "authorship_tag": "ABX9TyOAVrV4VkAq3WyTtfGhw1x5"
  },
  "kernelspec": {
   "name": "python3",
   "display_name": "Python 3"
  },
  "language_info": {
   "name": "python"
  }
 },
 "cells": [
  {
   "cell_type": "code",
   "execution_count": 598,
   "outputs": [
    {
     "ename": "TypeError",
     "evalue": "'NoneType' object is not callable",
     "output_type": "error",
     "traceback": [
      "\u001B[1;31m---------------------------------------------------------------------------\u001B[0m",
      "\u001B[1;31mTypeError\u001B[0m                                 Traceback (most recent call last)",
      "File \u001B[1;32m~\\AppData\\Local\\Programs\\Python\\Python310\\lib\\site-packages\\numpy\\core\\getlimits.py:459\u001B[0m, in \u001B[0;36mfinfo.__new__\u001B[1;34m(cls, dtype)\u001B[0m\n\u001B[0;32m    458\u001B[0m \u001B[38;5;28;01mtry\u001B[39;00m:\n\u001B[1;32m--> 459\u001B[0m     dtype \u001B[38;5;241m=\u001B[39m \u001B[43mnumeric\u001B[49m\u001B[38;5;241;43m.\u001B[39;49m\u001B[43mdtype\u001B[49m\u001B[43m(\u001B[49m\u001B[43mdtype\u001B[49m\u001B[43m)\u001B[49m\n\u001B[0;32m    460\u001B[0m \u001B[38;5;28;01mexcept\u001B[39;00m \u001B[38;5;167;01mTypeError\u001B[39;00m:\n\u001B[0;32m    461\u001B[0m     \u001B[38;5;66;03m# In case a float instance was given\u001B[39;00m\n",
      "\u001B[1;31mTypeError\u001B[0m: 'NoneType' object is not callable",
      "\nDuring handling of the above exception, another exception occurred:\n",
      "\u001B[1;31mTypeError\u001B[0m                                 Traceback (most recent call last)",
      "Input \u001B[1;32mIn [598]\u001B[0m, in \u001B[0;36m<module>\u001B[1;34m\u001B[0m\n\u001B[0;32m     15\u001B[0m x_num \u001B[38;5;241m=\u001B[39m db_num\u001B[38;5;241m.\u001B[39mloc[:, db_num\u001B[38;5;241m.\u001B[39mcolumns \u001B[38;5;241m!=\u001B[39m \u001B[38;5;124m'\u001B[39m\u001B[38;5;124mviability (\u001B[39m\u001B[38;5;124m%\u001B[39m\u001B[38;5;124m)\u001B[39m\u001B[38;5;124m'\u001B[39m]\n\u001B[0;32m     17\u001B[0m sc \u001B[38;5;241m=\u001B[39m MinMaxScaler()\n\u001B[1;32m---> 18\u001B[0m x_num \u001B[38;5;241m=\u001B[39m pd\u001B[38;5;241m.\u001B[39mDataFrame(\u001B[43msc\u001B[49m\u001B[38;5;241;43m.\u001B[39;49m\u001B[43mfit_transform\u001B[49m\u001B[43m(\u001B[49m\u001B[43mx_num\u001B[49m\u001B[43m)\u001B[49m,\n\u001B[0;32m     19\u001B[0m                  columns\u001B[38;5;241m=\u001B[39m[\u001B[38;5;124m'\u001B[39m\u001B[38;5;124mdel\u001B[39m\u001B[38;5;124m'\u001B[39m, \u001B[38;5;124m'\u001B[39m\u001B[38;5;124mtime (hr)\u001B[39m\u001B[38;5;124m'\u001B[39m, \u001B[38;5;124m'\u001B[39m\u001B[38;5;124mconcentration (ug/ml)\u001B[39m\u001B[38;5;124m'\u001B[39m, \u001B[38;5;124m'\u001B[39m\u001B[38;5;124mHydrodynamic diameter (nm)\u001B[39m\u001B[38;5;124m'\u001B[39m, \u001B[38;5;124m'\u001B[39m\u001B[38;5;124mZeta potential (mV)\u001B[39m\u001B[38;5;124m'\u001B[39m])\n\u001B[0;32m     21\u001B[0m \u001B[38;5;28;01mdel\u001B[39;00m x_num[\u001B[38;5;124m'\u001B[39m\u001B[38;5;124mdel\u001B[39m\u001B[38;5;124m'\u001B[39m]\n",
      "File \u001B[1;32mc:\\projects\\laboratory\\interpreter\\lib\\site-packages\\sklearn\\base.py:852\u001B[0m, in \u001B[0;36mTransformerMixin.fit_transform\u001B[1;34m(self, X, y, **fit_params)\u001B[0m\n\u001B[0;32m    848\u001B[0m \u001B[38;5;66;03m# non-optimized default implementation; override when a better\u001B[39;00m\n\u001B[0;32m    849\u001B[0m \u001B[38;5;66;03m# method is possible for a given clustering algorithm\u001B[39;00m\n\u001B[0;32m    850\u001B[0m \u001B[38;5;28;01mif\u001B[39;00m y \u001B[38;5;129;01mis\u001B[39;00m \u001B[38;5;28;01mNone\u001B[39;00m:\n\u001B[0;32m    851\u001B[0m     \u001B[38;5;66;03m# fit method of arity 1 (unsupervised transformation)\u001B[39;00m\n\u001B[1;32m--> 852\u001B[0m     \u001B[38;5;28;01mreturn\u001B[39;00m \u001B[38;5;28mself\u001B[39m\u001B[38;5;241m.\u001B[39mfit(X, \u001B[38;5;241m*\u001B[39m\u001B[38;5;241m*\u001B[39mfit_params)\u001B[38;5;241m.\u001B[39mtransform(X)\n\u001B[0;32m    853\u001B[0m \u001B[38;5;28;01melse\u001B[39;00m:\n\u001B[0;32m    854\u001B[0m     \u001B[38;5;66;03m# fit method of arity 2 (supervised transformation)\u001B[39;00m\n\u001B[0;32m    855\u001B[0m     \u001B[38;5;28;01mreturn\u001B[39;00m \u001B[38;5;28mself\u001B[39m\u001B[38;5;241m.\u001B[39mfit(X, y, \u001B[38;5;241m*\u001B[39m\u001B[38;5;241m*\u001B[39mfit_params)\u001B[38;5;241m.\u001B[39mtransform(X)\n",
      "File \u001B[1;32mc:\\projects\\laboratory\\interpreter\\lib\\site-packages\\sklearn\\preprocessing\\_data.py:416\u001B[0m, in \u001B[0;36mMinMaxScaler.fit\u001B[1;34m(self, X, y)\u001B[0m\n\u001B[0;32m    414\u001B[0m \u001B[38;5;66;03m# Reset internal state before fitting\u001B[39;00m\n\u001B[0;32m    415\u001B[0m \u001B[38;5;28mself\u001B[39m\u001B[38;5;241m.\u001B[39m_reset()\n\u001B[1;32m--> 416\u001B[0m \u001B[38;5;28;01mreturn\u001B[39;00m \u001B[38;5;28;43mself\u001B[39;49m\u001B[38;5;241;43m.\u001B[39;49m\u001B[43mpartial_fit\u001B[49m\u001B[43m(\u001B[49m\u001B[43mX\u001B[49m\u001B[43m,\u001B[49m\u001B[43m \u001B[49m\u001B[43my\u001B[49m\u001B[43m)\u001B[49m\n",
      "File \u001B[1;32mc:\\projects\\laboratory\\interpreter\\lib\\site-packages\\sklearn\\preprocessing\\_data.py:472\u001B[0m, in \u001B[0;36mMinMaxScaler.partial_fit\u001B[1;34m(self, X, y)\u001B[0m\n\u001B[0;32m    469\u001B[0m     \u001B[38;5;28mself\u001B[39m\u001B[38;5;241m.\u001B[39mn_samples_seen_ \u001B[38;5;241m+\u001B[39m\u001B[38;5;241m=\u001B[39m X\u001B[38;5;241m.\u001B[39mshape[\u001B[38;5;241m0\u001B[39m]\n\u001B[0;32m    471\u001B[0m data_range \u001B[38;5;241m=\u001B[39m data_max \u001B[38;5;241m-\u001B[39m data_min\n\u001B[1;32m--> 472\u001B[0m \u001B[38;5;28mself\u001B[39m\u001B[38;5;241m.\u001B[39mscale_ \u001B[38;5;241m=\u001B[39m (feature_range[\u001B[38;5;241m1\u001B[39m] \u001B[38;5;241m-\u001B[39m feature_range[\u001B[38;5;241m0\u001B[39m]) \u001B[38;5;241m/\u001B[39m \u001B[43m_handle_zeros_in_scale\u001B[49m\u001B[43m(\u001B[49m\n\u001B[0;32m    473\u001B[0m \u001B[43m    \u001B[49m\u001B[43mdata_range\u001B[49m\u001B[43m,\u001B[49m\u001B[43m \u001B[49m\u001B[43mcopy\u001B[49m\u001B[38;5;241;43m=\u001B[39;49m\u001B[38;5;28;43;01mTrue\u001B[39;49;00m\n\u001B[0;32m    474\u001B[0m \u001B[43m\u001B[49m\u001B[43m)\u001B[49m\n\u001B[0;32m    475\u001B[0m \u001B[38;5;28mself\u001B[39m\u001B[38;5;241m.\u001B[39mmin_ \u001B[38;5;241m=\u001B[39m feature_range[\u001B[38;5;241m0\u001B[39m] \u001B[38;5;241m-\u001B[39m data_min \u001B[38;5;241m*\u001B[39m \u001B[38;5;28mself\u001B[39m\u001B[38;5;241m.\u001B[39mscale_\n\u001B[0;32m    476\u001B[0m \u001B[38;5;28mself\u001B[39m\u001B[38;5;241m.\u001B[39mdata_min_ \u001B[38;5;241m=\u001B[39m data_min\n",
      "File \u001B[1;32mc:\\projects\\laboratory\\interpreter\\lib\\site-packages\\sklearn\\preprocessing\\_data.py:108\u001B[0m, in \u001B[0;36m_handle_zeros_in_scale\u001B[1;34m(scale, copy, constant_mask)\u001B[0m\n\u001B[0;32m    103\u001B[0m \u001B[38;5;28;01melif\u001B[39;00m \u001B[38;5;28misinstance\u001B[39m(scale, np\u001B[38;5;241m.\u001B[39mndarray):\n\u001B[0;32m    104\u001B[0m     \u001B[38;5;28;01mif\u001B[39;00m constant_mask \u001B[38;5;129;01mis\u001B[39;00m \u001B[38;5;28;01mNone\u001B[39;00m:\n\u001B[0;32m    105\u001B[0m         \u001B[38;5;66;03m# Detect near constant values to avoid dividing by a very small\u001B[39;00m\n\u001B[0;32m    106\u001B[0m         \u001B[38;5;66;03m# value that could lead to surprising results and numerical\u001B[39;00m\n\u001B[0;32m    107\u001B[0m         \u001B[38;5;66;03m# stability issues.\u001B[39;00m\n\u001B[1;32m--> 108\u001B[0m         constant_mask \u001B[38;5;241m=\u001B[39m scale \u001B[38;5;241m<\u001B[39m \u001B[38;5;241m10\u001B[39m \u001B[38;5;241m*\u001B[39m \u001B[43mnp\u001B[49m\u001B[38;5;241;43m.\u001B[39;49m\u001B[43mfinfo\u001B[49m\u001B[43m(\u001B[49m\u001B[43mscale\u001B[49m\u001B[38;5;241;43m.\u001B[39;49m\u001B[43mdtype\u001B[49m\u001B[43m)\u001B[49m\u001B[38;5;241m.\u001B[39meps\n\u001B[0;32m    110\u001B[0m     \u001B[38;5;28;01mif\u001B[39;00m copy:\n\u001B[0;32m    111\u001B[0m         \u001B[38;5;66;03m# New array to avoid side-effects\u001B[39;00m\n\u001B[0;32m    112\u001B[0m         scale \u001B[38;5;241m=\u001B[39m scale\u001B[38;5;241m.\u001B[39mcopy()\n",
      "File \u001B[1;32m~\\AppData\\Local\\Programs\\Python\\Python310\\lib\\site-packages\\numpy\\core\\getlimits.py:462\u001B[0m, in \u001B[0;36mfinfo.__new__\u001B[1;34m(cls, dtype)\u001B[0m\n\u001B[0;32m    459\u001B[0m     dtype \u001B[38;5;241m=\u001B[39m numeric\u001B[38;5;241m.\u001B[39mdtype(dtype)\n\u001B[0;32m    460\u001B[0m \u001B[38;5;28;01mexcept\u001B[39;00m \u001B[38;5;167;01mTypeError\u001B[39;00m:\n\u001B[0;32m    461\u001B[0m     \u001B[38;5;66;03m# In case a float instance was given\u001B[39;00m\n\u001B[1;32m--> 462\u001B[0m     dtype \u001B[38;5;241m=\u001B[39m \u001B[43mnumeric\u001B[49m\u001B[38;5;241;43m.\u001B[39;49m\u001B[43mdtype\u001B[49m\u001B[43m(\u001B[49m\u001B[38;5;28;43mtype\u001B[39;49m\u001B[43m(\u001B[49m\u001B[43mdtype\u001B[49m\u001B[43m)\u001B[49m\u001B[43m)\u001B[49m\n\u001B[0;32m    464\u001B[0m obj \u001B[38;5;241m=\u001B[39m \u001B[38;5;28mcls\u001B[39m\u001B[38;5;241m.\u001B[39m_finfo_cache\u001B[38;5;241m.\u001B[39mget(dtype, \u001B[38;5;28;01mNone\u001B[39;00m)\n\u001B[0;32m    465\u001B[0m \u001B[38;5;28;01mif\u001B[39;00m obj \u001B[38;5;129;01mis\u001B[39;00m \u001B[38;5;129;01mnot\u001B[39;00m \u001B[38;5;28;01mNone\u001B[39;00m:\n",
      "\u001B[1;31mTypeError\u001B[0m: 'NoneType' object is not callable"
     ]
    }
   ],
   "source": [
    "import numpy as np\n",
    "import matplotlib.pyplot as plt\n",
    "import sklearn\n",
    "import pandas as pd\n",
    "from sklearn.model_selection import train_test_split\n",
    "import seaborn as sns\n",
    "from sklearn.preprocessing import MinMaxScaler\n",
    "import category_encoders as ce\n",
    "\n",
    "db_num = pd.read_csv('C:/projects/laboratory/Nanoparticle_cytotoxicity/databases/Final/numerical.csv')\n",
    "\n",
    "db_cat = pd.read_csv('C:/projects/laboratory/Nanoparticle_cytotoxicity/databases/Final/categorical.csv')\n",
    "\n",
    "y = db_num.loc[:, db_num.columns == 'viability (%)']\n",
    "x_num = db_num.loc[:, db_num.columns != 'viability (%)']\n",
    "\n",
    "sc = MinMaxScaler()\n",
    "x_num = pd.DataFrame(sc.fit_transform(x_num),\n",
    "                 columns=['del', 'time (hr)', 'concentration (ug/ml)', 'Hydrodynamic diameter (nm)', 'Zeta potential (mV)'])\n",
    "\n",
    "del x_num['del']"
   ],
   "metadata": {
    "collapsed": false,
    "pycharm": {
     "name": "#%%\n"
    }
   }
  },
  {
   "cell_type": "code",
   "execution_count": 539,
   "outputs": [],
   "source": [
    "compounds = list(db_cat['material'].unique())"
   ],
   "metadata": {
    "collapsed": false,
    "pycharm": {
     "name": "#%%\n"
    }
   }
  },
  {
   "cell_type": "code",
   "execution_count": 540,
   "outputs": [],
   "source": [
    "from pubchempy import get_compounds, \\\n",
    "                      get_properties\n",
    "\n",
    "smiles = []\n",
    "for compound in compounds:\n",
    "    for compound_obj in get_compounds(compound, 'name'):\n",
    "        smiles.append(compound_obj.canonical_smiles)"
   ],
   "metadata": {
    "collapsed": false,
    "pycharm": {
     "name": "#%%\n"
    }
   }
  },
  {
   "cell_type": "code",
   "execution_count": 579,
   "outputs": [],
   "source": [
    "from rdkit import Chem\n",
    "from rdkit.Chem import Descriptors\n",
    "\n",
    "descs = []\n",
    "\n",
    "for one_smile in smiles:\n",
    "    descs_for_one_mol = []\n",
    "    mol = Chem.MolFromSmiles(one_smile)\n",
    "\n",
    "    desc = Descriptors.FpDensityMorgan1(mol)\n",
    "    descs_for_one_mol.append(desc)\n",
    "\n",
    "    descs.append(descs_for_one_mol)"
   ],
   "metadata": {
    "collapsed": false,
    "pycharm": {
     "name": "#%%\n"
    }
   }
  },
  {
   "cell_type": "code",
   "execution_count": 580,
   "outputs": [],
   "source": [
    "descs_df = pd.DataFrame(descs, columns=['FpDensM'])\n",
    "# descs_num = descs_df.select_dtypes(['number'])\n",
    "# descs_num = descs_num.loc[:, (descs_num != 0).any(axis=0)]"
   ],
   "metadata": {
    "collapsed": false,
    "pycharm": {
     "name": "#%%\n"
    }
   }
  },
  {
   "cell_type": "code",
   "execution_count": 581,
   "outputs": [],
   "source": [
    "descs_sorted = descs_df\n",
    "\n",
    "names = descs_sorted.columns\n",
    "\n",
    "sc = MinMaxScaler()\n",
    "descs_sorted_norm = pd.DataFrame(sc.fit_transform(descs_sorted), columns=names)"
   ],
   "metadata": {
    "collapsed": false,
    "pycharm": {
     "name": "#%%\n"
    }
   }
  },
  {
   "cell_type": "code",
   "execution_count": 582,
   "outputs": [],
   "source": [
    "descs_sorted = pd.concat([descs_sorted_norm, pd.DataFrame(compounds, columns=['material'])], axis=1)"
   ],
   "metadata": {
    "collapsed": false,
    "pycharm": {
     "name": "#%%\n"
    }
   }
  },
  {
   "cell_type": "code",
   "execution_count": 583,
   "outputs": [
    {
     "data": {
      "text/plain": "       MolWt  NumValEl   FpDensM material\n0   0.084188  0.230769  0.848485     SiO2\n1   0.384433  0.846154  0.675325    Fe3O4\n2   0.167869  0.134615  0.545455       Ag\n3   0.118829  0.230769  0.848485     TiO2\n4   0.323903  0.134615  0.545455       Au\n5   0.121498  0.076923  1.000000      ZnO\n6   0.320595  0.115385  0.545455       Pt\n7   0.118268  0.250000  1.000000      CuO\n8   0.280379  0.230769  0.848485     CeO2\n9   0.000000  0.000000  0.545455    Co3O4\n10  0.081752  0.115385  0.545455        C\n11  0.157524  0.384615  0.000000   CaHCO3\n12  0.194757  0.230769  0.848485      MgO\n13  0.090250  0.134615  0.545455       Ni\n14  0.258617  0.576923  0.727273    Al2O3\n15  0.255440  0.538462  0.727273     ZrO2\n16  0.613786  0.576923  0.727273      NiO\n17  0.347581  0.230769  0.848485       Cu\n18  0.465169  0.384615  0.727273    Bi2O3\n19  1.000000  1.000000  0.000000    Fe2O3\n20       NaN       NaN       NaN    Mn2O3\n21       NaN       NaN       NaN      CoO\n22       NaN       NaN       NaN    Gd2O3\n23       NaN       NaN       NaN     HfO2\n24       NaN       NaN       NaN    In2O3\n25       NaN       NaN       NaN    La2O3\n26       NaN       NaN       NaN    Sb2O3",
      "text/html": "<div>\n<style scoped>\n    .dataframe tbody tr th:only-of-type {\n        vertical-align: middle;\n    }\n\n    .dataframe tbody tr th {\n        vertical-align: top;\n    }\n\n    .dataframe thead th {\n        text-align: right;\n    }\n</style>\n<table border=\"1\" class=\"dataframe\">\n  <thead>\n    <tr style=\"text-align: right;\">\n      <th></th>\n      <th>MolWt</th>\n      <th>NumValEl</th>\n      <th>FpDensM</th>\n      <th>material</th>\n    </tr>\n  </thead>\n  <tbody>\n    <tr>\n      <th>0</th>\n      <td>0.084188</td>\n      <td>0.230769</td>\n      <td>0.848485</td>\n      <td>SiO2</td>\n    </tr>\n    <tr>\n      <th>1</th>\n      <td>0.384433</td>\n      <td>0.846154</td>\n      <td>0.675325</td>\n      <td>Fe3O4</td>\n    </tr>\n    <tr>\n      <th>2</th>\n      <td>0.167869</td>\n      <td>0.134615</td>\n      <td>0.545455</td>\n      <td>Ag</td>\n    </tr>\n    <tr>\n      <th>3</th>\n      <td>0.118829</td>\n      <td>0.230769</td>\n      <td>0.848485</td>\n      <td>TiO2</td>\n    </tr>\n    <tr>\n      <th>4</th>\n      <td>0.323903</td>\n      <td>0.134615</td>\n      <td>0.545455</td>\n      <td>Au</td>\n    </tr>\n    <tr>\n      <th>5</th>\n      <td>0.121498</td>\n      <td>0.076923</td>\n      <td>1.000000</td>\n      <td>ZnO</td>\n    </tr>\n    <tr>\n      <th>6</th>\n      <td>0.320595</td>\n      <td>0.115385</td>\n      <td>0.545455</td>\n      <td>Pt</td>\n    </tr>\n    <tr>\n      <th>7</th>\n      <td>0.118268</td>\n      <td>0.250000</td>\n      <td>1.000000</td>\n      <td>CuO</td>\n    </tr>\n    <tr>\n      <th>8</th>\n      <td>0.280379</td>\n      <td>0.230769</td>\n      <td>0.848485</td>\n      <td>CeO2</td>\n    </tr>\n    <tr>\n      <th>9</th>\n      <td>0.000000</td>\n      <td>0.000000</td>\n      <td>0.545455</td>\n      <td>Co3O4</td>\n    </tr>\n    <tr>\n      <th>10</th>\n      <td>0.081752</td>\n      <td>0.115385</td>\n      <td>0.545455</td>\n      <td>C</td>\n    </tr>\n    <tr>\n      <th>11</th>\n      <td>0.157524</td>\n      <td>0.384615</td>\n      <td>0.000000</td>\n      <td>CaHCO3</td>\n    </tr>\n    <tr>\n      <th>12</th>\n      <td>0.194757</td>\n      <td>0.230769</td>\n      <td>0.848485</td>\n      <td>MgO</td>\n    </tr>\n    <tr>\n      <th>13</th>\n      <td>0.090250</td>\n      <td>0.134615</td>\n      <td>0.545455</td>\n      <td>Ni</td>\n    </tr>\n    <tr>\n      <th>14</th>\n      <td>0.258617</td>\n      <td>0.576923</td>\n      <td>0.727273</td>\n      <td>Al2O3</td>\n    </tr>\n    <tr>\n      <th>15</th>\n      <td>0.255440</td>\n      <td>0.538462</td>\n      <td>0.727273</td>\n      <td>ZrO2</td>\n    </tr>\n    <tr>\n      <th>16</th>\n      <td>0.613786</td>\n      <td>0.576923</td>\n      <td>0.727273</td>\n      <td>NiO</td>\n    </tr>\n    <tr>\n      <th>17</th>\n      <td>0.347581</td>\n      <td>0.230769</td>\n      <td>0.848485</td>\n      <td>Cu</td>\n    </tr>\n    <tr>\n      <th>18</th>\n      <td>0.465169</td>\n      <td>0.384615</td>\n      <td>0.727273</td>\n      <td>Bi2O3</td>\n    </tr>\n    <tr>\n      <th>19</th>\n      <td>1.000000</td>\n      <td>1.000000</td>\n      <td>0.000000</td>\n      <td>Fe2O3</td>\n    </tr>\n    <tr>\n      <th>20</th>\n      <td>NaN</td>\n      <td>NaN</td>\n      <td>NaN</td>\n      <td>Mn2O3</td>\n    </tr>\n    <tr>\n      <th>21</th>\n      <td>NaN</td>\n      <td>NaN</td>\n      <td>NaN</td>\n      <td>CoO</td>\n    </tr>\n    <tr>\n      <th>22</th>\n      <td>NaN</td>\n      <td>NaN</td>\n      <td>NaN</td>\n      <td>Gd2O3</td>\n    </tr>\n    <tr>\n      <th>23</th>\n      <td>NaN</td>\n      <td>NaN</td>\n      <td>NaN</td>\n      <td>HfO2</td>\n    </tr>\n    <tr>\n      <th>24</th>\n      <td>NaN</td>\n      <td>NaN</td>\n      <td>NaN</td>\n      <td>In2O3</td>\n    </tr>\n    <tr>\n      <th>25</th>\n      <td>NaN</td>\n      <td>NaN</td>\n      <td>NaN</td>\n      <td>La2O3</td>\n    </tr>\n    <tr>\n      <th>26</th>\n      <td>NaN</td>\n      <td>NaN</td>\n      <td>NaN</td>\n      <td>Sb2O3</td>\n    </tr>\n  </tbody>\n</table>\n</div>"
     },
     "execution_count": 583,
     "metadata": {},
     "output_type": "execute_result"
    }
   ],
   "source": [
    "descs_sorted"
   ],
   "metadata": {
    "collapsed": false,
    "pycharm": {
     "name": "#%%\n"
    }
   }
  },
  {
   "cell_type": "code",
   "execution_count": 584,
   "outputs": [],
   "source": [
    "descs_sorted = descs_sorted.iloc[:20, :]"
   ],
   "metadata": {
    "collapsed": false,
    "pycharm": {
     "name": "#%%\n"
    }
   }
  },
  {
   "cell_type": "code",
   "execution_count": 585,
   "outputs": [],
   "source": [
    "materials = db_cat['material']\n",
    "db_cat.drop(['material'], axis=1)\n",
    "\n",
    "encoder = ce.OrdinalEncoder(return_df=True)\n",
    "x_cat = pd.DataFrame(encoder.fit_transform(db_cat))\n",
    "del x_cat['Unnamed: 0']"
   ],
   "metadata": {
    "collapsed": false,
    "pycharm": {
     "name": "#%%\n"
    }
   }
  },
  {
   "cell_type": "code",
   "execution_count": 586,
   "outputs": [],
   "source": [
    "x_cat_plus_mat = x_cat.assign(material=materials)"
   ],
   "metadata": {
    "collapsed": false,
    "pycharm": {
     "name": "#%%\n"
    }
   }
  },
  {
   "cell_type": "code",
   "execution_count": 587,
   "outputs": [],
   "source": [
    "x = pd.concat([x_cat_plus_mat,x_num], axis=1)"
   ],
   "metadata": {
    "collapsed": false,
    "pycharm": {
     "name": "#%%\n"
    }
   }
  },
  {
   "cell_type": "code",
   "execution_count": 588,
   "outputs": [],
   "source": [
    "x = pd.merge(x, descs_sorted)\n",
    "\n",
    "x_y = pd.concat([x,y], axis=1)"
   ],
   "metadata": {
    "collapsed": false,
    "pycharm": {
     "name": "#%%\n"
    }
   }
  },
  {
   "cell_type": "code",
   "execution_count": 589,
   "outputs": [],
   "source": [
    "x_y = x_y.dropna()\n",
    "del x_y['material']"
   ],
   "metadata": {
    "collapsed": false,
    "pycharm": {
     "name": "#%%\n"
    }
   }
  },
  {
   "cell_type": "code",
   "execution_count": 590,
   "outputs": [
    {
     "data": {
      "text/plain": "      cell tissue  cell source  test  Cell type  time (hr)  \\\n0             1.0          1.0   1.0        1.0   0.106383   \n1             1.0          1.0   1.0        1.0   0.106383   \n2             1.0          1.0   1.0        1.0   0.106383   \n3             1.0          1.0   1.0        1.0   0.106383   \n4             1.0          1.0   1.0        1.0   0.106383   \n...           ...          ...   ...        ...        ...   \n3968         31.0         10.0  19.0       89.0   0.489362   \n3969         31.0         10.0  19.0       89.0   0.489362   \n3970         31.0         10.0  19.0       89.0   0.489362   \n3971         31.0         10.0  19.0       89.0   0.489362   \n3972         31.0         10.0  19.0       89.0   0.744681   \n\n      concentration (ug/ml)  Hydrodynamic diameter (nm)  Zeta potential (mV)  \\\n0                  0.001219                    0.209436             0.496341   \n1                  0.002437                    0.209436             0.496341   \n2                  0.004875                    0.209436             0.496341   \n3                  0.009750                    0.209436             0.496341   \n4                  0.019500                    0.209436             0.496341   \n...                     ...                         ...                  ...   \n3968               0.002000                    0.106116             0.633740   \n3969               0.001000                    0.111383             0.633740   \n3970               0.002000                    0.111383             0.633740   \n3971               0.015625                    0.111383             0.633740   \n3972               0.031250                    0.111383             0.633740   \n\n         MolWt  NumValEl   FpDensM  viability (%)  \n0     0.084188  0.230769  0.848485        113.670  \n1     0.084188  0.230769  0.848485         97.265  \n2     0.084188  0.230769  0.848485        108.730  \n3     0.084188  0.230769  0.848485         98.451  \n4     0.084188  0.230769  0.848485         98.056  \n...        ...       ...       ...            ...  \n3968  1.000000  1.000000  0.000000         87.000  \n3969  1.000000  1.000000  0.000000         87.000  \n3970  1.000000  1.000000  0.000000         87.000  \n3971  1.000000  1.000000  0.000000         87.000  \n3972  1.000000  1.000000  0.000000         87.000  \n\n[3973 rows x 12 columns]",
      "text/html": "<div>\n<style scoped>\n    .dataframe tbody tr th:only-of-type {\n        vertical-align: middle;\n    }\n\n    .dataframe tbody tr th {\n        vertical-align: top;\n    }\n\n    .dataframe thead th {\n        text-align: right;\n    }\n</style>\n<table border=\"1\" class=\"dataframe\">\n  <thead>\n    <tr style=\"text-align: right;\">\n      <th></th>\n      <th>cell tissue</th>\n      <th>cell source</th>\n      <th>test</th>\n      <th>Cell type</th>\n      <th>time (hr)</th>\n      <th>concentration (ug/ml)</th>\n      <th>Hydrodynamic diameter (nm)</th>\n      <th>Zeta potential (mV)</th>\n      <th>MolWt</th>\n      <th>NumValEl</th>\n      <th>FpDensM</th>\n      <th>viability (%)</th>\n    </tr>\n  </thead>\n  <tbody>\n    <tr>\n      <th>0</th>\n      <td>1.0</td>\n      <td>1.0</td>\n      <td>1.0</td>\n      <td>1.0</td>\n      <td>0.106383</td>\n      <td>0.001219</td>\n      <td>0.209436</td>\n      <td>0.496341</td>\n      <td>0.084188</td>\n      <td>0.230769</td>\n      <td>0.848485</td>\n      <td>113.670</td>\n    </tr>\n    <tr>\n      <th>1</th>\n      <td>1.0</td>\n      <td>1.0</td>\n      <td>1.0</td>\n      <td>1.0</td>\n      <td>0.106383</td>\n      <td>0.002437</td>\n      <td>0.209436</td>\n      <td>0.496341</td>\n      <td>0.084188</td>\n      <td>0.230769</td>\n      <td>0.848485</td>\n      <td>97.265</td>\n    </tr>\n    <tr>\n      <th>2</th>\n      <td>1.0</td>\n      <td>1.0</td>\n      <td>1.0</td>\n      <td>1.0</td>\n      <td>0.106383</td>\n      <td>0.004875</td>\n      <td>0.209436</td>\n      <td>0.496341</td>\n      <td>0.084188</td>\n      <td>0.230769</td>\n      <td>0.848485</td>\n      <td>108.730</td>\n    </tr>\n    <tr>\n      <th>3</th>\n      <td>1.0</td>\n      <td>1.0</td>\n      <td>1.0</td>\n      <td>1.0</td>\n      <td>0.106383</td>\n      <td>0.009750</td>\n      <td>0.209436</td>\n      <td>0.496341</td>\n      <td>0.084188</td>\n      <td>0.230769</td>\n      <td>0.848485</td>\n      <td>98.451</td>\n    </tr>\n    <tr>\n      <th>4</th>\n      <td>1.0</td>\n      <td>1.0</td>\n      <td>1.0</td>\n      <td>1.0</td>\n      <td>0.106383</td>\n      <td>0.019500</td>\n      <td>0.209436</td>\n      <td>0.496341</td>\n      <td>0.084188</td>\n      <td>0.230769</td>\n      <td>0.848485</td>\n      <td>98.056</td>\n    </tr>\n    <tr>\n      <th>...</th>\n      <td>...</td>\n      <td>...</td>\n      <td>...</td>\n      <td>...</td>\n      <td>...</td>\n      <td>...</td>\n      <td>...</td>\n      <td>...</td>\n      <td>...</td>\n      <td>...</td>\n      <td>...</td>\n      <td>...</td>\n    </tr>\n    <tr>\n      <th>3968</th>\n      <td>31.0</td>\n      <td>10.0</td>\n      <td>19.0</td>\n      <td>89.0</td>\n      <td>0.489362</td>\n      <td>0.002000</td>\n      <td>0.106116</td>\n      <td>0.633740</td>\n      <td>1.000000</td>\n      <td>1.000000</td>\n      <td>0.000000</td>\n      <td>87.000</td>\n    </tr>\n    <tr>\n      <th>3969</th>\n      <td>31.0</td>\n      <td>10.0</td>\n      <td>19.0</td>\n      <td>89.0</td>\n      <td>0.489362</td>\n      <td>0.001000</td>\n      <td>0.111383</td>\n      <td>0.633740</td>\n      <td>1.000000</td>\n      <td>1.000000</td>\n      <td>0.000000</td>\n      <td>87.000</td>\n    </tr>\n    <tr>\n      <th>3970</th>\n      <td>31.0</td>\n      <td>10.0</td>\n      <td>19.0</td>\n      <td>89.0</td>\n      <td>0.489362</td>\n      <td>0.002000</td>\n      <td>0.111383</td>\n      <td>0.633740</td>\n      <td>1.000000</td>\n      <td>1.000000</td>\n      <td>0.000000</td>\n      <td>87.000</td>\n    </tr>\n    <tr>\n      <th>3971</th>\n      <td>31.0</td>\n      <td>10.0</td>\n      <td>19.0</td>\n      <td>89.0</td>\n      <td>0.489362</td>\n      <td>0.015625</td>\n      <td>0.111383</td>\n      <td>0.633740</td>\n      <td>1.000000</td>\n      <td>1.000000</td>\n      <td>0.000000</td>\n      <td>87.000</td>\n    </tr>\n    <tr>\n      <th>3972</th>\n      <td>31.0</td>\n      <td>10.0</td>\n      <td>19.0</td>\n      <td>89.0</td>\n      <td>0.744681</td>\n      <td>0.031250</td>\n      <td>0.111383</td>\n      <td>0.633740</td>\n      <td>1.000000</td>\n      <td>1.000000</td>\n      <td>0.000000</td>\n      <td>87.000</td>\n    </tr>\n  </tbody>\n</table>\n<p>3973 rows × 12 columns</p>\n</div>"
     },
     "execution_count": 590,
     "metadata": {},
     "output_type": "execute_result"
    }
   ],
   "source": [
    "x_y"
   ],
   "metadata": {
    "collapsed": false,
    "pycharm": {
     "name": "#%%\n"
    }
   }
  },
  {
   "cell_type": "code",
   "execution_count": 591,
   "outputs": [],
   "source": [
    "y = np.log10(x_y.loc[:, 'viability (%)']+0.00001)\n",
    "x = x_y.loc[:, x_y.columns != 'viability (%)']\n",
    "\n",
    "bins = np.linspace(0, 4, 1)\n",
    "y_binned = np.digitize(y, bins)"
   ],
   "metadata": {
    "collapsed": false,
    "pycharm": {
     "name": "#%%\n"
    }
   }
  },
  {
   "cell_type": "code",
   "execution_count": 592,
   "outputs": [],
   "source": [
    "x_train, x_test, y_train, y_test = train_test_split(x, y, test_size=0.2, random_state=0, stratify=y_binned)"
   ],
   "metadata": {
    "collapsed": false,
    "pycharm": {
     "name": "#%%\n"
    }
   }
  },
  {
   "cell_type": "code",
   "metadata": {
    "id": "UD--1nIHrqch",
    "executionInfo": {
     "status": "ok",
     "timestamp": 1643909386162,
     "user_tz": -180,
     "elapsed": 2337,
     "user": {
      "displayName": "O`Reilly",
      "photoUrl": "https://lh3.googleusercontent.com/a-/AOh14GjRojJgetMBXWOPYqIr3f-ELjZmmHdNhAFWaDa-uQ=s64",
      "userId": "14342088318867418483"
     }
    }
   },
   "source": [
    "from sklearn.ensemble import RandomForestRegressor\n",
    "regressor = RandomForestRegressor(n_estimators=50, min_samples_leaf=1, criterion='absolute_error')\n",
    "\n",
    "regressor.fit(x_train, y_train)\n",
    "y_pred = regressor.predict(x_test)\n",
    "y1_pred = regressor.predict(x_train)"
   ],
   "execution_count": 593,
   "outputs": []
  },
  {
   "cell_type": "code",
   "execution_count": 594,
   "outputs": [
    {
     "data": {
      "text/plain": "(-1.0, 3.5)"
     },
     "execution_count": 594,
     "metadata": {},
     "output_type": "execute_result"
    },
    {
     "data": {
      "text/plain": "<Figure size 432x288 with 1 Axes>",
      "image/png": "[encoded data removed]"
     },
     "metadata": {},
     "output_type": "display_data"
    }
   ],
   "source": [
    "min = -1\n",
    "max = 3.5\n",
    "\n",
    "plt.plot(y_train, y1_pred, 'o', color='black')\n",
    "plt.plot([min,max], [min,max])\n",
    "plt.xlim(min,max)\n",
    "plt.ylim(min,max)"
   ],
   "metadata": {
    "collapsed": false,
    "pycharm": {
     "name": "#%%\n"
    }
   }
  },
  {
   "cell_type": "code",
   "metadata": {
    "colab": {
     "base_uri": "https://localhost:8080/",
     "height": 783
    },
    "id": "clcqDXgpr_qj",
    "executionInfo": {
     "status": "ok",
     "timestamp": 1643909401406,
     "user_tz": -180,
     "elapsed": 8992,
     "user": {
      "displayName": "O`Reilly",
      "photoUrl": "https://lh3.googleusercontent.com/a-/AOh14GjRojJgetMBXWOPYqIr3f-ELjZmmHdNhAFWaDa-uQ=s64",
      "userId": "14342088318867418483"
     }
    },
    "outputId": "982d922b-4f9d-4345-902f-8e49cfc5e647"
   },
   "source": [
    "from sklearn.model_selection import cross_val_score\n",
    "\n",
    "accuracy = cross_val_score(regressor, x_train, y_train.ravel(), cv=10)\n",
    "print(\"Q2:\",accuracy.mean())\n",
    "\n",
    "from sklearn import metrics\n",
    "print('r2_test:', metrics.r2_score(y_test, y_pred))\n",
    "print('MAE_test:', metrics.mean_absolute_error(y_test, y_pred))\n",
    "print('MSE_test:', metrics.mean_squared_error(y_test, y_pred))\n",
    "print('RMSE_test:', np.sqrt(metrics.mean_squared_error(y_test, y_pred)))\n",
    "print('r2_train:', metrics.r2_score(y_train, y1_pred))\n",
    "print('MAE_train:', metrics.mean_absolute_error(y_train, y1_pred))\n",
    "print('MSE_train:', metrics.mean_squared_error(y_train, y1_pred))\n",
    "print('RMSE_train:', np.sqrt(metrics.mean_squared_error(y_train, y1_pred)))\n",
    "custom_params = {\"axes.spines.right\": False, \"axes.spines.top\": False}\n",
    "sns.set(style=\"ticks\", rc=custom_params)\n",
    "f, ax = plt.subplots(figsize=(13, 10))\n",
    "plt.scatter(y_train, y1_pred, color='#DD7059', s=70)\n",
    "plt.scatter(y_test, y_pred, color='#569FC9',s=70)\n",
    "plt.plot(y_test, y_test, color='gray')\n",
    "plt.title('Random Forest Regression')\n",
    "plt.xlabel('test data')\n",
    "plt.ylabel('predicted data')\n",
    "plt.xlim(min,max)\n",
    "plt.ylim(min,max)\n",
    "plt.show()"
   ],
   "execution_count": 493,
   "outputs": [
    {
     "name": "stdout",
     "output_type": "stream",
     "text": [
      "Q2: 0.22654288531027986\n",
      "r2_test: 0.28742062419247894\n",
      "MAE_test: 0.1819282883047417\n",
      "MSE_test: 0.1540042065360355\n",
      "RMSE_test: 0.39243369699356284\n",
      "r2_train: 0.7932663681280511\n",
      "MAE_train: 0.07582147558744312\n",
      "MSE_train: 0.03433364481504802\n",
      "RMSE_train: 0.18529340197386418\n"
     ]
    },
    {
     "data": {
      "text/plain": "<Figure size 936x720 with 1 Axes>",
      "image/png": "[encoded data removed]"
     },
     "metadata": {},
     "output_type": "display_data"
    }
   ]
  },
  {
   "cell_type": "code",
   "metadata": {
    "id": "zKMxBAny-rV_"
   },
   "source": [
    "from sklearn.model_selection import cross_val_score, GridSearchCV\n",
    "from sklearn.ensemble import RandomForestRegressor\n",
    "from sklearn.preprocessing import MinMaxScaler"
   ],
   "execution_count": null,
   "outputs": []
  },
  {
   "cell_type": "code",
   "metadata": {
    "colab": {
     "base_uri": "https://localhost:8080/",
     "height": 783
    },
    "id": "HEaUbfmB-yks",
    "executionInfo": {
     "status": "ok",
     "timestamp": 1638446888754,
     "user_tz": -180,
     "elapsed": 480,
     "user": {
      "displayName": "O`Reilly",
      "photoUrl": "https://lh3.googleusercontent.com/a-/AOh14GjRojJgetMBXWOPYqIr3f-ELjZmmHdNhAFWaDa-uQ=s64",
      "userId": "14342088318867418483"
     }
    },
    "outputId": "4d98b534-3e3c-4d90-da32-6fa7ff89ea12"
   },
   "source": [
    "def rfr_model(x, y):\n",
    "# Perform Grid-Search\n",
    "    gsc = GridSearchCV(\n",
    "        estimator=RandomForestRegressor(),\n",
    "        param_grid={\n",
    "            'max_depth': range(3,7),\n",
    "            'n_estimators': (10, 50, 100, 1000),\n",
    "        },\n",
    "        cv=5, scoring='neg_mean_squared_error', verbose=0, n_jobs=-1)\n",
    "    \n",
    "    grid_result = gsc.fit(x, y)\n",
    "    best_params = grid_result.best_params_\n",
    "    \n",
    "    rfr = RandomForestRegressor(max_depth=best_params[\"max_depth\"], n_estimators=best_params[\"n_estimators\"],random_state=False, verbose=False)\n",
    "    scores = cross_val_score(rfr, x, y, cv=10, \n",
    "                             scoring='neg_mean_absolute_error')\n",
    "\n",
    "    return scores\n",
    "\n",
    "predictions = cross_val_predict(rfr, x, y, cv=10)\n",
    "accuracy = cross_val_score(regressor, x_train, y_train.ravel(), cv=10,\n",
    "                           scoring='neg_mean_absolute_error')\n",
    "print(\"Q2:\",accuracy.mean())\n",
    "\n",
    "from sklearn import metrics\n",
    "print('r2_test:', metrics.r2_score(y_test, y_pred))\n",
    "print('MAE_test:', metrics.mean_absolute_error(y_test, y_pred))\n",
    "print('MSE_test:', metrics.mean_squared_error(y_test, y_pred))\n",
    "print('RMSE_test:', np.sqrt(metrics.mean_squared_error(y_test, y_pred)))\n",
    "print('r2_train:', metrics.r2_score(y_train, y1_pred))\n",
    "print('MAE_train:', metrics.mean_absolute_error(y_train, y1_pred))\n",
    "print('MSE_train:', metrics.mean_squared_error(y_train, y1_pred))\n",
    "print('RMSE_train:', np.sqrt(metrics.mean_squared_error(y_train, y1_pred)))\n",
    "custom_params = {\"axes.spines.right\": False, \"axes.spines.top\": False}\n",
    "sns.set(style=\"ticks\", rc=custom_params)\n",
    "f, ax = plt.subplots(figsize=(13, 10))\n",
    "plt.scatter(y_train, y1_pred, color='#DD7059', s=70)\n",
    "plt.scatter(y_test, y_pred, color='#569FC9',s=70)\n",
    "plt.plot(y_test, y_test, color='gray')\n",
    "plt.title('Random Forest Regression')\n",
    "plt.xlabel('test data')\n",
    "plt.ylabel('predicted data')\n",
    "plt.xlim(0.25, 1)\n",
    "plt.ylim(0.25, 1)\n",
    "plt.show()"
   ],
   "execution_count": null,
   "outputs": []
  },
  {
   "cell_type": "code",
   "execution_count": null,
   "outputs": [],
   "source": [],
   "metadata": {
    "collapsed": false,
    "pycharm": {
     "name": "#%%\n"
    }
   }
  }
 ]
}